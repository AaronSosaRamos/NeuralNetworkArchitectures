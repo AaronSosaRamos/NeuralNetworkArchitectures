{
  "nbformat": 4,
  "nbformat_minor": 0,
  "metadata": {
    "colab": {
      "provenance": []
    },
    "kernelspec": {
      "name": "python3",
      "display_name": "Python 3"
    },
    "language_info": {
      "name": "python"
    }
  },
  "cells": [
    {
      "cell_type": "markdown",
      "source": [
        "#Regularization Techniques - Part. 1"
      ],
      "metadata": {
        "id": "ltD7btBg7CfY"
      }
    },
    {
      "cell_type": "markdown",
      "source": [
        "#1. L1 and L2 Regularization"
      ],
      "metadata": {
        "id": "cUkrYc2f7Djv"
      }
    },
    {
      "cell_type": "markdown",
      "source": [
        "L1 and L2 regularization are techniques used to prevent overfitting by adding a penalty term to the loss function based on the magnitudes of model weights."
      ],
      "metadata": {
        "id": "-98EPaM17F2X"
      }
    },
    {
      "cell_type": "markdown",
      "source": [
        "L1 Regularization: Involves adding a penalty term proportional to the absolute values of the weights. This helps in encouraging sparsity in the model."
      ],
      "metadata": {
        "id": "g8jnviUC7JxP"
      }
    },
    {
      "cell_type": "markdown",
      "source": [
        "L2 Regularization: Adds a penalty term proportional to the square of the weights to the loss function. This encourages the weights to be small."
      ],
      "metadata": {
        "id": "ilqye6y07U7I"
      }
    },
    {
      "cell_type": "code",
      "execution_count": null,
      "metadata": {
        "colab": {
          "base_uri": "https://localhost:8080/"
        },
        "id": "wNCR1dC569Xc",
        "outputId": "8f48d324-946d-4b83-f597-452cdc19c79a"
      },
      "outputs": [
        {
          "output_type": "stream",
          "name": "stdout",
          "text": [
            "Downloading data from https://storage.googleapis.com/tensorflow/tf-keras-datasets/mnist.npz\n",
            "11490434/11490434 [==============================] - 0s 0us/step\n",
            "Epoch 1/20\n",
            "750/750 [==============================] - 10s 12ms/step - loss: 1.4687 - accuracy: 0.8819 - val_loss: 0.8213 - val_accuracy: 0.9183\n",
            "Epoch 2/20\n",
            "750/750 [==============================] - 3s 4ms/step - loss: 0.7074 - accuracy: 0.9185 - val_loss: 0.5887 - val_accuracy: 0.9348\n",
            "Epoch 3/20\n",
            "750/750 [==============================] - 4s 5ms/step - loss: 0.5633 - accuracy: 0.9288 - val_loss: 0.5124 - val_accuracy: 0.9364\n",
            "Epoch 4/20\n",
            "750/750 [==============================] - 5s 6ms/step - loss: 0.5010 - accuracy: 0.9334 - val_loss: 0.4710 - val_accuracy: 0.9368\n",
            "Epoch 5/20\n",
            "750/750 [==============================] - 3s 4ms/step - loss: 0.4640 - accuracy: 0.9387 - val_loss: 0.4338 - val_accuracy: 0.9484\n",
            "Epoch 6/20\n",
            "750/750 [==============================] - 4s 5ms/step - loss: 0.4413 - accuracy: 0.9410 - val_loss: 0.4105 - val_accuracy: 0.9485\n",
            "Epoch 7/20\n",
            "750/750 [==============================] - 4s 5ms/step - loss: 0.4269 - accuracy: 0.9433 - val_loss: 0.4134 - val_accuracy: 0.9454\n",
            "Epoch 8/20\n",
            "750/750 [==============================] - 3s 5ms/step - loss: 0.4151 - accuracy: 0.9448 - val_loss: 0.3969 - val_accuracy: 0.9507\n",
            "Epoch 9/20\n",
            "750/750 [==============================] - 3s 5ms/step - loss: 0.4052 - accuracy: 0.9458 - val_loss: 0.3849 - val_accuracy: 0.9532\n",
            "Epoch 10/20\n",
            "750/750 [==============================] - 3s 4ms/step - loss: 0.3966 - accuracy: 0.9471 - val_loss: 0.3759 - val_accuracy: 0.9512\n",
            "Epoch 11/20\n",
            "750/750 [==============================] - 5s 6ms/step - loss: 0.3873 - accuracy: 0.9490 - val_loss: 0.3747 - val_accuracy: 0.9521\n",
            "Epoch 12/20\n",
            "750/750 [==============================] - 3s 4ms/step - loss: 0.3826 - accuracy: 0.9482 - val_loss: 0.3748 - val_accuracy: 0.9507\n",
            "Epoch 13/20\n",
            "750/750 [==============================] - 4s 5ms/step - loss: 0.3761 - accuracy: 0.9497 - val_loss: 0.3711 - val_accuracy: 0.9503\n",
            "Epoch 14/20\n",
            "750/750 [==============================] - 5s 6ms/step - loss: 0.3747 - accuracy: 0.9497 - val_loss: 0.3701 - val_accuracy: 0.9507\n",
            "Epoch 15/20\n",
            "750/750 [==============================] - 3s 5ms/step - loss: 0.3688 - accuracy: 0.9506 - val_loss: 0.3577 - val_accuracy: 0.9526\n",
            "Epoch 16/20\n",
            "750/750 [==============================] - 3s 5ms/step - loss: 0.3654 - accuracy: 0.9499 - val_loss: 0.3640 - val_accuracy: 0.9512\n",
            "Epoch 17/20\n",
            "750/750 [==============================] - 4s 5ms/step - loss: 0.3625 - accuracy: 0.9506 - val_loss: 0.3508 - val_accuracy: 0.9549\n",
            "Epoch 18/20\n",
            "750/750 [==============================] - 4s 5ms/step - loss: 0.3607 - accuracy: 0.9502 - val_loss: 0.3532 - val_accuracy: 0.9535\n",
            "Epoch 19/20\n",
            "750/750 [==============================] - 3s 4ms/step - loss: 0.3558 - accuracy: 0.9515 - val_loss: 0.3520 - val_accuracy: 0.9519\n",
            "Epoch 20/20\n",
            "750/750 [==============================] - 3s 4ms/step - loss: 0.3519 - accuracy: 0.9522 - val_loss: 0.3501 - val_accuracy: 0.9488\n",
            "Epoch 1/20\n",
            "750/750 [==============================] - 4s 4ms/step - loss: 0.5016 - accuracy: 0.9089 - val_loss: 0.3220 - val_accuracy: 0.9509\n",
            "Epoch 2/20\n",
            "750/750 [==============================] - 3s 4ms/step - loss: 0.2941 - accuracy: 0.9552 - val_loss: 0.2644 - val_accuracy: 0.9612\n",
            "Epoch 3/20\n",
            "750/750 [==============================] - 4s 5ms/step - loss: 0.2455 - accuracy: 0.9635 - val_loss: 0.2311 - val_accuracy: 0.9663\n",
            "Epoch 4/20\n",
            "750/750 [==============================] - 3s 4ms/step - loss: 0.2187 - accuracy: 0.9685 - val_loss: 0.2239 - val_accuracy: 0.9659\n",
            "Epoch 5/20\n",
            "750/750 [==============================] - 3s 4ms/step - loss: 0.1995 - accuracy: 0.9716 - val_loss: 0.2136 - val_accuracy: 0.9636\n",
            "Epoch 6/20\n",
            "750/750 [==============================] - 3s 4ms/step - loss: 0.1895 - accuracy: 0.9731 - val_loss: 0.2047 - val_accuracy: 0.9663\n",
            "Epoch 7/20\n",
            "750/750 [==============================] - 4s 5ms/step - loss: 0.1796 - accuracy: 0.9751 - val_loss: 0.2002 - val_accuracy: 0.9686\n",
            "Epoch 8/20\n",
            "750/750 [==============================] - 3s 4ms/step - loss: 0.1731 - accuracy: 0.9760 - val_loss: 0.1847 - val_accuracy: 0.9720\n",
            "Epoch 9/20\n",
            "750/750 [==============================] - 3s 4ms/step - loss: 0.1710 - accuracy: 0.9759 - val_loss: 0.1806 - val_accuracy: 0.9719\n",
            "Epoch 10/20\n",
            "750/750 [==============================] - 3s 4ms/step - loss: 0.1624 - accuracy: 0.9770 - val_loss: 0.1728 - val_accuracy: 0.9742\n",
            "Epoch 11/20\n",
            "750/750 [==============================] - 4s 5ms/step - loss: 0.1566 - accuracy: 0.9779 - val_loss: 0.1736 - val_accuracy: 0.9725\n",
            "Epoch 12/20\n",
            "750/750 [==============================] - 3s 4ms/step - loss: 0.1523 - accuracy: 0.9787 - val_loss: 0.1757 - val_accuracy: 0.9732\n",
            "Epoch 13/20\n",
            "750/750 [==============================] - 3s 4ms/step - loss: 0.1496 - accuracy: 0.9795 - val_loss: 0.1668 - val_accuracy: 0.9743\n",
            "Epoch 14/20\n",
            "750/750 [==============================] - 4s 5ms/step - loss: 0.1464 - accuracy: 0.9798 - val_loss: 0.1678 - val_accuracy: 0.9733\n",
            "Epoch 15/20\n",
            "750/750 [==============================] - 3s 4ms/step - loss: 0.1408 - accuracy: 0.9808 - val_loss: 0.1672 - val_accuracy: 0.9707\n",
            "Epoch 16/20\n",
            "750/750 [==============================] - 3s 4ms/step - loss: 0.1390 - accuracy: 0.9807 - val_loss: 0.1629 - val_accuracy: 0.9743\n",
            "Epoch 17/20\n",
            "750/750 [==============================] - 3s 4ms/step - loss: 0.1369 - accuracy: 0.9804 - val_loss: 0.1651 - val_accuracy: 0.9726\n",
            "Epoch 18/20\n",
            "750/750 [==============================] - 4s 6ms/step - loss: 0.1342 - accuracy: 0.9815 - val_loss: 0.1722 - val_accuracy: 0.9696\n",
            "Epoch 19/20\n",
            "750/750 [==============================] - 3s 4ms/step - loss: 0.1333 - accuracy: 0.9810 - val_loss: 0.1532 - val_accuracy: 0.9763\n",
            "Epoch 20/20\n",
            "750/750 [==============================] - 3s 4ms/step - loss: 0.1305 - accuracy: 0.9818 - val_loss: 0.1575 - val_accuracy: 0.9746\n"
          ]
        }
      ],
      "source": [
        "import tensorflow as tf\n",
        "from tensorflow.keras.models import Sequential\n",
        "from tensorflow.keras.layers import Dense\n",
        "from tensorflow.keras.regularizers import l1, l2\n",
        "from tensorflow.keras.datasets import mnist\n",
        "from tensorflow.keras.utils import to_categorical\n",
        "\n",
        "# Load and preprocess the MNIST dataset\n",
        "(train_images, train_labels), (test_images, test_labels) = mnist.load_data()\n",
        "train_images = train_images.reshape((60000, 784)).astype('float32') / 255\n",
        "test_images = test_images.reshape((10000, 784)).astype('float32') / 255\n",
        "train_labels = to_categorical(train_labels)\n",
        "test_labels = to_categorical(test_labels)\n",
        "\n",
        "# Define and compile the model with L1 regularization\n",
        "model_l1 = Sequential([\n",
        "    Dense(128, activation='relu', kernel_regularizer=l1(0.001), input_shape=(784,)),\n",
        "    Dense(64, activation='relu', kernel_regularizer=l1(0.001)),\n",
        "    Dense(10, activation='softmax')\n",
        "])\n",
        "\n",
        "model_l1.compile(optimizer='adam', loss='categorical_crossentropy', metrics=['accuracy'])\n",
        "\n",
        "# Train the model\n",
        "history_l1 = model_l1.fit(train_images, train_labels, epochs=20, batch_size=64,\n",
        "                          validation_split=0.2)\n",
        "\n",
        "# Define and compile the model with L2 regularization\n",
        "model_l2 = Sequential([\n",
        "    Dense(128, activation='relu', kernel_regularizer=l2(0.001), input_shape=(784,)),\n",
        "    Dense(64, activation='relu', kernel_regularizer=l2(0.001)),\n",
        "    Dense(10, activation='softmax')\n",
        "])\n",
        "\n",
        "model_l2.compile(optimizer='adam', loss='categorical_crossentropy', metrics=['accuracy'])\n",
        "\n",
        "# Train the model\n",
        "history_l2 = model_l2.fit(train_images, train_labels, epochs=20, batch_size=64,\n",
        "                          validation_split=0.2)"
      ]
    },
    {
      "cell_type": "markdown",
      "source": [
        "#2. Dropout Regularization"
      ],
      "metadata": {
        "id": "6iK8VkVu7_W3"
      }
    },
    {
      "cell_type": "markdown",
      "source": [
        "Dropout is a technique used during training to randomly deactivate (set to zero) a fraction of neurons in a layer, which helps prevent overfitting."
      ],
      "metadata": {
        "id": "ZpV78Gb38AWP"
      }
    },
    {
      "cell_type": "code",
      "source": [
        "from tensorflow.keras.layers import Dropout\n",
        "\n",
        "# Define and compile the model with Dropout regularization\n",
        "model_dropout = Sequential([\n",
        "    Dense(128, activation='relu', input_shape=(784,)),\n",
        "    Dropout(0.25),\n",
        "    Dense(64, activation='relu'),\n",
        "    Dropout(0.25),\n",
        "    Dense(10, activation='softmax')\n",
        "])\n",
        "\n",
        "model_dropout.compile(optimizer='adam', loss='categorical_crossentropy', metrics=['accuracy'])\n",
        "\n",
        "# Train the model\n",
        "history_dropout = model_dropout.fit(train_images, train_labels, epochs=20, batch_size=64,\n",
        "                                    validation_split=0.2)"
      ],
      "metadata": {
        "colab": {
          "base_uri": "https://localhost:8080/"
        },
        "id": "k6yTAYs-8Cp_",
        "outputId": "85d1037f-421d-468c-a68b-d7a71bc3fab0"
      },
      "execution_count": null,
      "outputs": [
        {
          "output_type": "stream",
          "name": "stdout",
          "text": [
            "Epoch 1/20\n",
            "750/750 [==============================] - 4s 4ms/step - loss: 0.4510 - accuracy: 0.8655 - val_loss: 0.1731 - val_accuracy: 0.9498\n",
            "Epoch 2/20\n",
            "750/750 [==============================] - 3s 4ms/step - loss: 0.2113 - accuracy: 0.9370 - val_loss: 0.1278 - val_accuracy: 0.9619\n",
            "Epoch 3/20\n",
            "750/750 [==============================] - 4s 6ms/step - loss: 0.1607 - accuracy: 0.9528 - val_loss: 0.1108 - val_accuracy: 0.9671\n",
            "Epoch 4/20\n",
            "750/750 [==============================] - 3s 4ms/step - loss: 0.1338 - accuracy: 0.9599 - val_loss: 0.0981 - val_accuracy: 0.9708\n",
            "Epoch 5/20\n",
            "750/750 [==============================] - 3s 4ms/step - loss: 0.1175 - accuracy: 0.9646 - val_loss: 0.0979 - val_accuracy: 0.9712\n",
            "Epoch 6/20\n",
            "750/750 [==============================] - 4s 5ms/step - loss: 0.1048 - accuracy: 0.9681 - val_loss: 0.0929 - val_accuracy: 0.9732\n",
            "Epoch 7/20\n",
            "750/750 [==============================] - 4s 5ms/step - loss: 0.0976 - accuracy: 0.9699 - val_loss: 0.0907 - val_accuracy: 0.9747\n",
            "Epoch 8/20\n",
            "750/750 [==============================] - 3s 4ms/step - loss: 0.0889 - accuracy: 0.9736 - val_loss: 0.0867 - val_accuracy: 0.9737\n",
            "Epoch 9/20\n",
            "750/750 [==============================] - 3s 4ms/step - loss: 0.0810 - accuracy: 0.9747 - val_loss: 0.0839 - val_accuracy: 0.9765\n",
            "Epoch 10/20\n",
            "750/750 [==============================] - 4s 5ms/step - loss: 0.0776 - accuracy: 0.9758 - val_loss: 0.0888 - val_accuracy: 0.9743\n",
            "Epoch 11/20\n",
            "750/750 [==============================] - 3s 4ms/step - loss: 0.0697 - accuracy: 0.9781 - val_loss: 0.0867 - val_accuracy: 0.9757\n",
            "Epoch 12/20\n",
            "750/750 [==============================] - 3s 4ms/step - loss: 0.0669 - accuracy: 0.9785 - val_loss: 0.0811 - val_accuracy: 0.9782\n",
            "Epoch 13/20\n",
            "750/750 [==============================] - 3s 4ms/step - loss: 0.0654 - accuracy: 0.9787 - val_loss: 0.0892 - val_accuracy: 0.9752\n",
            "Epoch 14/20\n",
            "750/750 [==============================] - 4s 6ms/step - loss: 0.0627 - accuracy: 0.9799 - val_loss: 0.0830 - val_accuracy: 0.9773\n",
            "Epoch 15/20\n",
            "750/750 [==============================] - 3s 4ms/step - loss: 0.0600 - accuracy: 0.9806 - val_loss: 0.0821 - val_accuracy: 0.9782\n",
            "Epoch 16/20\n",
            "750/750 [==============================] - 3s 4ms/step - loss: 0.0567 - accuracy: 0.9811 - val_loss: 0.0788 - val_accuracy: 0.9788\n",
            "Epoch 17/20\n",
            "750/750 [==============================] - 4s 5ms/step - loss: 0.0562 - accuracy: 0.9819 - val_loss: 0.0901 - val_accuracy: 0.9758\n",
            "Epoch 18/20\n",
            "750/750 [==============================] - 4s 5ms/step - loss: 0.0543 - accuracy: 0.9823 - val_loss: 0.0773 - val_accuracy: 0.9803\n",
            "Epoch 19/20\n",
            "750/750 [==============================] - 3s 4ms/step - loss: 0.0520 - accuracy: 0.9832 - val_loss: 0.0863 - val_accuracy: 0.9791\n",
            "Epoch 20/20\n",
            "750/750 [==============================] - 3s 4ms/step - loss: 0.0493 - accuracy: 0.9843 - val_loss: 0.0839 - val_accuracy: 0.9791\n"
          ]
        }
      ]
    },
    {
      "cell_type": "markdown",
      "source": [
        "#3.  Batch Normalization"
      ],
      "metadata": {
        "id": "ZIgIVzvRAfX9"
      }
    },
    {
      "cell_type": "markdown",
      "source": [
        " Batch Normalization normalizes the activations of each layer to stabilize and speed up training. It can also act as a regularizer."
      ],
      "metadata": {
        "id": "jGGYMdcyAluk"
      }
    },
    {
      "cell_type": "code",
      "source": [
        "from tensorflow.keras.layers import BatchNormalization\n",
        "\n",
        "# Define and compile the model with Batch Normalization\n",
        "model_bn = Sequential([\n",
        "    Dense(128, activation='relu', input_shape=(784,)),\n",
        "    BatchNormalization(),\n",
        "    Dense(64, activation='relu'),\n",
        "    BatchNormalization(),\n",
        "    Dense(10, activation='softmax')\n",
        "])\n",
        "\n",
        "model_bn.compile(optimizer='adam', loss='categorical_crossentropy', metrics=['accuracy'])\n",
        "\n",
        "# Train the model\n",
        "history_bn = model_bn.fit(train_images, train_labels, epochs=20, batch_size=64,\n",
        "                           validation_split=0.2)"
      ],
      "metadata": {
        "colab": {
          "base_uri": "https://localhost:8080/"
        },
        "id": "Uxz9p3ElAjQk",
        "outputId": "f09dcb5a-5c28-470b-cfd4-7b993c60436a"
      },
      "execution_count": null,
      "outputs": [
        {
          "output_type": "stream",
          "name": "stdout",
          "text": [
            "Epoch 1/20\n",
            "750/750 [==============================] - 6s 7ms/step - loss: 0.2681 - accuracy: 0.9227 - val_loss: 0.1380 - val_accuracy: 0.9621\n",
            "Epoch 2/20\n",
            "750/750 [==============================] - 4s 5ms/step - loss: 0.1127 - accuracy: 0.9659 - val_loss: 0.1165 - val_accuracy: 0.9656\n",
            "Epoch 3/20\n",
            "750/750 [==============================] - 4s 5ms/step - loss: 0.0804 - accuracy: 0.9744 - val_loss: 0.1022 - val_accuracy: 0.9709\n",
            "Epoch 4/20\n",
            "750/750 [==============================] - 5s 6ms/step - loss: 0.0609 - accuracy: 0.9805 - val_loss: 0.0972 - val_accuracy: 0.9710\n",
            "Epoch 5/20\n",
            "750/750 [==============================] - 4s 5ms/step - loss: 0.0499 - accuracy: 0.9840 - val_loss: 0.0967 - val_accuracy: 0.9719\n",
            "Epoch 6/20\n",
            "750/750 [==============================] - 4s 5ms/step - loss: 0.0418 - accuracy: 0.9866 - val_loss: 0.1009 - val_accuracy: 0.9733\n",
            "Epoch 7/20\n",
            "750/750 [==============================] - 5s 7ms/step - loss: 0.0347 - accuracy: 0.9883 - val_loss: 0.0921 - val_accuracy: 0.9731\n",
            "Epoch 8/20\n",
            "750/750 [==============================] - 4s 5ms/step - loss: 0.0332 - accuracy: 0.9893 - val_loss: 0.1036 - val_accuracy: 0.9710\n",
            "Epoch 9/20\n",
            "750/750 [==============================] - 4s 5ms/step - loss: 0.0278 - accuracy: 0.9911 - val_loss: 0.0926 - val_accuracy: 0.9762\n",
            "Epoch 10/20\n",
            "750/750 [==============================] - 5s 6ms/step - loss: 0.0259 - accuracy: 0.9911 - val_loss: 0.0920 - val_accuracy: 0.9757\n",
            "Epoch 11/20\n",
            "750/750 [==============================] - 4s 5ms/step - loss: 0.0235 - accuracy: 0.9924 - val_loss: 0.0975 - val_accuracy: 0.9751\n",
            "Epoch 12/20\n",
            "750/750 [==============================] - 4s 5ms/step - loss: 0.0197 - accuracy: 0.9940 - val_loss: 0.0887 - val_accuracy: 0.9782\n",
            "Epoch 13/20\n",
            "750/750 [==============================] - 5s 6ms/step - loss: 0.0181 - accuracy: 0.9940 - val_loss: 0.1089 - val_accuracy: 0.9731\n",
            "Epoch 14/20\n",
            "750/750 [==============================] - 4s 6ms/step - loss: 0.0202 - accuracy: 0.9930 - val_loss: 0.1007 - val_accuracy: 0.9755\n",
            "Epoch 15/20\n",
            "750/750 [==============================] - 5s 6ms/step - loss: 0.0179 - accuracy: 0.9939 - val_loss: 0.1083 - val_accuracy: 0.9736\n",
            "Epoch 16/20\n",
            "750/750 [==============================] - 4s 5ms/step - loss: 0.0137 - accuracy: 0.9954 - val_loss: 0.0937 - val_accuracy: 0.9763\n",
            "Epoch 17/20\n",
            "750/750 [==============================] - 4s 5ms/step - loss: 0.0131 - accuracy: 0.9955 - val_loss: 0.0998 - val_accuracy: 0.9773\n",
            "Epoch 18/20\n",
            "750/750 [==============================] - 5s 6ms/step - loss: 0.0126 - accuracy: 0.9957 - val_loss: 0.1105 - val_accuracy: 0.9736\n",
            "Epoch 19/20\n",
            "750/750 [==============================] - 4s 5ms/step - loss: 0.0143 - accuracy: 0.9949 - val_loss: 0.0995 - val_accuracy: 0.9777\n",
            "Epoch 20/20\n",
            "750/750 [==============================] - 4s 5ms/step - loss: 0.0139 - accuracy: 0.9953 - val_loss: 0.1115 - val_accuracy: 0.9764\n"
          ]
        }
      ]
    },
    {
      "cell_type": "markdown",
      "source": [
        "#4. Early Stopping"
      ],
      "metadata": {
        "id": "NLQVnJhPBHjK"
      }
    },
    {
      "cell_type": "markdown",
      "source": [
        "Early Stopping monitors a specified metric (e.g., validation loss) and stops training if the metric does not improve."
      ],
      "metadata": {
        "id": "JiI39vOsBI55"
      }
    },
    {
      "cell_type": "code",
      "source": [
        "from tensorflow.keras.callbacks import EarlyStopping\n",
        "\n",
        "# Define and compile the model\n",
        "model = Sequential([\n",
        "    Dense(128, activation='relu', input_shape=(784,)),\n",
        "    Dense(64, activation='relu'),\n",
        "    Dense(10, activation='softmax')\n",
        "])\n",
        "\n",
        "model.compile(optimizer='adam', loss='categorical_crossentropy', metrics=['accuracy'])\n",
        "\n",
        "# Set up early stopping\n",
        "early_stopping = EarlyStopping(monitor='val_loss', patience=3)\n",
        "\n",
        "# Train the model with early stopping\n",
        "history = model.fit(train_images, train_labels, epochs=50, batch_size=64,\n",
        "                    validation_split=0.2, callbacks=[early_stopping])"
      ],
      "metadata": {
        "colab": {
          "base_uri": "https://localhost:8080/"
        },
        "id": "s9mGXe1NBHcC",
        "outputId": "947f5c86-152e-42d7-abcf-dc6f648fc6e1"
      },
      "execution_count": null,
      "outputs": [
        {
          "output_type": "stream",
          "name": "stdout",
          "text": [
            "Epoch 1/50\n",
            "750/750 [==============================] - 4s 4ms/step - loss: 0.3058 - accuracy: 0.9117 - val_loss: 0.1550 - val_accuracy: 0.9547\n",
            "Epoch 2/50\n",
            "750/750 [==============================] - 4s 5ms/step - loss: 0.1294 - accuracy: 0.9620 - val_loss: 0.1221 - val_accuracy: 0.9643\n",
            "Epoch 3/50\n",
            "750/750 [==============================] - 4s 5ms/step - loss: 0.0876 - accuracy: 0.9741 - val_loss: 0.0977 - val_accuracy: 0.9704\n",
            "Epoch 4/50\n",
            "750/750 [==============================] - 3s 4ms/step - loss: 0.0652 - accuracy: 0.9801 - val_loss: 0.0929 - val_accuracy: 0.9723\n",
            "Epoch 5/50\n",
            "750/750 [==============================] - 3s 4ms/step - loss: 0.0509 - accuracy: 0.9841 - val_loss: 0.1083 - val_accuracy: 0.9703\n",
            "Epoch 6/50\n",
            "750/750 [==============================] - 4s 5ms/step - loss: 0.0406 - accuracy: 0.9870 - val_loss: 0.0917 - val_accuracy: 0.9737\n",
            "Epoch 7/50\n",
            "750/750 [==============================] - 3s 4ms/step - loss: 0.0314 - accuracy: 0.9899 - val_loss: 0.0936 - val_accuracy: 0.9748\n",
            "Epoch 8/50\n",
            "750/750 [==============================] - 3s 4ms/step - loss: 0.0261 - accuracy: 0.9918 - val_loss: 0.1137 - val_accuracy: 0.9702\n",
            "Epoch 9/50\n",
            "750/750 [==============================] - 3s 4ms/step - loss: 0.0238 - accuracy: 0.9924 - val_loss: 0.1167 - val_accuracy: 0.9707\n"
          ]
        }
      ]
    },
    {
      "cell_type": "markdown",
      "source": [
        "#5. Data Augmentation"
      ],
      "metadata": {
        "id": "o6c5Rx29BWu0"
      }
    },
    {
      "cell_type": "markdown",
      "source": [
        "Data augmentation involves generating new training samples by randomly perturbing existing data (e.g., rotating, scaling, shifting), which helps in creating a more robust model."
      ],
      "metadata": {
        "id": "0WVYLu6TBZ5E"
      }
    },
    {
      "cell_type": "code",
      "source": [
        "import tensorflow as tf\n",
        "from tensorflow.keras.datasets import mnist\n",
        "from tensorflow.keras.preprocessing.image import ImageDataGenerator\n",
        "\n",
        "# Load and preprocess the MNIST dataset\n",
        "(train_images, train_labels), (test_images, test_labels) = mnist.load_data()\n",
        "train_images = train_images.reshape((60000, 28, 28, 1)).astype('float32') / 255\n",
        "test_images = test_images.reshape((10000, 28, 28, 1)).astype('float32') / 255\n",
        "\n",
        "# Create an ImageDataGenerator for data augmentation\n",
        "datagen = ImageDataGenerator(\n",
        "    rotation_range=10,\n",
        "    width_shift_range=0.1,\n",
        "    height_shift_range=0.1,\n",
        "    shear_range=0.2,\n",
        "    zoom_range=0.2,\n",
        "    fill_mode='nearest'\n",
        ")\n",
        "\n",
        "# Define and compile a CNN model\n",
        "model = tf.keras.models.Sequential([\n",
        "    tf.keras.layers.Conv2D(32, (3, 3), activation='relu', input_shape=(28, 28, 1)),\n",
        "    tf.keras.layers.MaxPooling2D((2, 2)),\n",
        "    tf.keras.layers.Flatten(),\n",
        "    tf.keras.layers.Dense(128, activation='relu'),\n",
        "    tf.keras.layers.Dense(10, activation='softmax')\n",
        "])\n",
        "\n",
        "model.compile(optimizer='adam', loss='sparse_categorical_crossentropy', metrics=['accuracy'])\n",
        "\n",
        "# Generate augmented training data and train the model\n",
        "datagen.fit(train_images)\n",
        "model.fit(datagen.flow(train_images, train_labels, batch_size=64), epochs=20, validation_data=(test_images, test_labels))"
      ],
      "metadata": {
        "colab": {
          "base_uri": "https://localhost:8080/"
        },
        "id": "Vrg60HYABcCM",
        "outputId": "b457f5ce-3027-45e3-e5ee-79c66f5d2ed0"
      },
      "execution_count": null,
      "outputs": [
        {
          "output_type": "stream",
          "name": "stdout",
          "text": [
            "Epoch 1/20\n",
            "938/938 [==============================] - 48s 50ms/step - loss: 0.4013 - accuracy: 0.8776 - val_loss: 0.0841 - val_accuracy: 0.9761\n",
            "Epoch 2/20\n",
            "938/938 [==============================] - 46s 49ms/step - loss: 0.1526 - accuracy: 0.9540 - val_loss: 0.0684 - val_accuracy: 0.9776\n",
            "Epoch 3/20\n",
            "938/938 [==============================] - 48s 51ms/step - loss: 0.1148 - accuracy: 0.9645 - val_loss: 0.0494 - val_accuracy: 0.9828\n",
            "Epoch 4/20\n",
            "938/938 [==============================] - 46s 49ms/step - loss: 0.0945 - accuracy: 0.9714 - val_loss: 0.0392 - val_accuracy: 0.9879\n",
            "Epoch 5/20\n",
            "938/938 [==============================] - 45s 47ms/step - loss: 0.0844 - accuracy: 0.9743 - val_loss: 0.0469 - val_accuracy: 0.9845\n",
            "Epoch 6/20\n",
            "938/938 [==============================] - 46s 49ms/step - loss: 0.0758 - accuracy: 0.9766 - val_loss: 0.0488 - val_accuracy: 0.9830\n",
            "Epoch 7/20\n",
            "938/938 [==============================] - 45s 48ms/step - loss: 0.0732 - accuracy: 0.9771 - val_loss: 0.0382 - val_accuracy: 0.9871\n",
            "Epoch 8/20\n",
            "938/938 [==============================] - 46s 49ms/step - loss: 0.0648 - accuracy: 0.9793 - val_loss: 0.0891 - val_accuracy: 0.9699\n",
            "Epoch 9/20\n",
            "938/938 [==============================] - 46s 49ms/step - loss: 0.0625 - accuracy: 0.9804 - val_loss: 0.0486 - val_accuracy: 0.9850\n",
            "Epoch 10/20\n",
            "938/938 [==============================] - 45s 48ms/step - loss: 0.0599 - accuracy: 0.9813 - val_loss: 0.0519 - val_accuracy: 0.9830\n",
            "Epoch 11/20\n",
            "938/938 [==============================] - 51s 54ms/step - loss: 0.0595 - accuracy: 0.9819 - val_loss: 0.0418 - val_accuracy: 0.9871\n",
            "Epoch 12/20\n",
            "938/938 [==============================] - 45s 48ms/step - loss: 0.0535 - accuracy: 0.9829 - val_loss: 0.0355 - val_accuracy: 0.9892\n",
            "Epoch 13/20\n",
            "938/938 [==============================] - 46s 49ms/step - loss: 0.0524 - accuracy: 0.9835 - val_loss: 0.0365 - val_accuracy: 0.9884\n",
            "Epoch 14/20\n",
            "938/938 [==============================] - 46s 49ms/step - loss: 0.0484 - accuracy: 0.9846 - val_loss: 0.0333 - val_accuracy: 0.9904\n",
            "Epoch 15/20\n",
            "938/938 [==============================] - 47s 50ms/step - loss: 0.0484 - accuracy: 0.9848 - val_loss: 0.0392 - val_accuracy: 0.9886\n",
            "Epoch 16/20\n",
            "938/938 [==============================] - 46s 49ms/step - loss: 0.0472 - accuracy: 0.9859 - val_loss: 0.0357 - val_accuracy: 0.9899\n",
            "Epoch 17/20\n",
            "938/938 [==============================] - 45s 48ms/step - loss: 0.0471 - accuracy: 0.9846 - val_loss: 0.0395 - val_accuracy: 0.9880\n",
            "Epoch 18/20\n",
            "938/938 [==============================] - 45s 48ms/step - loss: 0.0452 - accuracy: 0.9860 - val_loss: 0.0378 - val_accuracy: 0.9882\n",
            "Epoch 19/20\n",
            "938/938 [==============================] - 46s 49ms/step - loss: 0.0427 - accuracy: 0.9864 - val_loss: 0.0369 - val_accuracy: 0.9881\n",
            "Epoch 20/20\n",
            "938/938 [==============================] - 45s 48ms/step - loss: 0.0435 - accuracy: 0.9862 - val_loss: 0.0573 - val_accuracy: 0.9833\n"
          ]
        },
        {
          "output_type": "execute_result",
          "data": {
            "text/plain": [
              "<keras.src.callbacks.History at 0x7896f6c3c1c0>"
            ]
          },
          "metadata": {},
          "execution_count": 5
        }
      ]
    },
    {
      "cell_type": "markdown",
      "source": [
        "#6. Label Smoothing"
      ],
      "metadata": {
        "id": "OAHYCWPhB068"
      }
    },
    {
      "cell_type": "markdown",
      "source": [
        "Label smoothing involves replacing hard 0s and 1s in the target labels with small values like 0.1 and 0.9, respectively. This prevents the model from becoming too confident and encourages it to generalize better."
      ],
      "metadata": {
        "id": "xCRYY3FGJruc"
      }
    },
    {
      "cell_type": "code",
      "source": [
        "import tensorflow as tf\n",
        "from tensorflow.keras.datasets import mnist\n",
        "from tensorflow.keras.utils import to_categorical\n",
        "\n",
        "# Load and preprocess the MNIST dataset\n",
        "(train_images, train_labels), (test_images, test_labels) = mnist.load_data()\n",
        "train_images = train_images.reshape((60000, 784)).astype('float32') / 255\n",
        "test_images = test_images.reshape((10000, 784)).astype('float32') / 255\n",
        "train_labels_smooth = to_categorical(train_labels, num_classes=10, dtype='float32')\n",
        "\n",
        "# Define and compile a model with label smoothing\n",
        "def custom_loss(y_true, y_pred):\n",
        "    epsilon = 0.1\n",
        "    y_true_smooth = y_true * (1 - epsilon) + epsilon / 10\n",
        "    return tf.keras.losses.categorical_crossentropy(y_true_smooth, y_pred)\n",
        "\n",
        "model = tf.keras.models.Sequential([\n",
        "    tf.keras.layers.Dense(128, activation='relu', input_shape=(784,)),\n",
        "    tf.keras.layers.Dense(64, activation='relu'),\n",
        "    tf.keras.layers.Dense(10, activation='softmax')\n",
        "])\n",
        "\n",
        "model.compile(optimizer='adam', loss=custom_loss, metrics=['accuracy'])\n",
        "\n",
        "# Train the model with label smoothing\n",
        "model.fit(train_images, train_labels_smooth, epochs=20, batch_size=64, validation_data=(test_images, to_categorical(test_labels)))\n"
      ],
      "metadata": {
        "colab": {
          "base_uri": "https://localhost:8080/"
        },
        "id": "gUt_PpOLJ3E0",
        "outputId": "c7dea0c9-63b7-4089-8a25-dd62a348af20"
      },
      "execution_count": null,
      "outputs": [
        {
          "output_type": "stream",
          "name": "stdout",
          "text": [
            "Epoch 1/20\n",
            "938/938 [==============================] - 6s 5ms/step - loss: 0.7410 - accuracy: 0.9286 - val_loss: 0.6392 - val_accuracy: 0.9633\n",
            "Epoch 2/20\n",
            "938/938 [==============================] - 4s 4ms/step - loss: 0.6115 - accuracy: 0.9724 - val_loss: 0.6056 - val_accuracy: 0.9721\n",
            "Epoch 3/20\n",
            "938/938 [==============================] - 4s 4ms/step - loss: 0.5830 - accuracy: 0.9808 - val_loss: 0.5849 - val_accuracy: 0.9766\n",
            "Epoch 4/20\n",
            "938/938 [==============================] - 5s 5ms/step - loss: 0.5665 - accuracy: 0.9858 - val_loss: 0.5756 - val_accuracy: 0.9798\n",
            "Epoch 5/20\n",
            "938/938 [==============================] - 4s 4ms/step - loss: 0.5558 - accuracy: 0.9895 - val_loss: 0.5709 - val_accuracy: 0.9805\n",
            "Epoch 6/20\n",
            "938/938 [==============================] - 4s 4ms/step - loss: 0.5479 - accuracy: 0.9913 - val_loss: 0.5725 - val_accuracy: 0.9791\n",
            "Epoch 7/20\n",
            "938/938 [==============================] - 5s 6ms/step - loss: 0.5417 - accuracy: 0.9934 - val_loss: 0.5645 - val_accuracy: 0.9809\n",
            "Epoch 8/20\n",
            "938/938 [==============================] - 4s 4ms/step - loss: 0.5368 - accuracy: 0.9947 - val_loss: 0.5651 - val_accuracy: 0.9803\n",
            "Epoch 9/20\n",
            "938/938 [==============================] - 4s 4ms/step - loss: 0.5328 - accuracy: 0.9956 - val_loss: 0.5629 - val_accuracy: 0.9819\n",
            "Epoch 10/20\n",
            "938/938 [==============================] - 5s 6ms/step - loss: 0.5299 - accuracy: 0.9960 - val_loss: 0.5616 - val_accuracy: 0.9819\n",
            "Epoch 11/20\n",
            "938/938 [==============================] - 5s 6ms/step - loss: 0.5269 - accuracy: 0.9974 - val_loss: 0.5586 - val_accuracy: 0.9807\n",
            "Epoch 12/20\n",
            "938/938 [==============================] - 5s 6ms/step - loss: 0.5247 - accuracy: 0.9977 - val_loss: 0.5628 - val_accuracy: 0.9817\n",
            "Epoch 13/20\n",
            "938/938 [==============================] - 4s 4ms/step - loss: 0.5220 - accuracy: 0.9984 - val_loss: 0.5560 - val_accuracy: 0.9824\n",
            "Epoch 14/20\n",
            "938/938 [==============================] - 4s 4ms/step - loss: 0.5203 - accuracy: 0.9985 - val_loss: 0.5575 - val_accuracy: 0.9819\n",
            "Epoch 15/20\n",
            "938/938 [==============================] - 5s 5ms/step - loss: 0.5188 - accuracy: 0.9988 - val_loss: 0.5558 - val_accuracy: 0.9820\n",
            "Epoch 16/20\n",
            "938/938 [==============================] - 4s 4ms/step - loss: 0.5172 - accuracy: 0.9989 - val_loss: 0.5565 - val_accuracy: 0.9815\n",
            "Epoch 17/20\n",
            "938/938 [==============================] - 4s 4ms/step - loss: 0.5163 - accuracy: 0.9990 - val_loss: 0.5554 - val_accuracy: 0.9817\n",
            "Epoch 18/20\n",
            "938/938 [==============================] - 5s 5ms/step - loss: 0.5150 - accuracy: 0.9992 - val_loss: 0.5557 - val_accuracy: 0.9827\n",
            "Epoch 19/20\n",
            "938/938 [==============================] - 4s 4ms/step - loss: 0.5141 - accuracy: 0.9992 - val_loss: 0.5547 - val_accuracy: 0.9823\n",
            "Epoch 20/20\n",
            "938/938 [==============================] - 4s 4ms/step - loss: 0.5135 - accuracy: 0.9990 - val_loss: 0.5554 - val_accuracy: 0.9827\n"
          ]
        },
        {
          "output_type": "execute_result",
          "data": {
            "text/plain": [
              "<keras.src.callbacks.History at 0x78970dfde110>"
            ]
          },
          "metadata": {},
          "execution_count": 7
        }
      ]
    }
  ]
}