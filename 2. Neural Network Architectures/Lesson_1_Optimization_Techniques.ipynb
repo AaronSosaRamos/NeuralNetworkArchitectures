{
  "nbformat": 4,
  "nbformat_minor": 0,
  "metadata": {
    "colab": {
      "provenance": []
    },
    "kernelspec": {
      "name": "python3",
      "display_name": "Python 3"
    },
    "language_info": {
      "name": "python"
    }
  },
  "cells": [
    {
      "cell_type": "markdown",
      "source": [
        "#Backpropagation"
      ],
      "metadata": {
        "id": "A-vrgmX5hvbt"
      }
    },
    {
      "cell_type": "code",
      "execution_count": null,
      "metadata": {
        "id": "dCx6hEiPhnTo"
      },
      "outputs": [],
      "source": [
        "import tensorflow as tf\n",
        "from tensorflow import keras\n",
        "import numpy as np\n",
        "import matplotlib.pyplot as plt"
      ]
    },
    {
      "cell_type": "markdown",
      "source": [
        "Load the datasets:"
      ],
      "metadata": {
        "id": "flxdu2tnhyUT"
      }
    },
    {
      "cell_type": "code",
      "source": [
        "# Load MNIST dataset\n",
        "mnist = keras.datasets.mnist\n",
        "(train_images_mnist, train_labels_mnist), (test_images_mnist, test_labels_mnist) = mnist.load_data()\n",
        "\n",
        "# Load Fashion MNIST dataset\n",
        "fashion_mnist = keras.datasets.fashion_mnist\n",
        "(train_images_fashion, train_labels_fashion), (test_images_fashion, test_labels_fashion) = fashion_mnist.load_data()"
      ],
      "metadata": {
        "colab": {
          "base_uri": "https://localhost:8080/"
        },
        "id": "sXZvC1Mohzo7",
        "outputId": "1a2e8e1a-8e40-4550-eb9d-bc1f2dbce4be"
      },
      "execution_count": null,
      "outputs": [
        {
          "output_type": "stream",
          "name": "stdout",
          "text": [
            "Downloading data from https://storage.googleapis.com/tensorflow/tf-keras-datasets/mnist.npz\n",
            "11490434/11490434 [==============================] - 0s 0us/step\n",
            "Downloading data from https://storage.googleapis.com/tensorflow/tf-keras-datasets/train-labels-idx1-ubyte.gz\n",
            "29515/29515 [==============================] - 0s 0us/step\n",
            "Downloading data from https://storage.googleapis.com/tensorflow/tf-keras-datasets/train-images-idx3-ubyte.gz\n",
            "26421880/26421880 [==============================] - 0s 0us/step\n",
            "Downloading data from https://storage.googleapis.com/tensorflow/tf-keras-datasets/t10k-labels-idx1-ubyte.gz\n",
            "5148/5148 [==============================] - 0s 0us/step\n",
            "Downloading data from https://storage.googleapis.com/tensorflow/tf-keras-datasets/t10k-images-idx3-ubyte.gz\n",
            "4422102/4422102 [==============================] - 0s 0us/step\n"
          ]
        }
      ]
    },
    {
      "cell_type": "markdown",
      "source": [
        "Preprocess the data:"
      ],
      "metadata": {
        "id": "tTBtJ79TiKkQ"
      }
    },
    {
      "cell_type": "code",
      "source": [
        "# Normalize pixel values to between 0 and 1\n",
        "train_images_mnist, test_images_mnist = train_images_mnist / 255.0, test_images_mnist / 255.0\n",
        "train_images_fashion, test_images_fashion = train_images_fashion / 255.0, test_images_fashion / 255.0"
      ],
      "metadata": {
        "id": "SQsfpXOoiLdv"
      },
      "execution_count": null,
      "outputs": []
    },
    {
      "cell_type": "markdown",
      "source": [
        "Build and Train the Model\n"
      ],
      "metadata": {
        "id": "RjE1Dp4IiPpg"
      }
    },
    {
      "cell_type": "code",
      "source": [
        "def train_and_evaluate(images, labels, dataset_name):\n",
        "    model = keras.Sequential([\n",
        "        keras.layers.Flatten(input_shape=(28, 28)),\n",
        "        keras.layers.Dense(128, activation='relu'),\n",
        "        keras.layers.Dense(10, activation='softmax')\n",
        "    ])\n",
        "\n",
        "    model.compile(optimizer='adam',\n",
        "                  loss='sparse_categorical_crossentropy',\n",
        "                  metrics=['accuracy'])\n",
        "\n",
        "    print(f\"Training model on {dataset_name} dataset...\")\n",
        "    history = model.fit(images, labels, epochs=10, validation_split=0.2, verbose=0)\n",
        "\n",
        "    # Plot training history\n",
        "    plt.figure(figsize=(10, 5))\n",
        "    plt.subplot(1, 2, 1)\n",
        "    plt.plot(history.history['loss'], label='Training Loss')\n",
        "    plt.plot(history.history['val_loss'], label='Validation Loss')\n",
        "    plt.title(f'{dataset_name} Dataset: Training and Validation Loss')\n",
        "    plt.xlabel('Epoch')\n",
        "    plt.ylabel('Loss')\n",
        "    plt.legend()\n",
        "\n",
        "    plt.subplot(1, 2, 2)\n",
        "    plt.plot(history.history['accuracy'], label='Training Accuracy')\n",
        "    plt.plot(history.history['val_accuracy'], label='Validation Accuracy')\n",
        "    plt.title(f'{dataset_name} Dataset: Training and Validation Accuracy')\n",
        "    plt.xlabel('Epoch')\n",
        "    plt.ylabel('Accuracy')\n",
        "    plt.legend()\n",
        "\n",
        "    plt.tight_layout()\n",
        "    plt.show()\n",
        "\n",
        "    return model\n",
        "\n",
        "# Train and evaluate on MNIST dataset\n",
        "mnist_model = train_and_evaluate(train_images_mnist, train_labels_mnist, \"MNIST\")\n",
        "\n",
        "# Train and evaluate on Fashion MNIST dataset\n",
        "fashion_model = train_and_evaluate(train_images_fashion, train_labels_fashion, \"Fashion MNIST\")\n"
      ],
      "metadata": {
        "colab": {
          "base_uri": "https://localhost:8080/",
          "height": 1000
        },
        "id": "nNynZWR3iQBH",
        "outputId": "6c2c0c9c-85bf-416d-ffee-1d07cb3fc8c8"
      },
      "execution_count": null,
      "outputs": [
        {
          "output_type": "stream",
          "name": "stdout",
          "text": [
            "Training model on MNIST dataset...\n"
          ]
        },
        {
          "output_type": "display_data",
          "data": {
            "text/plain": [
              "<Figure size 1000x500 with 2 Axes>"
            ],
            "image/png": "[encoded data removed]"
          },
          "metadata": {}
        },
        {
          "output_type": "stream",
          "name": "stdout",
          "text": [
            "Training model on Fashion MNIST dataset...\n"
          ]
        },
        {
          "output_type": "display_data",
          "data": {
            "text/plain": [
              "<Figure size 1000x500 with 2 Axes>"
            ],
            "image/png": "[encoded data removed]"
          },
          "metadata": {}
        }
      ]
    },
    {
      "cell_type": "code",
      "source": [
        "def evaluate_model(model, test_images, test_labels, dataset_name):\n",
        "    test_loss, test_acc = model.evaluate(test_images, test_labels, verbose=0)\n",
        "    print(f\"Accuracy on {dataset_name} Test Set: {test_acc}\")\n",
        "\n",
        "# Evaluate MNIST model\n",
        "evaluate_model(mnist_model, test_images_mnist, test_labels_mnist, \"MNIST\")\n",
        "\n",
        "# Evaluate Fashion MNIST model\n",
        "evaluate_model(fashion_model, test_images_fashion, test_labels_fashion, \"Fashion MNIST\")"
      ],
      "metadata": {
        "colab": {
          "base_uri": "https://localhost:8080/"
        },
        "id": "V7BZeNsMi16D",
        "outputId": "951d5dc5-3b6c-46b7-bc35-d43e55544e2f"
      },
      "execution_count": null,
      "outputs": [
        {
          "output_type": "stream",
          "name": "stdout",
          "text": [
            "Accuracy on MNIST Test Set: 0.9781000018119812\n",
            "Accuracy on Fashion MNIST Test Set: 0.8795999884605408\n"
          ]
        }
      ]
    },
    {
      "cell_type": "markdown",
      "source": [
        "#Optimization Techniques"
      ],
      "metadata": {
        "id": "Ob_8c1yFlQ5S"
      }
    },
    {
      "cell_type": "markdown",
      "source": [
        "#1. Momentum Optimization"
      ],
      "metadata": {
        "id": "N5NW5ue3lPfy"
      }
    },
    {
      "cell_type": "markdown",
      "source": [
        "Momentum optimization is a method that helps accelerate gradient descent by adding a fraction (commonly denoted as beta or gamma) of the update vector of the past time step to the current update vector. This technique helps dampen oscillations and leads to faster convergence."
      ],
      "metadata": {
        "id": "BhaGiBjKlb_a"
      }
    },
    {
      "cell_type": "code",
      "source": [
        "# Momentum Optimization using TensorFlow/Keras with MNIST\n",
        "\n",
        "import tensorflow as tf\n",
        "from tensorflow.keras.datasets import mnist\n",
        "from tensorflow.keras.models import Sequential\n",
        "from tensorflow.keras.layers import Dense\n",
        "from tensorflow.keras.optimizers import SGD\n",
        "\n",
        "# Load MNIST dataset\n",
        "(x_train, y_train), (x_test, y_test) = mnist.load_data()\n",
        "x_train, x_test = x_train / 255.0, x_test / 255.0\n",
        "\n",
        "# Build a simple neural network\n",
        "model = Sequential([\n",
        "    Dense(128, activation='relu', input_shape=(784,)),\n",
        "    Dense(10, activation='softmax')\n",
        "])\n",
        "\n",
        "# Compile model with SGD optimizer using momentum\n",
        "optimizer = SGD(learning_rate=0.01, momentum=0.9)\n",
        "model.compile(optimizer=optimizer,\n",
        "              loss='sparse_categorical_crossentropy',\n",
        "              metrics=['accuracy'])\n",
        "\n",
        "# Train the model\n",
        "model.fit(x_train.reshape(-1, 784), y_train, epochs=10, batch_size=32, validation_split=0.1)"
      ],
      "metadata": {
        "colab": {
          "base_uri": "https://localhost:8080/"
        },
        "id": "-7Cx11KolXY4",
        "outputId": "2e8e422a-7084-4057-ae53-a7c464a0d2d2"
      },
      "execution_count": null,
      "outputs": [
        {
          "output_type": "stream",
          "name": "stdout",
          "text": [
            "Epoch 1/10\n",
            "1688/1688 [==============================] - 5s 3ms/step - loss: 0.3276 - accuracy: 0.9044 - val_loss: 0.1629 - val_accuracy: 0.9547\n",
            "Epoch 2/10\n",
            "1688/1688 [==============================] - 4s 3ms/step - loss: 0.1565 - accuracy: 0.9546 - val_loss: 0.1158 - val_accuracy: 0.9695\n",
            "Epoch 3/10\n",
            "1688/1688 [==============================] - 5s 3ms/step - loss: 0.1109 - accuracy: 0.9682 - val_loss: 0.0941 - val_accuracy: 0.9735\n",
            "Epoch 4/10\n",
            "1688/1688 [==============================] - 5s 3ms/step - loss: 0.0872 - accuracy: 0.9750 - val_loss: 0.0826 - val_accuracy: 0.9768\n",
            "Epoch 5/10\n",
            "1688/1688 [==============================] - 5s 3ms/step - loss: 0.0719 - accuracy: 0.9791 - val_loss: 0.0829 - val_accuracy: 0.9777\n",
            "Epoch 6/10\n",
            "1688/1688 [==============================] - 4s 3ms/step - loss: 0.0598 - accuracy: 0.9825 - val_loss: 0.0762 - val_accuracy: 0.9792\n",
            "Epoch 7/10\n",
            "1688/1688 [==============================] - 8s 5ms/step - loss: 0.0512 - accuracy: 0.9858 - val_loss: 0.0716 - val_accuracy: 0.9788\n",
            "Epoch 8/10\n",
            "1688/1688 [==============================] - 4s 3ms/step - loss: 0.0441 - accuracy: 0.9875 - val_loss: 0.0734 - val_accuracy: 0.9783\n",
            "Epoch 9/10\n",
            "1688/1688 [==============================] - 5s 3ms/step - loss: 0.0381 - accuracy: 0.9895 - val_loss: 0.0771 - val_accuracy: 0.9782\n",
            "Epoch 10/10\n",
            "1688/1688 [==============================] - 6s 4ms/step - loss: 0.0332 - accuracy: 0.9912 - val_loss: 0.0689 - val_accuracy: 0.9807\n"
          ]
        },
        {
          "output_type": "execute_result",
          "data": {
            "text/plain": [
              "<keras.src.callbacks.History at 0x7e6d6c769120>"
            ]
          },
          "metadata": {},
          "execution_count": 11
        }
      ]
    },
    {
      "cell_type": "markdown",
      "source": [
        "#2. Nesterov Accelerated Gradient (NAG)"
      ],
      "metadata": {
        "id": "eQjN4BmZltCp"
      }
    },
    {
      "cell_type": "markdown",
      "source": [
        "Nesterov Accelerated Gradient (NAG) is a variant of momentum optimization that slightly modifies how the gradient is computed. It calculates the gradient not at the current parameters but at a point slightly ahead in the direction of the momentum. This helps in reducing the oscillations typically seen with standard momentum.\n",
        "\n"
      ],
      "metadata": {
        "id": "4t3fjlOvlunI"
      }
    },
    {
      "cell_type": "code",
      "source": [
        "# Nesterov Accelerated Gradient (NAG) using TensorFlow/Keras with MNIST\n",
        "\n",
        "# Build and compile model similar to above but with NAG optimizer\n",
        "optimizer = SGD(learning_rate=0.01, momentum=0.9, nesterov=True)\n",
        "model.compile(optimizer=optimizer,\n",
        "              loss='sparse_categorical_crossentropy',\n",
        "              metrics=['accuracy'])\n",
        "\n",
        "# Train the model\n",
        "model.fit(x_train.reshape(-1, 784), y_train, epochs=10, batch_size=32, validation_split=0.1)"
      ],
      "metadata": {
        "colab": {
          "base_uri": "https://localhost:8080/"
        },
        "id": "1mxi-dHWlv0k",
        "outputId": "6c48f60c-1d61-4020-de7e-99db37bdcce1"
      },
      "execution_count": null,
      "outputs": [
        {
          "output_type": "stream",
          "name": "stdout",
          "text": [
            "Epoch 1/10\n",
            "1688/1688 [==============================] - 6s 3ms/step - loss: 0.0285 - accuracy: 0.9924 - val_loss: 0.0706 - val_accuracy: 0.9797\n",
            "Epoch 2/10\n",
            "1688/1688 [==============================] - 5s 3ms/step - loss: 0.0245 - accuracy: 0.9939 - val_loss: 0.0690 - val_accuracy: 0.9817\n",
            "Epoch 3/10\n",
            "1688/1688 [==============================] - 6s 3ms/step - loss: 0.0217 - accuracy: 0.9951 - val_loss: 0.0707 - val_accuracy: 0.9808\n",
            "Epoch 4/10\n",
            "1688/1688 [==============================] - 5s 3ms/step - loss: 0.0189 - accuracy: 0.9960 - val_loss: 0.0729 - val_accuracy: 0.9783\n",
            "Epoch 5/10\n",
            "1688/1688 [==============================] - 6s 4ms/step - loss: 0.0166 - accuracy: 0.9967 - val_loss: 0.0719 - val_accuracy: 0.9810\n",
            "Epoch 6/10\n",
            "1688/1688 [==============================] - 5s 3ms/step - loss: 0.0141 - accuracy: 0.9976 - val_loss: 0.0697 - val_accuracy: 0.9812\n",
            "Epoch 7/10\n",
            "1688/1688 [==============================] - 6s 3ms/step - loss: 0.0125 - accuracy: 0.9981 - val_loss: 0.0751 - val_accuracy: 0.9792\n",
            "Epoch 8/10\n",
            "1688/1688 [==============================] - 6s 4ms/step - loss: 0.0112 - accuracy: 0.9985 - val_loss: 0.0716 - val_accuracy: 0.9797\n",
            "Epoch 9/10\n",
            "1688/1688 [==============================] - 7s 4ms/step - loss: 0.0101 - accuracy: 0.9987 - val_loss: 0.0708 - val_accuracy: 0.9808\n",
            "Epoch 10/10\n",
            "1688/1688 [==============================] - 6s 4ms/step - loss: 0.0089 - accuracy: 0.9991 - val_loss: 0.0707 - val_accuracy: 0.9813\n"
          ]
        },
        {
          "output_type": "execute_result",
          "data": {
            "text/plain": [
              "<keras.src.callbacks.History at 0x7e6d6c80ca60>"
            ]
          },
          "metadata": {},
          "execution_count": 12
        }
      ]
    },
    {
      "cell_type": "markdown",
      "source": [
        "#3. AdaGrad, RMSProp, and Adam Optimization Algorithms"
      ],
      "metadata": {
        "id": "HlR-PDUyl8YA"
      }
    },
    {
      "cell_type": "markdown",
      "source": [
        "AdaGrad, RMSProp, and Adam are advanced optimization algorithms that adapt the learning rate during training based on the average of past gradients. They are particularly useful in settings where different parameters may require different learning rates."
      ],
      "metadata": {
        "id": "Dj-KdKPwmAs4"
      }
    },
    {
      "cell_type": "markdown",
      "source": [
        "AdaGrad optimizer:"
      ],
      "metadata": {
        "id": "Uly-VXP2mJmT"
      }
    },
    {
      "cell_type": "code",
      "source": [
        "# AdaGrad, RMSProp, and Adam optimization using TensorFlow/Keras with MNIST\n",
        "\n",
        "# Using AdaGrad optimizer\n",
        "optimizer = tf.keras.optimizers.Adagrad(learning_rate=0.01)\n",
        "model.compile(optimizer=optimizer,\n",
        "              loss='sparse_categorical_crossentropy',\n",
        "              metrics=['accuracy'])\n",
        "\n",
        "# Train the model (choose one of the above optimizers)\n",
        "model.fit(x_train.reshape(-1, 784), y_train, epochs=10, batch_size=32, validation_split=0.1)"
      ],
      "metadata": {
        "colab": {
          "base_uri": "https://localhost:8080/"
        },
        "id": "LM6fGgpKl_R5",
        "outputId": "ac69ffc1-e053-4e13-9539-89f0038b0388"
      },
      "execution_count": null,
      "outputs": [
        {
          "output_type": "stream",
          "name": "stdout",
          "text": [
            "Epoch 1/10\n",
            "1688/1688 [==============================] - 7s 4ms/step - loss: 0.0067 - accuracy: 0.9994 - val_loss: 0.0703 - val_accuracy: 0.9808\n",
            "Epoch 2/10\n",
            "1688/1688 [==============================] - 7s 4ms/step - loss: 0.0063 - accuracy: 0.9996 - val_loss: 0.0716 - val_accuracy: 0.9817\n",
            "Epoch 3/10\n",
            "1688/1688 [==============================] - 11s 6ms/step - loss: 0.0061 - accuracy: 0.9996 - val_loss: 0.0703 - val_accuracy: 0.9818\n",
            "Epoch 4/10\n",
            "1688/1688 [==============================] - 8s 4ms/step - loss: 0.0059 - accuracy: 0.9997 - val_loss: 0.0710 - val_accuracy: 0.9810\n",
            "Epoch 5/10\n",
            "1688/1688 [==============================] - 6s 4ms/step - loss: 0.0057 - accuracy: 0.9997 - val_loss: 0.0717 - val_accuracy: 0.9818\n",
            "Epoch 6/10\n",
            "1688/1688 [==============================] - 5s 3ms/step - loss: 0.0056 - accuracy: 0.9997 - val_loss: 0.0709 - val_accuracy: 0.9813\n",
            "Epoch 7/10\n",
            "1688/1688 [==============================] - 5s 3ms/step - loss: 0.0054 - accuracy: 0.9997 - val_loss: 0.0714 - val_accuracy: 0.9815\n",
            "Epoch 8/10\n",
            "1688/1688 [==============================] - 6s 3ms/step - loss: 0.0053 - accuracy: 0.9998 - val_loss: 0.0720 - val_accuracy: 0.9810\n",
            "Epoch 9/10\n",
            "1688/1688 [==============================] - 5s 3ms/step - loss: 0.0052 - accuracy: 0.9998 - val_loss: 0.0717 - val_accuracy: 0.9820\n",
            "Epoch 10/10\n",
            "1688/1688 [==============================] - 6s 3ms/step - loss: 0.0051 - accuracy: 0.9998 - val_loss: 0.0711 - val_accuracy: 0.9815\n"
          ]
        },
        {
          "output_type": "execute_result",
          "data": {
            "text/plain": [
              "<keras.src.callbacks.History at 0x7e6d6c6ff280>"
            ]
          },
          "metadata": {},
          "execution_count": 13
        }
      ]
    },
    {
      "cell_type": "markdown",
      "source": [
        "RMSProp optimizer:"
      ],
      "metadata": {
        "id": "bq71-l7tmLrg"
      }
    },
    {
      "cell_type": "code",
      "source": [
        "# AdaGrad, RMSProp, and Adam optimization using TensorFlow/Keras with MNIST\n",
        "\n",
        "# Using RMSProp optimizer\n",
        "optimizer = tf.keras.optimizers.RMSprop(learning_rate=0.001)\n",
        "model.compile(optimizer=optimizer,\n",
        "              loss='sparse_categorical_crossentropy',\n",
        "              metrics=['accuracy'])\n",
        "\n",
        "# Train the model (choose one of the above optimizers)\n",
        "model.fit(x_train.reshape(-1, 784), y_train, epochs=10, batch_size=32, validation_split=0.1)\n"
      ],
      "metadata": {
        "colab": {
          "base_uri": "https://localhost:8080/"
        },
        "id": "ITnB2miAmIJT",
        "outputId": "f8a13cec-b6bd-4f59-8e04-8de37fee2d76"
      },
      "execution_count": null,
      "outputs": [
        {
          "output_type": "stream",
          "name": "stdout",
          "text": [
            "Epoch 1/10\n",
            "1688/1688 [==============================] - 5s 3ms/step - loss: 0.0196 - accuracy: 0.9941 - val_loss: 0.0913 - val_accuracy: 0.9798\n",
            "Epoch 2/10\n",
            "1688/1688 [==============================] - 5s 3ms/step - loss: 0.0190 - accuracy: 0.9939 - val_loss: 0.1046 - val_accuracy: 0.9768\n",
            "Epoch 3/10\n",
            "1688/1688 [==============================] - 5s 3ms/step - loss: 0.0157 - accuracy: 0.9950 - val_loss: 0.0956 - val_accuracy: 0.9792\n",
            "Epoch 4/10\n",
            "1688/1688 [==============================] - 5s 3ms/step - loss: 0.0135 - accuracy: 0.9955 - val_loss: 0.0983 - val_accuracy: 0.9792\n",
            "Epoch 5/10\n",
            "1688/1688 [==============================] - 6s 4ms/step - loss: 0.0120 - accuracy: 0.9961 - val_loss: 0.1022 - val_accuracy: 0.9790\n",
            "Epoch 6/10\n",
            "1688/1688 [==============================] - 5s 3ms/step - loss: 0.0092 - accuracy: 0.9971 - val_loss: 0.1010 - val_accuracy: 0.9787\n",
            "Epoch 7/10\n",
            "1688/1688 [==============================] - 5s 3ms/step - loss: 0.0081 - accuracy: 0.9974 - val_loss: 0.1095 - val_accuracy: 0.9798\n",
            "Epoch 8/10\n",
            "1688/1688 [==============================] - 5s 3ms/step - loss: 0.0064 - accuracy: 0.9980 - val_loss: 0.0974 - val_accuracy: 0.9803\n",
            "Epoch 9/10\n",
            "1688/1688 [==============================] - 5s 3ms/step - loss: 0.0057 - accuracy: 0.9982 - val_loss: 0.1104 - val_accuracy: 0.9800\n",
            "Epoch 10/10\n",
            "1688/1688 [==============================] - 6s 3ms/step - loss: 0.0049 - accuracy: 0.9984 - val_loss: 0.1150 - val_accuracy: 0.9793\n"
          ]
        },
        {
          "output_type": "execute_result",
          "data": {
            "text/plain": [
              "<keras.src.callbacks.History at 0x7e6d6c6fc7f0>"
            ]
          },
          "metadata": {},
          "execution_count": 14
        }
      ]
    },
    {
      "cell_type": "markdown",
      "source": [
        "Adam optimizer:"
      ],
      "metadata": {
        "id": "nNCzv5SHojfe"
      }
    },
    {
      "cell_type": "code",
      "source": [
        "# AdaGrad, RMSProp, and Adam optimization using TensorFlow/Keras with MNIST\n",
        "\n",
        "# Using Adam optimizer\n",
        "optimizer = tf.keras.optimizers.Adam(learning_rate=0.001)\n",
        "model.compile(optimizer=optimizer,\n",
        "              loss='sparse_categorical_crossentropy',\n",
        "              metrics=['accuracy'])\n",
        "\n",
        "# Train the model (choose one of the above optimizers)\n",
        "model.fit(x_train.reshape(-1, 784), y_train, epochs=10, batch_size=32, validation_split=0.1)\n"
      ],
      "metadata": {
        "colab": {
          "base_uri": "https://localhost:8080/"
        },
        "id": "-rSBHJ7JohTO",
        "outputId": "f1d52b29-eb65-4152-ab73-e707d83e6737"
      },
      "execution_count": null,
      "outputs": [
        {
          "output_type": "stream",
          "name": "stdout",
          "text": [
            "Epoch 1/10\n",
            "1688/1688 [==============================] - 6s 3ms/step - loss: 0.0198 - accuracy: 0.9937 - val_loss: 0.1412 - val_accuracy: 0.9763\n",
            "Epoch 2/10\n",
            "1688/1688 [==============================] - 7s 4ms/step - loss: 0.0160 - accuracy: 0.9951 - val_loss: 0.1403 - val_accuracy: 0.9752\n",
            "Epoch 3/10\n",
            "1688/1688 [==============================] - 5s 3ms/step - loss: 0.0175 - accuracy: 0.9944 - val_loss: 0.1333 - val_accuracy: 0.9768\n",
            "Epoch 4/10\n",
            "1688/1688 [==============================] - 7s 4ms/step - loss: 0.0137 - accuracy: 0.9954 - val_loss: 0.1287 - val_accuracy: 0.9780\n",
            "Epoch 5/10\n",
            "1688/1688 [==============================] - 5s 3ms/step - loss: 0.0141 - accuracy: 0.9955 - val_loss: 0.1375 - val_accuracy: 0.9777\n",
            "Epoch 6/10\n",
            "1688/1688 [==============================] - 6s 4ms/step - loss: 0.0119 - accuracy: 0.9960 - val_loss: 0.1273 - val_accuracy: 0.9793\n",
            "Epoch 7/10\n",
            "1688/1688 [==============================] - 7s 4ms/step - loss: 0.0100 - accuracy: 0.9968 - val_loss: 0.1576 - val_accuracy: 0.9752\n",
            "Epoch 8/10\n",
            "1688/1688 [==============================] - 7s 4ms/step - loss: 0.0111 - accuracy: 0.9966 - val_loss: 0.1248 - val_accuracy: 0.9795\n",
            "Epoch 9/10\n",
            "1688/1688 [==============================] - 5s 3ms/step - loss: 0.0106 - accuracy: 0.9965 - val_loss: 0.1333 - val_accuracy: 0.9775\n",
            "Epoch 10/10\n",
            "1688/1688 [==============================] - 7s 4ms/step - loss: 0.0094 - accuracy: 0.9968 - val_loss: 0.1327 - val_accuracy: 0.9798\n"
          ]
        },
        {
          "output_type": "execute_result",
          "data": {
            "text/plain": [
              "<keras.src.callbacks.History at 0x7e6d6c4b9270>"
            ]
          },
          "metadata": {},
          "execution_count": 15
        }
      ]
    },
    {
      "cell_type": "markdown",
      "source": [
        "#4. Learning Rate Schedules and Adaptive Learning Rates"
      ],
      "metadata": {
        "id": "RtuXG8Ogo4y5"
      }
    },
    {
      "cell_type": "markdown",
      "source": [
        "Learning rate schedules and adaptive learning rates adjust the learning rate during training based on various strategies (e.g., reducing the learning rate over time or based on performance metrics).\n",
        "\n"
      ],
      "metadata": {
        "id": "GdKBThdbo5ev"
      }
    },
    {
      "cell_type": "code",
      "source": [
        "# Learning Rate Schedules using TensorFlow/Keras with MNIST\n",
        "\n",
        "# Define a learning rate schedule (e.g., exponential decay)\n",
        "initial_learning_rate = 0.01\n",
        "lr_schedule = tf.keras.optimizers.schedules.ExponentialDecay(\n",
        "    initial_learning_rate,\n",
        "    decay_steps=10000,\n",
        "    decay_rate=0.9,\n",
        "    staircase=True)\n",
        "\n",
        "# Create optimizer with the learning rate schedule\n",
        "optimizer = tf.keras.optimizers.Adam(learning_rate=lr_schedule)\n",
        "model.compile(optimizer=optimizer,\n",
        "              loss='sparse_categorical_crossentropy',\n",
        "              metrics=['accuracy'])\n",
        "\n",
        "# Train the model\n",
        "model.fit(x_train.reshape(-1, 784), y_train, epochs=10, batch_size=32, validation_split=0.1)\n"
      ],
      "metadata": {
        "colab": {
          "base_uri": "https://localhost:8080/"
        },
        "id": "ES1CM-zio6Yv",
        "outputId": "7e791db2-df27-4659-8c31-4442093ed4d4"
      },
      "execution_count": null,
      "outputs": [
        {
          "output_type": "stream",
          "name": "stdout",
          "text": [
            "Epoch 1/10\n",
            "1688/1688 [==============================] - 9s 5ms/step - loss: 0.1988 - accuracy: 0.9577 - val_loss: 0.2109 - val_accuracy: 0.9615\n",
            "Epoch 2/10\n",
            "1688/1688 [==============================] - 6s 4ms/step - loss: 0.1530 - accuracy: 0.9631 - val_loss: 0.2045 - val_accuracy: 0.9593\n",
            "Epoch 3/10\n",
            "1688/1688 [==============================] - 7s 4ms/step - loss: 0.1372 - accuracy: 0.9654 - val_loss: 0.2102 - val_accuracy: 0.9590\n",
            "Epoch 4/10\n",
            "1688/1688 [==============================] - 5s 3ms/step - loss: 0.1256 - accuracy: 0.9687 - val_loss: 0.2120 - val_accuracy: 0.9593\n",
            "Epoch 5/10\n",
            "1688/1688 [==============================] - 8s 5ms/step - loss: 0.1281 - accuracy: 0.9706 - val_loss: 0.2508 - val_accuracy: 0.9597\n",
            "Epoch 6/10\n",
            "1688/1688 [==============================] - 5s 3ms/step - loss: 0.1182 - accuracy: 0.9719 - val_loss: 0.2083 - val_accuracy: 0.9635\n",
            "Epoch 7/10\n",
            "1688/1688 [==============================] - 7s 4ms/step - loss: 0.0988 - accuracy: 0.9759 - val_loss: 0.1868 - val_accuracy: 0.9728\n",
            "Epoch 8/10\n",
            "1688/1688 [==============================] - 6s 3ms/step - loss: 0.0902 - accuracy: 0.9786 - val_loss: 0.1987 - val_accuracy: 0.9662\n",
            "Epoch 9/10\n",
            "1688/1688 [==============================] - 7s 4ms/step - loss: 0.0975 - accuracy: 0.9776 - val_loss: 0.2351 - val_accuracy: 0.9647\n",
            "Epoch 10/10\n",
            "1688/1688 [==============================] - 6s 4ms/step - loss: 0.0840 - accuracy: 0.9811 - val_loss: 0.2381 - val_accuracy: 0.9653\n"
          ]
        },
        {
          "output_type": "execute_result",
          "data": {
            "text/plain": [
              "<keras.src.callbacks.History at 0x7e6d6c80cb50>"
            ]
          },
          "metadata": {},
          "execution_count": 17
        }
      ]
    },
    {
      "cell_type": "markdown",
      "source": [
        "#5. Adadelta"
      ],
      "metadata": {
        "id": "mdyYR7Mcpit1"
      }
    },
    {
      "cell_type": "markdown",
      "source": [
        "Adadelta is an extension of AdaGrad that seeks to resolve its radically diminishing learning rates. Instead of accumulating all past squared gradients, Adadelta restricts the window of accumulated past gradients to some fixed size w.\n",
        "\n"
      ],
      "metadata": {
        "id": "isIJtSWrptcv"
      }
    },
    {
      "cell_type": "code",
      "source": [
        "# Adadelta optimization using TensorFlow/Keras with MNIST\n",
        "\n",
        "optimizer = tf.keras.optimizers.Adadelta(learning_rate=1.0, rho=0.95)\n",
        "model.compile(optimizer=optimizer,\n",
        "              loss='sparse_categorical_crossentropy',\n",
        "              metrics=['accuracy'])\n",
        "\n",
        "model.fit(x_train.reshape(-1, 784), y_train, epochs=10, batch_size=32, validation_split=0.1)"
      ],
      "metadata": {
        "colab": {
          "base_uri": "https://localhost:8080/"
        },
        "id": "p3WIiNdapvZA",
        "outputId": "c69330d8-14cd-43a9-b1d1-243683c8b37f"
      },
      "execution_count": null,
      "outputs": [
        {
          "output_type": "stream",
          "name": "stdout",
          "text": [
            "Epoch 1/10\n",
            "1688/1688 [==============================] - 7s 4ms/step - loss: 0.0400 - accuracy: 0.9895 - val_loss: 0.2027 - val_accuracy: 0.9723\n",
            "Epoch 2/10\n",
            "1688/1688 [==============================] - 6s 4ms/step - loss: 0.0269 - accuracy: 0.9925 - val_loss: 0.1988 - val_accuracy: 0.9738\n",
            "Epoch 3/10\n",
            "1688/1688 [==============================] - 7s 4ms/step - loss: 0.0224 - accuracy: 0.9939 - val_loss: 0.1966 - val_accuracy: 0.9738\n",
            "Epoch 4/10\n",
            "1688/1688 [==============================] - 6s 3ms/step - loss: 0.0195 - accuracy: 0.9947 - val_loss: 0.1968 - val_accuracy: 0.9750\n",
            "Epoch 5/10\n",
            "1688/1688 [==============================] - 7s 4ms/step - loss: 0.0179 - accuracy: 0.9952 - val_loss: 0.1944 - val_accuracy: 0.9755\n",
            "Epoch 6/10\n",
            "1688/1688 [==============================] - 6s 4ms/step - loss: 0.0168 - accuracy: 0.9956 - val_loss: 0.1953 - val_accuracy: 0.9750\n",
            "Epoch 7/10\n",
            "1688/1688 [==============================] - 8s 5ms/step - loss: 0.0158 - accuracy: 0.9959 - val_loss: 0.1952 - val_accuracy: 0.9758\n",
            "Epoch 8/10\n",
            "1688/1688 [==============================] - 7s 4ms/step - loss: 0.0151 - accuracy: 0.9961 - val_loss: 0.1957 - val_accuracy: 0.9752\n",
            "Epoch 9/10\n",
            "1688/1688 [==============================] - 8s 5ms/step - loss: 0.0144 - accuracy: 0.9965 - val_loss: 0.1956 - val_accuracy: 0.9758\n",
            "Epoch 10/10\n",
            "1688/1688 [==============================] - 8s 5ms/step - loss: 0.0138 - accuracy: 0.9965 - val_loss: 0.1953 - val_accuracy: 0.9763\n"
          ]
        },
        {
          "output_type": "execute_result",
          "data": {
            "text/plain": [
              "<keras.src.callbacks.History at 0x7e6d636ef6d0>"
            ]
          },
          "metadata": {},
          "execution_count": 18
        }
      ]
    },
    {
      "cell_type": "markdown",
      "source": [
        "#6. AdaMax"
      ],
      "metadata": {
        "id": "1N6xJcm7qC7d"
      }
    },
    {
      "cell_type": "markdown",
      "source": [
        "AdaMax is a variant of Adam based on the infinity norm of the gradients. It is more stable than Adam in very deep models and works well with sparse gradients.\n",
        "\n"
      ],
      "metadata": {
        "id": "CXU0PXgmqIXv"
      }
    },
    {
      "cell_type": "code",
      "source": [
        "# AdaMax optimization using TensorFlow/Keras with MNIST\n",
        "\n",
        "optimizer = tf.keras.optimizers.Adamax(learning_rate=0.002, beta_1=0.9, beta_2=0.999)\n",
        "model.compile(optimizer=optimizer,\n",
        "              loss='sparse_categorical_crossentropy',\n",
        "              metrics=['accuracy'])\n",
        "\n",
        "model.fit(x_train.reshape(-1, 784), y_train, epochs=10, batch_size=32, validation_split=0.1)"
      ],
      "metadata": {
        "colab": {
          "base_uri": "https://localhost:8080/"
        },
        "id": "isYT95XZqJdf",
        "outputId": "dd558194-2189-499c-c525-a451438769d0"
      },
      "execution_count": null,
      "outputs": [
        {
          "output_type": "stream",
          "name": "stdout",
          "text": [
            "Epoch 1/10\n",
            "1688/1688 [==============================] - 6s 3ms/step - loss: 0.0136 - accuracy: 0.9965 - val_loss: 0.1972 - val_accuracy: 0.9763\n",
            "Epoch 2/10\n",
            "1688/1688 [==============================] - 6s 4ms/step - loss: 0.0123 - accuracy: 0.9970 - val_loss: 0.1960 - val_accuracy: 0.9767\n",
            "Epoch 3/10\n",
            "1688/1688 [==============================] - 5s 3ms/step - loss: 0.0115 - accuracy: 0.9973 - val_loss: 0.1950 - val_accuracy: 0.9757\n",
            "Epoch 4/10\n",
            "1688/1688 [==============================] - 6s 4ms/step - loss: 0.0109 - accuracy: 0.9974 - val_loss: 0.1955 - val_accuracy: 0.9757\n",
            "Epoch 5/10\n",
            "1688/1688 [==============================] - 5s 3ms/step - loss: 0.0104 - accuracy: 0.9974 - val_loss: 0.1951 - val_accuracy: 0.9758\n",
            "Epoch 6/10\n",
            "1688/1688 [==============================] - 6s 4ms/step - loss: 0.0099 - accuracy: 0.9974 - val_loss: 0.1951 - val_accuracy: 0.9760\n",
            "Epoch 7/10\n",
            "1688/1688 [==============================] - 5s 3ms/step - loss: 0.0094 - accuracy: 0.9975 - val_loss: 0.1948 - val_accuracy: 0.9762\n",
            "Epoch 8/10\n",
            "1688/1688 [==============================] - 5s 3ms/step - loss: 0.0090 - accuracy: 0.9977 - val_loss: 0.1950 - val_accuracy: 0.9762\n",
            "Epoch 9/10\n",
            "1688/1688 [==============================] - 6s 4ms/step - loss: 0.0086 - accuracy: 0.9977 - val_loss: 0.1961 - val_accuracy: 0.9763\n",
            "Epoch 10/10\n",
            "1688/1688 [==============================] - 5s 3ms/step - loss: 0.0082 - accuracy: 0.9978 - val_loss: 0.1950 - val_accuracy: 0.9757\n"
          ]
        },
        {
          "output_type": "execute_result",
          "data": {
            "text/plain": [
              "<keras.src.callbacks.History at 0x7e6d6c356440>"
            ]
          },
          "metadata": {},
          "execution_count": 19
        }
      ]
    },
    {
      "cell_type": "markdown",
      "source": [
        "#7. Nadam"
      ],
      "metadata": {
        "id": "Gtd_e5Exqdpn"
      }
    },
    {
      "cell_type": "markdown",
      "source": [
        "Nadam stands for \"Nesterov-accelerated Adaptive Moment Estimation.\" It combines Adam with Nesterov Accelerated Gradient (NAG), which tends to converge faster and more reliably compared to other optimizers.\n",
        "\n"
      ],
      "metadata": {
        "id": "u2eXzqE2qfIW"
      }
    },
    {
      "cell_type": "code",
      "source": [
        "# Nadam optimization using TensorFlow/Keras with MNIST\n",
        "\n",
        "optimizer = tf.keras.optimizers.Nadam(learning_rate=0.002, beta_1=0.9, beta_2=0.999)\n",
        "model.compile(optimizer=optimizer,\n",
        "              loss='sparse_categorical_crossentropy',\n",
        "              metrics=['accuracy'])\n",
        "\n",
        "model.fit(x_train.reshape(-1, 784), y_train, epochs=10, batch_size=32, validation_split=0.1)"
      ],
      "metadata": {
        "colab": {
          "base_uri": "https://localhost:8080/"
        },
        "id": "M9OIxQXDqh5h",
        "outputId": "ee5ccfee-f1db-49ae-909b-c0ab80380d36"
      },
      "execution_count": null,
      "outputs": [
        {
          "output_type": "stream",
          "name": "stdout",
          "text": [
            "Epoch 1/10\n",
            "1688/1688 [==============================] - 8s 4ms/step - loss: 0.0167 - accuracy: 0.9955 - val_loss: 0.2216 - val_accuracy: 0.9752\n",
            "Epoch 2/10\n",
            "1688/1688 [==============================] - 6s 4ms/step - loss: 0.0105 - accuracy: 0.9968 - val_loss: 0.2326 - val_accuracy: 0.9730\n",
            "Epoch 3/10\n",
            "1688/1688 [==============================] - 7s 4ms/step - loss: 0.0084 - accuracy: 0.9974 - val_loss: 0.2311 - val_accuracy: 0.9753\n",
            "Epoch 4/10\n",
            "1688/1688 [==============================] - 6s 4ms/step - loss: 0.0076 - accuracy: 0.9976 - val_loss: 0.2436 - val_accuracy: 0.9742\n",
            "Epoch 5/10\n",
            "1688/1688 [==============================] - 7s 4ms/step - loss: 0.0060 - accuracy: 0.9981 - val_loss: 0.2504 - val_accuracy: 0.9743\n",
            "Epoch 6/10\n",
            "1688/1688 [==============================] - 6s 4ms/step - loss: 0.0053 - accuracy: 0.9983 - val_loss: 0.2501 - val_accuracy: 0.9763\n",
            "Epoch 7/10\n",
            "1688/1688 [==============================] - 7s 4ms/step - loss: 0.0049 - accuracy: 0.9985 - val_loss: 0.2484 - val_accuracy: 0.9753\n",
            "Epoch 8/10\n",
            "1688/1688 [==============================] - 6s 4ms/step - loss: 0.0051 - accuracy: 0.9985 - val_loss: 0.2557 - val_accuracy: 0.9747\n",
            "Epoch 9/10\n",
            "1688/1688 [==============================] - 7s 4ms/step - loss: 0.0032 - accuracy: 0.9991 - val_loss: 0.2487 - val_accuracy: 0.9743\n",
            "Epoch 10/10\n",
            "1688/1688 [==============================] - 6s 4ms/step - loss: 0.0036 - accuracy: 0.9988 - val_loss: 0.2581 - val_accuracy: 0.9765\n"
          ]
        },
        {
          "output_type": "execute_result",
          "data": {
            "text/plain": [
              "<keras.src.callbacks.History at 0x7e6d5bb1b3a0>"
            ]
          },
          "metadata": {},
          "execution_count": 20
        }
      ]
    },
    {
      "cell_type": "markdown",
      "source": [
        "#8. AdamW (Adam with Weight Decay)"
      ],
      "metadata": {
        "id": "Gd1DxJ4vq_LO"
      }
    },
    {
      "cell_type": "markdown",
      "source": [
        "AdamW is a variant of the Adam optimizer that decouples weight decay from the optimization steps. This modification has been shown to improve generalization performance, particularly in tasks where weight decay plays a critical role in regularization.\n",
        "\n"
      ],
      "metadata": {
        "id": "z3mx0twvrLZV"
      }
    },
    {
      "cell_type": "code",
      "source": [
        "# AdamW optimization using TensorFlow/Keras with MNIST\n",
        "\n",
        "optimizer = tf.keras.optimizers.AdamW(learning_rate=0.001, weight_decay=0.01)\n",
        "model.compile(optimizer=optimizer,\n",
        "              loss='sparse_categorical_crossentropy',\n",
        "              metrics=['accuracy'])\n",
        "\n",
        "model.fit(x_train.reshape(-1, 784), y_train, epochs=10, batch_size=32, validation_split=0.1)\n"
      ],
      "metadata": {
        "colab": {
          "base_uri": "https://localhost:8080/"
        },
        "id": "3KkMad3vrEPk",
        "outputId": "64b1b6bb-d489-40ca-8505-74cf5b8d42d5"
      },
      "execution_count": null,
      "outputs": [
        {
          "metadata": {
            "tags": null
          },
          "name": "stdout",
          "output_type": "stream",
          "text": [
            "Epoch 1/10\n",
            "1688/1688 [==============================] - 7s 4ms/step - loss: 0.0023 - accuracy: 0.9994 - val_loss: 0.2567 - val_accuracy: 0.9768\n",
            "Epoch 2/10\n",
            "1688/1688 [==============================] - 7s 4ms/step - loss: 0.0016 - accuracy: 0.9996 - val_loss: 0.2603 - val_accuracy: 0.9770\n",
            "Epoch 3/10\n",
            "1688/1688 [==============================] - 5s 3ms/step - loss: 0.0015 - accuracy: 0.9997 - val_loss: 0.2520 - val_accuracy: 0.9763\n",
            "Epoch 4/10\n",
            "1688/1688 [==============================] - 6s 4ms/step - loss: 0.0013 - accuracy: 0.9997 - val_loss: 0.2548 - val_accuracy: 0.9773\n",
            "Epoch 5/10\n",
            "1688/1688 [==============================] - 5s 3ms/step - loss: 0.0013 - accuracy: 0.9996 - val_loss: 0.2461 - val_accuracy: 0.9770\n",
            "Epoch 6/10\n",
            "1688/1688 [==============================] - 6s 4ms/step - loss: 0.0013 - accuracy: 0.9996 - val_loss: 0.2456 - val_accuracy: 0.9768\n",
            "Epoch 7/10\n",
            "1688/1688 [==============================] - 5s 3ms/step - loss: 0.0011 - accuracy: 0.9997 - val_loss: 0.2419 - val_accuracy: 0.9758\n",
            "Epoch 8/10\n",
            "1688/1688 [==============================] - 7s 4ms/step - loss: 0.0010 - accuracy: 0.9997 - val_loss: 0.2417 - val_accuracy: 0.9775\n",
            "Epoch 9/10\n",
            "1688/1688 [==============================] - 5s 3ms/step - loss: 0.0013 - accuracy: 0.9997 - val_loss: 0.2392 - val_accuracy: 0.9773\n",
            "Epoch 10/10\n",
            "1688/1688 [==============================] - 7s 4ms/step - loss: 9.7981e-04 - accuracy: 0.9998 - val_loss: 0.2290 - val_accuracy: 0.9767\n"
          ]
        },
        {
          "output_type": "execute_result",
          "data": {
            "text/plain": [
              "<keras.src.callbacks.History at 0x7e6d5b8f96f0>"
            ]
          },
          "metadata": {},
          "execution_count": 21
        }
      ]
    },
    {
      "cell_type": "markdown",
      "source": [
        "#9. Rectified Adam (RAdam)"
      ],
      "metadata": {
        "id": "k8jtU8qQrbOe"
      }
    },
    {
      "cell_type": "markdown",
      "source": [
        "Rectified Adam (RAdam) is an improvement over the original Adam optimizer, which introduces a dynamic rectification mechanism to adaptively adjust the variance estimate of the gradients. RAdam has been shown to converge faster and generalize better on some tasks."
      ],
      "metadata": {
        "id": "GmXNDaoarjwh"
      }
    },
    {
      "cell_type": "code",
      "source": [
        "%pip install tensorflow_addons"
      ],
      "metadata": {
        "colab": {
          "base_uri": "https://localhost:8080/"
        },
        "id": "_MrTVQ_mr7_J",
        "outputId": "289e2c41-301c-4c3c-b949-d315fe7a6852"
      },
      "execution_count": null,
      "outputs": [
        {
          "output_type": "stream",
          "name": "stdout",
          "text": [
            "Collecting tensorflow_addons\n",
            "  Downloading tensorflow_addons-0.23.0-cp310-cp310-manylinux_2_17_x86_64.manylinux2014_x86_64.whl (611 kB)\n",
            "\u001b[2K     \u001b[90m━━━━━━━━━━━━━━━━━━━━━━━━━━━━━━━━━━━━━━━━\u001b[0m \u001b[32m611.8/611.8 kB\u001b[0m \u001b[31m7.8 MB/s\u001b[0m eta \u001b[36m0:00:00\u001b[0m\n",
            "\u001b[?25hRequirement already satisfied: packaging in /usr/local/lib/python3.10/dist-packages (from tensorflow_addons) (24.0)\n",
            "Collecting typeguard<3.0.0,>=2.7 (from tensorflow_addons)\n",
            "  Downloading typeguard-2.13.3-py3-none-any.whl (17 kB)\n",
            "Installing collected packages: typeguard, tensorflow_addons\n",
            "Successfully installed tensorflow_addons-0.23.0 typeguard-2.13.3\n"
          ]
        }
      ]
    },
    {
      "cell_type": "code",
      "source": [
        "# Rectified Adam (RAdam) optimization using TensorFlow/Keras with MNIST\n",
        "import tensorflow_addons as tfa\n",
        "\n",
        "optimizer = tfa.optimizers.RectifiedAdam(learning_rate=0.001)\n",
        "model.compile(optimizer=optimizer,\n",
        "              loss='sparse_categorical_crossentropy',\n",
        "              metrics=['accuracy'])\n",
        "\n",
        "model.fit(x_train.reshape(-1, 784), y_train, epochs=10, batch_size=32, validation_split=0.1)"
      ],
      "metadata": {
        "colab": {
          "base_uri": "https://localhost:8080/"
        },
        "id": "S-yYWf3yritZ",
        "outputId": "584f418f-e8b0-4a10-d91b-51a0054ad1c0"
      },
      "execution_count": null,
      "outputs": [
        {
          "output_type": "stream",
          "name": "stderr",
          "text": [
            "/usr/local/lib/python3.10/dist-packages/tensorflow_addons/utils/tfa_eol_msg.py:23: UserWarning: \n",
            "\n",
            "TensorFlow Addons (TFA) has ended development and introduction of new features.\n",
            "TFA has entered a minimal maintenance and release mode until a planned end of life in May 2024.\n",
            "Please modify downstream libraries to take dependencies from other repositories in our TensorFlow community (e.g. Keras, Keras-CV, and Keras-NLP). \n",
            "\n",
            "For more information see: https://github.com/tensorflow/addons/issues/2807 \n",
            "\n",
            "  warnings.warn(\n"
          ]
        },
        {
          "output_type": "stream",
          "name": "stdout",
          "text": [
            "Epoch 1/10\n",
            "1688/1688 [==============================] - 19s 10ms/step - loss: 7.7141e-04 - accuracy: 0.9998 - val_loss: 0.2438 - val_accuracy: 0.9765\n",
            "Epoch 2/10\n",
            "1688/1688 [==============================] - 8s 5ms/step - loss: 7.6426e-04 - accuracy: 0.9998 - val_loss: 0.2528 - val_accuracy: 0.9770\n",
            "Epoch 3/10\n",
            "1688/1688 [==============================] - 8s 5ms/step - loss: 7.2701e-04 - accuracy: 0.9998 - val_loss: 0.2628 - val_accuracy: 0.9770\n",
            "Epoch 4/10\n",
            "1688/1688 [==============================] - 7s 4ms/step - loss: 6.1232e-04 - accuracy: 0.9998 - val_loss: 0.2580 - val_accuracy: 0.9763\n",
            "Epoch 5/10\n",
            "1688/1688 [==============================] - 7s 4ms/step - loss: 7.1487e-04 - accuracy: 0.9998 - val_loss: 0.2734 - val_accuracy: 0.9768\n",
            "Epoch 6/10\n",
            "1688/1688 [==============================] - 7s 4ms/step - loss: 7.1806e-04 - accuracy: 0.9998 - val_loss: 0.2802 - val_accuracy: 0.9755\n",
            "Epoch 7/10\n",
            "1688/1688 [==============================] - 7s 4ms/step - loss: 4.8441e-04 - accuracy: 0.9998 - val_loss: 0.2745 - val_accuracy: 0.9758\n",
            "Epoch 8/10\n",
            "1688/1688 [==============================] - 7s 4ms/step - loss: 4.5140e-04 - accuracy: 0.9999 - val_loss: 0.2793 - val_accuracy: 0.9768\n",
            "Epoch 9/10\n",
            "1688/1688 [==============================] - 10s 6ms/step - loss: 4.1309e-04 - accuracy: 0.9998 - val_loss: 0.2878 - val_accuracy: 0.9772\n",
            "Epoch 10/10\n",
            "1688/1688 [==============================] - 9s 6ms/step - loss: 4.2960e-04 - accuracy: 0.9999 - val_loss: 0.2862 - val_accuracy: 0.9755\n"
          ]
        },
        {
          "output_type": "execute_result",
          "data": {
            "text/plain": [
              "<keras.src.callbacks.History at 0x7e6d5b8f8d30>"
            ]
          },
          "metadata": {},
          "execution_count": 28
        }
      ]
    },
    {
      "cell_type": "markdown",
      "source": [
        "#10. Adaptive Gradient Clipping"
      ],
      "metadata": {
        "id": "Jv8BsauKtXYR"
      }
    },
    {
      "cell_type": "markdown",
      "source": [
        "Adaptive gradient clipping dynamically adjusts the clipping threshold of gradients during training. This technique can help prevent exploding gradients and stabilize training in deep neural networks.\n",
        "\n"
      ],
      "metadata": {
        "id": "QZH3tgF9tZLD"
      }
    },
    {
      "cell_type": "code",
      "source": [
        "# Adaptive gradient clipping using TensorFlow/Keras with MNIST\n",
        "\n",
        "optimizer = tf.keras.optimizers.Adam(learning_rate=0.001, clipnorm=1.0)\n",
        "model.compile(optimizer=optimizer,\n",
        "              loss='sparse_categorical_crossentropy',\n",
        "              metrics=['accuracy'])\n",
        "\n",
        "model.fit(x_train.reshape(-1, 784), y_train, epochs=10, batch_size=32, validation_split=0.1)"
      ],
      "metadata": {
        "colab": {
          "base_uri": "https://localhost:8080/"
        },
        "id": "Rxco1twxtaaR",
        "outputId": "b7760e92-b85d-4b8e-8014-f08fb1b69fe7"
      },
      "execution_count": null,
      "outputs": [
        {
          "output_type": "stream",
          "name": "stdout",
          "text": [
            "Epoch 1/10\n",
            "1688/1688 [==============================] - 9s 5ms/step - loss: 3.7308e-04 - accuracy: 0.9999 - val_loss: 0.2971 - val_accuracy: 0.9772\n",
            "Epoch 2/10\n",
            "1688/1688 [==============================] - 6s 3ms/step - loss: 2.6312e-04 - accuracy: 0.9999 - val_loss: 0.2992 - val_accuracy: 0.9765\n",
            "Epoch 3/10\n",
            "1688/1688 [==============================] - 7s 4ms/step - loss: 3.7095e-04 - accuracy: 0.9999 - val_loss: 0.3013 - val_accuracy: 0.9753\n",
            "Epoch 4/10\n",
            "1688/1688 [==============================] - 6s 4ms/step - loss: 3.1863e-04 - accuracy: 0.9999 - val_loss: 0.2888 - val_accuracy: 0.9760\n",
            "Epoch 5/10\n",
            "1688/1688 [==============================] - 6s 4ms/step - loss: 1.9819e-04 - accuracy: 0.9999 - val_loss: 0.2983 - val_accuracy: 0.9765\n",
            "Epoch 6/10\n",
            "1688/1688 [==============================] - 7s 4ms/step - loss: 1.9219e-04 - accuracy: 0.9999 - val_loss: 0.3091 - val_accuracy: 0.9760\n",
            "Epoch 7/10\n",
            "1688/1688 [==============================] - 6s 3ms/step - loss: 3.3183e-04 - accuracy: 0.9999 - val_loss: 0.3143 - val_accuracy: 0.9778\n",
            "Epoch 8/10\n",
            "1688/1688 [==============================] - 8s 5ms/step - loss: 1.9867e-04 - accuracy: 0.9999 - val_loss: 0.3211 - val_accuracy: 0.9783\n",
            "Epoch 9/10\n",
            "1688/1688 [==============================] - 6s 4ms/step - loss: 1.4650e-04 - accuracy: 0.9999 - val_loss: 0.3321 - val_accuracy: 0.9770\n",
            "Epoch 10/10\n",
            "1688/1688 [==============================] - 7s 4ms/step - loss: 1.8993e-04 - accuracy: 0.9999 - val_loss: 0.3538 - val_accuracy: 0.9750\n"
          ]
        },
        {
          "output_type": "execute_result",
          "data": {
            "text/plain": [
              "<keras.src.callbacks.History at 0x7e6d6a84ce20>"
            ]
          },
          "metadata": {},
          "execution_count": 36
        }
      ]
    },
    {
      "cell_type": "markdown",
      "source": [
        "#11. Gradient Centralization"
      ],
      "metadata": {
        "id": "8yh0TvF_tn02"
      }
    },
    {
      "cell_type": "markdown",
      "source": [
        "Gradient Centralization is a regularization technique that aims to centralize the gradient vectors during training, making the optimization process more stable and robust against noisy gradients.\n",
        "\n"
      ],
      "metadata": {
        "id": "r6iD0qfztsvR"
      }
    },
    {
      "cell_type": "code",
      "source": [
        "import tensorflow as tf\n",
        "from tensorflow.keras.datasets import mnist\n",
        "from tensorflow.keras.models import Sequential\n",
        "from tensorflow.keras.layers import Dense\n",
        "from tensorflow.keras.optimizers import Adam\n",
        "\n",
        "# Load MNIST dataset\n",
        "(x_train, y_train), (x_test, y_test) = mnist.load_data()\n",
        "x_train, x_test = x_train / 255.0, x_test / 255.0\n",
        "\n",
        "# Build a simple neural network\n",
        "model = Sequential([\n",
        "    Dense(128, activation='relu', input_shape=(784,)),\n",
        "    Dense(10, activation='softmax')\n",
        "])\n",
        "\n",
        "# Define optimizer (e.g., Adam) with custom gradient behavior\n",
        "class CentralizedAdam(tf.keras.optimizers.Adam):\n",
        "    def __init__(self, learning_rate=0.001, **kwargs):\n",
        "        super(CentralizedAdam, self).__init__(learning_rate, **kwargs)\n",
        "\n",
        "    def _resource_apply_dense(self, grad, var, apply_state=None):\n",
        "        # Centralize gradients\n",
        "        grad -= tf.reduce_mean(grad)\n",
        "        return super(CentralizedAdam, self)._resource_apply_dense(grad, var, apply_state)\n",
        "\n",
        "# Create an instance of the customized optimizer\n",
        "optimizer = CentralizedAdam(learning_rate=0.001)\n",
        "\n",
        "# Compile the model\n",
        "model.compile(optimizer=optimizer,\n",
        "              loss='sparse_categorical_crossentropy',\n",
        "              metrics=['accuracy'])\n",
        "\n",
        "# Train the model\n",
        "model.fit(x_train.reshape(-1, 784), y_train, epochs=10, batch_size=32, validation_split=0.1)"
      ],
      "metadata": {
        "colab": {
          "base_uri": "https://localhost:8080/"
        },
        "id": "a_wFGoeUtwpk",
        "outputId": "72ab4176-b556-43b3-dffa-a8228011281a"
      },
      "execution_count": null,
      "outputs": [
        {
          "output_type": "stream",
          "name": "stdout",
          "text": [
            "Epoch 1/10\n",
            "1688/1688 [==============================] - 9s 5ms/step - loss: 0.2809 - accuracy: 0.9197 - val_loss: 0.1412 - val_accuracy: 0.9607\n",
            "Epoch 2/10\n",
            "1688/1688 [==============================] - 5s 3ms/step - loss: 0.1243 - accuracy: 0.9631 - val_loss: 0.0931 - val_accuracy: 0.9723\n",
            "Epoch 3/10\n",
            "1688/1688 [==============================] - 6s 4ms/step - loss: 0.0848 - accuracy: 0.9745 - val_loss: 0.0878 - val_accuracy: 0.9752\n",
            "Epoch 4/10\n",
            "1688/1688 [==============================] - 5s 3ms/step - loss: 0.0627 - accuracy: 0.9806 - val_loss: 0.0861 - val_accuracy: 0.9748\n",
            "Epoch 5/10\n",
            "1688/1688 [==============================] - 5s 3ms/step - loss: 0.0492 - accuracy: 0.9850 - val_loss: 0.0725 - val_accuracy: 0.9787\n",
            "Epoch 6/10\n",
            "1688/1688 [==============================] - 6s 3ms/step - loss: 0.0384 - accuracy: 0.9882 - val_loss: 0.0734 - val_accuracy: 0.9777\n",
            "Epoch 7/10\n",
            "1688/1688 [==============================] - 5s 3ms/step - loss: 0.0294 - accuracy: 0.9909 - val_loss: 0.0812 - val_accuracy: 0.9762\n",
            "Epoch 8/10\n",
            "1688/1688 [==============================] - 6s 4ms/step - loss: 0.0244 - accuracy: 0.9926 - val_loss: 0.0797 - val_accuracy: 0.9773\n",
            "Epoch 9/10\n",
            "1688/1688 [==============================] - 5s 3ms/step - loss: 0.0200 - accuracy: 0.9943 - val_loss: 0.0840 - val_accuracy: 0.9800\n",
            "Epoch 10/10\n",
            "1688/1688 [==============================] - 6s 4ms/step - loss: 0.0165 - accuracy: 0.9952 - val_loss: 0.0816 - val_accuracy: 0.9795\n"
          ]
        },
        {
          "output_type": "execute_result",
          "data": {
            "text/plain": [
              "<keras.src.callbacks.History at 0x7e6d6a8eb3a0>"
            ]
          },
          "metadata": {},
          "execution_count": 38
        }
      ]
    }
  ]
}