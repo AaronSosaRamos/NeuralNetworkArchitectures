{
  "nbformat": 4,
  "nbformat_minor": 0,
  "metadata": {
    "colab": {
      "provenance": []
    },
    "kernelspec": {
      "name": "python3",
      "display_name": "Python 3"
    },
    "language_info": {
      "name": "python"
    }
  },
  "cells": [
    {
      "cell_type": "markdown",
      "source": [
        "#Advanced Activation Functions"
      ],
      "metadata": {
        "id": "X15h25YCCgYh"
      }
    },
    {
      "cell_type": "code",
      "source": [
        "import numpy as np\n",
        "import tensorflow as tf\n",
        "from tensorflow.keras.datasets import mnist\n",
        "from tensorflow.keras.models import Sequential\n",
        "from tensorflow.keras.layers import Conv2D, MaxPooling2D, Flatten, Dense\n",
        "from tensorflow.keras.layers import Activation, LeakyReLU, PReLU, ELU\n",
        "from tensorflow.keras.utils import to_categorical"
      ],
      "metadata": {
        "id": "CefoZNq1CgMq"
      },
      "execution_count": null,
      "outputs": []
    },
    {
      "cell_type": "code",
      "execution_count": null,
      "metadata": {
        "colab": {
          "base_uri": "https://localhost:8080/"
        },
        "id": "JYO_chbDBt-9",
        "outputId": "801db7e4-dddb-4125-9420-6a2d33ef792c"
      },
      "outputs": [
        {
          "output_type": "stream",
          "name": "stdout",
          "text": [
            "Downloading data from https://storage.googleapis.com/tensorflow/tf-keras-datasets/mnist.npz\n",
            "11490434/11490434 [==============================] - 0s 0us/step\n"
          ]
        }
      ],
      "source": [
        "# Load MNIST dataset\n",
        "(X_train, y_train), (X_test, y_test) = mnist.load_data()\n",
        "\n",
        "# Normalize pixel values to be between 0 and 1\n",
        "X_train = X_train.astype('float32') / 255.0\n",
        "X_test = X_test.astype('float32') / 255.0\n",
        "\n",
        "# Reshape images to (samples, height, width, channels)\n",
        "X_train = np.expand_dims(X_train, axis=-1)\n",
        "X_test = np.expand_dims(X_test, axis=-1)\n",
        "\n",
        "# Convert class vectors to binary class matrices (one-hot encoding)\n",
        "num_classes = 10\n",
        "y_train = to_categorical(y_train, num_classes)\n",
        "y_test = to_categorical(y_test, num_classes)\n"
      ]
    },
    {
      "cell_type": "markdown",
      "source": [
        "#1. Leaky ReLU (with LeakyReLU)"
      ],
      "metadata": {
        "id": "tGFLAd46C5s6"
      }
    },
    {
      "cell_type": "markdown",
      "source": [
        "Leaky ReLU introduces a small negative slope (alpha) for negative inputs to prevent neuron saturation. This helps in avoiding the \"dying ReLU\" problem where neurons become inactive. The LeakyReLU activation is applied to convolutional and dense layers in the model.\n",
        "\n"
      ],
      "metadata": {
        "id": "ehEHWkJpExiq"
      }
    },
    {
      "cell_type": "code",
      "source": [
        "# Create Leaky ReLU CNN model\n",
        "model_leaky_relu = Sequential([\n",
        "    Conv2D(32, (3, 3), activation='linear', input_shape=(28, 28, 1)),\n",
        "    LeakyReLU(alpha=0.1),\n",
        "    MaxPooling2D((2, 2)),\n",
        "    Flatten(),\n",
        "    Dense(128, activation='linear'),\n",
        "    LeakyReLU(alpha=0.1),\n",
        "    Dense(num_classes, activation='softmax')\n",
        "])\n",
        "\n",
        "# Compile and train the model\n",
        "model_leaky_relu.compile(loss='categorical_crossentropy', optimizer='adam', metrics=['accuracy'])\n",
        "model_leaky_relu.fit(X_train, y_train, batch_size=128, epochs=10, validation_split=0.1)"
      ],
      "metadata": {
        "colab": {
          "base_uri": "https://localhost:8080/"
        },
        "id": "d4fogIDqC7yr",
        "outputId": "47e26deb-6c85-458e-e6bd-584e093082c9"
      },
      "execution_count": null,
      "outputs": [
        {
          "output_type": "stream",
          "name": "stdout",
          "text": [
            "Epoch 1/10\n",
            "422/422 [==============================] - 28s 64ms/step - loss: 0.2266 - accuracy: 0.9347 - val_loss: 0.0772 - val_accuracy: 0.9788\n",
            "Epoch 2/10\n",
            "422/422 [==============================] - 25s 60ms/step - loss: 0.0710 - accuracy: 0.9791 - val_loss: 0.0559 - val_accuracy: 0.9837\n",
            "Epoch 3/10\n",
            "422/422 [==============================] - 27s 63ms/step - loss: 0.0476 - accuracy: 0.9859 - val_loss: 0.0498 - val_accuracy: 0.9888\n",
            "Epoch 4/10\n",
            "422/422 [==============================] - 26s 62ms/step - loss: 0.0344 - accuracy: 0.9897 - val_loss: 0.0504 - val_accuracy: 0.9862\n",
            "Epoch 5/10\n",
            "422/422 [==============================] - 25s 60ms/step - loss: 0.0251 - accuracy: 0.9924 - val_loss: 0.0459 - val_accuracy: 0.9892\n",
            "Epoch 6/10\n",
            "422/422 [==============================] - 25s 59ms/step - loss: 0.0200 - accuracy: 0.9938 - val_loss: 0.0427 - val_accuracy: 0.9900\n",
            "Epoch 7/10\n",
            "422/422 [==============================] - 26s 61ms/step - loss: 0.0150 - accuracy: 0.9956 - val_loss: 0.0455 - val_accuracy: 0.9885\n",
            "Epoch 8/10\n",
            "422/422 [==============================] - 27s 63ms/step - loss: 0.0111 - accuracy: 0.9967 - val_loss: 0.0474 - val_accuracy: 0.9875\n",
            "Epoch 9/10\n",
            "422/422 [==============================] - 25s 59ms/step - loss: 0.0091 - accuracy: 0.9974 - val_loss: 0.0467 - val_accuracy: 0.9895\n",
            "Epoch 10/10\n",
            "422/422 [==============================] - 25s 60ms/step - loss: 0.0067 - accuracy: 0.9983 - val_loss: 0.0500 - val_accuracy: 0.9880\n"
          ]
        },
        {
          "output_type": "execute_result",
          "data": {
            "text/plain": [
              "<keras.src.callbacks.History at 0x7863a712d720>"
            ]
          },
          "metadata": {},
          "execution_count": 3
        }
      ]
    },
    {
      "cell_type": "markdown",
      "source": [
        "#2. Parametric ReLU (PReLU)"
      ],
      "metadata": {
        "id": "k5k4g5FtEFtc"
      }
    },
    {
      "cell_type": "markdown",
      "source": [
        "Parametric ReLU (PReLU) extends Leaky ReLU by allowing the alpha parameter to be learned during training. This makes the activation more adaptive to the data and can improve performance, especially in deeper networks."
      ],
      "metadata": {
        "id": "RFzP5HBzE0YS"
      }
    },
    {
      "cell_type": "code",
      "source": [
        "# Create Parametric ReLU (PReLU) CNN model\n",
        "model_prelu = Sequential([\n",
        "    Conv2D(32, (3, 3), activation='linear', input_shape=(28, 28, 1)),\n",
        "    PReLU(),\n",
        "    MaxPooling2D((2, 2)),\n",
        "    Flatten(),\n",
        "    Dense(128, activation='linear'),\n",
        "    PReLU(),\n",
        "    Dense(num_classes, activation='softmax')\n",
        "])\n",
        "\n",
        "# Compile and train the model\n",
        "model_prelu.compile(loss='categorical_crossentropy', optimizer='adam', metrics=['accuracy'])\n",
        "model_prelu.fit(X_train, y_train, batch_size=128, epochs=10, validation_split=0.1)"
      ],
      "metadata": {
        "colab": {
          "base_uri": "https://localhost:8080/"
        },
        "id": "fEAqXJvWESTS",
        "outputId": "143a897c-dcf9-4850-8bfb-70387a4302b2"
      },
      "execution_count": null,
      "outputs": [
        {
          "output_type": "stream",
          "name": "stdout",
          "text": [
            "Epoch 1/10\n",
            "422/422 [==============================] - 37s 86ms/step - loss: 0.2428 - accuracy: 0.9284 - val_loss: 0.0870 - val_accuracy: 0.9772\n",
            "Epoch 2/10\n",
            "422/422 [==============================] - 37s 89ms/step - loss: 0.0746 - accuracy: 0.9780 - val_loss: 0.0635 - val_accuracy: 0.9832\n",
            "Epoch 3/10\n",
            "422/422 [==============================] - 38s 89ms/step - loss: 0.0499 - accuracy: 0.9845 - val_loss: 0.0536 - val_accuracy: 0.9858\n",
            "Epoch 4/10\n",
            "422/422 [==============================] - 37s 87ms/step - loss: 0.0362 - accuracy: 0.9893 - val_loss: 0.0475 - val_accuracy: 0.9873\n",
            "Epoch 5/10\n",
            "422/422 [==============================] - 36s 85ms/step - loss: 0.0265 - accuracy: 0.9920 - val_loss: 0.0569 - val_accuracy: 0.9855\n",
            "Epoch 6/10\n",
            "422/422 [==============================] - 38s 90ms/step - loss: 0.0186 - accuracy: 0.9944 - val_loss: 0.0563 - val_accuracy: 0.9857\n",
            "Epoch 7/10\n",
            "422/422 [==============================] - 37s 89ms/step - loss: 0.0146 - accuracy: 0.9956 - val_loss: 0.0525 - val_accuracy: 0.9888\n",
            "Epoch 8/10\n",
            "422/422 [==============================] - 39s 93ms/step - loss: 0.0108 - accuracy: 0.9966 - val_loss: 0.0477 - val_accuracy: 0.9883\n",
            "Epoch 9/10\n",
            "422/422 [==============================] - 39s 92ms/step - loss: 0.0078 - accuracy: 0.9978 - val_loss: 0.0526 - val_accuracy: 0.9888\n",
            "Epoch 10/10\n",
            "422/422 [==============================] - 39s 92ms/step - loss: 0.0065 - accuracy: 0.9983 - val_loss: 0.0534 - val_accuracy: 0.9885\n"
          ]
        },
        {
          "output_type": "execute_result",
          "data": {
            "text/plain": [
              "<keras.src.callbacks.History at 0x78638a704b20>"
            ]
          },
          "metadata": {},
          "execution_count": 4
        }
      ]
    },
    {
      "cell_type": "markdown",
      "source": [
        "#3. Exponential Linear Unit (ELU)"
      ],
      "metadata": {
        "id": "uCFHWfYEF3wy"
      }
    },
    {
      "cell_type": "markdown",
      "source": [
        "The Exponential Linear Unit (ELU) uses the exponential function for negative inputs, which helps the network learn robust representations and accelerates learning. ELU tends to produce more robust features and can yield better generalization performance compared to other activation functions like ReLU.\n",
        "\n"
      ],
      "metadata": {
        "id": "oPGe6a6XF6SC"
      }
    },
    {
      "cell_type": "code",
      "source": [
        "# Create Exponential Linear Unit (ELU) CNN model\n",
        "model_elu = Sequential([\n",
        "    Conv2D(32, (3, 3), activation='elu', input_shape=(28, 28, 1)),\n",
        "    MaxPooling2D((2, 2)),\n",
        "    Flatten(),\n",
        "    Dense(128, activation='elu'),\n",
        "    Dense(num_classes, activation='softmax')\n",
        "])\n",
        "\n",
        "# Compile and train the model\n",
        "model_elu.compile(loss='categorical_crossentropy', optimizer='adam', metrics=['accuracy'])\n",
        "model_elu.fit(X_train, y_train, batch_size=128, epochs=10, validation_split=0.1)"
      ],
      "metadata": {
        "colab": {
          "base_uri": "https://localhost:8080/"
        },
        "id": "sSpyM_XcF8mx",
        "outputId": "0fba3f8b-4a4d-4826-e735-7a839d5c422e"
      },
      "execution_count": null,
      "outputs": [
        {
          "output_type": "stream",
          "name": "stdout",
          "text": [
            "Epoch 1/10\n",
            "422/422 [==============================] - 28s 65ms/step - loss: 0.2616 - accuracy: 0.9230 - val_loss: 0.0958 - val_accuracy: 0.9752\n",
            "Epoch 2/10\n",
            "422/422 [==============================] - 26s 62ms/step - loss: 0.0934 - accuracy: 0.9724 - val_loss: 0.0703 - val_accuracy: 0.9780\n",
            "Epoch 3/10\n",
            "422/422 [==============================] - 27s 64ms/step - loss: 0.0588 - accuracy: 0.9826 - val_loss: 0.0577 - val_accuracy: 0.9848\n",
            "Epoch 4/10\n",
            "422/422 [==============================] - 27s 64ms/step - loss: 0.0420 - accuracy: 0.9869 - val_loss: 0.0611 - val_accuracy: 0.9828\n",
            "Epoch 5/10\n",
            "422/422 [==============================] - 27s 64ms/step - loss: 0.0309 - accuracy: 0.9900 - val_loss: 0.0470 - val_accuracy: 0.9867\n",
            "Epoch 6/10\n",
            "422/422 [==============================] - 27s 64ms/step - loss: 0.0216 - accuracy: 0.9934 - val_loss: 0.0538 - val_accuracy: 0.9855\n",
            "Epoch 7/10\n",
            "422/422 [==============================] - 26s 62ms/step - loss: 0.0150 - accuracy: 0.9957 - val_loss: 0.0496 - val_accuracy: 0.9887\n",
            "Epoch 8/10\n",
            "422/422 [==============================] - 28s 65ms/step - loss: 0.0133 - accuracy: 0.9959 - val_loss: 0.0599 - val_accuracy: 0.9857\n",
            "Epoch 9/10\n",
            "422/422 [==============================] - 29s 69ms/step - loss: 0.0091 - accuracy: 0.9974 - val_loss: 0.0531 - val_accuracy: 0.9857\n",
            "Epoch 10/10\n",
            "422/422 [==============================] - 27s 64ms/step - loss: 0.0068 - accuracy: 0.9982 - val_loss: 0.0663 - val_accuracy: 0.9850\n"
          ]
        },
        {
          "output_type": "execute_result",
          "data": {
            "text/plain": [
              "<keras.src.callbacks.History at 0x7863a79769b0>"
            ]
          },
          "metadata": {},
          "execution_count": 5
        }
      ]
    },
    {
      "cell_type": "markdown",
      "source": [
        "#4. Swish"
      ],
      "metadata": {
        "id": "h5u0YtmZGjen"
      }
    },
    {
      "cell_type": "markdown",
      "source": [
        "Swish is an advanced activation function proposed by researchers at Google. It computes a nonlinear transformation using the sigmoid function. Swish tends to perform well in deep neural networks across a range of tasks."
      ],
      "metadata": {
        "id": "0ccBhiWwGkP_"
      }
    },
    {
      "cell_type": "code",
      "source": [
        "# Define Swish activation function\n",
        "def swish(x):\n",
        "    return x * tf.nn.sigmoid(x)\n",
        "\n",
        "# Create Swish CNN model\n",
        "model_swish = Sequential([\n",
        "    Conv2D(32, (3, 3), activation=swish, input_shape=(28, 28, 1)),\n",
        "    MaxPooling2D((2, 2)),\n",
        "    Flatten(),\n",
        "    Dense(128, activation=swish),\n",
        "    Dense(num_classes, activation='softmax')\n",
        "])\n",
        "\n",
        "# Compile and train the model\n",
        "model_swish.compile(loss='categorical_crossentropy', optimizer='adam', metrics=['accuracy'])\n",
        "model_swish.fit(X_train, y_train, batch_size=128, epochs=10, validation_split=0.1)"
      ],
      "metadata": {
        "colab": {
          "base_uri": "https://localhost:8080/"
        },
        "id": "z-Igdup5GmfY",
        "outputId": "b46de584-af28-4e67-9909-fac64ad7dd7e"
      },
      "execution_count": null,
      "outputs": [
        {
          "output_type": "stream",
          "name": "stdout",
          "text": [
            "Epoch 1/10\n",
            "422/422 [==============================] - 34s 78ms/step - loss: 0.2855 - accuracy: 0.9195 - val_loss: 0.0965 - val_accuracy: 0.9750\n",
            "Epoch 2/10\n",
            "422/422 [==============================] - 31s 73ms/step - loss: 0.0901 - accuracy: 0.9731 - val_loss: 0.0672 - val_accuracy: 0.9818\n",
            "Epoch 3/10\n",
            "422/422 [==============================] - 33s 79ms/step - loss: 0.0572 - accuracy: 0.9829 - val_loss: 0.0671 - val_accuracy: 0.9815\n",
            "Epoch 4/10\n",
            "422/422 [==============================] - 31s 74ms/step - loss: 0.0406 - accuracy: 0.9875 - val_loss: 0.0541 - val_accuracy: 0.9867\n",
            "Epoch 5/10\n",
            "422/422 [==============================] - 32s 75ms/step - loss: 0.0293 - accuracy: 0.9911 - val_loss: 0.0513 - val_accuracy: 0.9865\n",
            "Epoch 6/10\n",
            "422/422 [==============================] - 30s 71ms/step - loss: 0.0225 - accuracy: 0.9932 - val_loss: 0.0446 - val_accuracy: 0.9880\n",
            "Epoch 7/10\n",
            "422/422 [==============================] - 32s 77ms/step - loss: 0.0170 - accuracy: 0.9950 - val_loss: 0.0545 - val_accuracy: 0.9858\n",
            "Epoch 8/10\n",
            "422/422 [==============================] - 31s 74ms/step - loss: 0.0130 - accuracy: 0.9962 - val_loss: 0.0527 - val_accuracy: 0.9887\n",
            "Epoch 9/10\n",
            "422/422 [==============================] - 30s 72ms/step - loss: 0.0093 - accuracy: 0.9972 - val_loss: 0.0602 - val_accuracy: 0.9853\n",
            "Epoch 10/10\n",
            "422/422 [==============================] - 31s 74ms/step - loss: 0.0072 - accuracy: 0.9980 - val_loss: 0.0571 - val_accuracy: 0.9870\n"
          ]
        },
        {
          "output_type": "execute_result",
          "data": {
            "text/plain": [
              "<keras.src.callbacks.History at 0x7863a76ef340>"
            ]
          },
          "metadata": {},
          "execution_count": 6
        }
      ]
    },
    {
      "cell_type": "markdown",
      "source": [
        "#5. Sigmoid"
      ],
      "metadata": {
        "id": "7KCH08BNGwGL"
      }
    },
    {
      "cell_type": "markdown",
      "source": [
        "The sigmoid function is a standard activation function that squashes the output between 0 and 1. It is commonly used in the output layer of binary classification models.\n",
        "\n"
      ],
      "metadata": {
        "id": "fnRU5gRbGyo5"
      }
    },
    {
      "cell_type": "code",
      "source": [
        "# Create Sigmoid CNN model\n",
        "model_sigmoid = Sequential([\n",
        "    Conv2D(32, (3, 3), activation='sigmoid', input_shape=(28, 28, 1)),\n",
        "    MaxPooling2D((2, 2)),\n",
        "    Flatten(),\n",
        "    Dense(128, activation='sigmoid'),\n",
        "    Dense(num_classes, activation='softmax')\n",
        "])\n",
        "\n",
        "# Compile and train the model\n",
        "model_sigmoid.compile(loss='categorical_crossentropy', optimizer='adam', metrics=['accuracy'])\n",
        "model_sigmoid.fit(X_train, y_train, batch_size=128, epochs=10, validation_split=0.1)"
      ],
      "metadata": {
        "colab": {
          "base_uri": "https://localhost:8080/"
        },
        "id": "WBKu2C_yGzpx",
        "outputId": "b6498f7a-7c95-446e-b5d8-e738b1243f98"
      },
      "execution_count": null,
      "outputs": [
        {
          "output_type": "stream",
          "name": "stdout",
          "text": [
            "Epoch 1/10\n",
            "422/422 [==============================] - 27s 62ms/step - loss: 2.3170 - accuracy: 0.1076 - val_loss: 2.2664 - val_accuracy: 0.2080\n",
            "Epoch 2/10\n",
            "422/422 [==============================] - 25s 59ms/step - loss: 1.8732 - accuracy: 0.5240 - val_loss: 1.3797 - val_accuracy: 0.7592\n",
            "Epoch 3/10\n",
            "422/422 [==============================] - 26s 62ms/step - loss: 1.0402 - accuracy: 0.8200 - val_loss: 0.7229 - val_accuracy: 0.8838\n",
            "Epoch 4/10\n",
            "422/422 [==============================] - 25s 59ms/step - loss: 0.6310 - accuracy: 0.8772 - val_loss: 0.4501 - val_accuracy: 0.9120\n",
            "Epoch 5/10\n",
            "422/422 [==============================] - 24s 58ms/step - loss: 0.4557 - accuracy: 0.8957 - val_loss: 0.3598 - val_accuracy: 0.9137\n",
            "Epoch 6/10\n",
            "422/422 [==============================] - 25s 59ms/step - loss: 0.3734 - accuracy: 0.9080 - val_loss: 0.3186 - val_accuracy: 0.9230\n",
            "Epoch 7/10\n",
            "422/422 [==============================] - 25s 58ms/step - loss: 0.3203 - accuracy: 0.9171 - val_loss: 0.2388 - val_accuracy: 0.9407\n",
            "Epoch 8/10\n",
            "422/422 [==============================] - 25s 60ms/step - loss: 0.2841 - accuracy: 0.9242 - val_loss: 0.2328 - val_accuracy: 0.9385\n",
            "Epoch 9/10\n",
            "422/422 [==============================] - 26s 61ms/step - loss: 0.2564 - accuracy: 0.9298 - val_loss: 0.1946 - val_accuracy: 0.9492\n",
            "Epoch 10/10\n",
            "422/422 [==============================] - 25s 59ms/step - loss: 0.2306 - accuracy: 0.9364 - val_loss: 0.1857 - val_accuracy: 0.9512\n"
          ]
        },
        {
          "output_type": "execute_result",
          "data": {
            "text/plain": [
              "<keras.src.callbacks.History at 0x7863a763b8e0>"
            ]
          },
          "metadata": {},
          "execution_count": 7
        }
      ]
    },
    {
      "cell_type": "markdown",
      "source": [
        "#6. Hyperbolic Tangent (Tanh)"
      ],
      "metadata": {
        "id": "UdOje9twG0ca"
      }
    },
    {
      "cell_type": "markdown",
      "source": [
        "Tanh is another standard activation function that squashes the output between -1 and 1. It is similar to the sigmoid function but centered at 0, which can make learning more efficient compared to sigmoid."
      ],
      "metadata": {
        "id": "ced9KQ5RHj5K"
      }
    },
    {
      "cell_type": "code",
      "source": [
        "# Create Tanh CNN model\n",
        "model_tanh = Sequential([\n",
        "    Conv2D(32, (3, 3), activation='tanh', input_shape=(28, 28, 1)),\n",
        "    MaxPooling2D((2, 2)),\n",
        "    Flatten(),\n",
        "    Dense(128, activation='tanh'),\n",
        "    Dense(num_classes, activation='softmax')\n",
        "])\n",
        "\n",
        "# Compile and train the model\n",
        "model_tanh.compile(loss='categorical_crossentropy', optimizer='adam', metrics=['accuracy'])\n",
        "model_tanh.fit(X_train, y_train, batch_size=128, epochs=10, validation_split=0.1)"
      ],
      "metadata": {
        "colab": {
          "base_uri": "https://localhost:8080/"
        },
        "id": "66ZccqJIG2rq",
        "outputId": "2d56f3c9-ab44-4f12-daed-9b70317e2c60"
      },
      "execution_count": null,
      "outputs": [
        {
          "output_type": "stream",
          "name": "stdout",
          "text": [
            "Epoch 1/10\n",
            "422/422 [==============================] - 28s 64ms/step - loss: 0.2499 - accuracy: 0.9267 - val_loss: 0.1010 - val_accuracy: 0.9712\n",
            "Epoch 2/10\n",
            "422/422 [==============================] - 28s 66ms/step - loss: 0.0946 - accuracy: 0.9723 - val_loss: 0.0756 - val_accuracy: 0.9783\n",
            "Epoch 3/10\n",
            "422/422 [==============================] - 25s 59ms/step - loss: 0.0574 - accuracy: 0.9837 - val_loss: 0.0634 - val_accuracy: 0.9820\n",
            "Epoch 4/10\n",
            "422/422 [==============================] - 25s 60ms/step - loss: 0.0391 - accuracy: 0.9895 - val_loss: 0.0558 - val_accuracy: 0.9833\n",
            "Epoch 5/10\n",
            "422/422 [==============================] - 26s 61ms/step - loss: 0.0269 - accuracy: 0.9929 - val_loss: 0.0527 - val_accuracy: 0.9855\n",
            "Epoch 6/10\n",
            "422/422 [==============================] - 26s 62ms/step - loss: 0.0190 - accuracy: 0.9956 - val_loss: 0.0485 - val_accuracy: 0.9862\n",
            "Epoch 7/10\n",
            "422/422 [==============================] - 26s 61ms/step - loss: 0.0128 - accuracy: 0.9973 - val_loss: 0.0491 - val_accuracy: 0.9867\n",
            "Epoch 8/10\n",
            "422/422 [==============================] - 25s 60ms/step - loss: 0.0087 - accuracy: 0.9984 - val_loss: 0.0494 - val_accuracy: 0.9855\n",
            "Epoch 9/10\n",
            "422/422 [==============================] - 26s 61ms/step - loss: 0.0057 - accuracy: 0.9993 - val_loss: 0.0504 - val_accuracy: 0.9878\n",
            "Epoch 10/10\n",
            "422/422 [==============================] - 26s 62ms/step - loss: 0.0050 - accuracy: 0.9993 - val_loss: 0.0539 - val_accuracy: 0.9857\n"
          ]
        },
        {
          "output_type": "execute_result",
          "data": {
            "text/plain": [
              "<keras.src.callbacks.History at 0x7863a73ef850>"
            ]
          },
          "metadata": {},
          "execution_count": 8
        }
      ]
    },
    {
      "cell_type": "markdown",
      "source": [
        "#7. Softplus (Standard Activation)"
      ],
      "metadata": {
        "id": "joh8ISLmKB2q"
      }
    },
    {
      "cell_type": "markdown",
      "source": [
        "![image.png](data:image/png;base64,iVBORw0KGgoAAAANSUhEUgAAAtEAAAAxCAYAAAAcEvWsAAAAAXNSR0IArs4c6QAAAARnQU1BAACxjwv8YQUAAAAJcEhZcwAADsMAAA7DAcdvqGQAACXNSURBVHhe7Z0PcB3Fnee/uaXKogiILFeIjQ6kciz858Dau0NyKnuxKkiIzUWWz7GfkzrrxGUVvJcImwq2w0ZCe4uFE7DgKiuZLTDRblB0BavHrc8ylayFTJB2yxc97SWWqGCECpceh3N+1HErcbgsqria638z09PT8++9pz8m/XGN30xPT//5/X7d85vuntGnLAIMBoPBYDAYDAZDbP6J+DUYDAaDwWAwGAwxMU60wWAwGAwGg8GQEONEGwwGg8FgMKwgiwuLYi8hlxeQ55VXPXnLrIgYJ9pgMBgMBsPS8/EistNjGJucQe6yCLucRfZ9sZ8PiwuYmRxD5q0FEVA8FheIg/qxOFgyFjH19APoe0scJuX9ERzcP4ysOFwxiG4Xls2pLVBmRcQ40QaDwWAwGJaUxenjaLn3mxia+QiYn8bQ93ah5ekRpLsaMHRBREpI9mcHse2+45iZGUH7XXfh4CvFcaSnnq5B1Q034OZbb0Xfr0TgEpE70Y5HcD8O1ZSIkITclsKT/3YCDzyRWaER6Sn0fb4KN/zuzbj11j5kROhSEimzhSmkf7Y8jxXGiTYYDAaDwbB0vD+CR3aOoPG5QRxKNaLunhT29b6EIzf/NTp+lBOREnJhAAe+NofUDw6h+V9WoFQEEw8KmcGRgkZmq9snMfsPT6JOHC8ZRC49j1biYFu1CMiPkru/i/uzD6FvciXc6Grs+8UsJv/zkkuLEyCzxYtTGDs1gO6HdqHmri+ibTpPu0pIIic6l27BDeTpzN1akL4oTibhYhotIo2eSR6UeYIckyep5GTQQ9JpSS+VwJY6/asIpjdV56tHPtw+e4r8JMzrZ9tpQWjsXsbfBnJI35dvuwjG347dLZkeRfnuS5M9PaxOQToR8ljqtuuVdfFlyuSpymCyh9Q7z/4xEaI+VH9FtpMoVrbeLtyepTy1/ZSX4vcVedoVkxfVHy9v8csVwjLqKvfqAI5vakbdWhEgqEj9KbruEQcJyf2PEYxgCzbQNDftxegHs3jyHupKz2HimSmvXebDdZ+RHPOlYWrwMH7xDSKXPAehXUrR+PV7cfzxoRVb1nFj6VJLixMqs9IN2N25D80FK38KPd8ejmVDsZ1oejOsIp7/6Acf4AOxzfYDbRvzuPF2tGG4c5SlcahGBK9aanGIlHMwVSaODauVstQgsalDRGOrkdVm983oP++2Zbadpw266hP+wFiG1POkrg8vsZXUHCIyHUSqXBwvEbn0AbSd6OL98lLXKQ7LVO9CWR19BXnIq+9Gc/+sI7PV3YflT/bCMPDzGcz5BkorULetyCOYF6YwNi32VzUZjBwDvvalwkahbUpqt2L3K2mM5bk05uogWGYl5dWo21qL9Tddi4KfSfARcJlsMYjnRJMn+94jQNcZb+OmDX60sxnV5Nkn/m03i7kT5Ba+tkIcGwy/DVwFdl+ewv5OYLhtYHlGwgwFw5yTHZXEFTFcdVzMYor8VFd+8gdo1m/eS/7vQ3fXMGbsFwoFFduOYfcmcSCx8BZxmNIDSL8yhZzifNMX/uZZOouYJ/vOC20LU+j7XjdGnHCy2ddepsdE5uNjmKEvMtovOY7709dDX5xbQI6Ua+xXOWf9MS3LQm4GGV86i8iR9IfTaYxMzmDh4hSm5FH/6QmczN2LLZvFsY73aboZXl7KYo6UP4Osbul3yQZs+foYRjIr/oqhjzBdOogXRB19EF2NDPbh+KkZR9axZLbMxHOifzMH0lVrqX2YrnGqhdsN8ClUd4pYmppi00cN6Ca7w21V7HzPJI/fQJx0HGng14gpMWdqy5ny4lvoSBmLq06H+ad1+TSzuwVP1/Nr5TzjX0sJkYeGsLT18hDpecI0U3TSUgK26abgQ+KwvDe2ETsYZrMP/jyy7rQy3bTTmmLKUyMD77S/Hc/evHn55CDK6Z8KDU/Hmc6c9NbbkTk7z+21u145pxImXykd1+75KU5wG7Dx2EVC3RXEUqUbixhtRy2fHSdQd8ImmHxF+r46iTh2uG1n9ubohseraiO944k29iKS9xrF3iJkqW/fajuzkWzGzluqk2qnzH6ccvM4LemMt30oNkdR+yPeD65kvcOJ7qc4vr4iqZ0rNtGS1jsuQf25W07bPnk5veVybTWq/fPr3Dj+e6RIy4kj1T0IpY4++0ggs9Iv/Xt01RB5PNuCmt8jtvP5XTh4ZAAj9IsaN1Wg4joRkXJ5BgPfbkDnz4nz3bgdWyuyOL5rG7pftT3HBUyfGsDQ2TmyP4WRHw9g4MfjxLHM8N+PaSns8AGcfJ1flx3pRvtXm/DFpm3o7DqIB747gKl54KN3foI9NzfgYNSLaAvTGPjeTjTc1YBtPxwnpaAQR+/Rduy8twYNTT0Yd74yMoXjTe04iQ2oa2xE9ZppdLd+ESO/EacJuZkJTO/YEPgAnD1Byjg4gyskj6HdDeghTmjno6eRuzyGA3cdxIjPkS7DLZ8j95i3Qy13eYnUJWdxug+7Pk/awyVy8NEUenbdiTv3n0bZTfPo2TMMe2IhSmYrAv2z39FcsoZar7euv55vRzMiWOXdIWsPOb9n6JIIIFcO7SHX7LGG3hUB1oR1VIlDmXicpP34hDji8GtJeOsQKYHAl4eSXuYoueYoCZXhcexy83SlOOyaoHp50y/kWgqrp1wfiai0HXk4cpL0IqXpy0NTRhYnoh6+OEz2si4pvI4eHWvswEGc88jLEybqJNmCKhdHDoocvfGi07HrLKfD4/jt1VNelTiyE+loZSJg13jagKtfN20hbzleUP6hdqbqkaDqLTJdUb6AfCh+OUiE2YlGXr46RcpdpzvFLlgaiizkMN95f7mYPFUZqNdFltXWi1Q2Qqj8CD6ZaOss4jnpChuSy+fThUa3SpyVrLeMz55ZOWWd+eHXeO0ktO4ygXWS6xAsP+c69ZjgLZdIwxNH6C5UVjHqI/L22raEqkdfmgllRpk/Zz37jbusdSxfe1tnNT05YV0RUUgk6/R31lnrHnlNCiO8/by18/p6q3dKHBO8snIJtR1R76Zn3hQBnLm/2kmu8aav0w9l4jF/PX02+Muj1rp/N2TNiUPK/E8P+G1GrafNVK/V/lfu1SzuusPWa1eofGj99Hpj5QjTgeDNn/yR1dTcFH/7xvOWV2J+/PqIq8tzVu8fEJ1I9Z17gaS17oB1et6yrnwoAgmhMnPwt5HkkDRiyJESc020WEd4posd2SM76tNpZpA8Sezox1PS+uGy1FPo3zGMtsHI594AmtH//ZQ70l2ewlP9zQVNOfumQGsOYba/n+xEp5jo2kmg7vysRx4Va5uBE3Pk2dJPvLS7MOqsfSR6eYDqxCuj2rtJ2ImTGGcjMDmkj3UDnaOedbi1D4+SlLrRa48sRcYJp7n/KXcdpL0s4OVx/8hE+VZs30Fs6FW3TrmzJzFMcqqjeV/MouL7s5htcRcOlVXS9U9TyHpGlBS7UMkznbLUflKSYZw8G/dpvnDZReJJuxatxP5xZExYBc+frqv05N/Sj+YTbRhQRiRd7JE6advYBpB0+Pr/fNMtEpFtJ1juo2fq2PWxqKnz6TvzKkl3x3ZsJfacQR1mz0u2TVpnJbHf4QtJpkyT2IjcvoW8SZyxJZB3aJudHEDbCU3fe2YU+yvjLt9bnfX24VtWQe93o+jfRPpk3yh2WJ0kmPxInZ73yo/KuPtYxCi3Slj7v0iXWhI9nZeXWvI4zj0ySJc0nQAi7T6RzASl1dj7l5OYfe9/4vW/fwn93XvRuDaHsUf3kPuBmLCfHsDhH+Ww/Qu/713XunYDtpBSdabH3Kn9Aij93RvFHqdiWyta46Z/jfgN43dKUHaqAwceTWNkOouFyyTPex7Dvn8hztt8Wr9+d2aatM8dtieQw6W3yc/Xt2JLSSm2/sdB9L8s60Zh/kpkHdaT9nXq5Kn421+2Yr24NjZxdXnxLUyQ+pZe58Yq+R3yX+4kpi6QfXmWghIgs7xhy3zUbR6LH19xlwTJmyLcRF/noE6d/CLSKOkQ2PQzc6RzyL5BfjZVuA2VUYYKut7pjSTrpmWqUaEYi94Zig93MsU0JNno1FdZKkU6KrcbCiLRtSSstryMSMCdlmZToAEUUq5ggtbiyp1inDjFogxbm7xO4PjLw+SG3spvAuVCZuXkZmVPP9aTm5YPv114iJ1OoSyn7HTw/O1lIs4mpoqDoTde0ZbFw3HXGfkF2nzTLRKRbSdI7uQ6eq3k4IRTizrPA18GY/T9jwe4w0HTKiPlcKe2q4hDwiImYKVtJDm5OeYi+fteJlt5+V4YV0m9y8WDvTM4RJc61CL1cIrYoIjjEF4nGy6/bjQI27W3Brr8ppiwpZb+B2K5rQTqkt1H9UTafXkSmQGL7xBHUuyDOIIVmxuRevBJvDRMH5Zy6CPtj57PvX2OTd2X/dOALz28mMGM2C0qN91CNEggDm9+forC5vvx9A+qMfVUG3b96ztx6+9VYVsX6WPiOOCE9S370GiLYPFNTLxIbG7zBuY8ltzejNTWkBb4Rg7zYnclia3L8tuxhfTXE1J/sPj/yH9lxCfYyI+XDvIQ9wJf9uPdRjCVHcOQL5xsP/f2W8mcaIXah21H2naIQggYfV0RnIeBWfTTzlw4Cv51ZBqSXOusGetFpXBYZkOe/gsqV768EaPTiBMnAXy0V4wyXRzHyRPN5GnV7hRsp6kKcw9wmdlOXjKKlU6BFFl2QVAHmNuOd5NHywIhdkfbcXe9f51kQekS2OhxBNoXq5K2nQLgo+ti5mZyjFimmBUhOGtNj1ViltWdt82iskw2supYNfUWM61Uv6yPsJ3fGOuGw9jRL2xG2eTR6aIgvs7i2/L/yke03SeT2fQLnRjRDXrdtg33P0h+3+d/urqk5DMseP7/BoylbiqDdww5igXMSC8BRvLpa8VOoZSguv0lzP6v1/F3Lw/i2INbMPf0LrQ9TR9oEvJ6BkOoQ+O/imk1X6jELWI3kEXNCGvoFluCDvF1WY3dD7Si5MRRdA6OYCTdjQOPL+LIfz1UhE//RVGGum/uw74H1W03tnzuD7HXF062L1eIaznxnGjyNBrqyLElCEEjzmKEurMuzwbtH3EOerJ2Ua4RU082uXRaNHS3I6BORJyRkSTXsmUKrCON98mnQsoVTNCojxhRadpKNRcjTjHho390SQeXEZ86Zwgnht4U4jpqWoqVTiTLLTsVnr+8PCYf7OnzBmd5VnHS5aNd+ml5voynGZWfFQES0W0nSO455JLOUJXTUTW+pIMt5XD6KnuWZLZAx2f5bWRqTu6FRR+cgKDZvtzFJG7vSreNuGSQtu9v9kDGedoedLOd4XWyYfJzltQtIZ+tZO02bNlLoC7ZfVRHHLtPIjPKMMZ+6XsTjlCCa6mjdNvN7JvMpes3o5H8Zt9T7GzxChtd3Xw3ue/zkJjMYNh5CTCEC29igvxsrr09YfocNnIqY/tM11WgemszWrsH8XJvIzKZt4h0OWVldcDbl5xjmeyrPTjYNcLOTWVOIle2lX8PmzGFvq5hbZ0WL5PQNWvEUTCL783g3NS5BJs0kxCT+Lok9vbfKtD/i5fQtW0LtjTux+A/vIR9m/0edJjMVooYTnSGfcuSjYqqb+cSQ6HTU87UJxvRacMByeHm3zFtRr+0NjUQnwNOGUZbh7SG7GIaB9qk6X8V1qnIaxxz/Pu84ohf30aemuUnZj6FS8e5QpWT8Fq2xtkzAp/BQNByjkLKFQpxyOm66SMNnjf2M0/QLxd0YT+bvo8Tx2YYc9IbxvnCbIXkR6cdbfuh8I5d7ojFGsSEFCsdG69TIpNEdjHQtoEw3PzlB117JEn9SkMg9hpJpx5FStcZ5Va+kkD6Dqp7z7pciei2EyT3KlRt9JYvWHc2PC3axzXQ9aVOX8UdI4/DxNaXin2Z0Jm2IttIKMLJk95H4H2wOIhLTSvYuyxq37uR3AfkrzAsS73tJVlJRobj91O0PG1E9x47Zw94OsLqJGHLb6O3P2ezY1Ff/kiCvc7a074UeQXpMuheFMPuk8mMM/DQQ0i/Iw5sLo/h5I9r0fXVLXyd69rd6PpPtRhOj3nsavHsCIbK9uJPW4KXoNgwR4u4aVfoAChx2BbXcgddZu6trDQ6vYjMC8cxEjP9NZ/eDJydA/2QBCeLzM9EzSVnevjF05463HjTLSiTlrveWLae9fduOjZTGPrjbhwnecyTh4CJkWk2umw799n0c5j/UqP2D8HkLo5hc7W6pNZPyW21qNtal2Bbn/wPzyTQ5Zo1x/HssyOYEE77xNkMZjTfwguWmYaPxe9SI14wjIH7prC76d6AFW9GBsZR3+oVOG8Lk028Fem87Smf812rSU+8Pc03+hYrj+N7M9aJoymPgz/9+Neqcd2yBL1BG5a29m1k31vUBF2YIkNt/jHiyOXj8tTrk8ULfbvVtie/DfF6yvl442rlQFDDo9LRyomcUesjpxOo60jZ6eXkwdcGRHmVt4y19Vfz18jHhl+v1ptiy0c6F5quHV+/BcnQ3tS33lVitZ2Ievt1p5eprZ8gvTnp0/Oif3HrJ8cJsa0IGwnTa5Cs9O3MW2ZaThbPqTM/r9qiLi2vDtRrlqveSrtV0NmzXG6d7Hx5RtiRD2EDbh56uwqVn0a33nLp09TJi4dJefnsW2mrjh0runKIYfcJZDbx+DrrwAunrWdb662d3zlsPT/8mnV66Ki1p/oOq/1v5G9YUOatN4c6rJ1fbbcO/7DX6n1kj1Xf2mtN/G9x2jpnPdtcb91h51tdbzX9yWnXpj4kZf/KOqv+W4etw/s6rKGsCKeIMjc9ctg68K0Oq5ek39F6h3WHJ32SwzNNVn21SH/dXd703z1tdXzlDmvnn5CykesPHyTX/vSwkMEdVv0z55h91H/rgPVHu0UdHmu3dn7jWeuc9KUJXhb+BQovV6zX/qze2vMISXtfu9U7dprUp8lqf4yk82ftVsdP3gz4OsWc9XzzusC+Yunw6mPdliar46e2tKJ0ybk03G7dJa6Xt3VfITYVS2aEXz7LviRy1zrpelKWpuYO67TU7OJBbMjXr+r5FP1P+NOrDjrqxf9K4ifvLzgZDAaDwfDbwMI7Way5rYKNNi++P4PpX1/CFdyIDbXVKAtc90r/uMlHwDWlKFW/0BAD+kdQcF0pSuSX+S6m0SJ9hYjG+QhrUFoaWIhAPNd+TMp6mRyVkvzoSXK8eE0Jry+Np61DFgM778RM+3s4crc/f7X82vrIXBjArnuz2Pd61zKsJU5KsC4Xf9WDpoPA9/+G+HnScPfixTH07d+Gk3f/Hf6+3R61DpdZ8cig574sWmMs4yvoxUKDwWAwGAyGMEqFA00puWk9atkSgTAHmlJCHNT8HGhKCXVoI76GQePk40BTPNcSh5mW1UlJONAUFk9bhwrsbt+HoZdGtOuN1fJH1Sc7Pgx0tq5CB5oSrMuZV48j01jncaApJeV12J1qxvSUvMQxXGbFowK1X7891hIW40QbDAaDwWD4ZEO/B/zePzLna+H/XMrrixPFpuTu/Xjq4+cwQL8FVwiXx3D8pS34bspeOX31UJ36PlIvHEXfpNctXngjjb7nLqHr/kbPaHDRZBZKGeq+XO0+FIWwqpdzGAwGg8FgMBRK9md9GH5LHDDWo/nBRueFvRXjcgY93x5D3V8cQm1eo+6LGHu0BZl/M4hDNatyGDqahSxGXuzDwPg/Ys01H5GARVy76Wto/Q8p1OrWUxQss+JhnGiDwWAwGAyGleL9MfS8COxrr4s1+imTO9WDkxX7sFfzSbhPNAXIrJgYJ9pgMBgMBoPBYEiIWRNtMBgMBoPBYDAkxDjRBoPBYDAYDAZDQowTbTAYDAaDwWAwJMQ40QaDwWAwGAwGQ0KME20wGAwGg8FgMCTEONEGg8FgMBgMBkNCjBNtMBgMBoPBYDAkZJmd6EUsXBa7BoPBYDAYDAbDVUrxnejFBddRpvvKn6efeaYNPZMr/zfrDQaDwWAwGAyGfCnqXyzMvtKH04ubUflOGsMfb8bmmz6Dj87+LW452I/UWhEJWQzsOYxrf0DCbhNBBoPBYDAYDAbDVUTxRqLfH8HYx63Yu60OjbUVGPjlZ7D9njWYOQusWSPiMCrQ+vDv48+70siJEIPBYDAYDAaD4WqieE70TY1o/XIp283+ehx1X6pFWVkzjp3rR3M5C3bZ3Iy9H3bg+HjCZR0X02i54QbcIG0t6Xxc8RzS94k0nsjwkHQLbrgvH8depCXS+cQgZN0zKY4NSw+TeQvSF8UxI4OevO38t5zJHtLGVXmuJEujS9Z33dBDUl9FMNnTPpbKP3kfmbhOkbr29/mrD24f3j63SDazBG0h84Qqy+W5F65Ke3fQ6TAGq66vWm6u3vvcErxYmEPm529i6z+v4IeLOke5AnXbNqDnlQnEdqOpkW1sQ/WZD/DBB2I73w+0VSV2fnPpA2g70YVRmsbDtSLUYDAYDIVDboj13WjunyX99CBS5WVIPZ+sry1LDZJrD6FYvfPV2+fX4hAp82CqTBznSc0hoQtxvCQk13M+FNs2VgXLop/VTJHsfAXIz4m+nMXU+BjGpnOOE7z437txZ1UPphamMHFiO6pvZ6EYe/4UsiyGl4rqrSj783FMi+NwyBPusW6gcxSHakQQpTyFwTNdaN4EZBM8wWUvDAM7KokrbzAYDIaicpHcH8hPdeXquSGaPt9gMCwFyZzo9zPou68Gu57M8JHfmeNIPTSCBXaSPEt8cz3eGpxBxYFLmBgZw/DTfVj4ckrfcd1ciS2YQfYdcRxKFnMnxK4KeYIbfDiFWukJjk0z0Wk7sblTK3zKoOEI2T3Rhip6/om/ZVNQVW2kk7XD7JFte4plUllGEjpdpZ/O8U19sbTjpOlOkXnrpUz9+MrqTnfx6S/3Wt2UiS/t34gTNix9dQpNV1ce5klLecAJ1g8n6rwXNb/wab6wtJ1pQo9uRHqeMH+dfEuNdLMjIXFY3hvbMEz+tW2k59U8su50NN0ipkxVncvx2Tm1fMpSEp8saHyx77MfUS8nPI4sJNSyetPn+m1JZyLqL03Xsy3cDjhRtqqmqZxn8iBhSv8Qbq8URZe6siaUIcNjo3HauVLW2PUJbnOuHQPd9fQclZl+mj/SRj1yidBFILys3j7fTjWi7/DJI9imwm04Rh/O8mpAN9nlcrPlbtu/nZ597G0P/LwiI1nedl1YfqospU3tk6RzahmYTI808PMsr3h6jiWbEHtXbcM59th/lH2ouvfHDy23zjYCdUhRZa7k59FPnnXyxCWbooc4dS5K/xBaDr/96u2copZX0/4i67wM0K9zxOLdk1Z79fXWnhfmRADlnNX7B0fJ/4IP560rYvfKvLuvZ8I6ev311tGMOIzg0tAe63oSn22PT4hQlUvWUCs53zpE9gTvDll7yDV7hpwQa+JxJQ6Bpa+EWZmjIs+jpLQ2vNxuGUSezrG+XixPO44okxtHTVNGpE/Oy3Xg8thjDb0rArRlFfmGlj8kDtmcMrL0vWnb8Zw4Gll7yxmsHzsNHl/KR9RLlSeH5x+lW5uotPl5WTau7OU0fXloyuiTaZw4TBaSThm2LqRwjZxlAvUp6sXqqcpIyduRhRJPJ19PWFA91fwEPp0o9uCUPbT+wXbluU5GI0NeFju+2q41ZRV1lfP1pqFi1yVPWwmVoXI+gYycfOLUJ1BuYTr0y9JXZ1s2so065+PqIkjuGvlF6p9gy8NTTj9RdXHKH5WfuE7Wux3mXmfbkK6c0rVa3QbLx07Djh+tU1FvSSdOPRPoWZaNm7Yax4taNn4cla9EDN0Hldu5JtA2eDxZTjq5+OSr6CffOgXKMLLOooyF9g8+O1PkZpdLTpehxIuho8g6LxMxneh56/R31lnXrztsvWZ7xh/OWa89ucdqH5Kd6iTwCnecCXe1vbgKcLdgQ7RRDZYZo2wsBBZHCbONxqtsgicftYHwMqrXsDztOLpyEoMYIuf96tcYN0PJV1dWn5EJ5PxD40jh7Di8w9DJlZZzIkPqlSGh2jS81+l1M0Ty8EvGoum+e0mJ69W1TFTa2mtlWdl4wvwdJIfLhncCceIQmC6UvNQ4Ar2sCYH6pDrg9qW1dSVvLgu1LASfPPz1VMsaWCYSn9rFJaJDF7W+Meqv0xEhsA4EvfwkW31X2JZ8rZqPNl99eTn8XBxbiS/D4Hp67JmVNbztxakPix/LjuWyKvYf10bt8uatCxdV30H695STpamXuUNgXeTyiHSj8hNy9KalyNZ3TFHToejqEiAfUQc3zTjtUsgwLM8ksvGkQ0Jl/Suo57Rxg/ImBOnebfv0Wr+s/O1Jl75Gh3nYb9I6afVL4ts+RWSd2fV+eXuu0+Uh6mvbBU3Pazd6G1f17UsndvsMrvNyEW85R24Mf/2jHHDdGJ782jZs+3Yn+gYzwI6ncSxV2CqzSwv2YpA48MXnzouFZ7pIWDcaxDB/bo6txEOFsji/rLKa/D+VaN20SzMqPyt2bT5bSUKHMacueYhLTR26nGl7stGpq/IUUg/XBr8ssakC3hWGZajYRH7eyErTXkpZfzNHcokof2icJOSQfYP8aMpZW0PqVVMm9EP1JU2/kI1NCwpq7yY6taddyUand8pSKRwiafig6ZaXkRzcaR+2LCeARGnHhi81al6rtoMKVO4Ahi/QNwLixCkSQfpkOgixLy3+tmTb7smzwuomx4hGu7CfvRDC6zlMX/YVMmabmN73Q22D6I/o0J065dOhSQhv9zqibRXlwrbKpWnY+qQl0xPHVuLL0Ca834vT9qIRcrOn8J0toc6S2mjRdRGs/8g+VSVOH2sTK7/lhvSd1LY6R6WXuorTLhPJZtmI0fZZuaX7s9j895YI27BZwr7EIdSnKM69OQ40PWo37jKLKrRpluL6+0CZmO0zHz9qCYjpRGcxQ36aO/8LTp08hVN/cQT7/jiFurX8k3aFsOGfecWUCPpGq3Ckx9R1OT5WqtHqcB8GZvuJq6quxV4mpuZWoOve0Y9Z+UHI3p5P8QbD3lKmYbPop46FcCa8a6UEzrrRXlSe5+kweQaRJO1iEecGuaI30aTUopXIePjlcVbmzKvkZtBZ5+m0uuQv6Eib56Vggb0Gr+rCfhFvlHSMqwH7wawKcw+IOrC+ZnlIIsPYRLW9mPCvbvjTWbo365dZFyfmyKNMcViRPjY21KmjznEXRpUvaixHu1zdshFfcvFt+XwVZDnstwg+RRH6B+eh61ilSIvfa4uK0z5Xhx8Vz4m+8RZUkh/t29baT9jFYPEK5qlqrhHHoRAjDBUMfyIMGnHmT1ldqMvrBqRxvoOesCW8HYR4srIhzl9aOP38cz3EEGijCuu8fY5W0NOaRNATvyj/9i+QK0PjqCiyFW/hc4JGVXLIiWuYfk6cxHjIjEAunSbapojPJRHZjHYSLWhGa3NnT2KYNfx4nwZKknZ8gkaTxehz01YqmRhxikSQPi8SPYhdhmprWn3rKfvCdjQzPWYwdoS0rLvt2wqvZ/ercV/uENdTh7GAz2KFt3sd0bZqj7DTG2lBjquGQDtgozNJZWgTVH8+Qh2n7UXD5WY/QOVNXBu1KbougvXP+lTloTCUOH2sTT59+BKSeYKOEjaj/7zqGBanXSaSzbIRo+2zcscZmIvJEvYlDqE+RXSdi9M/5DD+MtEsfchO+GDuJWb7zMePWgLiOdG31aLxHmD810rR3hlG53eH2Ch1Yt57j1R0O6qdPwduT3X438DMPEGeltlThnqOONd0WqRzP3eialrJU88w2jokh5sI+kAbVWxrdMcYIPzuejlfJU8fwmGSbjT8G6XigNazow1t9d63WtmIHrkOQUZM6n9AGjHlaZIOsCWkVuUp7CdOYmj5w+LIiA7RmcYX9ZAdr9qWfuJc+ctZtVGM9tr62ajkZT89Ml21OctzOLxDp+PLbqoc9tkqj84yGAhazpEw7fgQh/wB0nCPNHj1SW2WdJx8mUOcODaam04SgvS5scppP9zplG8SGn2HwfKgeiTlJw8xrc6Nwa2nPLpvj07IdWeIhzD5gTOX7iUlS0hIuw8iyla5Ayo7psTe6Wc2i0FMW4klQ4eIfi+q7YmQKGy5VclvwYup29gzOjFsVGYpdBGk/8g+VSVOH2sTM7/lGKGl9tTAHGXNAESSdulzdCSSyGYZibxPOeWWv14R7J/o8MhuKfsSBr8Xh/kUBd+bRUg4YimaPEgwOSD5PvGJbp9RdU6mr4IQa6OjyZ62Or6602p/rNfq/WGv1fGtJqv9hxPWvDidlCtnOpSF42LRuGZxuw1fbE/juFvgiwMhcfSL1sWCd7bJLw/QhevyObJ5FsXrXozwxqeL5VmechyWthvHXx4bN31v/ZUF9dpF/xxVbvLLITZemZH6615i8JTZlYtXvoqsNGVS9aOWJ+q8jDeupKsAeYalrX2ZQydXXZiQl5O2Lv8YceTycbny+mhlFGgzmrbisU/1vK1vt05aWcgIW9DqRq1nWDpqXMnOk9Xf7j/ERs+FtAlOuK2qMjyaUfoobfr68nLcc1471MgngQwdXSnX6MoQZv/x6xMuN7vsbr+g6yP98pXPq/aXny5c9O1FrYci40j7cVHL55VXzD6cIJ/naajy1+lDJ18lzFMXW3aazZZRZLtU4rDrdOXw1olu0WW3r9HbvHpOG9dngyoRNkxQy+0pY4htyNfZdVXTirLfvOrE0nDziLZ3f/kL7x+UPJx+2I6js1+KLlwtr8YeAuusyHcJ+RT9T/jTsVhcWMBHWIPS0hIRkg+LGHv0TvR9bhQvtVSIsFUIHWGpn0L/+ZX8S0L0iaoKbZtGr7K/tGUwGAwG04cbDJ9ckv2xFUJJaWmBDjTh8gRGTuzGvh2r2IE2GAwGg8FgMBgCSOxEF4Ns+jlc6tyLuutEgMFgMBgMBoPBcNUA/H9KkC0rjo59wQAAAABJRU5ErkJggg==)"
      ],
      "metadata": {
        "id": "urUDoiF3KHDq"
      }
    },
    {
      "cell_type": "code",
      "source": [
        "# Create Softplus CNN model\n",
        "model_softplus = Sequential([\n",
        "    Conv2D(32, (3, 3), activation='softplus', input_shape=(28, 28, 1)),\n",
        "    MaxPooling2D((2, 2)),\n",
        "    Flatten(),\n",
        "    Dense(128, activation='softplus'),\n",
        "    Dense(num_classes, activation='softmax')\n",
        "])\n",
        "\n",
        "# Compile and train the model\n",
        "model_softplus.compile(loss='categorical_crossentropy', optimizer='adam', metrics=['accuracy'])\n",
        "model_softplus.fit(X_train, y_train, batch_size=128, epochs=10, validation_split=0.1)"
      ],
      "metadata": {
        "colab": {
          "base_uri": "https://localhost:8080/"
        },
        "id": "LnPicQ8WKJ9J",
        "outputId": "b1fdd6a2-b31c-487a-fca7-4f41bb05da53"
      },
      "execution_count": null,
      "outputs": [
        {
          "output_type": "stream",
          "name": "stdout",
          "text": [
            "Epoch 1/10\n",
            "422/422 [==============================] - 39s 91ms/step - loss: 2.4075 - accuracy: 0.1186 - val_loss: 2.2428 - val_accuracy: 0.2017\n",
            "Epoch 2/10\n",
            "422/422 [==============================] - 33s 78ms/step - loss: 1.1491 - accuracy: 0.5920 - val_loss: 0.4045 - val_accuracy: 0.8815\n",
            "Epoch 3/10\n",
            "422/422 [==============================] - 35s 82ms/step - loss: 0.4395 - accuracy: 0.8693 - val_loss: 0.3332 - val_accuracy: 0.9033\n",
            "Epoch 4/10\n",
            "422/422 [==============================] - 35s 82ms/step - loss: 0.3904 - accuracy: 0.8863 - val_loss: 0.3069 - val_accuracy: 0.9115\n",
            "Epoch 5/10\n",
            "422/422 [==============================] - 34s 81ms/step - loss: 0.3544 - accuracy: 0.8969 - val_loss: 0.2730 - val_accuracy: 0.9198\n",
            "Epoch 6/10\n",
            "422/422 [==============================] - 34s 80ms/step - loss: 0.3155 - accuracy: 0.9082 - val_loss: 0.2394 - val_accuracy: 0.9303\n",
            "Epoch 7/10\n",
            "422/422 [==============================] - 34s 81ms/step - loss: 0.2743 - accuracy: 0.9198 - val_loss: 0.2056 - val_accuracy: 0.9407\n",
            "Epoch 8/10\n",
            "422/422 [==============================] - 33s 77ms/step - loss: 0.2388 - accuracy: 0.9301 - val_loss: 0.1865 - val_accuracy: 0.9473\n",
            "Epoch 9/10\n",
            "422/422 [==============================] - 34s 80ms/step - loss: 0.2062 - accuracy: 0.9396 - val_loss: 0.1737 - val_accuracy: 0.9477\n",
            "Epoch 10/10\n",
            "422/422 [==============================] - 35s 82ms/step - loss: 0.1796 - accuracy: 0.9462 - val_loss: 0.1734 - val_accuracy: 0.9478\n"
          ]
        },
        {
          "output_type": "execute_result",
          "data": {
            "text/plain": [
              "<keras.src.callbacks.History at 0x786399495ed0>"
            ]
          },
          "metadata": {},
          "execution_count": 9
        }
      ]
    },
    {
      "cell_type": "markdown",
      "source": [
        "#8. Softsign"
      ],
      "metadata": {
        "id": "bDbaiG_LKKbB"
      }
    },
    {
      "cell_type": "markdown",
      "source": [
        "![image.png](data:image/png;base64,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)"
      ],
      "metadata": {
        "id": "qETbh5SOKNfJ"
      }
    },
    {
      "cell_type": "code",
      "source": [
        "# Create Softsign CNN model\n",
        "model_softsign = Sequential([\n",
        "    Conv2D(32, (3, 3), activation='softsign', input_shape=(28, 28, 1)),\n",
        "    MaxPooling2D((2, 2)),\n",
        "    Flatten(),\n",
        "    Dense(128, activation='softsign'),\n",
        "    Dense(num_classes, activation='softmax')\n",
        "])\n",
        "\n",
        "# Compile and train the model\n",
        "model_softsign.compile(loss='categorical_crossentropy', optimizer='adam', metrics=['accuracy'])\n",
        "model_softsign.fit(X_train, y_train, batch_size=128, epochs=10, validation_split=0.1)"
      ],
      "metadata": {
        "colab": {
          "base_uri": "https://localhost:8080/"
        },
        "id": "XNu9gYKWKONx",
        "outputId": "eef67a61-5354-41b2-aafe-97c5d456d76c"
      },
      "execution_count": null,
      "outputs": [
        {
          "output_type": "stream",
          "name": "stdout",
          "text": [
            "Epoch 1/10\n",
            "422/422 [==============================] - 26s 60ms/step - loss: 0.2853 - accuracy: 0.9188 - val_loss: 0.1208 - val_accuracy: 0.9678\n",
            "Epoch 2/10\n",
            "422/422 [==============================] - 26s 61ms/step - loss: 0.1108 - accuracy: 0.9690 - val_loss: 0.0804 - val_accuracy: 0.9760\n",
            "Epoch 3/10\n",
            "422/422 [==============================] - 24s 57ms/step - loss: 0.0709 - accuracy: 0.9802 - val_loss: 0.0613 - val_accuracy: 0.9837\n",
            "Epoch 4/10\n",
            "422/422 [==============================] - 25s 59ms/step - loss: 0.0511 - accuracy: 0.9859 - val_loss: 0.0522 - val_accuracy: 0.9848\n",
            "Epoch 5/10\n",
            "422/422 [==============================] - 24s 58ms/step - loss: 0.0380 - accuracy: 0.9899 - val_loss: 0.0490 - val_accuracy: 0.9867\n",
            "Epoch 6/10\n",
            "422/422 [==============================] - 24s 56ms/step - loss: 0.0283 - accuracy: 0.9926 - val_loss: 0.0512 - val_accuracy: 0.9860\n",
            "Epoch 7/10\n",
            "422/422 [==============================] - 24s 57ms/step - loss: 0.0217 - accuracy: 0.9951 - val_loss: 0.0557 - val_accuracy: 0.9853\n",
            "Epoch 8/10\n",
            "422/422 [==============================] - 24s 58ms/step - loss: 0.0161 - accuracy: 0.9966 - val_loss: 0.0465 - val_accuracy: 0.9878\n",
            "Epoch 9/10\n",
            "422/422 [==============================] - 27s 63ms/step - loss: 0.0118 - accuracy: 0.9976 - val_loss: 0.0481 - val_accuracy: 0.9872\n",
            "Epoch 10/10\n",
            "422/422 [==============================] - 24s 56ms/step - loss: 0.0092 - accuracy: 0.9985 - val_loss: 0.0482 - val_accuracy: 0.9873\n"
          ]
        },
        {
          "output_type": "execute_result",
          "data": {
            "text/plain": [
              "<keras.src.callbacks.History at 0x7863a712c910>"
            ]
          },
          "metadata": {},
          "execution_count": 10
        }
      ]
    },
    {
      "cell_type": "markdown",
      "source": [
        "#9. GELU (Gaussian Error Linear Unit)"
      ],
      "metadata": {
        "id": "mGk_3m_5Kekp"
      }
    },
    {
      "cell_type": "markdown",
      "source": [
        "![image.png](data:image/png;base64,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)"
      ],
      "metadata": {
        "id": "fixobqcVKgvx"
      }
    },
    {
      "cell_type": "code",
      "source": [
        "# Define GELU activation function\n",
        "def gelu(x):\n",
        "    return 0.5 * x * (1 + tf.tanh(tf.sqrt(2 / np.pi) * (x + 0.044715 * tf.pow(x, 3))))\n",
        "\n",
        "# Create GELU CNN model\n",
        "model_gelu = Sequential([\n",
        "    Conv2D(32, (3, 3), activation=gelu, input_shape=(28, 28, 1)),\n",
        "    MaxPooling2D((2, 2)),\n",
        "    Flatten(),\n",
        "    Dense(128, activation=gelu),\n",
        "    Dense(num_classes, activation='softmax')\n",
        "])\n",
        "\n",
        "# Compile and train the model\n",
        "model_gelu.compile(loss='categorical_crossentropy', optimizer='adam', metrics=['accuracy'])\n",
        "model_gelu.fit(X_train, y_train, batch_size=128, epochs=10, validation_split=0.1)"
      ],
      "metadata": {
        "colab": {
          "base_uri": "https://localhost:8080/"
        },
        "id": "-tT3SUENKfP5",
        "outputId": "9b44e5a8-2342-4905-f251-88e3060bb05a"
      },
      "execution_count": null,
      "outputs": [
        {
          "output_type": "stream",
          "name": "stdout",
          "text": [
            "Epoch 1/10\n",
            "422/422 [==============================] - 43s 100ms/step - loss: 0.2629 - accuracy: 0.9241 - val_loss: 0.0854 - val_accuracy: 0.9768\n",
            "Epoch 2/10\n",
            "422/422 [==============================] - 42s 99ms/step - loss: 0.0789 - accuracy: 0.9769 - val_loss: 0.0636 - val_accuracy: 0.9828\n",
            "Epoch 3/10\n",
            "422/422 [==============================] - 42s 100ms/step - loss: 0.0484 - accuracy: 0.9856 - val_loss: 0.0519 - val_accuracy: 0.9868\n",
            "Epoch 4/10\n",
            "422/422 [==============================] - 41s 97ms/step - loss: 0.0340 - accuracy: 0.9896 - val_loss: 0.0556 - val_accuracy: 0.9855\n",
            "Epoch 5/10\n",
            "422/422 [==============================] - 42s 99ms/step - loss: 0.0245 - accuracy: 0.9926 - val_loss: 0.0478 - val_accuracy: 0.9867\n",
            "Epoch 6/10\n",
            "422/422 [==============================] - 42s 99ms/step - loss: 0.0179 - accuracy: 0.9944 - val_loss: 0.0511 - val_accuracy: 0.9883\n",
            "Epoch 7/10\n",
            "422/422 [==============================] - 41s 97ms/step - loss: 0.0132 - accuracy: 0.9962 - val_loss: 0.0475 - val_accuracy: 0.9883\n",
            "Epoch 8/10\n",
            "422/422 [==============================] - 41s 97ms/step - loss: 0.0096 - accuracy: 0.9973 - val_loss: 0.0499 - val_accuracy: 0.9880\n",
            "Epoch 9/10\n",
            "422/422 [==============================] - 42s 98ms/step - loss: 0.0068 - accuracy: 0.9983 - val_loss: 0.0485 - val_accuracy: 0.9893\n",
            "Epoch 10/10\n",
            "422/422 [==============================] - 41s 96ms/step - loss: 0.0050 - accuracy: 0.9987 - val_loss: 0.0506 - val_accuracy: 0.9885\n"
          ]
        },
        {
          "output_type": "execute_result",
          "data": {
            "text/plain": [
              "<keras.src.callbacks.History at 0x78638913a830>"
            ]
          },
          "metadata": {},
          "execution_count": 12
        }
      ]
    },
    {
      "cell_type": "markdown",
      "source": [
        "#10. Mish"
      ],
      "metadata": {
        "id": "B8iiXgAkKhb6"
      }
    },
    {
      "cell_type": "markdown",
      "source": [
        "![image.png](data:image/png;base64,iVBORw0KGgoAAAANSUhEUgAAAuoAAABSCAYAAAACYfGXAAAAAXNSR0IArs4c6QAAAARnQU1BAACxjwv8YQUAAAAJcEhZcwAADsMAAA7DAcdvqGQAADHKSURBVHhe7Z0NbFzXlZhP2gDWIpDkNoXHMOuQdcSV5bVNtzBHhb1LIiIjbxBpVMUZ2Vhx6d0w0SLRTzaWWCWkGWzEpWGLVmFTShDLHmzEsNiEky3LkWFXNCWbbKEsh9hEVLCyZTYqJ7BcjrFGRNYGacSL13N/3rz77vufH3Ikn8941ry/e88959z7zv15j58wECAIgiAIgiAIoqr4F/JfgiAIgiAIgiCqCArUCYIgCIIgCKIKoUCdIAiCIAiCIKoQCtQJgiAIgiAIogqhQJ0gCIIgCIIgqhAK1AmCIAiCIAiiCokYqOch/dg6WLduHbSl8/KYjnVN/7Q8BFno973HTj7dhvf3411hiZb+jUHly5x9Gu34tN0K0W0TwNU0tK1rg/RVuc9ZOXvyMmJe6x5Lo+euIKtYbm5DvbzT/agHXZ7ouKZto9rqqmyvND8nwhJRf2Xys2rG0Ua61vUoVKjOcLnU5/RqUWVtwkr5aMl+4UYl2zOZttK+r0p7X6R97M/6lfS50m1S9Ih6pmPQaohUrk7C6Ij8XSAOnYuLMJSMyf1yU+n0CZNYcggWFztR45VkheyJFb61LwGpNxZh8VQSVt97yI+J640YJE9h/TkcskVo7MT2YwiSNXKfCAG1CysK+WgZqRLfdTzrr686VVygvjMBCeiFCZeeeHaoAzLdPdAj9wmiWsnPzeD/G6CWGmSCIAiCuCG53p/1xQXqdx2AA90Avef0MfUsTPQB9GxplvsmzmmGwjSE3Fyn3/gUh3mN31RHkekXEPdb1/ss7TCnXabFtKF3+t5piqlRl3tkeQvH5dRkIQ3fKSYdOd1SuN9Nf7qM5jXieCvaEvpaxTk5bWNN65rpO3UldG8e95aDp7UJO3b4X8cm9ZzTnn76FJj3ZO35uU43CZnqOzL4uxda2XVct+K4Ph1mn96T5cF0bT7mYhvTzrosZS13aH9kKOUe6YB6dq0u9zsB6djqJG4F/YZI20ZO6NGRjkmQvaUdCuctv3IS7tqo9rTsJNO33eNiS7V+R7IbQ+ah+51eFke6lt685Wd4pC/t4q0b674Cnj6CmPKZMofWg90fmOxcJg8fE2XFspuyKNfZ9efMy+88T1fP02cJg3ddD5bDQvOl0DqzY88P739HnrARVO9M3VrX2P3IlFVrh13S8adEORw6kveH0Z15TQV91M8vgsserj0rUIgjrOvC+54XQobg9t70B902Sv5q++BAL6uHH3nGSoqctme9Lpe5Hxw/BOpOK19bOidPlIARiXljuH2tsfapKcPIHjXWrt1tDL8tTzH4saPGFP53dO1a42hWHpf7u4fn+d788G55nYTfZ10vzst8JFNP4b56j41o6dux38vgebUPY2ldkGmp50V+ii7eHjZ2a2nar1H0WEA75iKzXS6n3BbO9B06CZRR5meTUUtHpmHTq+1YWDk0P9LLFkJW854gO6g4ZJHy6tfz6wp6l2UqlJEh81bK6fRX7ZpylTuMP2rYyyMJkw6/Rk1XkxdxTdtGGDs509XrpL7vV2b/a8tkT103skyOfM39yHaz5AzlDzZZQ8jvpgezDLY8ddvI+2x+7aNLXU9h9GDKodhDXGO/T8X9vJRVPabJK+5T9CTls53X8+RpWPI60tDOM4LysaPpPIzONDztr+YpdeH0L+s+r3R0/9DL4rxPRUsjhBzuOlbyNHWk5xlGd/wafT/gHpl/FB918wunPqXulDT0fbss7vXRKZeiF1k+d99TcdYfnpZX+TjutrXykv6iyGfhXV/d7OPwN4eOVF/Q9SzlcLGpdU1w++EpC0vbtYzhKP6rL43N0IO9wdHzZo8Eey4neiGRaoeg1Yq5K9i72VkHtXKfrQmbTaXwh9p76YFxZd1jvC3ludxGJ1z6Ekyv+Y1ZOKasVaq9I4G9xDnw7gclIPWktaY5ljxg0wVf/rMzZUszljwGqZ3Yex5iMsSgaRvm0TdhSSTX9vdsYWU2dTkLnY3iNIPrAHuvg0E6uJqD2idnYbbN0l+srgH/PwM5s0ftIeP42QNQ+47S+/Wjpgl27LTPrOTPj6ImeqCZyR1CjjAE69MikTpmrS2sSfKZn8xLk7J3XUa6xxXbxKE9pdgTe/cDbGbprLqWPw6dZ8dhfIurF7oSvtz+/hieAL+GZph9Q9Ev1rA6tH/mSvQRA187BdbJPOQu4T931SqyDsF4Cn3L4bshry3Knj14zYAYpdLaQ14P2BLBkVGY5L6eh8mXMpDY1lSQoyi7hawHNlnDyG+i6kHaxZ5nHJr96tQ7c1iCBNTdJvdZPm+kwKP1lYRrT2eV54Eot9zxxJ4uTA9Cxwg+V9T3UWQZe0+IEbhIz44SKD2fCL7jZ38Frme0v7puV6TbCwNs5JGng/m+YU+H1RXHO2u2+oRXHR630gkgUA5Wp+uOYVukxBo1tcCfLHP29O1lNimi3lXMRzXK2fahvdrYqD3qUn2HZKV83JUo7QOvr1odxvp6jLXNBUqMlTT8n0tB7YeQxd33S6P4QN2soGYheKCZgB0PWA7mRXwLim1Ol/CpgTw6WxIL56xSxRApfTwWr4mh4q3pJjFNUizOiiSIQe1d+M+lHNdX7IEd6K5Wx0M82FPQzg2cgzkM2jMd9YXpE77xqbIQ1Mgy1YhpH35vCzpQAW8Z40wfjcE2FOgdDhmMmJ21QDnCEE6fVYWjMZJw3eImd/2pvnIz2WNoT2tqrx4bLnmynATWSdPv5LIs3Nj0YzzZCUmH70a51gMve95Wh0czMMeXEMgAlndaRD3o2XcMO7LyfIT20ZdQ/qDJGkr+MiE7LGI6Hzc2zYwPsyQGCsW17gH1wBf7mlSxTlVOfytbK1viJ6n0s8lkpfLh+NrfROpZqSdia0WNSXg6im3l5va8TNxRCAMlYTv1IeRA27NnFGuLrOUv6nkTlzJXhFJ8VKNcbd+lARGkow5SykAZY0V9TydC++C1rlwM9pmUGCtFILj9ELJ4+X4plBCoo8JYsIkGZ70WEWjugCZNqa5gD25xcRG3Wd7jNJXMHKYsREmf9Tq5wgegjr0RjPfN2npsZcbsGZs9MT4a7TbaxkYDhDz6pvbW3DEreT3M7ZP3aaMn5cIc6eAdDkcwsgJy+M583MCsQrkLD8UTdTDLfVHUr7ITok6Krw+xc2K0oreFXe++1jLKtcVgjuLxByDrtPJ6wGaVxEOV1fFI7eMKo49Clkacf02hYDMzIHBdv7oKsFFPKZ9tM0fJKv1sMlmpfCLCRiZtepGbNbrdA+Mu58v9JbAgOcx1wvVXDshzpY9aVgXlavtGMExNjaNvYVDcpdW9VfW9yrQPxcdKEQlqPypESYG6tfShHwax19ezL5yw+XRajsDKT3thQccLo1GlEyV9cyR7tmyfY/Ia8ZS97u7mQoNmf7CrAa7ogTlf1g3J9ASGzqJBdXdUbxnzEZakCMRIomswEihHGMLrs1zofsKnCqPgNVJ5lU2OhWXly+2POVuCD9AKN0ph6mQW67jQi9nwi4eOW9AZ5VpXvOwpRyoL9ZaPFmGndQiPS/vwwQys44PoQ3pHvCi8/MExmqcQVv5ygIFGWgYMhYCCdc6L7ljKEUSvckeAj8QVliK5E+rZoZeF6zEalX4G2vC1v4lob3yXCfJ0wi0/dZbDa7RRJ4QcqDn+0QoWnClLOlaP8vlo2do+vnQoDsknxRKQeuWlyBX1PZ0I7YPXMlkxsm1SYqwUgeD2w2vWSPh+KZQWqDND72PBZi8PyPi65CDQUAc7OqDV9vauqHis3+hdOUMSMX0ehNmcJMs7HaVgro86qPRQ8+mDYr2VOg3V2I4VrBda+TqyA0rFNPXaauvlmiOaQSOBwpFVB5drpxS8ZKzfpPWsHY2PE54Wysqm6NTOWhg5BP7T76H1WTIyOC4s5UGm2fdX5e+wmLMlLXYf7N9UD/U2v1zFckcOnOQUo9oI8TV78rdK0UGZILBOMptgHa9XR2F4Z1f+VolyrRde9mTLuGz1VnZasT0sBCR87Sy2j31lCoiL8YfQ8pcK1u+uDuhosbdR2XOYDz7AwCdA9sOcubUHG6zccicsvL1l0+6aHswRvRDPDhE8qMGq1GMgSl2v9DNQx8/+CmZ7o+rZXObGnwmFdNSvjJjLGtW0EXwe2HzgabY0pQcOKGuvvQiU42oOnyr2wDSfHsD0V4/ifdT+DChr28dAmw2xQNi0R5Dv4Xk+oq/qPojQ7X3E9sGsr+qMAJdfjc9Ki5UiEdR+KLI4fb80SgzUET6KhIQd4WOOw3tw6lqfVphJzcIQ9o5LfpRFTD9+WL+WTTmxKSU8plaGKHAZxqFBTimxrb6jAcYdvWTZE0fES6QKbHrqjRSAI43g0WnWU51ltxbWErKlJ6zXrTiZq4zA/yCAOb1YaDDZeT9d1IiZFTYtqnbWwsohGn9xjWvFCq3P0okfZvIp/nCu2TH1GAbmV7OpGZsP9rKXeswp4lUst7lcScimPWA9YaM3WC+wETJl4Utg5EPAbCSLS9tOYJ3kU7doJ5C+yTbs7DacdfkDFlGu9cHNnqxN0Uf0+Itf+MjbUQjKRfBetm/4og8dg4NSBrPOBvtDWPlLQ47QoU+Yfs221kspmD2Ffl9s+WU9UH3vIGqBjQJGQ8jn9mzgs0Q8n4BnB/oTaw+s8k1AM7bTvi2EXtffCZFPmXHWKRe5XfS8rmXG/kzgfmRv0zvuUto1CZt5az5nXsPW8bKZ1ZDLY4LkYOf1Z+OVA9wubBlHWYOzsLjIHOijul+g3GVt+0zwHiYHy6ftfFNZfS9aex+1fWDXa2XtAjjGnjkqTCdFxkrRCGg/2CVMFq18E1tYTMETKJpPsE+/yN8EQRBEVcJGLmVQVNbg+nogC/1PA3Rq5WbrlFvh46iPaoaNMMrAL0JH+PqHfJSoHKWPqBMEQRBEheBTx3326WS+BIB9KrCsS98IojjIR4lKQoE6QRAEUbWw5QD6dLJYClH+pW8EUQzko0QloaUvBEEQBEEQBFGF0Ig6QRAEQRAEQVQhFKgTBEEQBEEQRBVCgTpBEARBEARBVCEUqBMEQRAEQRBEFUKBOkEQBEEQBEFUIRSoEwRBEARBEEQVQoE6QRAEQRAEQVQhFKgTBEEQBEEQRBVCgTpBEARBEARBVCEUqBfD8gIsfyR/R2IZFj6QP4nqoWh7lo/lhWX568bCt1xVoHeCIAiCqGY+3oE6BgoLUQOk34xB9/fGIP9JuR+Ryz/sgP7pGzMoW22WF9CeUVXrZs+PsEO1YoHzMsx8fx8cf0vuXneounLqLT92CPaN5OSexj9fhuN7+iFLnVeCIAiCcGUVA/UZOLmjFe5Ztw7W8a0eeif9gqMZOP6H5rXr4J6W7XDyl/LUBzMw+Pgh6D/nERDo5Mdg332Yzi23w+0HTkNeHg5keQb6vzEGzYeSUCsPRWMNxA9+F2LP7oX0b+QhomTyr+zjfnTL7bfD3tOhreliT/Sx/1gP6/71LXD77cchy49VlvzIXngCvgadjWvkEY2FGUi/EtKvVxrs5Bx/cQwuZF+Afd84DiefH4axoUPQ8RNL3trkM5D8xT73zumn4tD5RAwGvpWGKi0hQRAEQawqqxioN8Ce0XH41eI49HxuK2yN5aH/1SnwCtWXJzMwFWvmvxOpWfjV2dOw59/zXYBLGHi/eBJ6T2XDBd2xrXDiwrvws7+Q+yGZSR2EqUf3w9ZPywNFUQvth++D53rS4TsI1y05DNyysCD3KkXsCyfgV//3Z7BH7ofFac8G2P/3szD9X4SfVZz3xqD/e3VwqKNBHhAsX52BidOD0Pv4l6Hx/j+CjovV6CkLMHYOoP2rCWj+/GaoHZqCf7XtIbjpHycAblI7HWug+S+/BrlvYcfHrXLf0Q6df/AcdKdv/NpAEARBEFGpjqUvNz8C7fvuBXguDWPvyWM2lmFq+mbYlVwv9zUa98D4D56Boe7tEJOHglkDN/8b+TMM72Xghe/cCe1fKG4s3ca9Cdjzfhec9J1BuAFYuAxjr+Y8O19l5VM3R7A94mPPm9d7+FmZmRk6An//5xjoug2mr78TdnXvh0TJ8SubNchUoFO4Hra2bcX/I1fehEnsbMdrYpD4wa8gtVOzxKe3QvLzJ+Hoz9zHzRu274HlrpMwEdpR8pB+TMystXkG+NY1/dPyEGSh3/ceO/l0G97fH2FmJVr6oZjuRxnaIH1V7pdMBWQskezTaKfHvAYuhLyWDSsM1zfzG0XnV9PQxo+VV47o/nVj4W/3FaBCdiWIclM1a9Q3f+4RuBcGYficS7VdmISxTzZBw7+U+w7WQ7xtDyR+32P5QBnInxuGQTZ6WNJoukktNG+/03cG4UZg+R8mYFT+rjbKa89iyMLYCYBHPmcfTWesqWmA5qY4bPz072F3slQ+BPgAt0og1/Xn/2EM3nzgTrl8aNnlBdE1sPmPdsFYesJ9icsdzZC4qx/GzkevDZmOQfdA5+okjI7I3wXi0Lm4CEPJSF26CFQ6/XJwPci4WmCnoKWXz9guLg5BsoYdww5fVwdkusfx2CJ0NvILy0IsOYRpdqJFiJWncnYliHJTPS+TslHmz+OD9ydnHA/zhckZ2Li9wSNoYS+wLUD+rSxM/DJvD3w/WoDL02OQTmdg4mIeFi7NQM4jFuDLDSYnIPuW20KNBZj5eQYS8Y1iBNGVZchfnOD5mFksMJk8li3UNjRB7LlJuCj3VwMu3/RlWJCBFdfBdK48S1V+k4En+o5D/qMluMZe8sTNHsAJfY2lT8Lg6QmYuaobxmnX5fcuQ9bTRirSFpNZuOw6QxPGnm6IdDNDg5BR9KZjymn6wsKVMRh87iRk3lLKeHEKRvMPweZ75X4189Ey5Lg+ZyBvFmE5C7331UP/L4Uud9y7URw+NwinXd6/WPMHmyH52hhkXd/NqIWGphgc/3nE2rAzAQnoRZ+V+wrZIfYQ7oEeuU8QgVzNwQz+01CndmJyMIcdvsQdZZhJJaoIsitx/VBEoG5NKTumCCV8SqtwPuy0Ui089GgC4FUMaGzP6xyMTsag+Q65q7NwEX76vQ7Y9sVW2P7spBVkvjcGh/7TUcjFNsPWrc1Qd20QOnb0Q9YRuP0WJp87BC/84hr+fhfOfP12aH06ywMsi8sw8yI24J/1qNQfZOH4N3rhDMbkH/68Cxr3DEL62D44eXkJcj/aBq3PX5YXKtxSB5sx3dyqvFSag8zj+2AQ5YO5YXj4oX5I/6gbel/Lw4eTB+H+zrHSgnUMTI+PzMBv2UBubgKGfzQIg7hNFsq6AGOP3wP1fZchtvUR2NEAuN8I248peke7Dn7nYWi9n9l1FE4zG52fhyVPG0kWJuH44y/AFDNn/gzs/Xet6H/6lQH2dOO9Ceh9uA1O5m6Fzdt3QANMwON/iDpUg2+UaOb7X4bGb2RgHvc+vNgPyfvugb2vxuDW9/uhbcRy7PzlKbi40xyFrlYWIPtcGzTuxnrD+5tvwckvH7KWp/2HPbDxfw/C5dpOmM+OwcTp43D8g4cg6VZXY7fCnZCBNz2WcNz6mc0Al3KOTrovdx2AA90Avef0MXXs3PUB9GzR3zVwLvsI1VYVlkOwzW8ZSpHpF9DbVo9lEcqUPd/05QM2eXHDumLhtvRFHDOvZ+fsyxKkXJiOrTwuyxbEcg7rGscSG112m2wavByt2BVDG7eI61X9Beal46M3ntYm7Nzhb5EX2vllK/9MRz2/p5C/rw2c+nKTzb70xUPHUj/eeve4T/dTcwnVtCm35VveepR+4bCzzFM5bs/bxc+j2B0p6EbzZTc9+ubtVm7Fr6LZ1UUued5dXqlj2zFn++Gtf8Qhv9gc+tXqcOR8XPC+Pqxf6DJJfUi8dEm4YERi3hhuX2usfWpK7uOR4d3G2rVHDfOIvm9kj+L+WuNoVu47mDKOtg9jysg/jRp78doHn73Az3B+fco4mrnGf4q01xq7h/nVNqb+GuUy00Hm/9tXjLV/bcnJuHDioDH8ttxBpp7Ce9Y+aAzMyAPI3N+yPA4aZ0SWgreHjd1rtxmnfi33bVwzzhw6Yrz+vtzl1641Hv7xnGHMDBgP4u8Nir4ssNy+epG8/7pxJLHN2BZhO3J2Sd7szoUTe5WyCDk2/NXrxtK1M8ZB/K3qsXikr7imNWec+hKe23DUKFia62qDQx/crmFsJMux9sEBK03MZ/hP8Ni3zqCVFHzt6eLDmOLAFrTp36BNFZbOdhkbNqAc/yQP8DKo6Yr8NxzC/H+3ZCz9Th5GuO89gTqX++7IMrn6T1iU+hWJeWP063dz+6mlvvDsg8bRX8gdLNM1swBL16zfrgh/cKu7HN5OqDr3Q2mH+H27bfXaSkuvY2LflCGorTLbG1X/os3wkjNa+nZc6otsS2zlc0mDy2TeJ+/Ry2yVwS5jIQ+ljIVyF2SRsvmmK+Ww6cY9L9UHnHnpiDR0nXnlpcpjw0tvahoO3TG0MjCCbKDoy3afht0/XHRcsL+aji6Pe14ibaff2HXmogOZfkGP/D63+mUe8/ZbvRxO+bT7FFzPO9IJkbdHuSPZVbnXS+7C8YL/WXZRr7X7iXmfIpuX/I57FJt46te6xsvOtvIrlOwXnjIF65JwEi1QfxsffW/PG/NexkF0R2TMDw+j41kmt4MOULh+yXj9Cbx/Awa+8qF/4dmuQkBmGtbNufR8r718EK9tMfb+cNSYujwvgoglDJbEaQ6/xxbYOR2cw51OO2aCgfTA37wpd5BfHDU2FIK1a8bU8Kjxpi1KNBGO3xUQVJefN41TzyqB6/yo8ZWCHEvGm5lh43XfWrNkTD37sNHyJdSbr+gujaiKHti5VGxGaBtJfT54wnaluwx+9kT0BkX4kr2zwJEyb5MBvFMumb/aIZHwcnkFFQW0xjGI91Gn1/TtjHHkT06hD7qc87EfK/MG7DgdmZAXYVA+N3HU2P11e+AeHqELU1cOeDvSVaj3/ki9cr0IHVl+I86JfXHOevDarw1qq3Q/4Eibqw9zi2jp23B78CF2n1LLpqDK5JYOnh9GXYlcg2U087GOq/q2sOnHo06p14TLS0e3IeJlAw8desmv68I9Xe0amZavDQLLJLD7l7uMbjqzH/PKS0uP66YYPerl1/Ln12p1BFGvKcbudr+3sOksRN6u5ea42zXIR0LJZWLTo8R2bN6YyrJ4StWAJpdbGto1XvqdwnaGpR+mbtoog1/w30XqknASbelLTZx/2SFWI6c42HRFC5tAsohv6QEY6YB6Od3BpktiySR0NoZ5ZWYNbP58J8TygzDJv+U2A5MfbYWmIj7Csf4L+/nnFwc726D1/nq4/ZZ7oO2UyxKUz94Kt8qfRfGpZtj/Z2J9LiM3Mwn5WBPcyaf/10M8mYCNPvLPL5RlRXgENkL7N+XXOpDlf5yCNCTgvo3sDYA1sHF7Epp93zO7DBMnxiD76ihMXZGHigGzm3/1OBx6bDtsf+wQ9L74P2BOnnIQwUZ1t5RkTVfmLrFXYuvgVo8XTyfOz/Apu9jGzRCHKZh7RxxnS2HgIzzeFketV5o8TPytWGJk38ZgRll+ZNte81pogmmNnMT/r4GJY0nYvmMfdH+fvbS5C77/g2L/hoDgzffYmiQv5iF6dYhDeyoBmZew3rFd/hJpAnY8EPyyZGltVTBR0s/P8dXRUMtfYLSI1akvG4t1teZ0fWGTSzY4jc3Qg3sdm+Q5Np1ck4TkYWy75SUWechdwn/uqtW+mBSD2rvkz7C8M4e5KvnKrb7DlKzceSWg7ja5b3JbHR7NKPXPxGs9ci3U7UR9Xomy4CqEDUwcZa0gXnq9lBP1gqPpLJQe49DcjeU16xe2AnxZ2b4kz0/4bS+0qrrArRWvEZRid6/6MAO5q2HyNnEpo4MoPuKUqzhiEG9k8VRMWWYiluSEx1u/cWxnWPrBdVOjZL+QMvW12vJzL1u5dHljE3GNurnmqB7m9i3yt6UXz+LDSKWxUxxfnIUUc3DZoAWthzJZ05SAA/fmof8nY5CbzMByU7PHS6RB1MLW/nF49/9Mw/jfpaDvz+pgqvPL8MQrlQyM85B9bQLg0TiEfUfwzn9rr15u8L+4GWVzXbztzsXpYQD+aT15IJAG6Pxf/xPGL/wd7InygF3Ow4z5EujyDJx85H7YNgTwpwOn4fSpZ6Dnq3+MoXCVsobZaAGWvD6eElsvOj737oIDbWtg+KluGHx1DNLfOwhHPuqDnx0q1oejEIPmr+6H/d/Ut12w+bN/DHscx3Hz/NTovGhod34X/uso2mf0BPR9cw8km2ojvnzrZPNn/DpSd8KtwdXBQeyBHZDAgHhwGmvg+VHI7NwBTWH8ucS2KpAKpd9zVra92ia+XCG+6sL2Z7EDU+gorMj6zx4YV+SxtpX9ssnMXMSS2oLZcPjb4MbA1GO8LYX1axQm2Zrn6QkMtnqgWS3nzhTMuuhi8ZQI5ivKSuVdhI+EwVxfX3/lgJR9vEIvwJevbob1C/H1JGee9MWp6EQL1KUxmMG9GqR8Oi1fGIhB8pQwzDjreYUetWiApiSGuUPD0P3fb4atRTZ8+TT7U/0YY316I8Q/n4T9A2l48ZsAJy+6jKoH8elbMOyfgrl35b6K/KuoJy9idLwwA1OsV37vnYXAbOGVbjhu/gVVleUluMaaEvVP17uyALmZC3Ahwjb3nl+knoOJpw9B96ussqG8p/MY6CgvNV48Dt2nAzozsQaI3xExZHtvEvpHhO4XXvsxHHolBge690ODSzL5V07CWCVaRRM/e7qw8Z6H0FITkNNl+nCJv3TbHr9P2PvqJAzXpmD6pz2wI74Ztv7lEPzqp1jGT7GTdmLsj3f9en4FgqdiuBluZQ7hOiLo9vnFMCzD0jWAmzz8ffn/4UnM7Ca5H4maJtiBgXDvuX4Y7MgURvuCKL2t8idK+upIoYoYNTQRo3vOl2cVrqYhLV80E5//w3zZYMrIHNZ8nRg0bcNg3hGEyBGxKPDRNvcv8AjcRngZxeblMnIuRwJ3OGZTvEbO5SjqtqZQ/iIIYYPVwEuvfqP6YfXI61cGRs/nIXuuF6C7uRDccb81gzVXSrG7V30Qo7DBeUehnD4SFjkKzTp9h4vtynrrN2/qJbBuapTsF0Ima7SdKJVIgbqoJGrlyUP6hDKZgQ+Jgx0d0Gp7u1c4Iz4O3I22cA3y134L15SHP/sDKFvRJRbuTWCVLJYP4WRmQvkyCPsDRzH71BbLE7fAAeg1GLjci44/7wxg82MDsO/FUXgr/yEsZ8fgJB4rfN7rgyycPL0REuZfUFV5911sAnZAg9fXbAqsh41NzdAcYWuo8Rm//eUwfLXvJExdwcDorSkYuwiwuaCTHKR/eA22bil13JSxHm75DP5zbUnoF4PaW2vUpi4Py8oI9cLFKQydBcv5nPXpw7A2Qvg1/xziSh97urGmaQ8cezQGgy+r/oTamszARGMffG271Ncnb4KbXnweTr42JTtNU/zzl/kPxGmVm2MbeePKvg4TiKmLFaMW4l/YCnD+TXtw91EOMt85BMNFLXnCB/Nr98J9n3V/3OXfxZy2N1izKubXFwK+DiHAQHgfBqN9vc7RPi+KaauiEDX9xnZI4UOvo0sZ+eZpqNPTZjlbbaPy5rR5/zS2x10d0NFi/yoEf4hiEAIuAY05G1Gv6DmfPggdGJxEoiYpvsDTon5twlwiKXQgRuA64KBN9nB52UbJC3nZdcu+gQ7dB+T3z1Usvdn08jSbiu+BA5FG+IJsIA+sNK56TUCqzScADK1HUWY2I9Tap6Vp+u0mLQ1lFqd4u7vXh0SqXQSEIfIOTzl9JCTyc6Cqb+fTA5hfNLz0W79Jzt6FqJs2yuAXpkxqu2J+/aZsM5YfJ+Ra9dCIFwDWFrajWfkShvJSAn+RQLlGfeHA4oLx/Ja7les2GPd/64x8IYKl+bD19YxfPG9s++L9xobCtXcbLYltxvPs6xPzZ4wu5dzdW7qMM5jI/PBXjIf37zUe/vMuY+DZAWPgCdz/9hnxIhy7R8l7w2aWFsqTaDHulsfWNrQY235ovQI49dQG7UVFya9PGbu/tNc4+myXsffbo8brw3uN+3exPI8YB/cfNV43vwiiwb4Y4vUiTUVhX5HZstvoQvn27h8wXh87irrdaxxBHR3Z32Wcuhzqbb5w5EaNvQ0bUO8DRhfqYsr8Mg5a4cy3txkbGpgcaJu/OmgceflNY+pZdgz1/q1RYz6CjeZf7jJaGuQx5kdffN64wHxGuf/uLdJfJO72tKfP8ux6WVrod/PG68/uNlrahT8d2f8wlmvYeLNQJsa8Mbr//kKe1rbB2PbMlO1FZvHCjv7lGgmTHf37/g1WGkyWbQnh29GYKvKrL8xGWMb9R2T92Wts+/qAMeXhz4FgPdm2weXFJY54idzWTsgXmpwvJDHcXvwSLyq5HbNeivJ4AYrdJzf1nOvLVl4vWnGipe/EbEvlxuzm9jKZqZvCpsnI71HO2+zvlNE8Zl7Pzqkvhrnr210/+vPBYT9NdmdeTtQ0Vbn1vPx1i+h60/N0ta2bvhBfG7jrS8euP/d73HTjZRu7PjSfcX0pURBOj9JHPOwU6OcR7V7Qjct9Or55e5Y7pF01+ew2s3A97pa3fkzPT7Ej90NX+YPrsFuZdTuH80/rejfdF/J1taO/TF66JJxEDtSvG5bMsGgp8AsXYViaOGJsSJxy/+IF+4KJmoG+7wADk7/CAJZ9wnE1YJ/VU+XT98uK0L9r6lxPeE75bKGh/q4gvvb0g+vKzZ+WjAvPtBgt2PjZY+8lY37iqPGw46sx4hOVlf/qDzaWHg/DUMgvydhsVARzP35YfAJU7ttYws7jBqVjTqwg6B8uD2we/AQ8yIlqIFyn4HqDgjiCsCjiDx5dJ6wxl3+sgfXr18P6Et/mW9PUDj2f1P8Yk2QNpq9moO/rfDAFYyO7YP9OZRnOSvJJphNFPn2/rAj9u6bO9YTn1HXLgWv2y4OvPf3gunLzp8sw9sMsPLQlrr1wuQZiTbvgke0X4cKv1Sm/Wti1dz8M/6zEPy4VSC3EH/394l8C/ZSLjSKTg4kRgJ4/dX+pdvn8GAw/uh92BS4DI8oNn9rXpvvZFLVjiQNBEASxKty4gXrZwcDqiR0w9qPSA6tc+gWY794DzS4vGRIrRfnsKWiAXU8mYfCZ49pfv12Ay+nj8Px8D/zFVvs6xzVbDsCxj16AwaidhUjEoPkLDe4dpRVi+dxJSMf/s0cgnoPh1Dx892sr8WUcQid+WLxsav7lT761zEDqjSGXtd4EQRDESvMJNqwufxMhyKX3QT90wolkkaPhVwah7Zmboe8HCQwVidWmZHtqLFwZg5+eGITJ929i7zNjlPp70PDldmjfGYeY26j0B1no/8YENP+gE+I3Ysftgwnobc/CQ4Pu5cv9qA361/fBidWaXSIIgiCIKoYC9cgsw+Whfrj4QA8ko07VL8/A4LE8NHdvpSC9aijBnuXivQno/wnA/r032qhyHjJPj0Ltvj2un6hc/uUg9M83Q4/n99wJgiAI4uMNBeoEQRAEQRAEUYXQGnWCIAiCIAiCqEIoUCcIgiAIgiCIKoQCdYIgCIIgCIKoQihQJwiCIAiCIIgqhAJ1giAIgiAIgqhCKFAnCIIgCIIgiCqEAnWCIAiCIAiCqEIoUCcIgiAIgiCIKoQCdYIgCIIgCIKoQihQJwiCIAiCIIgqhAJ1giAIgiAIgqhCIgfq+XQbrHssDXm5XwmyT69T8shD+jHcfzrL9xhuMvBj6/rBumqlyEL/unXQlq6URkT6/dNyl+PUSclcTUPbujZIX5X7nEqXzYLbHPOqtG85cCv3dD/KoutipdF0r8lUdn/n6Usb6FtUP5Np2X3WQsjupV9R7rL6dkjs7Y4bUjZ1K0HOaDasQJ0nCIIgqp7rYEQ9BslTi7B4OC733Yklh2BxsRP8r7pRCKeT0olD5+IiDCVjcr9CYGDX2peA1BtYplNJLN0q09iJvjQEyRq5Xw2skEw9Z9EGaHNrG4eevlYKEHmHrhVmUrNO3RTZYfp4tVkEQRBEMdDSF2LVyc/N4P8boLaaAmNCEof2VAKgb2CVZxhWl+xQB2R2puCYrdOKHdk3UpDoxp8eswcEQRAEUQoRAnUx9VrfkQEY6YB6Nu1rThOb0/LTbNSJTQlbI0xieldOE+PmWEbBR6qs886RO3XK11sG12lkPW2v5TK2aX/nlHxgGXyR8vuk75DTLAeXqxV68WdvizgnlhM4deI2qieWk5jH9Wl763pevk0YiOB/HZvYOVNGt6Uv3ulwHL4gNvdlEIo9sZSt7FpuI5GHfg8vT8E/TNmydv26jPwWltXIzSyPZ7nNMtjsVJ5y67J4LQ9x4CqTiuVnlr0CZC6BostRBnzrY1j/C2x3VPKQuyR/6tQkYehwJ8Qbpa7VdGQeat5CdmFH8Vu1SYi2ArHp3nepDkEQBHHdY0Rkfni3sbZ92JiX+5zsUWPt2rW4HTWm5CEGv1Y99vawsRuvO5q17+8etlIT92BahTzmjeF23H/KStlNBkdeUqZCXsjUU3YZC3kpabtf41MGPHNUK4OFh+yR5BTpq+cd6TpkQmzHnDLyPFQd8ut3G8Nvy32Odp+nvZT7TF9Q0nZco+HQiWuZpcwFXYprbOk65JN6cpRTL5MmGy+DX7rFldtRThfbW2i612SypyXLqabtKbOqZwVPWaSeC3r31mnhXt9ymXJoOi+g52fHUQaPvH39z1M3WrlUzHR9rnHIZt6jlEX1Yf16vU7a5TZtrOrVX1cEQRDE9U9Zl770nFXXW+YhV3cMZt9ot47V1EID/jMzJ8aA3KaTY8ljkNopd4omD+kTvQDd49DZKA8h8cPj0AO9MGAbIe6BcWWtd7wtBQm8ZoKPggWXwZerOah9chZm26z0Y3X8bsjxkTJvOcfPNkPo6fSaJtiBOus9p4zNnR+FDJatmaWL6TS/MWvTc+0dCYCROcjJ/TB42ysDHUPqiGQCUk9aa81jyQMoSQZGz5d/7C+ROmat265JwoFugMxLk2KUcXoQOkbssrBrjp0dhwN1OXFNCMpV7tyVDMDOOqjle0hjJ8ymUvhDTSMqbBS2HsuJfqysd+Yyo1+p7xcIeXT/t2PO3FhbK/RiOoX3IbhOMS/1XQKp994TlR7dDVsf/e1QVLvD3xGYFdeYs3l8s0a9Yw/sUNoOzOdcLyR2smVDE9LCWZjowxZni9UeWMhR+7tqFbmHYDyFpXtHKZutrTCXJZnpEwRBEDcaZQzUE1B3m/zJiUG8MQaxmpgyVS2WcQicDyZBDGrvkj+LJgdzIyjRHYWQSFILdfigzVwJG54GlSGAmjjE8d5YjTKl3aLe7SUn3tfINrkbSAyatqkP7DxMvpTBIFYGNCwtJgeeNZdCiOUmUQiw16Xwge9K4bX2PcZ1G9fK4UX5yh3f0mML8tiSjVgyiYGXW+AWhhkY4EE6+pBpa46Umb/oKP2Ob8G+W3iZlK29xv0Ee3lS6cgKncplSsrWigFo5SmxPnJKaXfkS9zmy6RcR2zZlAzWa0SHWXQaWFCegB1Psk6C7JhPT6CssvPswKzDls3Ykpl4shOSWGaCIAji40lFXyY111LWXzkgH25sRLsKiBBclVYGMzCuh7l98uF+tjIaMEdL+Wje1UkYHcEg4QH5gC+sxx2AOvZlFZRjlo3ElZOIo/M3DFHKzUdlmf7FyGymo577lv0dgCiw1fUpGEdbZjoOOtYz8yCb52ffQn3Fh808eKQLO1Mw65Ju2C/2iFklf5ydV0FVtSlsfboM1sVovQi2+YwOC8p37oAm7Kw3d4vzbIQdupuVDpUd8RUYq0z291IIgiCIjyMVDNTlNC8boXP9jKDXiKQc8SoJr5FzOYK9rSlUQBFchgDkCNo4PnzVpS0WXnLmIa8HR4GwgEAsf+HLXniQIM6IfRZclfJ5vwB7+QQgxWJfzhDdL+zLjCzyV6MExuUrdz6dRo9iWCOz42ypTugZHh2xBCVuLsPZZL6YKGQuLAEqEnPJSEeXtaSF63RkFCYj+6fCbXVKcKvB6wxAQ51bDS2xPnKKaXfYjJj/i7imvHz5C+pn8NxMoZ1hMymZlwZhAtN3X/YiyKJ/CJnEZ1HNDl2oZXYEQRDEDUlxgXqYUcSrOQyR7A+ZfHrANk3N14OPdMBBZUQxnz7Ip/ID8ZUBA6F9PXwaWR2Nyj7Npsl74ECYEUVGiDL4IZYJqIGiXJNewEvOeqjfZB9JC/Ow5vrEtNiylp591ugmXxtt01cWBl2XvmRg7h350wVveyUgpazDLx3ZgVECzdB+odLYLgJYJdBkswsHN9VrX8tYgXKzfDs6oNX2lQ8ReLK5DSvlYmCBv3j/olV+dcSUuV79Cgn/IkqUEXwMGNkMkFp2U6eFTgFDzhyF/QJJYbS+3j5azGZ+2NIw7Z2NAiXWR5Oo7Y44x5b76F9hwfrcJda7t5vy1rDlLxno7ctYnQ3WMcH7e0e8lr0gaJtW9I96VYd8Zkz+DoM5c+b7BRuCIAjieiJyoG4usRBrVH1GmeS0MMjpfXO6mi25KDygXa45CMf4KKMfoWRgywww7Rnl5bjWS2xUOcIfGAlTBh/YVPYsu51/+o9tbAkMGyVTAh03OfvUUXjxwlioZRI1Yo0sG2lVA4L4YTZyq64rZktgZGBnBgZYVv5CoN90O9PH4jg0qProaEBZy/2HeGTgyQJNmU8Yv3AiRq7H71Je/tvUAcCWhJjLNFaq3DwN3Q7iD+gMHQ67Xt4PGVSzNc7MplJm8Qd5ZH4tM/yPSkX6A1bon3zUv+DvUqcu5dCXvjhfTGWb8Hu+zAPltV1j2sZrtJyVqYT6WMAlHT//KixJOdug1GW21cPoNr3ccsRerYM1sl6qLxLrmC+rgt1XG86uwB8cIwiCIKqWT7BPv8jfBEEQBEEQBEFUCRV9mZQgCIIgCIIgiOKgQJ0gCIIgCIIgqhAK1AmCIAiCIAiiCqFAnSAIgiAIgiCqEArUCYIgCIIgCKIKoUCdIAiCIAiCIKoQCtQJgiAIgiAIouoA+P+Rwd8PMULOMgAAAABJRU5ErkJggg==)"
      ],
      "metadata": {
        "id": "kyObXLVLKkbQ"
      }
    },
    {
      "cell_type": "code",
      "source": [
        "# Define Mish activation function\n",
        "def mish(x):\n",
        "    return x * tf.math.tanh(tf.math.softplus(x))\n",
        "\n",
        "# Create Mish CNN model\n",
        "model_mish = Sequential([\n",
        "    Conv2D(32, (3, 3), activation=mish, input_shape=(28, 28, 1)),\n",
        "    MaxPooling2D((2, 2)),\n",
        "    Flatten(),\n",
        "    Dense(128, activation=mish),\n",
        "    Dense(num_classes, activation='softmax')\n",
        "])\n",
        "\n",
        "# Compile and train the model\n",
        "model_mish.compile(loss='categorical_crossentropy', optimizer='adam', metrics=['accuracy'])\n",
        "model_mish.fit(X_train, y_train, batch_size=128, epochs=10, validation_split=0.1)"
      ],
      "metadata": {
        "colab": {
          "base_uri": "https://localhost:8080/"
        },
        "id": "0xZT7PQaKkSx",
        "outputId": "85fec807-cb84-415e-fe76-a0eb495f21f2"
      },
      "execution_count": null,
      "outputs": [
        {
          "output_type": "stream",
          "name": "stdout",
          "text": [
            "Epoch 1/10\n",
            "422/422 [==============================] - 42s 98ms/step - loss: 0.2738 - accuracy: 0.9225 - val_loss: 0.1006 - val_accuracy: 0.9733\n",
            "Epoch 2/10\n",
            "422/422 [==============================] - 47s 111ms/step - loss: 0.0865 - accuracy: 0.9737 - val_loss: 0.0619 - val_accuracy: 0.9840\n",
            "Epoch 3/10\n",
            "422/422 [==============================] - 43s 102ms/step - loss: 0.0520 - accuracy: 0.9841 - val_loss: 0.0557 - val_accuracy: 0.9865\n",
            "Epoch 4/10\n",
            "422/422 [==============================] - 43s 101ms/step - loss: 0.0373 - accuracy: 0.9890 - val_loss: 0.0522 - val_accuracy: 0.9857\n",
            "Epoch 5/10\n",
            "422/422 [==============================] - 43s 102ms/step - loss: 0.0270 - accuracy: 0.9921 - val_loss: 0.0519 - val_accuracy: 0.9868\n",
            "Epoch 6/10\n",
            "422/422 [==============================] - 41s 98ms/step - loss: 0.0188 - accuracy: 0.9943 - val_loss: 0.0560 - val_accuracy: 0.9870\n",
            "Epoch 7/10\n",
            "422/422 [==============================] - 41s 98ms/step - loss: 0.0137 - accuracy: 0.9958 - val_loss: 0.0506 - val_accuracy: 0.9868\n",
            "Epoch 8/10\n",
            "422/422 [==============================] - 43s 101ms/step - loss: 0.0095 - accuracy: 0.9974 - val_loss: 0.0644 - val_accuracy: 0.9845\n",
            "Epoch 9/10\n",
            "422/422 [==============================] - 43s 102ms/step - loss: 0.0077 - accuracy: 0.9978 - val_loss: 0.0523 - val_accuracy: 0.9875\n",
            "Epoch 10/10\n",
            "422/422 [==============================] - 42s 101ms/step - loss: 0.0070 - accuracy: 0.9979 - val_loss: 0.0580 - val_accuracy: 0.9880\n"
          ]
        },
        {
          "output_type": "execute_result",
          "data": {
            "text/plain": [
              "<keras.src.callbacks.History at 0x786388f3c460>"
            ]
          },
          "metadata": {},
          "execution_count": 13
        }
      ]
    },
    {
      "cell_type": "markdown",
      "source": [
        "#11. ISRU (Inverse Square Root Unit)"
      ],
      "metadata": {
        "id": "NHjinJTzRVwS"
      }
    },
    {
      "cell_type": "markdown",
      "source": [
        "![image.png](data:image/png;base64,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)"
      ],
      "metadata": {
        "id": "wcOXl0Y1RYqZ"
      }
    },
    {
      "cell_type": "code",
      "source": [
        "# Define ISRU activation function\n",
        "def isru(x, alpha=1.0):\n",
        "    return x / tf.sqrt(1 + alpha * tf.square(x))\n",
        "\n",
        "# Create ISRU CNN model\n",
        "model_isru = Sequential([\n",
        "    Conv2D(32, (3, 3), activation=isru, input_shape=(28, 28, 1)),\n",
        "    MaxPooling2D((2, 2)),\n",
        "    Flatten(),\n",
        "    Dense(128, activation=isru),\n",
        "    Dense(num_classes, activation='softmax')\n",
        "])\n",
        "\n",
        "# Compile and train the model\n",
        "model_isru.compile(loss='categorical_crossentropy', optimizer='adam', metrics=['accuracy'])\n",
        "model_isru.fit(X_train, y_train, batch_size=128, epochs=10, validation_split=0.1)"
      ],
      "metadata": {
        "colab": {
          "base_uri": "https://localhost:8080/"
        },
        "id": "tnF1ijtkRWk5",
        "outputId": "e3bc5d7b-3476-4629-87eb-0ad0d0756127"
      },
      "execution_count": null,
      "outputs": [
        {
          "output_type": "stream",
          "name": "stdout",
          "text": [
            "Epoch 1/10\n",
            "422/422 [==============================] - 39s 91ms/step - loss: 0.2486 - accuracy: 0.9271 - val_loss: 0.1074 - val_accuracy: 0.9703\n",
            "Epoch 2/10\n",
            "422/422 [==============================] - 34s 81ms/step - loss: 0.0974 - accuracy: 0.9721 - val_loss: 0.0762 - val_accuracy: 0.9795\n",
            "Epoch 3/10\n",
            "422/422 [==============================] - 35s 83ms/step - loss: 0.0635 - accuracy: 0.9817 - val_loss: 0.0634 - val_accuracy: 0.9833\n",
            "Epoch 4/10\n",
            "422/422 [==============================] - 35s 84ms/step - loss: 0.0432 - accuracy: 0.9885 - val_loss: 0.0594 - val_accuracy: 0.9850\n",
            "Epoch 5/10\n",
            "422/422 [==============================] - 37s 87ms/step - loss: 0.0314 - accuracy: 0.9917 - val_loss: 0.0563 - val_accuracy: 0.9840\n",
            "Epoch 6/10\n",
            "422/422 [==============================] - 37s 89ms/step - loss: 0.0219 - accuracy: 0.9948 - val_loss: 0.0498 - val_accuracy: 0.9860\n",
            "Epoch 7/10\n",
            "422/422 [==============================] - 37s 87ms/step - loss: 0.0148 - accuracy: 0.9969 - val_loss: 0.0480 - val_accuracy: 0.9860\n",
            "Epoch 8/10\n",
            "422/422 [==============================] - 36s 85ms/step - loss: 0.0116 - accuracy: 0.9976 - val_loss: 0.0554 - val_accuracy: 0.9847\n",
            "Epoch 9/10\n",
            "422/422 [==============================] - 35s 84ms/step - loss: 0.0080 - accuracy: 0.9987 - val_loss: 0.0516 - val_accuracy: 0.9867\n",
            "Epoch 10/10\n",
            "422/422 [==============================] - 35s 83ms/step - loss: 0.0059 - accuracy: 0.9990 - val_loss: 0.0535 - val_accuracy: 0.9867\n"
          ]
        },
        {
          "output_type": "execute_result",
          "data": {
            "text/plain": [
              "<keras.src.callbacks.History at 0x786388e78970>"
            ]
          },
          "metadata": {},
          "execution_count": 14
        }
      ]
    },
    {
      "cell_type": "markdown",
      "source": [
        "#12. ELiSH (Exponential Linear Sigmoid SquasHing)"
      ],
      "metadata": {
        "id": "Svzj-GM5S3jZ"
      }
    },
    {
      "cell_type": "markdown",
      "source": [
        "![image.png](data:image/png;base64,iVBORw0KGgoAAAANSUhEUgAAArcAAAB3CAYAAAAZ6mjqAAAAAXNSR0IArs4c6QAAAARnQU1BAACxjwv8YQUAAAAJcEhZcwAADsMAAA7DAcdvqGQAADGbSURBVHhe7Z1/bBzHledfDgGsRU5UsAEyPgsxCa8ZW7qz6M2Go4UXKyIWI19wEhWtM06wYuhcJnawG1rZhGZ8K4bJJTzmLNHavUhKEGuPSKTlH8mMAx5pYxdhKDvUBcZxdJeYMk62JETgOJLBWcQ4UYghGjAwV7+6u7q6+scMZzjU6Psx2prurq569d6r7tf1o/meMoMAAAAAAABoAv6V+hcAAAAAAICbHgS3AAAAAACgaUBwCwAAAAAAmgYEtwAAAAAAoGlAcAsAAAAAAJoGBLcAAAAAAKBpQHAL6s7K8or6VRnVXnfrsULLb6uf9ebtZVYaAAAAsH5BcHsr8naRFs7MUeFiiVbelYdW3ijSsvxZQ1Zo4Xv9dOyi2q2Q0syT1D9ZVHvATpFm/naEZt5Su/XmrRl68sA0KxUAAABYnyC4XVMKNNbSQi1Jtv15FUAs0Im93XSf7/x91L13D534tUhgpfjiGD351VO04OvRY8Hms73U/dc5uvgO0bWFHD356V469vM8fX1nji6oVAvP7qHu+/Xy2qlz9xDNlNjJX5+gPTvv086x7f5u2vPsgrxYozT5Jfo6PUaDnRvUkcpozTxDmV/109hZ9BXaYfY80k8zO75GmTvVoXpzZ4ae+eQ89R8qoAcXAADA+oT/hTKw1syXv71xY3njX+bKi+qIy42l8vwPPl++e+NhlkpHXRM4bmOpnOvjaTeWDxfUIca1fxoo3/0XJ40yF8u5x+625jv/X4J5uLz8bXFu49Mh0vzuZ+WBjm+Xf3FD7VfL76bKX/ozJttq82lGFo6WdwbsuRZcK0/91Z8xv4BRAAAArD9W0XMb0Qt5qKDSVEqJ8o86+fRS/qq335vn3YbJKBwy5Dg7JvcfzbMSFFfz1OuWo46tIaIv873qX50NKUp/8Rs0/PHXacmocvL+zxTtGZqgZ74/S493qkOs5jM/PkH37umiVnVE0kqZ/zRMu9SeDyYfUQ+13SH2/Lw3WpqFiW/T//qPPdRVXaetxwd2UebjJ+jwcxgI97NM0z8Yons/t9ew51qwiXZ95iE68XQO0xMAAACsO2Rw6wR/ekC4Gka7RV5jZ9V+QgqH2ik7qXZuQZYvLlBJjPW2UteeP6BrtkVC+9oSBTMbPtxDj/emWRjiUKRFptu53ywGh5Pv6qKej6nfNaFAM8eJPv2xDrW/GjbQ9j9/hGbycwikdK7OUG7icerZ4Vl4LdmQ3kGP/DxPc5fVAQAAAGCdwILbAo3tHFG7jNGjFfdkDp++TtevO9ssDavjIzvHWO5JKVHxvPzVM36J5TNBmc0pypyU+U5kUvJkAtJPKVmeSqsjFjZnaELIy8tRxxrMhckxOqMWBqU+0kW3y5+V8/YyLS/LRWMX3IVG91DHF9g/3x2hrz9/wV1IJmmlvX//CG1Te6vm3DxNlR6i7REZLl8s0NzZC7TsLGi7usD27YvaNvzb7ZR5aYYKb6gDjeCtC1Q4U/D0uVJi+i1Qsfar8JT9gpv+UrLMdDy9ZzvdExPbrgi5+eLB+K8cVGIT2nAvbf/MHM0U8MoBAABgfWGZljBNi2+qn1WRpkE3wB2ho/p0AncqgLM5wS+f4uD12k5n291zzhQDZ1qCt5/3TYvQpy2U8r3y+KGC/O0E75NZalfHZZn8WmNagt6LLTZ/gJ6kfJkmwXSHd2/QNRW4lC5O09Tz6jhjw7YM7bpL7VRI8cxhGvqL3fTnu/fQtNuztol2fHaYWadAJ/Z30gf/sJ06P/0kjUzMiIBt012todMebmgBlrtdCw+VShfm6dy+e0N6mIs0/dV+OnXhBtFijh5+aIzyPxqikZdK9M6ZAfro4EwwmErdTvcyv3y9AdNHOMXJJ6l/4gLdYLLnHummsfwpGvrWz6j09hwNfPRJmqlRgLtyMU9DD99HLf/mQ/ShD5nbR+mYtoDwwrkTRNtaw3vx3yrQsUe76QtCbqJrL32VOnczX1ajATxw9QLzKmxCKbr9j1hb/Y0xdwYAAABoMCy4ZcHoaaevlTE0S4PuPM1qSVPXkPw1fVn17PCgcUuWhSg6I9Rd5ZzX6WyWXe3BA+JKp0GY+AJhF7uMNSm/cIye7OulXrZ94a+G6Ng5dXyVtH5ilI7/8BvUo/YdNvzxIP107hnKbOW94CW68M8naOyvP0Wdf7on4osEizTHgrlTPzK2fw5+HcGheJlZ+c4PalMiPBa+N0bX+o/TE3u6qCvzED10doQOFnfR8B6imW/NUOlfbD2MrdS2jwV0V+ICqQt06vN7aM/e5FuWBX+RnDtGY8tP0PEv91DXjgw9tKtAIweLtOube4l+PkIzpSVa/r1KuwpWWPvY/dFn6Z194/Tqb39Ll355nPhgRfq/ztJv2f5vf/sqDf6xSqxGObpSIaMZb0xT/8799MrucZoQcnfRri9+gwZvG6Gv/ndutxWa/0GOFm+TyauzCbPKXczDLha9eewAAADAekAtLKuC+fJhsXrfvpp+Kbdfrqbvy5WXQtLOPy2PyRX33gr//bklmYDhpHGOudeIfDnedc7KfbdsZyV/4bBxDceRaX85d0Xft5fvXJuk/HhUWT55+Ap0RxbJjd/rq9Ft1+jcKN/Qk1/Jlfez9NYvHTBuXFssvzKTKx/9ysPlf8fzvftg+Re/VycVsq5+mVwcnVrqLK6z6uL18sn/9jNWU8XSVPnzLI+Dp7ngN8qvT+fKv7BWTup49w/X/rsAr//j0fLPPIHLU4+xun39F0xaJvGFqXJuzm4NhxuFo+WHH3y4fPRXEV8W4F+WuPvu8sA/uQUJhB4fm7LYW+pD91MP5Y+WryiI/O4+XH7ld1Plgf8s61C9TVhS3s56GvG1BgAAACCcVXwtIRrRe8fZ2kqpq0Vy+vlGdnpD+d2j6mAV9OzeQbLfKkWtW8WP1eHKOEwHtPm96QdVr/bkom9BU83Lp010u2+MuUDHvjKTvFfs18foS89HpV5hNvEGlzdsaqWOj2foib97jl440UNUOkbPn6nR+Hoo91Dfl3e5Pbor/3ee8tRD99/DJ0RsoHv2ZKgrpDOS8/pb19SvteOe3idolyvw6zT/Y2b7bfeKKRx80V5mR4TAjAtnjtLM2RmaipibuvDjb9OJ1AH67Cf0vu4VusF7hN95R+4m5VyOvjtJ1BX4Kgbz1FQXs/MKnfnxDG37bJeahrI6m9D5Eq29VQAAAIBw6hTcFmhOBa49d+mP2GGadReeaVvUwq9biPRT2uK2N1iwfQ97MVC7cSwvlejetqjU5yjHh5jVnk7rJx+jJ9i/S7+PW3JUW86dzRF9bBelEy7o235n/BK7Fdv84Kitkj9b+2qBctRFu/4kqVWIOr78S/qfp1+ln37xHnXEpEQXC+eIPrGd/N+WuEDnXiLalv5wYh/giPnOtI12fSQ4G3fD+3gIO0ZT9Bj1hcznrtQm9EBb9QsfAQAAgDpQh+CWL9TqVvNRVS/o5lb14B6hbv1TY2fzVc23rQuajN4iuBLlj6uZtQk/wVUrimd+QpQgmJMs09zzU+q7tBFMztG87c+0bvgD0YvX+gG957B6RA/hb5YsgXSR5g49SUM/52cWaP75EqUe0BaenTtGQ8/beo9X6MY1otvi6sfSlS6+Qq8sVLBdje6tFn/pbVi+FCwUpqiU2kH3uoHhAh0bnrZ/TcDhvSnq6Gy1zj/W6fmw4V3nztBPzvXQlz9p+5zaJvrgnUTzbyypfY338om0LOD8gNwN8jh97XN6ntXahGn7bXb8NjVxFwAAAFgn1CS41acatLiBLf9E2CDJPtk09Y2r5U3qG7hi25ml7Bb2by2+rZsE39cSTDwZ5dcauIzOFxx6aPw7mcQ9aEm+liD6SN9V//pgAdqZMRr41gx1GD2xIu21G/5r3i3R3JEsDUxsp7YPqmOhnKKBv81T0fcZMJbvi1N0qnOYHnlADlS7iHSVfz3j/al7iM4XKRB6/TpHXxg9QfOXWaR6cZ5mzhFtd3v2i5T/wTXa9aAtDCxR8aVtdP8fxVlgA7V2dokFVIm3D0eFnQuU++IInXh5ka7RBZrnAj/gveQU8/9A1z7mDelXR4o+/JFtTMeatt5mL4hfOUH3nxwN+UzdBnr/7duodLUUCKxT6X/PvHWRloyXGO5TB4/wiTdLtMzUv/KG+sRX1TZheV6do20dyUcXAAAAgLWgPtMShmbFdAP9qwupzARdf23cWMHPgsbX1mBaQucgzaqvN0QhZNS/HCHgUylq9S3cBTqxdw91399NY3z3+Sx1/6m2en/nfSwo/iC17+ar8J2/DGZc81I/3cd+8/Sd7SyI/sN22iOmG9xOm/41T8CueJal/w/yyxQjf9lJe55VM55Tj9N3Mv+Phh76FD05eoqmz8xQ/lAvdX51mY78cJA6VGzLr+eydB+S+yKPvUNMJrbz6xPsdzfd53xVgr2s3LeTpXfKYGzatp16zhWpZEZeH2YvEJ09tH0lR/3H36EnfzpMyydHaOS7x2jkwAm68TeD1PU+lVbn8utUSO2N/G5ufbiH0r1p6nngHcodOEbvDDxHw2+dopHRY3TsW/104p0naPBB44WgCjq+8D3q+9UI9fN8vztE2c+fotQzv6Tj+9z+0wAd6b2UKlxgYazB5gx97388RDOP99IQ0yvPr//T/ZSjPhr/xQSN7lignxwfoi89U5BzZau1CQt8Xy+kaG/a1rMMAAAANI738FVl6jdoapap+MZt1HonD8ZWaPniOXpl6QbR++9lQWNKLS6qFUU69fB9dOFL/0KjZvD3Liv7bRYAb1LHzX0LxYlPUfdvnqBXv+ksglpb+Dxeet8m2qCmRZj7tYLn+w7dFqkLl5U5GrnvGWr92fMh82eZXpffIXrvJtrkC075cUPfVdiELp+iTz1UpCdeHV79n1gGAAAAagiCW1AXVl4covue207/+/s9qxy254HyANHYc6GLoG5Vij/6FO1fHqZffnnte0952QN0hJ77XHjvMgAAANAI6vYpMHBrs+HBA3Tk3X+gU6v8wxQrL56gfPpr9AgC2wCtnxmmvT//R5qxLRKsJ2/P0Qn24vK1DAJbAAAA6w8Et6BOpKjn74dp5Yj3J18rhgVRY997Pw33pxsyHWHds6GDBr+/naaH8xT+Fd1as0Jzzxyj93/zCUpb5+ICAAAAjQXBLagf70vT4N+lae5Hc/4vPCSiRNPHL1DPqUEEUVHcmaFn/uYGnfrx2oS3peeP0YV9EzTYidcNAAAA6xPMuQUAAAAAAE0Dem4BAAAAAEDTgOAWAAAAAAA0DQhuAQAAAABA04DgFgAAAAAANA0IbgEAAAAAQNOA4BYAAAAAADQNCG4BAAAAAEDTgOAWAAAAAAA0DQhuAQAAAABA04DgFgAAAAAANA0IbgEAAAAAQNOwiuC2QGMtLdRi2w4VVJp1wtkxJdsYk7oCnOsezVNJHaKreeoVefVS/qo6tgaU8r2qDrbNqZeySZT+RZ1M2S229OURk6/SydhZte+jRPlHI669xRB21P2JY7UJSEzd9Sf93+/f8lhv3mfJVdFY31DtNKqd14lG1rtwyKxvre5XNp9ZTyTzX/ncqfC5WWOCNqqPXOuhriai7rxNivYR9E2bbuqCG/fYfXqtbFQJMrgVNxIpeE0UNdodqgSwGnpo/LXrdP26uQ1SWqWIpXOQpZ+gzGa1L5y2mxbGL2n5zdKwsGEtHDNFmZMsz6cSSwjATUCaBllbmcik1H6dMNtrnSjlByg7OUyzvP2vh7a6RvUG0aQyE8wOFTxfQO1gcVn3qHrmn8ywJ2mjnqUsqD6YpemhWREfDHaqw+scFtyyN7idI2qXMXq04rfl4dM8IHI2Fhip4yM718lbkLhRctlq0Eg3Z2hC5NUcN97CBHPafeN0xPeQZg/u18apZ4j9xAsKAE1P8fI00b42alX7AIDGUlpcYP/voNaGxxlFWpwk6rnr5ro7WKYlTNPim+pnVfAeDSfAHaGj+rCH1rUtNyP4DZxnm7WrWzuvDWe559g1Tne+GHZx81Xlaft5Iz+nt1nk5QT9k1lq5+eFLHI4xxwyc4cPnM2Q25Mnr6539l3p1bBgnV8IfMN9JSqeF0eD8CD+KfYysOq3NMswnz5SwDdDV34cvThb1FClM9RWcK9xRw9M3zKHQRkB3zLliszDq6fPF9w08nx7lgURjj9FyBAY9VA6C46GBOssN78fyXzZMUf3Wtmm7/rLSJa/IIGOo8tixOZh+kOS9uK02fBrQm0v9NXN7mT8ZV2ekzI7euHSqfzDZHWOh/p9hG+Iawyfj9FRwNZiC2s3UvbuUfZTv8+Ja009ybSuzRzZzvrlCfoou9Kwu9TbOqm3Gmk027u9HXuYPuPey0X5Np+xYNbJ4pvVtE9dv+61Rv0kRX8ao3xXp3JPpmX5VK0bB5+N2GaVLd5G/nwstk5wTwpgyBaQnRFpE3F9knYh6+fl49ezaBfMi7r5OSG3p/9o3Rh2D20DDmFyMDRfns62i/M2/1tzGyWhzCkcLm/cuFFuT8+LQ/HMlw+raw4X1CGN+aeN/PQyfNv+cu4KO38lV95vPb+xvD+3JLJw8wxsh5k05fJSbn/gnLjWzVumiyqLb7w+trxkXZx6K7nLS+Vcn5HO2fpy7KwkXHZHf04+SkYDKY9TZhhKtigbCjto+eh20eT1E5Ov0qfND9x6OdcG0kblbVzLkHqw68izjSGLqqN+TNgjYB89X0Ou2Dw8P4iqm5Df1LPPJsE624852Ots1sf1Z1/ZKl/9mLKP0+aS5h+qn4AMEdck1bFF3vC2IeX36mPmaamLusbTt9zX5Qrk67OhQj8WOB+UK943nP0ketblD6YxMXUiyzHTG3pQsujXybL1esb7WMPrbWtrvrJMf3DK0vINua/p8gaIrVMl7TOoK1/eIfJFl2/WM5lugjqXaVyZw2Tx2cEjaCNHrphyw/Rr+prCzTNS3+E2cctx9K+lkXlrNgrk66QJ0z1HlW3W2dCNWcdA2TqhcujpDftZWCsbVYIMbqvC3jgc3IoJIe1pZUXZxitvcQhxzFGMc96ndG5svj9fnmf5umUa5TgGdJXq7luclh93ZLDJ5NZFyWGVy6uvk79bVzcvrTzDKWzodfNvlnKj8hPy6tdwNFmi8o3ZbH7g5u2zo1E+s0eOnQ9Ize16Zam8pKe1yu9gq78sP9AwlQ8ImfXfOgXuV1yuBHmY9VRIuxk3LJ8/MYw6mdeEyicIs7k87sgs8zT0FqJLf/lJ8rfX3ZTBdtNayuVYvfh1CXQcKW+IT3D7cR9Suxxf/WJtz5H18Kfx1y24768vz2uJyeER1JmQK9I3kunZbz9FpA/5ZRWIco08VDluHlZ7GHoIs5nSL0/V8Hr78rWX5c+bPdEK/L6kS2za39BVgPA6Cb/j14XpzieLWS7Hlrd5TF5nKz9cpwl0I/QdI7OtXuw66zOAEbSRKZfCZ2spq18vjAh/kHkmkd0ol+FrP1a7+fVqq1O07jlB/Sf13/nc4XKO+ayJT24Xu68EdKmxVjaqhLp9CkzM4eJsbaXU1SLx2SMcZ5iGb6Ir26GzS05lcIan+PZilzt5Ws4/YQwd0Oa68gnWfO5r2j98PjSbcNLzMB1w55qyvPqFBEyGRSrKX7HY5UpTF5+vypi+7M+pZ/cOVhInRa1bxY8KsC0oq8XcXzVR3cmTz7elacpuMYYQ1ITywCbSJ0TYmeetbMyHIDZnKMPsHJgPze26OUWpzdowiz4/PAT/3CA5X8gZUnG3LVkmheLNRfa7h9ruUPsOndyvuFwJ8qghqQf2MmlGaE4N/5RenhLzovsifDo4H6qV2vaZ/uefvxU2pyvV1sH+v0BFzfbR+YfNyfLLkH6QtS+tffPhvlQmw9oqt3y8jqPlDYHbj/uQNvQmh/sUsbZPimzz0y+cUUNqBZpj97fhfr4QhJ1leaWYHN4QXTtlWX0rI5me1xOhNlP61Wf6h7Pe6p1isvP7UkobfpdDt8kJq5PyO9bWK2mf1VJznYr2pN3fbW2ukmdA1cTfT+xE61vaRE0V0DZfLBOLmg7oDOO7W6U+ZCNFO3azp7GWN59GkM4MUob5rB8lB4/R5AGFik3OF2szPSCUam2UjDoFt/LGzvE3HrUa19xEACtXH/sCJWWg4FwVUFf4fFsV4E69XGv3VnZm26VxZmlzrp0PJyBpp8V+5Sun1QtIhfgXPXpbJSs/a5FHIpj+D7BAaeRFPnepRGdeYOGX+1K0Vqx27r2Gc5N0F3ZeonH+AFU3NX1OW8117M7nOkpt6sVQ+F0dSPeyNjM5RWd40HF2jj2ohqlLye0GQcfb6JKok9RBTan7w2id0oB6O3Mu2y8fUD7qLaReG2rYPmtOyHPeXdBdyTNgddTlnr1vXLVhYxNfNEhOj+8LRd622i+wyC9c8LykT8bO+w6jgk6+1VCv52odglsekDhvIKpndHMrex/isDcefbLx2bzWMygDmbE3na8RXKdZ1fvJH/Ju74zvaw68Ry9usnQU+oI3ltdx9d5Uwaphq1zsgXrUGtyvN7j+ggsYdDraahxSMd3kVSNzGyEPWG0NSQUI/EZZvaPLnggZKIZwR5sI5AMPi6t8Cj8nQR41RvRyjs5R4eoZmprURxjsBHtawnqGPMJ6gGTvhBeYcaLzD+vtUWlUYF7K55WveSMFvI3L6+J1HC2vHafX+1LYCEes7Stg8w7au0++EBZeZPeSoS71MFcvKPxhVuED0E8yPdcOQ9faCFxSQm3G9Jucta53HKpXnj+Uq/4sU1idmN8pXVXSPqslVKfVPrdEe/JGnaxU8gyomvj7iZ0wfcseXWET5wW2amTPqDfKU1sK7D4r83VeIuSL9MKiWVpYD63q0XXvX/WiWhsloybBrT7VQO9aHz7tvan1Ob0lelf8zqwcmmABb+GQvM42bWH4QZZL56AKdvUhDz60J/er7d31usS9YUJnKNHFebM0VwFyOvtUD4wml9OtHvjEVhTO0Ht0sFlL5Lct+RCL+YLAZOHftYsZCq8cmW+W2Vi3lwgEuA6tNxX9ZqO9gCRGTTdhfqf3EDo9aUIOp6fU9+k69rK1pZ3ZnR9LkEclJLmJi6E7ZhvuS0luMkw2n05Fe4oJioXvMr89qPWYsAfPQJYHYn3+MiPz9/QTmkbkm2W+5tcxDxL4naGURMcR8oYhpkf59F2gU3r6WNt7BB8OJrIO/J4ivk/Z62hQBgy+QOLsKfu0hEjfSKDnWqGCfm/kRt0T1F5iwmzG9OvrqWtkvQMP9xhUkK/7Qyl/lMkSJNxnwurE/M55nlXSPqul1jp125P+TNGfbZU9A1wqtVGS+4mVGH07Ntli3C/4c7+Cnmc5ysPiCl9nn5yypMubCF03LI9udp9t12URHSTqt4Ejx4BPRzwu0O9fCVkzGyVEzb2tAjUh3bYZE4td1ERhL60z6ZpPzrfnZ04qlpOUtTTaZGj3nFm+W66a3Kzt53z5BSeTi4nSznmRryOnP60vnZvWwzmvT552rxFp1SRuy2R1TqDevs25JsImbBO6tE12F8f8af2TvFW+MXa1TwC3THA3ywtMaPcw6324EKUnKad14nvA94LXB3Rs1jcyD0s9GTJPPZ1uI3XcugDBkyd6Yr1XZ78P+usXlMPD9F1/ecnyF5j6sdjVLCtgq1g7OfZXGy8jRH8O/jJ5OmUD273D2ax2lOekzGG+Fsxboo47myu3noeeJsI3YvRstbW6JsyXhI5MmX3t1NObm4dV73a9RNu9cfX25SnyS9iOTVlYesdHnLKCPmPBzMeUn2HqLqx9etjqYB7zrvPn7y/fX++k9zjnmJavcY3ft9hm+p5OwEb2Mq22TqBfBzdP4xqb7SL9OXG70P2eb/5rgnW06N+iGzedlneo/wtMOUwd2WQ3WCMbVcJ7+P9UnHvrwN7GekXvKh/yxl9fAesT/gbb/sJeuhQ5lC2nAfG/MFefv5ZV7/wBAACA2lK3ryUAAFaDHD5f+/mEAAAAwM0NglsA1hlyJXY3jQzNorcUAAAAqJBbc1oCAAAAAABoStBzCwAAAAAAmgYEtwAAAAAAoGlAcAsAAAAAAJoGBLcAAAAAAKBpQHALAAAAAACaBgS3AAAAAACgaUBwCwAAAAAAmgYEtwAAAAAAoGlAcAsAAAAAAJoGBLcAAAAAAKBpQHALAAAAAACaBgS3AAAAAACgaUBwC9YdpXwvtbS00NhZdWAtOTsmyu7Nl9QBAAAAANxMILitgsKhFmo5VFB7nBLlHzWPRSMDuDEKveJqnnpZkNWIIC9YvwTy1gpW74HsNA2fvk6DnWxfBZv2rZfyV/lFSv+P5tkvO6JOYfIrXYuAtnOQrp8epunsgMp7rYn2JWEHs55CR44u1ohGlBlJgcYcG0Yg/CDCTzx/W/u61eK+snqCbcnqcz6S6d7Edp+pOevOT1fPmt2La0UiGzTC128WZPuqVxywJu2wASC4rQkpypy8TtefSqv91cIa+sEsTQ/N0vXrKshrMKnMBJNlkGpVQzuq3vvGqc+oMw92uS782wRlNqsEtaSzj8b3TVP2YNQD/RaHvwTUS/9VkaZB5hMTmZTarwb2ENk5Qj3jl9ZJ3Wp9X6kXtdA9AADUDgS365IiLU4S9dzVqvZvEa6eoSlW7+H+DHusNxIWVPQPE01O0Zkm6vEBMVwt0gL7p6MNQRoAANzMrDq4lUMkLe7mDk05w+q2YTZniMIZrjjrDcGLzdJFHlqOwBvSkMPParMMpUXmEyKPNxwghwe6R9nP0W55XshqG1Jx6upsCYfGhAzdNMJ+TmfbxbWifHHcHIoyhiti5XeQ1wVlC6ufozd/+dE20a4RcpllBSm9PEXT1ENtd6gDjeSONibJNE29bHqQg6lDm24S1N13nuuwqE6YSH9qz06zoDtL7Ty96d9vVmp305/8+NoS23z5Ob6m10ebSiPTm+1Clt+bL/jahvQbo7342pIkUh43b00jhjy2PB2EvbZkmcWJRnby9LJu4ripZ5GvV/fEtjblcfUf1u5s9xWnPC+fau+F8STwOYGpe7udvXrE19eRXa9btP05hg9Z/DuJPQWhtnKQdQg/b8pi8QeNaJvGE399lLxheg8eF1vABxLW1bg/ef4QTrzNHUJ8LswH3POmroL5uGUa92q//CG6Ummi9RdRT1GmjAfkfcmvg8i6OPdoNx6w+7DteS8w20BV95AGUl4F809vLG/ceLg8r/bZkfLhjRvL+3NLcvdKrryf7R8uyN2l3H5/+sJhtm/PY+PT2pGQcrw0S+VcH0/jlVVJPq68jjx9OZajRMq8v5y7og4wRD5avm75pjxaGrPuAV34MOTiCNnM9DKdW+ck8iub6HmbaYL1C8obbxPnGv+x4HUe1nOqTp5dbSh9a/U2iSrXphO3PtY8g/YR+Qf0zo5F1d1SN5nGf52OyNeUaVV2t+skcM6UVexr+avzAZ346qJ0arnOl7dx32DSBO0bqI9hk9D6GvnoBMpV15jpRTqvDm6+VdnaSyP2fXYP3kcC+To6ddOoa3xlmWmiCOraqgMfZnuw2Nlij9D6GulsMgXzC0+jy5HEnrG2stRF+oBhS1OHehka5rVO/nr5OtayLD5h2iOge1e+GL37ZDF9SaXR7Bioj9vGgzKG5xNuT7teHJ+LsBsjXtf2fGQddPuZOrXoSuXNj4XbIkk95TU+eRixdrfqPYjIx9cOGQnuV+ud6oNbYYBgYzWdR+wLw1kMZFGgQHekMIf2OVuwgXF8siSR15eng+mMNmcwyr8yX56/slRe0vMx8g40Mh/BMuX1ZnpDpwnkF7LrDUnArFNgMhe0NLG6jLNJSB3DrnV0aMom8mTHLZuXR8i1GpENU8nk03dUnlxX3L5ql2PWNb7udp917BU8LhH5WnWUwO4hZfnrLbH5yVIux2RXefjKTFoXW3m2a41j1vopXbg6ttQ3YLsIm3IsvmnVt0hXiZ+H60e2O7UXsJFxnUU+QQJbWGW0EtSRVQc+TLva/cq0SWh9zbKS2D8yjWGrSHvG2yooN0evsz2P+dzhck7dYz34vZc/K/Tjdv05+Opt+KKDXzdx96sQvYfUw1++ylsv37SF2K/Qb8U5Rz4Pe7vmSJ3F2SVe1/Z8uO3915m6CbG5RV7fsUT1lDL59JfI7iF6Nwj6s70ujhxhfrneqH5awpuLNM3+y27Ruq3ZJoawNPhCpNmtfEirmxbGL1kWR1mGodWQ8OKb7LcoJyZNEhLKWxM2pym9OUWpzdpwzU4+sNBoSlQ8z/7Z2mrMaU1RupPJ3JlwrmGtbFIBtgVlDVtox3XF7auGdarzo7B51a3Utk/9rBnK7s7Qk7vJ4S4b6QeHvaFotvHhrlQmw3RuW9xU37qUFsVMWGo1Fnil2jrY/xeoGBgCDffz1q3q55oSph/e5vimduNoQLtrCIbdktg/Ok0lxNkqSVtK0Y7dPb40fCg5nRmkTOAey++9/FmR0oaYw9tlgCTPtaT3q0B7SUDiZ11lfivtOULdSl5nE0PoEYTdg6Yv8+leyXVt5sNtz6/zpia0U5b5yWqptp7J4xmL3mOJvp9LXa5/VjnndphmjYBDbvqqen4z6KHhIebGdVDKwmIls0CSyFsLnJtIOy32qzJOs2DhFqEymziowGNykTWt2tN6F3vYxOBfSCQbuBV3LtJRantN2vfSeHz+jUZ+BcDxeW+zrnIXX0Pg5y/ROL+hqfnfwbl8jaaJgrpVUl27u9lpjP3j2pL8ugw/NsueOvb5kg7OfMv2ywd81yQn5rlW1/tVHZ91+8bpkq8+ajtZ/YLjanXtBsPH25RM8r5YE6qu51rFMwbnizfF3Nvqg1vx1jVCc5bGqlM4xN5wth6gwaeO0Pj5bsvD0XJz0nsowt7uVJq9DyR084Ty1oSzc6wk6Xi17V00eqnU6u7kqAAy4JwlKkUsdghQK5sYyADU1hO3emQPjt3+1oVsSrc9u3cEbjAivbghreZzUWFvwRFBddVIu0+/cCbxTamUz7PHFkd9jor58uyQTV5Omrqs52pTl7AeWtnrMUxdgTYW7uei161SzBcu4eeVEGbr9dHu1jtJ7B+dxiDSnnG2StaWCqz9yPPyM2lOMBR8ASnQ3CirBR+ZquaTbwmea7W5X4WQ+FkX85w3EPas4ms1Yfcg2QtZra5LdOYFJil/oVlFYG2j2nrWN56JfjbZnonrkeqD280ZOsAeaCM79ZWRztCEWpV3doy6R5njC0diD8nvjBNZPo4/slNfxcfeBPmwxtAB2RDdciLSJCGJvJUQ8fYib6j6jZaVczzxQJMd9WDzVu+zPPk3YdVeUtK949QzmaUB7SWjlB+g9i1Gr1zU21mtbGKQemCvUcca0jkogjO//RnMR/lQTs/4Eb/cEQFD8TLTuu8BWaBTFU9LUJ8bG+329eYUDiUYkqyid9uxe7u+GlYNsQVeOK/yP6SRpW5fu5APBv76YbOOmMbA6qLnlaguSbB9d1jIyO3WZ+2lCPPzSocSZdCkP0SUn1dEmK3bRbvz9eatRbtzevJ8q71jqNOISmR9HZLYPyKNTrw9420V25b4c4+1n3Z9dbn6zGEA9RKtB72l/NHk7SbBc6029ys7lTzrKvJbx55bjGu430at2rfeT4fpAO9Rr1rXMqjzBXtnT9VkWkIl9fS9GNU1nol6Nild3gSsalpC+ik+vMHiVXfeB++l5X94YJBaeTc+c97h01oXuTAIN6R+Q++h8de6aE5czzemQP7HC7Q3K1nOgjYvRc7frfRNN0reSnJyb248D0tD40NSZjmL/fzN3XTiCmC6mxB/OUsOD7e0DBB9p9LhKwbP5/osdbj58Hk6xGzgDanF1Y9TK5v42LyD9vI3RkuviDOs59+MQNWR2dicgCtof7YJHzWH5tUNet9e2mG58fJ8Zof0eVJ8uI/bgh2LuvGaqL+Gptdt7sHo4a5U5oAsR6SvwJeU3YfZDcur+4LP7i4irVlHad8JZl/rrY3X5TWuXM+v4uqSHHazPcnkEXP3lTxbstQRsJsGr4MhzwAdES84FcHqxYdwPRvNURfLt+JBXaWfBc3W4sVf6/FqWLuLoWqfiyFJfSVJ7M/TMH8jLc1BoiPmEHkSe8bZKq4t8et5T60uS5i/WvyUD5lzGfm9Xg8uwoh7rtXsfmUh+bMu/jnvR9nccg+K6j3lvatdLzrpHbup53vVuua974a9+fQE7lvsWKBzoCKS1DNNfUpGfj78eVbDeMbWBs7z3v/K8m4k7+GrytTvtYe/7Yqbwnr6S0egofBeJfUgaNiCMfhl5TC7jb28gwZ9D2/ek9BOU7tZUBwWhAIAwKrhvZ3qBRz3GsBY5YIyAGoMe7s+onpWkvRa1BwR2PI/wWpMUwARsCD2YJZGjClHchrAzTOMBQAAoDlAcAvWHc5K44b03IohxYjhbmBBDq2ZUz7asx3ekCAAAACwRjR2WgIAAAAAAAA1BD23AAAAAACgaUBwCwAAAAAAmgYEtwAAAAAAoGlAcAsAAAAAAJoGBLcAAAAAAKBpQHALAAAAAACaBgS3AAAAAACgaUBwCwAAAAAAmgYEtwAAAAAAoGlAcAsAAAAAAJoGBLcAAAAAAKBpQHALAAAAAACaBgS3AAAAAACgabg5gtureept6aX8VbW/Ws6OUUtEfoVDLdRyqKD2OCXKP2oeqz+lfC+1PJpnpYPKUPZqsdvMqtcYn6ga4btSlrGz6tgaEfRjVfeWMVpbTwYAAADWDvTcgqajlB+g7OQwzV6/TtefSqujjYAF2QezND00S9eZLIOd6nADSWUmmCyD1EitAAAAAPUEwS1oOoqXp4n2tVGr2m8cRVqcJOq5q/GSAAAAALcKqw5u5TCnGgK2DQNrw7JiM4aD3WFSMSzspPOGh8X5LVmaZv9lt+jnCjTG0vbmC+4QtDfsK895+SUdhpXXdY+yn6Pd8lqjPmKo18nXMmXA1EdvPmJSQahu5LB6e5YFaZNZavedY8TolBMphzMEf9bIx1dXbyrGquvssy3bonTKtrjh+/D0mv0cvVnqFKpXzpt+nQRlSehbos7dNMJ+Tmfb3byErswyzWk3IfaJl8XfNmx+LG3llznafsn9AAAAAFgXlFfB/NMbyxs3Hi7Pq312pHx4Izv2tDpSOMzObywfLshdjnnNUm6/SONewwjkeyVX3r9xfzl3Re0LVFlG/jLtxvL+3JI64JShXS/kMvPzEOVr8rAcyrk+syyjrowwfeiyeJjnVBl9OfZLHeFya/uCMJ1q6WLlUHlE2q5WdVb2CMtD2ka73lI/j6CObPY29WESpVf9eMBvQn1Lr7+OoQuGtWzTv1cli5dG6MHnx0F5w+xXqR8AAAAA64Xqg9tA0KIozJfn+eY8FAMPQP8D3xocmHmbD3+B/QFrD2wMWUTwYObnEQwK7HXxyW6VMaR+HKv+5su5p3PleZWHuNZXFymHHtAI9LySyBEWQPr0UqM623TNrsuxfPl5m72Wcjkmm79cQYjdTB3bfcAjqFeGNW+/rwb9guNP4yd4zlq2qceksgTquCTbXkFLE2u/GvgBAAAAsI6oflrCm4s0TT3Udofad+hMU5pvofMNW6ltH9H05aLaXx3+/EtUPM/+2dpKKXlAkaLWreyf88X6DaUKfThTJ7xNDIHb2LyD9jI9jOx00vKh4jRlnspQerNKE0Dq1BnmdjcxbUORWA6L7e5oY0enafFNtR9HkrI6u2hYT8OHszdnWD25jxClHxz2pgiwjQ+JpzIZGmQ+ZFJaXGD/76BWQz+ptg72/wUq1vpLBz6UbznD/O4mpx6sLeF+Ltpep/9oKGFtuFI/AAAAANYRjVtQVs9AM4zJRRYe1hO1Qj+w2VanpyhzUp0/zQI8FiJ1i2Apfn7w8Gk9b2/zVuNXIsdqiSsrTYPq2KXxnuBc185Blf4SjfOXHhW4R85VtrI2wVjP+CUlr3+byCQMKG8iFhYxqxYAAMDNR/XBbVjvztWSClrDemhVj+7uHUavUy0I66FVPV1DXXUI7hRCHyM0F7MYyqNAeSeAcwK818ZZHlE9kFKnIy9GhL+J5bDYLqwnL4wkZV3NU16dl5+hYvXkwbx60Sjl8yqY94L92SGb37AUIT20skd3mLrq+qkt6VvTL5xZ/UuZ+ZIl9F4J4X5eqqT3OqwNKz/Y+0DzBewAAACan+qD280ZOsCCkJGdek9jgca2tFO76H1kwUo/C2JGu32rvAuH+DDuMB2ouKcrWc9cupcFiJNZGtB6/uR3T3tovLeC0LbSnmVXH9qqd5aD/JJDsDeW6yGbbff1UJZengoGOb5AyNOp7zq12l3ouQI5ArbbOcJeAA5QJnRahEFsWez3wSxld/pX+hdeZOWwIJ3+T54Gslnq9slVoLlRPmmC52TQ2Ufj+6Ype1Bbqc+C54EsC8XG+yp7camiF9/xrXb9CwzqSxBJe5plgK6/ECi9V0iYn7dvMWSJ8uOwNlypHzhf7zC+ggEAAAA0glVNS0g/xYeaF9RwOt9Y4Co+WK+GpHmP5GvjtODOK22h7vPjdKnS4XH3ISzzCH4SSYOlnbg+Sx3avNT2bAfNXp9I/LB2gxh+fQWfPJL6IG0Oajtlt2r60OBpuW4oQs5U5gB7DTCmKyidBq/zpiUkk4MF+6910ZzKw7VdhX/0ILos1Rt7mtXC9IGT7PyfcFvxnlqnjnzrpoXxSzTB5Ai+/sj8Zrd6c3T5fOOO05VNC7DqNQnKt4b1ebc7F5geKyif2Y9Pz/D0MUddose+Qqx+Tj5ZkvixrQ1z/Tf2j18AAAAA1fMevqpM/Qa3Cry3UQRlyQN+AAAAAICbgcYtKAMAAAAAAKDGILgFAAAAAABNA6YlAAAAAACApgE9twAAAAAAoGlAcAsAAAAAAJoGBLcAAAAAAKBpQHALAAAAAACaBgS3AAAAAACgaUBwCwAAAAAAmgYEtwAAAAAAoGlAcAsAAAAAAJoGBLcAAAAAAKBJIPr/UYRailPSU3cAAAAASUVORK5CYII=)"
      ],
      "metadata": {
        "id": "rOIE1n1_S784"
      }
    },
    {
      "cell_type": "code",
      "source": [
        "# Define ELiSH activation function\n",
        "def elish(x, alpha=1.0):\n",
        "    return x * tf.nn.sigmoid(alpha * x)\n",
        "\n",
        "# Create ELiSH CNN model\n",
        "model_elish = Sequential([\n",
        "    Conv2D(32, (3, 3), activation=elish, input_shape=(28, 28, 1)),\n",
        "    MaxPooling2D((2, 2)),\n",
        "    Flatten(),\n",
        "    Dense(128, activation=elish),\n",
        "    Dense(num_classes, activation='softmax')\n",
        "])\n",
        "\n",
        "# Compile and train the model\n",
        "model_elish.compile(loss='categorical_crossentropy', optimizer='adam', metrics=['accuracy'])\n",
        "model_elish.fit(X_train, y_train, batch_size=128, epochs=10, validation_split=0.1)"
      ],
      "metadata": {
        "colab": {
          "base_uri": "https://localhost:8080/"
        },
        "id": "OCRTIkodS5ug",
        "outputId": "5d57991c-de64-46e2-9db9-c23dcc03300b"
      },
      "execution_count": null,
      "outputs": [
        {
          "output_type": "stream",
          "name": "stdout",
          "text": [
            "Epoch 1/10\n",
            "422/422 [==============================] - 34s 77ms/step - loss: 0.2978 - accuracy: 0.9144 - val_loss: 0.0988 - val_accuracy: 0.9747\n",
            "Epoch 2/10\n",
            "422/422 [==============================] - 31s 74ms/step - loss: 0.0903 - accuracy: 0.9736 - val_loss: 0.0663 - val_accuracy: 0.9835\n",
            "Epoch 3/10\n",
            "422/422 [==============================] - 32s 77ms/step - loss: 0.0531 - accuracy: 0.9840 - val_loss: 0.0590 - val_accuracy: 0.9848\n",
            "Epoch 4/10\n",
            "422/422 [==============================] - 30s 72ms/step - loss: 0.0385 - accuracy: 0.9884 - val_loss: 0.0582 - val_accuracy: 0.9858\n",
            "Epoch 5/10\n",
            "422/422 [==============================] - 32s 76ms/step - loss: 0.0282 - accuracy: 0.9919 - val_loss: 0.0498 - val_accuracy: 0.9868\n",
            "Epoch 6/10\n",
            "422/422 [==============================] - 30s 72ms/step - loss: 0.0206 - accuracy: 0.9942 - val_loss: 0.0505 - val_accuracy: 0.9862\n",
            "Epoch 7/10\n",
            "422/422 [==============================] - 30s 72ms/step - loss: 0.0157 - accuracy: 0.9955 - val_loss: 0.0515 - val_accuracy: 0.9870\n",
            "Epoch 8/10\n",
            "422/422 [==============================] - 31s 72ms/step - loss: 0.0115 - accuracy: 0.9968 - val_loss: 0.0540 - val_accuracy: 0.9868\n",
            "Epoch 9/10\n",
            "422/422 [==============================] - 31s 74ms/step - loss: 0.0083 - accuracy: 0.9977 - val_loss: 0.0512 - val_accuracy: 0.9882\n",
            "Epoch 10/10\n",
            "422/422 [==============================] - 34s 80ms/step - loss: 0.0075 - accuracy: 0.9979 - val_loss: 0.0567 - val_accuracy: 0.9868\n"
          ]
        },
        {
          "output_type": "execute_result",
          "data": {
            "text/plain": [
              "<keras.src.callbacks.History at 0x786388c79de0>"
            ]
          },
          "metadata": {},
          "execution_count": 15
        }
      ]
    },
    {
      "cell_type": "markdown",
      "source": [
        "#13. Hard Swish"
      ],
      "metadata": {
        "id": "yduu5mS9UO4B"
      }
    },
    {
      "cell_type": "markdown",
      "source": [
        "![image.png](data:image/png;base64,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)"
      ],
      "metadata": {
        "id": "yPf25k6KUTDx"
      }
    },
    {
      "cell_type": "code",
      "source": [
        "# Define Hard Swish activation function\n",
        "def hard_swish(x):\n",
        "    return x * tf.nn.relu6(x + 3) / 6\n",
        "\n",
        "# Create Hard Swish CNN model\n",
        "model_hard_swish = Sequential([\n",
        "    Conv2D(32, (3, 3), activation=hard_swish, input_shape=(28, 28, 1)),\n",
        "    MaxPooling2D((2, 2)),\n",
        "    Flatten(),\n",
        "    Dense(128, activation=hard_swish),\n",
        "    Dense(num_classes, activation='softmax')\n",
        "])\n",
        "\n",
        "# Compile and train the model\n",
        "model_hard_swish.compile(loss='categorical_crossentropy', optimizer='adam', metrics=['accuracy'])\n",
        "model_hard_swish.fit(X_train, y_train, batch_size=128, epochs=10, validation_split=0.1)"
      ],
      "metadata": {
        "colab": {
          "base_uri": "https://localhost:8080/"
        },
        "id": "NUz6Ug42URtx",
        "outputId": "7d1debb1-c57e-4fd7-fd19-5c6bb4575299"
      },
      "execution_count": null,
      "outputs": [
        {
          "output_type": "stream",
          "name": "stdout",
          "text": [
            "Epoch 1/10\n",
            "422/422 [==============================] - 38s 87ms/step - loss: 0.3085 - accuracy: 0.9139 - val_loss: 0.1091 - val_accuracy: 0.9715\n",
            "Epoch 2/10\n",
            "422/422 [==============================] - 33s 78ms/step - loss: 0.0978 - accuracy: 0.9708 - val_loss: 0.0709 - val_accuracy: 0.9815\n",
            "Epoch 3/10\n",
            "422/422 [==============================] - 32s 76ms/step - loss: 0.0590 - accuracy: 0.9826 - val_loss: 0.0549 - val_accuracy: 0.9848\n",
            "Epoch 4/10\n",
            "422/422 [==============================] - 35s 83ms/step - loss: 0.0426 - accuracy: 0.9873 - val_loss: 0.0567 - val_accuracy: 0.9852\n",
            "Epoch 5/10\n",
            "422/422 [==============================] - 33s 77ms/step - loss: 0.0294 - accuracy: 0.9911 - val_loss: 0.0708 - val_accuracy: 0.9818\n",
            "Epoch 6/10\n",
            "422/422 [==============================] - 31s 74ms/step - loss: 0.0216 - accuracy: 0.9936 - val_loss: 0.0513 - val_accuracy: 0.9870\n",
            "Epoch 7/10\n",
            "422/422 [==============================] - 31s 73ms/step - loss: 0.0156 - accuracy: 0.9956 - val_loss: 0.0548 - val_accuracy: 0.9855\n",
            "Epoch 8/10\n",
            "422/422 [==============================] - 33s 79ms/step - loss: 0.0131 - accuracy: 0.9961 - val_loss: 0.0550 - val_accuracy: 0.9860\n",
            "Epoch 9/10\n",
            "422/422 [==============================] - 31s 73ms/step - loss: 0.0088 - accuracy: 0.9975 - val_loss: 0.0535 - val_accuracy: 0.9868\n",
            "Epoch 10/10\n",
            "422/422 [==============================] - 32s 75ms/step - loss: 0.0065 - accuracy: 0.9984 - val_loss: 0.0509 - val_accuracy: 0.9868\n"
          ]
        },
        {
          "output_type": "execute_result",
          "data": {
            "text/plain": [
              "<keras.src.callbacks.History at 0x7863796f29e0>"
            ]
          },
          "metadata": {},
          "execution_count": 16
        }
      ]
    },
    {
      "cell_type": "markdown",
      "source": [
        "#14. SQNL (Squared Non-Linearity)"
      ],
      "metadata": {
        "id": "k-7-UZfmV-1i"
      }
    },
    {
      "cell_type": "markdown",
      "source": [
        "![image.png](data:image/png;base64,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)"
      ],
      "metadata": {
        "id": "4EVZMk2gWLD5"
      }
    },
    {
      "cell_type": "code",
      "source": [
        "# Define SQNL activation function\n",
        "def sqnl(x):\n",
        "    return tf.where(x > 2, x,\n",
        "                    tf.where(x >= -2, x - 0.25 * tf.square(x),\n",
        "                             x))\n",
        "\n",
        "# Create SQNL CNN model\n",
        "model_sqnl = Sequential([\n",
        "    Conv2D(32, (3, 3), activation=sqnl, input_shape=(28, 28, 1)),\n",
        "    MaxPooling2D((2, 2)),\n",
        "    Flatten(),\n",
        "    Dense(128, activation=sqnl),\n",
        "    Dense(num_classes, activation='softmax')\n",
        "])\n",
        "\n",
        "# Compile and train the model\n",
        "model_sqnl.compile(loss='categorical_crossentropy', optimizer='adam', metrics=['accuracy'])\n",
        "model_sqnl.fit(X_train, y_train, batch_size=128, epochs=10, validation_split=0.1)"
      ],
      "metadata": {
        "colab": {
          "base_uri": "https://localhost:8080/"
        },
        "id": "G4zHwvW9WF35",
        "outputId": "4a6d024c-39a0-41c8-a291-6dc800b035de"
      },
      "execution_count": null,
      "outputs": [
        {
          "output_type": "stream",
          "name": "stdout",
          "text": [
            "Epoch 1/10\n",
            "422/422 [==============================] - 47s 108ms/step - loss: 0.2538 - accuracy: 0.9263 - val_loss: 0.1060 - val_accuracy: 0.9703\n",
            "Epoch 2/10\n",
            "422/422 [==============================] - 46s 109ms/step - loss: 0.1042 - accuracy: 0.9693 - val_loss: 0.0931 - val_accuracy: 0.9732\n",
            "Epoch 3/10\n",
            "422/422 [==============================] - 49s 115ms/step - loss: 0.0753 - accuracy: 0.9766 - val_loss: 0.0766 - val_accuracy: 0.9780\n",
            "Epoch 4/10\n",
            "422/422 [==============================] - 49s 117ms/step - loss: 0.0611 - accuracy: 0.9811 - val_loss: 0.0771 - val_accuracy: 0.9783\n",
            "Epoch 5/10\n",
            "422/422 [==============================] - 45s 107ms/step - loss: 0.0530 - accuracy: 0.9833 - val_loss: 0.0710 - val_accuracy: 0.9793\n",
            "Epoch 6/10\n",
            "422/422 [==============================] - 47s 112ms/step - loss: 0.0452 - accuracy: 0.9859 - val_loss: 0.0804 - val_accuracy: 0.9790\n",
            "Epoch 7/10\n",
            "422/422 [==============================] - 46s 110ms/step - loss: 0.0420 - accuracy: 0.9866 - val_loss: 0.0736 - val_accuracy: 0.9815\n",
            "Epoch 8/10\n",
            "422/422 [==============================] - 48s 115ms/step - loss: 0.0363 - accuracy: 0.9880 - val_loss: 0.0795 - val_accuracy: 0.9802\n",
            "Epoch 9/10\n",
            "422/422 [==============================] - 48s 114ms/step - loss: 0.0320 - accuracy: 0.9895 - val_loss: 0.0871 - val_accuracy: 0.9785\n",
            "Epoch 10/10\n",
            "422/422 [==============================] - 47s 112ms/step - loss: 0.0297 - accuracy: 0.9902 - val_loss: 0.0816 - val_accuracy: 0.9783\n"
          ]
        },
        {
          "output_type": "execute_result",
          "data": {
            "text/plain": [
              "<keras.src.callbacks.History at 0x78637df50a30>"
            ]
          },
          "metadata": {},
          "execution_count": 17
        }
      ]
    },
    {
      "cell_type": "markdown",
      "source": [
        "#15. SineReLU"
      ],
      "metadata": {
        "id": "QTgfuBtdYKJS"
      }
    },
    {
      "cell_type": "markdown",
      "source": [
        "![image.png](data:image/png;base64,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)"
      ],
      "metadata": {
        "id": "HGpgSDwgYZuI"
      }
    },
    {
      "cell_type": "code",
      "source": [
        "# Define SineReLU activation function\n",
        "def sinereLU(x):\n",
        "    return tf.where(x >= 0, x, tf.math.sin(x))\n",
        "\n",
        "# Create SineReLU CNN model\n",
        "model_sinereLU = Sequential([\n",
        "    Conv2D(32, (3, 3), activation=sinereLU, input_shape=(28, 28, 1)),\n",
        "    MaxPooling2D((2, 2)),\n",
        "    Flatten(),\n",
        "    Dense(128, activation=sinereLU),\n",
        "    Dense(num_classes, activation='softmax')\n",
        "])\n",
        "\n",
        "# Compile and train the model\n",
        "model_sinereLU.compile(loss='categorical_crossentropy', optimizer='adam', metrics=['accuracy'])\n",
        "model_sinereLU.fit(X_train, y_train, batch_size=128, epochs=10, validation_split=0.1)"
      ],
      "metadata": {
        "colab": {
          "base_uri": "https://localhost:8080/"
        },
        "id": "fSeiva4vYRnT",
        "outputId": "93a55656-d35e-4bc4-989f-9fc5d375f196"
      },
      "execution_count": null,
      "outputs": [
        {
          "output_type": "stream",
          "name": "stdout",
          "text": [
            "Epoch 1/10\n",
            "422/422 [==============================] - 39s 91ms/step - loss: 0.2436 - accuracy: 0.9271 - val_loss: 0.0910 - val_accuracy: 0.9748\n",
            "Epoch 2/10\n",
            "422/422 [==============================] - 37s 89ms/step - loss: 0.0795 - accuracy: 0.9767 - val_loss: 0.0622 - val_accuracy: 0.9827\n",
            "Epoch 3/10\n",
            "422/422 [==============================] - 37s 88ms/step - loss: 0.0459 - accuracy: 0.9861 - val_loss: 0.0574 - val_accuracy: 0.9840\n",
            "Epoch 4/10\n",
            "422/422 [==============================] - 38s 89ms/step - loss: 0.0292 - accuracy: 0.9911 - val_loss: 0.0557 - val_accuracy: 0.9842\n",
            "Epoch 5/10\n",
            "422/422 [==============================] - 39s 92ms/step - loss: 0.0176 - accuracy: 0.9952 - val_loss: 0.0505 - val_accuracy: 0.9865\n",
            "Epoch 6/10\n",
            "422/422 [==============================] - 37s 89ms/step - loss: 0.0122 - accuracy: 0.9968 - val_loss: 0.0575 - val_accuracy: 0.9858\n",
            "Epoch 7/10\n",
            "422/422 [==============================] - 36s 86ms/step - loss: 0.0075 - accuracy: 0.9984 - val_loss: 0.0519 - val_accuracy: 0.9877\n",
            "Epoch 8/10\n",
            "422/422 [==============================] - 40s 94ms/step - loss: 0.0043 - accuracy: 0.9992 - val_loss: 0.0568 - val_accuracy: 0.9865\n",
            "Epoch 9/10\n",
            "422/422 [==============================] - 37s 88ms/step - loss: 0.0075 - accuracy: 0.9979 - val_loss: 0.0607 - val_accuracy: 0.9842\n",
            "Epoch 10/10\n",
            "422/422 [==============================] - 38s 90ms/step - loss: 0.0062 - accuracy: 0.9984 - val_loss: 0.0609 - val_accuracy: 0.9868\n"
          ]
        },
        {
          "output_type": "execute_result",
          "data": {
            "text/plain": [
              "<keras.src.callbacks.History at 0x78637df814e0>"
            ]
          },
          "metadata": {},
          "execution_count": 18
        }
      ]
    }
  ]
}