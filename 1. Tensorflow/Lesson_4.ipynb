{
  "nbformat": 4,
  "nbformat_minor": 0,
  "metadata": {
    "colab": {
      "provenance": []
    },
    "kernelspec": {
      "name": "python3",
      "display_name": "Python 3"
    },
    "language_info": {
      "name": "python"
    }
  },
  "cells": [
    {
      "cell_type": "markdown",
      "source": [
        "#Squaring, log, square root"
      ],
      "metadata": {
        "id": "OphfGJH22ay0"
      }
    },
    {
      "cell_type": "code",
      "execution_count": 1,
      "metadata": {
        "id": "d9yXN0s22WZ3"
      },
      "outputs": [],
      "source": [
        "import tensorflow as tf"
      ]
    },
    {
      "cell_type": "code",
      "source": [
        "tf.random.set_seed(41)\n",
        "\n",
        "tensor = tf.random.uniform(shape=(3,3))"
      ],
      "metadata": {
        "id": "WPsnOAsl2f0a"
      },
      "execution_count": 6,
      "outputs": []
    },
    {
      "cell_type": "code",
      "source": [
        "tensor"
      ],
      "metadata": {
        "colab": {
          "base_uri": "https://localhost:8080/"
        },
        "id": "OLlfaD1y26dr",
        "outputId": "05bca7a7-f83d-4eb5-d944-401871971092"
      },
      "execution_count": 7,
      "outputs": [
        {
          "output_type": "execute_result",
          "data": {
            "text/plain": [
              "<tf.Tensor: shape=(3, 3), dtype=float32, numpy=\n",
              "array([[0.5692048 , 0.6666248 , 0.32513022],\n",
              "       [0.09477615, 0.1430676 , 0.9487461 ],\n",
              "       [0.26147044, 0.53215694, 0.5716516 ]], dtype=float32)>"
            ]
          },
          "metadata": {},
          "execution_count": 7
        }
      ]
    },
    {
      "cell_type": "code",
      "source": [
        "tensor2 = tf.range(1,100)\n",
        "tensor2"
      ],
      "metadata": {
        "colab": {
          "base_uri": "https://localhost:8080/"
        },
        "id": "9wfQYJyU2-UM",
        "outputId": "020aa786-cd0b-4325-fbeb-51df3c481189"
      },
      "execution_count": 8,
      "outputs": [
        {
          "output_type": "execute_result",
          "data": {
            "text/plain": [
              "<tf.Tensor: shape=(99,), dtype=int32, numpy=\n",
              "array([ 1,  2,  3,  4,  5,  6,  7,  8,  9, 10, 11, 12, 13, 14, 15, 16, 17,\n",
              "       18, 19, 20, 21, 22, 23, 24, 25, 26, 27, 28, 29, 30, 31, 32, 33, 34,\n",
              "       35, 36, 37, 38, 39, 40, 41, 42, 43, 44, 45, 46, 47, 48, 49, 50, 51,\n",
              "       52, 53, 54, 55, 56, 57, 58, 59, 60, 61, 62, 63, 64, 65, 66, 67, 68,\n",
              "       69, 70, 71, 72, 73, 74, 75, 76, 77, 78, 79, 80, 81, 82, 83, 84, 85,\n",
              "       86, 87, 88, 89, 90, 91, 92, 93, 94, 95, 96, 97, 98, 99],\n",
              "      dtype=int32)>"
            ]
          },
          "metadata": {},
          "execution_count": 8
        }
      ]
    },
    {
      "cell_type": "markdown",
      "source": [
        "Square a tensor"
      ],
      "metadata": {
        "id": "i8hRRoRK3hsD"
      }
    },
    {
      "cell_type": "code",
      "source": [
        "tf.square(tensor)"
      ],
      "metadata": {
        "colab": {
          "base_uri": "https://localhost:8080/"
        },
        "id": "NDwyZjmo3EOL",
        "outputId": "ee590e4b-4eab-4582-ef69-9853703b26a8"
      },
      "execution_count": 9,
      "outputs": [
        {
          "output_type": "execute_result",
          "data": {
            "text/plain": [
              "<tf.Tensor: shape=(3, 3), dtype=float32, numpy=\n",
              "array([[0.3239941 , 0.4443886 , 0.10570966],\n",
              "       [0.00898252, 0.02046834, 0.9001191 ],\n",
              "       [0.06836679, 0.28319103, 0.32678553]], dtype=float32)>"
            ]
          },
          "metadata": {},
          "execution_count": 9
        }
      ]
    },
    {
      "cell_type": "code",
      "source": [
        "tf.square(tensor2)"
      ],
      "metadata": {
        "colab": {
          "base_uri": "https://localhost:8080/"
        },
        "id": "GxKYBKSp3ixs",
        "outputId": "538a96ed-3075-434a-e472-ba12f790bb6e"
      },
      "execution_count": 10,
      "outputs": [
        {
          "output_type": "execute_result",
          "data": {
            "text/plain": [
              "<tf.Tensor: shape=(99,), dtype=int32, numpy=\n",
              "array([   1,    4,    9,   16,   25,   36,   49,   64,   81,  100,  121,\n",
              "        144,  169,  196,  225,  256,  289,  324,  361,  400,  441,  484,\n",
              "        529,  576,  625,  676,  729,  784,  841,  900,  961, 1024, 1089,\n",
              "       1156, 1225, 1296, 1369, 1444, 1521, 1600, 1681, 1764, 1849, 1936,\n",
              "       2025, 2116, 2209, 2304, 2401, 2500, 2601, 2704, 2809, 2916, 3025,\n",
              "       3136, 3249, 3364, 3481, 3600, 3721, 3844, 3969, 4096, 4225, 4356,\n",
              "       4489, 4624, 4761, 4900, 5041, 5184, 5329, 5476, 5625, 5776, 5929,\n",
              "       6084, 6241, 6400, 6561, 6724, 6889, 7056, 7225, 7396, 7569, 7744,\n",
              "       7921, 8100, 8281, 8464, 8649, 8836, 9025, 9216, 9409, 9604, 9801],\n",
              "      dtype=int32)>"
            ]
          },
          "metadata": {},
          "execution_count": 10
        }
      ]
    },
    {
      "cell_type": "markdown",
      "source": [
        "Find the square root of a tensor"
      ],
      "metadata": {
        "id": "SxwnRige3o9T"
      }
    },
    {
      "cell_type": "code",
      "source": [
        "tf.sqrt(tf.cast(tensor, dtype=tf.float32))"
      ],
      "metadata": {
        "colab": {
          "base_uri": "https://localhost:8080/"
        },
        "id": "vugI0Mut3trK",
        "outputId": "a4d9871a-0d55-499c-fb7f-48e55011e906"
      },
      "execution_count": 11,
      "outputs": [
        {
          "output_type": "execute_result",
          "data": {
            "text/plain": [
              "<tf.Tensor: shape=(3, 3), dtype=float32, numpy=\n",
              "array([[0.75445664, 0.8164709 , 0.57020193],\n",
              "       [0.30785736, 0.3782428 , 0.974036  ],\n",
              "       [0.5113418 , 0.7294909 , 0.75607646]], dtype=float32)>"
            ]
          },
          "metadata": {},
          "execution_count": 11
        }
      ]
    },
    {
      "cell_type": "code",
      "source": [
        "tf.sqrt(tf.cast(tensor2, dtype=tf.float32))"
      ],
      "metadata": {
        "colab": {
          "base_uri": "https://localhost:8080/"
        },
        "id": "ltkNimrr38Y6",
        "outputId": "8206d175-b184-4bb4-cb7f-127bb3726a93"
      },
      "execution_count": 12,
      "outputs": [
        {
          "output_type": "execute_result",
          "data": {
            "text/plain": [
              "<tf.Tensor: shape=(99,), dtype=float32, numpy=\n",
              "array([1.       , 1.4142135, 1.7320508, 2.       , 2.236068 , 2.4494898,\n",
              "       2.6457512, 2.828427 , 3.       , 3.1622777, 3.3166249, 3.4641016,\n",
              "       3.6055512, 3.7416575, 3.8729835, 4.       , 4.1231055, 4.2426405,\n",
              "       4.358899 , 4.472136 , 4.582576 , 4.690416 , 4.7958317, 4.8989797,\n",
              "       5.       , 5.0990195, 5.196152 , 5.2915025, 5.3851647, 5.477226 ,\n",
              "       5.5677643, 5.656854 , 5.7445626, 5.8309517, 5.91608  , 6.       ,\n",
              "       6.0827627, 6.164414 , 6.244998 , 6.3245554, 6.4031243, 6.4807405,\n",
              "       6.5574384, 6.6332498, 6.708204 , 6.78233  , 6.8556547, 6.928203 ,\n",
              "       7.       , 7.071068 , 7.1414285, 7.2111025, 7.28011  , 7.3484693,\n",
              "       7.4161983, 7.483315 , 7.5498343, 7.615773 , 7.6811457, 7.745967 ,\n",
              "       7.81025  , 7.8740077, 7.937254 , 8.       , 8.062258 , 8.124039 ,\n",
              "       8.185352 , 8.246211 , 8.306623 , 8.3666   , 8.426149 , 8.485281 ,\n",
              "       8.5440035, 8.602325 , 8.6602545, 8.717798 , 8.774964 , 8.83176  ,\n",
              "       8.888194 , 8.944272 , 9.       , 9.055386 , 9.110434 , 9.165152 ,\n",
              "       9.219544 , 9.273619 , 9.327379 , 9.380832 , 9.433981 , 9.486833 ,\n",
              "       9.539392 , 9.591663 , 9.643651 , 9.69536  , 9.746795 , 9.797959 ,\n",
              "       9.848858 , 9.899495 , 9.949874 ], dtype=float32)>"
            ]
          },
          "metadata": {},
          "execution_count": 12
        }
      ]
    },
    {
      "cell_type": "markdown",
      "source": [
        "Find the log of a tensor"
      ],
      "metadata": {
        "id": "trfKRgLS4YYV"
      }
    },
    {
      "cell_type": "code",
      "source": [
        "tf.math.log(tf.cast(tensor, dtype=tf.float32))"
      ],
      "metadata": {
        "colab": {
          "base_uri": "https://localhost:8080/"
        },
        "id": "R-1CnaTN4Z8x",
        "outputId": "c475a34d-e7a6-4cca-a3f1-807df9e4968c"
      },
      "execution_count": 15,
      "outputs": [
        {
          "output_type": "execute_result",
          "data": {
            "text/plain": [
              "<tf.Tensor: shape=(3, 3), dtype=float32, numpy=\n",
              "array([[-0.56351495, -0.40552792, -1.1235294 ],\n",
              "       [-2.3562374 , -1.944438  , -0.05261407],\n",
              "       [-1.341434  , -0.6308168 , -0.5592256 ]], dtype=float32)>"
            ]
          },
          "metadata": {},
          "execution_count": 15
        }
      ]
    },
    {
      "cell_type": "code",
      "source": [
        "tf.math.log(tf.cast(tensor2, dtype=tf.float32))"
      ],
      "metadata": {
        "colab": {
          "base_uri": "https://localhost:8080/"
        },
        "id": "lfWcsosH4tFk",
        "outputId": "9dbeee3a-012a-40cf-a2dd-cc7f217cce82"
      },
      "execution_count": 16,
      "outputs": [
        {
          "output_type": "execute_result",
          "data": {
            "text/plain": [
              "<tf.Tensor: shape=(99,), dtype=float32, numpy=\n",
              "array([0.       , 0.6931472, 1.0986123, 1.3862944, 1.609438 , 1.7917595,\n",
              "       1.9459102, 2.0794415, 2.1972246, 2.3025851, 2.3978953, 2.4849067,\n",
              "       2.5649493, 2.6390574, 2.7080503, 2.7725887, 2.8332133, 2.8903718,\n",
              "       2.944439 , 2.9957323, 3.0445225, 3.0910425, 3.1354942, 3.1780539,\n",
              "       3.218876 , 3.2580965, 3.295837 , 3.3322046, 3.3672957, 3.4011974,\n",
              "       3.4339871, 3.465736 , 3.4965076, 3.5263605, 3.5553482, 3.583519 ,\n",
              "       3.610918 , 3.637586 , 3.6635616, 3.6888795, 3.713572 , 3.7376697,\n",
              "       3.7612002, 3.7841897, 3.8066626, 3.8286414, 3.8501477, 3.871201 ,\n",
              "       3.8918204, 3.912023 , 3.9318256, 3.9512436, 3.9702919, 3.988984 ,\n",
              "       4.0073333, 4.0253515, 4.0430512, 4.060443 , 4.0775375, 4.0943446,\n",
              "       4.1108737, 4.1271343, 4.1431346, 4.158883 , 4.1743875, 4.189655 ,\n",
              "       4.204693 , 4.2195077, 4.2341065, 4.248495 , 4.26268  , 4.276666 ,\n",
              "       4.2904596, 4.304065 , 4.317488 , 4.3307333, 4.3438053, 4.356709 ,\n",
              "       4.3694477, 4.3820267, 4.394449 , 4.406719 , 4.4188404, 4.4308167,\n",
              "       4.4426513, 4.454347 , 4.465908 , 4.477337 , 4.4886365, 4.4998097,\n",
              "       4.5108595, 4.5217886, 4.5325994, 4.543295 , 4.553877 , 4.564348 ,\n",
              "       4.574711 , 4.5849676, 4.59512  ], dtype=float32)>"
            ]
          },
          "metadata": {},
          "execution_count": 16
        }
      ]
    },
    {
      "cell_type": "markdown",
      "source": [
        "#Tensors and Numpy"
      ],
      "metadata": {
        "id": "JmQQQEyo4yJr"
      }
    },
    {
      "cell_type": "code",
      "source": [
        "import numpy as np\n",
        "tensor_numpy = tf.constant(np.array([1,2,3,4,5]))\n",
        "tensor_numpy"
      ],
      "metadata": {
        "colab": {
          "base_uri": "https://localhost:8080/"
        },
        "id": "tanqwrPf4z8z",
        "outputId": "d5f91bff-4473-4682-cbfb-3481c5eddf9a"
      },
      "execution_count": 18,
      "outputs": [
        {
          "output_type": "execute_result",
          "data": {
            "text/plain": [
              "<tf.Tensor: shape=(5,), dtype=int64, numpy=array([1, 2, 3, 4, 5])>"
            ]
          },
          "metadata": {},
          "execution_count": 18
        }
      ]
    },
    {
      "cell_type": "code",
      "source": [
        "np.array(tensor_numpy), type(np.array(tensor_numpy))"
      ],
      "metadata": {
        "colab": {
          "base_uri": "https://localhost:8080/"
        },
        "id": "BzuY0Gjg5Hq0",
        "outputId": "07211d07-7f0c-422e-ff91-3933e202f2ea"
      },
      "execution_count": 19,
      "outputs": [
        {
          "output_type": "execute_result",
          "data": {
            "text/plain": [
              "(array([1, 2, 3, 4, 5]), numpy.ndarray)"
            ]
          },
          "metadata": {},
          "execution_count": 19
        }
      ]
    },
    {
      "cell_type": "code",
      "source": [
        "tensor_numpy.numpy(), type(tensor_numpy.numpy())"
      ],
      "metadata": {
        "colab": {
          "base_uri": "https://localhost:8080/"
        },
        "id": "gVrfOQIa5NsK",
        "outputId": "9c24cd11-db37-4d83-c40f-4f485c4eb4a1"
      },
      "execution_count": 20,
      "outputs": [
        {
          "output_type": "execute_result",
          "data": {
            "text/plain": [
              "(array([1, 2, 3, 4, 5]), numpy.ndarray)"
            ]
          },
          "metadata": {},
          "execution_count": 20
        }
      ]
    },
    {
      "cell_type": "code",
      "source": [
        "tensor_numpy = tf.constant([1.])\n",
        "tensor_numpy.numpy()[0]"
      ],
      "metadata": {
        "colab": {
          "base_uri": "https://localhost:8080/"
        },
        "id": "isEMKRTG5qiW",
        "outputId": "3abea603-92ea-4826-d91a-3a66fb21879d"
      },
      "execution_count": 22,
      "outputs": [
        {
          "output_type": "execute_result",
          "data": {
            "text/plain": [
              "1.0"
            ]
          },
          "metadata": {},
          "execution_count": 22
        }
      ]
    },
    {
      "cell_type": "code",
      "source": [
        "numpy_tensor = tf.constant(np.array((1., 2., 3.)))\n",
        "built_in_tensor = tf.constant((1., 2., 3.))\n",
        "\n",
        "numpy_tensor.dtype, built_in_tensor.dtype"
      ],
      "metadata": {
        "colab": {
          "base_uri": "https://localhost:8080/"
        },
        "id": "FXfAApwr6rVT",
        "outputId": "761757be-ccbb-4915-8669-f65eeced2cae"
      },
      "execution_count": 24,
      "outputs": [
        {
          "output_type": "execute_result",
          "data": {
            "text/plain": [
              "(tf.float64, tf.float32)"
            ]
          },
          "metadata": {},
          "execution_count": 24
        }
      ]
    }
  ]
}