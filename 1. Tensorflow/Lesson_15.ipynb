{
  "nbformat": 4,
  "nbformat_minor": 0,
  "metadata": {
    "colab": {
      "provenance": []
    },
    "kernelspec": {
      "name": "python3",
      "display_name": "Python 3"
    },
    "language_info": {
      "name": "python"
    }
  },
  "cells": [
    {
      "cell_type": "markdown",
      "source": [
        "#Neural Networks - Multi Output Regression"
      ],
      "metadata": {
        "id": "5t3nY7Lc4WPO"
      }
    },
    {
      "cell_type": "code",
      "execution_count": 14,
      "metadata": {
        "colab": {
          "base_uri": "https://localhost:8080/"
        },
        "id": "FYAv56gn4VPN",
        "outputId": "0651935e-d24b-4730-bfb5-6f3513f2869e"
      },
      "outputs": [
        {
          "output_type": "stream",
          "name": "stdout",
          "text": [
            "Mounted at /content/drive\n"
          ]
        }
      ],
      "source": [
        "#Mount the google drive connection to our dataset\n",
        "from google.colab import drive\n",
        "drive.mount('/content/drive', force_remount=True)"
      ]
    },
    {
      "cell_type": "code",
      "source": [
        "import pandas as pd\n",
        "df = pd.read_csv('/content/drive/My Drive/Colab Notebooks/Tensorflow Notes/datasets/Student_Performance.csv')"
      ],
      "metadata": {
        "id": "h7zYzSgZ5EDr"
      },
      "execution_count": 15,
      "outputs": []
    },
    {
      "cell_type": "code",
      "source": [
        "df.head()"
      ],
      "metadata": {
        "colab": {
          "base_uri": "https://localhost:8080/",
          "height": 206
        },
        "id": "roKQuAls5KBz",
        "outputId": "91d53342-5ce3-4865-951b-14b4f9f57562"
      },
      "execution_count": 16,
      "outputs": [
        {
          "output_type": "execute_result",
          "data": {
            "text/plain": [
              "   Hours Studied  Previous Scores Extracurricular Activities  Sleep Hours  \\\n",
              "0              7               99                        Yes            9   \n",
              "1              4               82                         No            4   \n",
              "2              8               51                        Yes            7   \n",
              "3              5               52                        Yes            5   \n",
              "4              7               75                         No            8   \n",
              "\n",
              "   Sample Question Papers Practiced  Performance Index  \n",
              "0                                 1               91.0  \n",
              "1                                 2               65.0  \n",
              "2                                 2               45.0  \n",
              "3                                 2               36.0  \n",
              "4                                 5               66.0  "
            ],
            "text/html": [
              "\n",
              "  <div id=\"df-60d9cf1b-b36b-47e8-841e-0815d1c6848b\" class=\"colab-df-container\">\n",
              "    <div>\n",
              "<style scoped>\n",
              "    .dataframe tbody tr th:only-of-type {\n",
              "        vertical-align: middle;\n",
              "    }\n",
              "\n",
              "    .dataframe tbody tr th {\n",
              "        vertical-align: top;\n",
              "    }\n",
              "\n",
              "    .dataframe thead th {\n",
              "        text-align: right;\n",
              "    }\n",
              "</style>\n",
              "<table border=\"1\" class=\"dataframe\">\n",
              "  <thead>\n",
              "    <tr style=\"text-align: right;\">\n",
              "      <th></th>\n",
              "      <th>Hours Studied</th>\n",
              "      <th>Previous Scores</th>\n",
              "      <th>Extracurricular Activities</th>\n",
              "      <th>Sleep Hours</th>\n",
              "      <th>Sample Question Papers Practiced</th>\n",
              "      <th>Performance Index</th>\n",
              "    </tr>\n",
              "  </thead>\n",
              "  <tbody>\n",
              "    <tr>\n",
              "      <th>0</th>\n",
              "      <td>7</td>\n",
              "      <td>99</td>\n",
              "      <td>Yes</td>\n",
              "      <td>9</td>\n",
              "      <td>1</td>\n",
              "      <td>91.0</td>\n",
              "    </tr>\n",
              "    <tr>\n",
              "      <th>1</th>\n",
              "      <td>4</td>\n",
              "      <td>82</td>\n",
              "      <td>No</td>\n",
              "      <td>4</td>\n",
              "      <td>2</td>\n",
              "      <td>65.0</td>\n",
              "    </tr>\n",
              "    <tr>\n",
              "      <th>2</th>\n",
              "      <td>8</td>\n",
              "      <td>51</td>\n",
              "      <td>Yes</td>\n",
              "      <td>7</td>\n",
              "      <td>2</td>\n",
              "      <td>45.0</td>\n",
              "    </tr>\n",
              "    <tr>\n",
              "      <th>3</th>\n",
              "      <td>5</td>\n",
              "      <td>52</td>\n",
              "      <td>Yes</td>\n",
              "      <td>5</td>\n",
              "      <td>2</td>\n",
              "      <td>36.0</td>\n",
              "    </tr>\n",
              "    <tr>\n",
              "      <th>4</th>\n",
              "      <td>7</td>\n",
              "      <td>75</td>\n",
              "      <td>No</td>\n",
              "      <td>8</td>\n",
              "      <td>5</td>\n",
              "      <td>66.0</td>\n",
              "    </tr>\n",
              "  </tbody>\n",
              "</table>\n",
              "</div>\n",
              "    <div class=\"colab-df-buttons\">\n",
              "\n",
              "  <div class=\"colab-df-container\">\n",
              "    <button class=\"colab-df-convert\" onclick=\"convertToInteractive('df-60d9cf1b-b36b-47e8-841e-0815d1c6848b')\"\n",
              "            title=\"Convert this dataframe to an interactive table.\"\n",
              "            style=\"display:none;\">\n",
              "\n",
              "  <svg xmlns=\"http://www.w3.org/2000/svg\" height=\"24px\" viewBox=\"0 -960 960 960\">\n",
              "    <path d=\"M120-120v-720h720v720H120Zm60-500h600v-160H180v160Zm220 220h160v-160H400v160Zm0 220h160v-160H400v160ZM180-400h160v-160H180v160Zm440 0h160v-160H620v160ZM180-180h160v-160H180v160Zm440 0h160v-160H620v160Z\"/>\n",
              "  </svg>\n",
              "    </button>\n",
              "\n",
              "  <style>\n",
              "    .colab-df-container {\n",
              "      display:flex;\n",
              "      gap: 12px;\n",
              "    }\n",
              "\n",
              "    .colab-df-convert {\n",
              "      background-color: #E8F0FE;\n",
              "      border: none;\n",
              "      border-radius: 50%;\n",
              "      cursor: pointer;\n",
              "      display: none;\n",
              "      fill: #1967D2;\n",
              "      height: 32px;\n",
              "      padding: 0 0 0 0;\n",
              "      width: 32px;\n",
              "    }\n",
              "\n",
              "    .colab-df-convert:hover {\n",
              "      background-color: #E2EBFA;\n",
              "      box-shadow: 0px 1px 2px rgba(60, 64, 67, 0.3), 0px 1px 3px 1px rgba(60, 64, 67, 0.15);\n",
              "      fill: #174EA6;\n",
              "    }\n",
              "\n",
              "    .colab-df-buttons div {\n",
              "      margin-bottom: 4px;\n",
              "    }\n",
              "\n",
              "    [theme=dark] .colab-df-convert {\n",
              "      background-color: #3B4455;\n",
              "      fill: #D2E3FC;\n",
              "    }\n",
              "\n",
              "    [theme=dark] .colab-df-convert:hover {\n",
              "      background-color: #434B5C;\n",
              "      box-shadow: 0px 1px 3px 1px rgba(0, 0, 0, 0.15);\n",
              "      filter: drop-shadow(0px 1px 2px rgba(0, 0, 0, 0.3));\n",
              "      fill: #FFFFFF;\n",
              "    }\n",
              "  </style>\n",
              "\n",
              "    <script>\n",
              "      const buttonEl =\n",
              "        document.querySelector('#df-60d9cf1b-b36b-47e8-841e-0815d1c6848b button.colab-df-convert');\n",
              "      buttonEl.style.display =\n",
              "        google.colab.kernel.accessAllowed ? 'block' : 'none';\n",
              "\n",
              "      async function convertToInteractive(key) {\n",
              "        const element = document.querySelector('#df-60d9cf1b-b36b-47e8-841e-0815d1c6848b');\n",
              "        const dataTable =\n",
              "          await google.colab.kernel.invokeFunction('convertToInteractive',\n",
              "                                                    [key], {});\n",
              "        if (!dataTable) return;\n",
              "\n",
              "        const docLinkHtml = 'Like what you see? Visit the ' +\n",
              "          '<a target=\"_blank\" href=https://colab.research.google.com/notebooks/data_table.ipynb>data table notebook</a>'\n",
              "          + ' to learn more about interactive tables.';\n",
              "        element.innerHTML = '';\n",
              "        dataTable['output_type'] = 'display_data';\n",
              "        await google.colab.output.renderOutput(dataTable, element);\n",
              "        const docLink = document.createElement('div');\n",
              "        docLink.innerHTML = docLinkHtml;\n",
              "        element.appendChild(docLink);\n",
              "      }\n",
              "    </script>\n",
              "  </div>\n",
              "\n",
              "\n",
              "<div id=\"df-36c4549e-d048-4a0e-a33d-ffad2df08312\">\n",
              "  <button class=\"colab-df-quickchart\" onclick=\"quickchart('df-36c4549e-d048-4a0e-a33d-ffad2df08312')\"\n",
              "            title=\"Suggest charts\"\n",
              "            style=\"display:none;\">\n",
              "\n",
              "<svg xmlns=\"http://www.w3.org/2000/svg\" height=\"24px\"viewBox=\"0 0 24 24\"\n",
              "     width=\"24px\">\n",
              "    <g>\n",
              "        <path d=\"M19 3H5c-1.1 0-2 .9-2 2v14c0 1.1.9 2 2 2h14c1.1 0 2-.9 2-2V5c0-1.1-.9-2-2-2zM9 17H7v-7h2v7zm4 0h-2V7h2v10zm4 0h-2v-4h2v4z\"/>\n",
              "    </g>\n",
              "</svg>\n",
              "  </button>\n",
              "\n",
              "<style>\n",
              "  .colab-df-quickchart {\n",
              "      --bg-color: #E8F0FE;\n",
              "      --fill-color: #1967D2;\n",
              "      --hover-bg-color: #E2EBFA;\n",
              "      --hover-fill-color: #174EA6;\n",
              "      --disabled-fill-color: #AAA;\n",
              "      --disabled-bg-color: #DDD;\n",
              "  }\n",
              "\n",
              "  [theme=dark] .colab-df-quickchart {\n",
              "      --bg-color: #3B4455;\n",
              "      --fill-color: #D2E3FC;\n",
              "      --hover-bg-color: #434B5C;\n",
              "      --hover-fill-color: #FFFFFF;\n",
              "      --disabled-bg-color: #3B4455;\n",
              "      --disabled-fill-color: #666;\n",
              "  }\n",
              "\n",
              "  .colab-df-quickchart {\n",
              "    background-color: var(--bg-color);\n",
              "    border: none;\n",
              "    border-radius: 50%;\n",
              "    cursor: pointer;\n",
              "    display: none;\n",
              "    fill: var(--fill-color);\n",
              "    height: 32px;\n",
              "    padding: 0;\n",
              "    width: 32px;\n",
              "  }\n",
              "\n",
              "  .colab-df-quickchart:hover {\n",
              "    background-color: var(--hover-bg-color);\n",
              "    box-shadow: 0 1px 2px rgba(60, 64, 67, 0.3), 0 1px 3px 1px rgba(60, 64, 67, 0.15);\n",
              "    fill: var(--button-hover-fill-color);\n",
              "  }\n",
              "\n",
              "  .colab-df-quickchart-complete:disabled,\n",
              "  .colab-df-quickchart-complete:disabled:hover {\n",
              "    background-color: var(--disabled-bg-color);\n",
              "    fill: var(--disabled-fill-color);\n",
              "    box-shadow: none;\n",
              "  }\n",
              "\n",
              "  .colab-df-spinner {\n",
              "    border: 2px solid var(--fill-color);\n",
              "    border-color: transparent;\n",
              "    border-bottom-color: var(--fill-color);\n",
              "    animation:\n",
              "      spin 1s steps(1) infinite;\n",
              "  }\n",
              "\n",
              "  @keyframes spin {\n",
              "    0% {\n",
              "      border-color: transparent;\n",
              "      border-bottom-color: var(--fill-color);\n",
              "      border-left-color: var(--fill-color);\n",
              "    }\n",
              "    20% {\n",
              "      border-color: transparent;\n",
              "      border-left-color: var(--fill-color);\n",
              "      border-top-color: var(--fill-color);\n",
              "    }\n",
              "    30% {\n",
              "      border-color: transparent;\n",
              "      border-left-color: var(--fill-color);\n",
              "      border-top-color: var(--fill-color);\n",
              "      border-right-color: var(--fill-color);\n",
              "    }\n",
              "    40% {\n",
              "      border-color: transparent;\n",
              "      border-right-color: var(--fill-color);\n",
              "      border-top-color: var(--fill-color);\n",
              "    }\n",
              "    60% {\n",
              "      border-color: transparent;\n",
              "      border-right-color: var(--fill-color);\n",
              "    }\n",
              "    80% {\n",
              "      border-color: transparent;\n",
              "      border-right-color: var(--fill-color);\n",
              "      border-bottom-color: var(--fill-color);\n",
              "    }\n",
              "    90% {\n",
              "      border-color: transparent;\n",
              "      border-bottom-color: var(--fill-color);\n",
              "    }\n",
              "  }\n",
              "</style>\n",
              "\n",
              "  <script>\n",
              "    async function quickchart(key) {\n",
              "      const quickchartButtonEl =\n",
              "        document.querySelector('#' + key + ' button');\n",
              "      quickchartButtonEl.disabled = true;  // To prevent multiple clicks.\n",
              "      quickchartButtonEl.classList.add('colab-df-spinner');\n",
              "      try {\n",
              "        const charts = await google.colab.kernel.invokeFunction(\n",
              "            'suggestCharts', [key], {});\n",
              "      } catch (error) {\n",
              "        console.error('Error during call to suggestCharts:', error);\n",
              "      }\n",
              "      quickchartButtonEl.classList.remove('colab-df-spinner');\n",
              "      quickchartButtonEl.classList.add('colab-df-quickchart-complete');\n",
              "    }\n",
              "    (() => {\n",
              "      let quickchartButtonEl =\n",
              "        document.querySelector('#df-36c4549e-d048-4a0e-a33d-ffad2df08312 button');\n",
              "      quickchartButtonEl.style.display =\n",
              "        google.colab.kernel.accessAllowed ? 'block' : 'none';\n",
              "    })();\n",
              "  </script>\n",
              "</div>\n",
              "\n",
              "    </div>\n",
              "  </div>\n"
            ],
            "application/vnd.google.colaboratory.intrinsic+json": {
              "type": "dataframe",
              "variable_name": "df",
              "summary": "{\n  \"name\": \"df\",\n  \"rows\": 10000,\n  \"fields\": [\n    {\n      \"column\": \"Hours Studied\",\n      \"properties\": {\n        \"dtype\": \"number\",\n        \"std\": 2,\n        \"min\": 1,\n        \"max\": 9,\n        \"num_unique_values\": 9,\n        \"samples\": [\n          1,\n          4,\n          6\n        ],\n        \"semantic_type\": \"\",\n        \"description\": \"\"\n      }\n    },\n    {\n      \"column\": \"Previous Scores\",\n      \"properties\": {\n        \"dtype\": \"number\",\n        \"std\": 17,\n        \"min\": 40,\n        \"max\": 99,\n        \"num_unique_values\": 60,\n        \"samples\": [\n          99,\n          78,\n          93\n        ],\n        \"semantic_type\": \"\",\n        \"description\": \"\"\n      }\n    },\n    {\n      \"column\": \"Extracurricular Activities\",\n      \"properties\": {\n        \"dtype\": \"category\",\n        \"num_unique_values\": 2,\n        \"samples\": [\n          \"No\",\n          \"Yes\"\n        ],\n        \"semantic_type\": \"\",\n        \"description\": \"\"\n      }\n    },\n    {\n      \"column\": \"Sleep Hours\",\n      \"properties\": {\n        \"dtype\": \"number\",\n        \"std\": 1,\n        \"min\": 4,\n        \"max\": 9,\n        \"num_unique_values\": 6,\n        \"samples\": [\n          9,\n          4\n        ],\n        \"semantic_type\": \"\",\n        \"description\": \"\"\n      }\n    },\n    {\n      \"column\": \"Sample Question Papers Practiced\",\n      \"properties\": {\n        \"dtype\": \"number\",\n        \"std\": 2,\n        \"min\": 0,\n        \"max\": 9,\n        \"num_unique_values\": 10,\n        \"samples\": [\n          9,\n          2\n        ],\n        \"semantic_type\": \"\",\n        \"description\": \"\"\n      }\n    },\n    {\n      \"column\": \"Performance Index\",\n      \"properties\": {\n        \"dtype\": \"number\",\n        \"std\": 19.212557799463344,\n        \"min\": 10.0,\n        \"max\": 100.0,\n        \"num_unique_values\": 91,\n        \"samples\": [\n          41.0,\n          49.0\n        ],\n        \"semantic_type\": \"\",\n        \"description\": \"\"\n      }\n    }\n  ]\n}"
            }
          },
          "metadata": {},
          "execution_count": 16
        }
      ]
    },
    {
      "cell_type": "code",
      "source": [
        "df.shape"
      ],
      "metadata": {
        "colab": {
          "base_uri": "https://localhost:8080/"
        },
        "id": "-4OkT-gJ5Lii",
        "outputId": "c500a2b0-c225-4903-f38d-52039316d46e"
      },
      "execution_count": 17,
      "outputs": [
        {
          "output_type": "execute_result",
          "data": {
            "text/plain": [
              "(10000, 6)"
            ]
          },
          "metadata": {},
          "execution_count": 17
        }
      ]
    },
    {
      "cell_type": "code",
      "source": [
        "df.isnull().sum()"
      ],
      "metadata": {
        "colab": {
          "base_uri": "https://localhost:8080/"
        },
        "id": "3gr8pYni542T",
        "outputId": "dbdea819-dac5-4cd5-8dd5-936ecebe8e12"
      },
      "execution_count": 18,
      "outputs": [
        {
          "output_type": "execute_result",
          "data": {
            "text/plain": [
              "Hours Studied                       0\n",
              "Previous Scores                     0\n",
              "Extracurricular Activities          0\n",
              "Sleep Hours                         0\n",
              "Sample Question Papers Practiced    0\n",
              "Performance Index                   0\n",
              "dtype: int64"
            ]
          },
          "metadata": {},
          "execution_count": 18
        }
      ]
    },
    {
      "cell_type": "code",
      "source": [
        "df.isna().sum()"
      ],
      "metadata": {
        "colab": {
          "base_uri": "https://localhost:8080/"
        },
        "id": "g1eSFH1v57w6",
        "outputId": "1dfcb126-61a5-49f5-d2cb-55e79a3b14e0"
      },
      "execution_count": 19,
      "outputs": [
        {
          "output_type": "execute_result",
          "data": {
            "text/plain": [
              "Hours Studied                       0\n",
              "Previous Scores                     0\n",
              "Extracurricular Activities          0\n",
              "Sleep Hours                         0\n",
              "Sample Question Papers Practiced    0\n",
              "Performance Index                   0\n",
              "dtype: int64"
            ]
          },
          "metadata": {},
          "execution_count": 19
        }
      ]
    },
    {
      "cell_type": "code",
      "source": [
        "import matplotlib.pyplot as plt\n",
        "import seaborn as sns\n",
        "\n",
        "def plot_charts(df):\n",
        "  # Numeric features\n",
        "  numeric_features = [col for col in df.columns if df[col].dtype in ['int64', 'float64']]\n",
        "  for feature in numeric_features:\n",
        "      plt.figure(figsize=(8, 6))\n",
        "      sns.histplot(df[feature], kde=True, color='blue')\n",
        "      plt.title(f'Distribution of {feature}')\n",
        "      plt.xlabel(feature)\n",
        "      plt.ylabel('Frequency')\n",
        "      plt.show()\n",
        "\n",
        "  # Categorical features\n",
        "  categorical_features = [col for col in df.columns if df[col].dtype == 'object']\n",
        "  for feature in categorical_features:\n",
        "      plt.figure(figsize=(8, 6))\n",
        "      sns.countplot(y=df[feature], order=df[feature].value_counts().index, palette='Set2')\n",
        "      plt.title(f'Count of {feature}')\n",
        "      plt.xlabel('Count')\n",
        "      plt.ylabel(feature)\n",
        "      plt.show()\n",
        "\n",
        "plot_charts(df)"
      ],
      "metadata": {
        "colab": {
          "base_uri": "https://localhost:8080/",
          "height": 1000
        },
        "id": "QzhfCI7V59Ya",
        "outputId": "045c3893-1581-4bce-ed04-1e4ca250465e"
      },
      "execution_count": 20,
      "outputs": [
        {
          "output_type": "display_data",
          "data": {
            "text/plain": [
              "<Figure size 800x600 with 1 Axes>"
            ],
            "image/png": "[encoded data removed]"
          },
          "metadata": {}
        },
        {
          "output_type": "display_data",
          "data": {
            "text/plain": [
              "<Figure size 800x600 with 1 Axes>"
            ],
            "image/png": "[encoded data removed]"
          },
          "metadata": {}
        },
        {
          "output_type": "display_data",
          "data": {
            "text/plain": [
              "<Figure size 800x600 with 1 Axes>"
            ],
            "image/png": "[encoded data removed]"
          },
          "metadata": {}
        },
        {
          "output_type": "display_data",
          "data": {
            "text/plain": [
              "<Figure size 800x600 with 1 Axes>"
            ],
            "image/png": "[encoded data removed]"
          },
          "metadata": {}
        },
        {
          "output_type": "display_data",
          "data": {
            "text/plain": [
              "<Figure size 800x600 with 1 Axes>"
            ],
            "image/png": "[encoded data removed]"
          },
          "metadata": {}
        },
        {
          "output_type": "stream",
          "name": "stderr",
          "text": [
            "<ipython-input-20-eae17d6a7f85>:19: FutureWarning: \n",
            "\n",
            "Passing `palette` without assigning `hue` is deprecated and will be removed in v0.14.0. Assign the `y` variable to `hue` and set `legend=False` for the same effect.\n",
            "\n",
            "  sns.countplot(y=df[feature], order=df[feature].value_counts().index, palette='Set2')\n"
          ]
        },
        {
          "output_type": "display_data",
          "data": {
            "text/plain": [
              "<Figure size 800x600 with 1 Axes>"
            ],
            "image/png": "[encoded data removed]"
          },
          "metadata": {}
        }
      ]
    },
    {
      "cell_type": "code",
      "source": [
        "from sklearn.pipeline import Pipeline\n",
        "from sklearn.preprocessing import OneHotEncoder, OrdinalEncoder, MinMaxScaler\n",
        "\n",
        "# Define the columns\n",
        "one_hot_cols = ['Extracurricular Activities']\n",
        "normalized_cols = [col for col in df.columns if col not in one_hot_cols]\n",
        "\n",
        "# Pipeline for one_hot_cols\n",
        "one_hot_pipeline = Pipeline([\n",
        "    ('onehot', OneHotEncoder(handle_unknown='ignore'))\n",
        "])\n",
        "\n",
        "# Pipeline for normalized_cols\n",
        "normalized_pipeline = Pipeline([\n",
        "    ('scaler', MinMaxScaler())\n",
        "])"
      ],
      "metadata": {
        "id": "4F25zIa36KOz"
      },
      "execution_count": 21,
      "outputs": []
    },
    {
      "cell_type": "code",
      "source": [
        "from sklearn.compose import ColumnTransformer\n",
        "\n",
        "# Combine all pipelines into a single preprocessor\n",
        "preprocessor = ColumnTransformer([\n",
        "    ('one_hot', one_hot_pipeline, one_hot_cols),\n",
        "    ('normalized', normalized_pipeline, normalized_cols)\n",
        "])\n",
        "\n",
        "# Now you can fit_transform your data\n",
        "df_processed = preprocessor.fit_transform(df)"
      ],
      "metadata": {
        "id": "CXW74trn6Zrj"
      },
      "execution_count": 22,
      "outputs": []
    },
    {
      "cell_type": "code",
      "source": [
        "df_processed.shape"
      ],
      "metadata": {
        "colab": {
          "base_uri": "https://localhost:8080/"
        },
        "id": "c7IMYrbs6dBr",
        "outputId": "fd33fbed-a74b-458c-e587-86b6d3dc9b86"
      },
      "execution_count": 23,
      "outputs": [
        {
          "output_type": "execute_result",
          "data": {
            "text/plain": [
              "(10000, 7)"
            ]
          },
          "metadata": {},
          "execution_count": 23
        }
      ]
    },
    {
      "cell_type": "code",
      "source": [
        "df_processed"
      ],
      "metadata": {
        "colab": {
          "base_uri": "https://localhost:8080/"
        },
        "id": "wIzd46j56eDC",
        "outputId": "b7d59204-2092-4bf1-8c81-a23244f43513"
      },
      "execution_count": 24,
      "outputs": [
        {
          "output_type": "execute_result",
          "data": {
            "text/plain": [
              "array([[0.        , 1.        , 0.75      , ..., 1.        , 0.11111111,\n",
              "        0.9       ],\n",
              "       [1.        , 0.        , 0.375     , ..., 0.        , 0.22222222,\n",
              "        0.61111111],\n",
              "       [0.        , 1.        , 0.875     , ..., 0.6       , 0.22222222,\n",
              "        0.38888889],\n",
              "       ...,\n",
              "       [0.        , 1.        , 0.625     , ..., 0.8       , 0.55555556,\n",
              "        0.71111111],\n",
              "       [0.        , 1.        , 1.        , ..., 0.6       , 0.        ,\n",
              "        0.94444444],\n",
              "       [1.        , 0.        , 0.75      , ..., 0.8       , 0.11111111,\n",
              "        0.6       ]])"
            ]
          },
          "metadata": {},
          "execution_count": 24
        }
      ]
    },
    {
      "cell_type": "code",
      "source": [
        "import pandas as pd\n",
        "\n",
        "# Get unique categories for one-hot encoding\n",
        "one_hot_categories = [df[col].unique() for col in one_hot_cols]\n",
        "\n",
        "# Create one-hot feature names\n",
        "one_hot_feature_names = []\n",
        "for col, cats in zip(one_hot_cols, one_hot_categories):\n",
        "    one_hot_feature_names.extend([f\"{col}_{cat}\" for cat in cats if not pd.isnull(cat)])\n",
        "normalized_feature_names = normalized_cols\n",
        "\n",
        "# Combine all feature names\n",
        "feature_names = one_hot_feature_names + normalized_feature_names\n",
        "\n",
        "# Create DataFrame with processed data and appropriate column names\n",
        "df_processed = pd.DataFrame(df_processed, columns=feature_names)\n",
        "\n",
        "# Print the first few rows to verify\n",
        "print(df_processed.head())"
      ],
      "metadata": {
        "colab": {
          "base_uri": "https://localhost:8080/"
        },
        "id": "MVfMVTjZ6ftb",
        "outputId": "0ead0dad-3cd0-4b22-99a7-6049a54f231a"
      },
      "execution_count": 25,
      "outputs": [
        {
          "output_type": "stream",
          "name": "stdout",
          "text": [
            "   Extracurricular Activities_Yes  Extracurricular Activities_No  \\\n",
            "0                             0.0                            1.0   \n",
            "1                             1.0                            0.0   \n",
            "2                             0.0                            1.0   \n",
            "3                             0.0                            1.0   \n",
            "4                             1.0                            0.0   \n",
            "\n",
            "   Hours Studied  Previous Scores  Sleep Hours  \\\n",
            "0          0.750         1.000000          1.0   \n",
            "1          0.375         0.711864          0.0   \n",
            "2          0.875         0.186441          0.6   \n",
            "3          0.500         0.203390          0.2   \n",
            "4          0.750         0.593220          0.8   \n",
            "\n",
            "   Sample Question Papers Practiced  Performance Index  \n",
            "0                          0.111111           0.900000  \n",
            "1                          0.222222           0.611111  \n",
            "2                          0.222222           0.388889  \n",
            "3                          0.222222           0.288889  \n",
            "4                          0.555556           0.622222  \n"
          ]
        }
      ]
    },
    {
      "cell_type": "code",
      "source": [
        "X = df_processed.drop([\"Previous Scores\", \"Performance Index\"], axis=1)\n",
        "y = df_processed[[\"Previous Scores\", \"Performance Index\"]]"
      ],
      "metadata": {
        "id": "W7VUUwkm6mtU"
      },
      "execution_count": 27,
      "outputs": []
    },
    {
      "cell_type": "code",
      "source": [
        "from sklearn.model_selection import train_test_split\n",
        "X_train, X_temp, y_train, y_temp = train_test_split(X, y, test_size=0.4, random_state=42)\n",
        "X_val, X_test, y_val, y_test = train_test_split(X_temp, y_temp, test_size=0.5, random_state=42)"
      ],
      "metadata": {
        "id": "xCFgmh3j7JeW"
      },
      "execution_count": 28,
      "outputs": []
    },
    {
      "cell_type": "code",
      "source": [
        "import tensorflow as tf\n",
        "from tensorflow import keras\n",
        "from tensorflow.keras import layers\n",
        "\n",
        "inputs = keras.Input(shape=(X_train.shape[1],))\n",
        "x = layers.Dense(64, activation='relu')(inputs)\n",
        "x = layers.Dense(32, activation='relu')(x)\n",
        "\n",
        "# Output layer for Previous Scores\n",
        "output_scores = layers.Dense(1, name='output_scores', activation=None)(x)\n",
        "\n",
        "# Output layer for Performance Index\n",
        "output_performance = layers.Dense(1, name='output_performance', activation=None)(x)\n",
        "\n",
        "# Combine inputs and outputs into a model\n",
        "model = keras.Model(inputs=inputs, outputs=[output_scores, output_performance])\n",
        "\n",
        "model.compile(optimizer='adam', loss='mean_squared_error')\n",
        "\n",
        "model.summary()"
      ],
      "metadata": {
        "colab": {
          "base_uri": "https://localhost:8080/"
        },
        "id": "p7TWHAD57ugp",
        "outputId": "17035475-44d7-479d-fd7f-b82645b18915"
      },
      "execution_count": 29,
      "outputs": [
        {
          "output_type": "stream",
          "name": "stdout",
          "text": [
            "Model: \"model\"\n",
            "__________________________________________________________________________________________________\n",
            " Layer (type)                Output Shape                 Param #   Connected to                  \n",
            "==================================================================================================\n",
            " input_1 (InputLayer)        [(None, 5)]                  0         []                            \n",
            "                                                                                                  \n",
            " dense (Dense)               (None, 64)                   384       ['input_1[0][0]']             \n",
            "                                                                                                  \n",
            " dense_1 (Dense)             (None, 32)                   2080      ['dense[0][0]']               \n",
            "                                                                                                  \n",
            " output_scores (Dense)       (None, 1)                    33        ['dense_1[0][0]']             \n",
            "                                                                                                  \n",
            " output_performance (Dense)  (None, 1)                    33        ['dense_1[0][0]']             \n",
            "                                                                                                  \n",
            "==================================================================================================\n",
            "Total params: 2530 (9.88 KB)\n",
            "Trainable params: 2530 (9.88 KB)\n",
            "Non-trainable params: 0 (0.00 Byte)\n",
            "__________________________________________________________________________________________________\n"
          ]
        }
      ]
    },
    {
      "cell_type": "code",
      "source": [
        "history = model.fit(X_train, y_train, epochs=50, batch_size=32, validation_split=0.1)"
      ],
      "metadata": {
        "colab": {
          "base_uri": "https://localhost:8080/"
        },
        "id": "HtKdLkLJ78ay",
        "outputId": "bf8fe0ca-661c-466f-8f69-99be005de38f"
      },
      "execution_count": 31,
      "outputs": [
        {
          "output_type": "stream",
          "name": "stdout",
          "text": [
            "Epoch 1/50\n",
            "169/169 [==============================] - 5s 7ms/step - loss: 0.1401 - output_scores_loss: 0.0705 - output_performance_loss: 0.0695 - val_loss: 0.1378 - val_output_scores_loss: 0.0694 - val_output_performance_loss: 0.0684\n",
            "Epoch 2/50\n",
            "169/169 [==============================] - 0s 2ms/step - loss: 0.1296 - output_scores_loss: 0.0648 - output_performance_loss: 0.0648 - val_loss: 0.1450 - val_output_scores_loss: 0.0731 - val_output_performance_loss: 0.0719\n",
            "Epoch 3/50\n",
            "169/169 [==============================] - 1s 5ms/step - loss: 0.1293 - output_scores_loss: 0.0646 - output_performance_loss: 0.0647 - val_loss: 0.1349 - val_output_scores_loss: 0.0677 - val_output_performance_loss: 0.0672\n",
            "Epoch 4/50\n",
            "169/169 [==============================] - 0s 2ms/step - loss: 0.1291 - output_scores_loss: 0.0645 - output_performance_loss: 0.0645 - val_loss: 0.1345 - val_output_scores_loss: 0.0675 - val_output_performance_loss: 0.0670\n",
            "Epoch 5/50\n",
            "169/169 [==============================] - 0s 2ms/step - loss: 0.1289 - output_scores_loss: 0.0644 - output_performance_loss: 0.0644 - val_loss: 0.1354 - val_output_scores_loss: 0.0678 - val_output_performance_loss: 0.0676\n",
            "Epoch 6/50\n",
            "169/169 [==============================] - 0s 2ms/step - loss: 0.1289 - output_scores_loss: 0.0645 - output_performance_loss: 0.0644 - val_loss: 0.1360 - val_output_scores_loss: 0.0682 - val_output_performance_loss: 0.0679\n",
            "Epoch 7/50\n",
            "169/169 [==============================] - 0s 2ms/step - loss: 0.1290 - output_scores_loss: 0.0645 - output_performance_loss: 0.0645 - val_loss: 0.1361 - val_output_scores_loss: 0.0682 - val_output_performance_loss: 0.0679\n",
            "Epoch 8/50\n",
            "169/169 [==============================] - 0s 2ms/step - loss: 0.1287 - output_scores_loss: 0.0644 - output_performance_loss: 0.0643 - val_loss: 0.1338 - val_output_scores_loss: 0.0670 - val_output_performance_loss: 0.0669\n",
            "Epoch 9/50\n",
            "169/169 [==============================] - 0s 2ms/step - loss: 0.1287 - output_scores_loss: 0.0644 - output_performance_loss: 0.0643 - val_loss: 0.1365 - val_output_scores_loss: 0.0686 - val_output_performance_loss: 0.0679\n",
            "Epoch 10/50\n",
            "169/169 [==============================] - 0s 2ms/step - loss: 0.1285 - output_scores_loss: 0.0643 - output_performance_loss: 0.0642 - val_loss: 0.1348 - val_output_scores_loss: 0.0676 - val_output_performance_loss: 0.0672\n",
            "Epoch 11/50\n",
            "169/169 [==============================] - 0s 2ms/step - loss: 0.1283 - output_scores_loss: 0.0641 - output_performance_loss: 0.0641 - val_loss: 0.1354 - val_output_scores_loss: 0.0679 - val_output_performance_loss: 0.0675\n",
            "Epoch 12/50\n",
            "169/169 [==============================] - 0s 2ms/step - loss: 0.1284 - output_scores_loss: 0.0642 - output_performance_loss: 0.0641 - val_loss: 0.1340 - val_output_scores_loss: 0.0671 - val_output_performance_loss: 0.0669\n",
            "Epoch 13/50\n",
            "169/169 [==============================] - 0s 2ms/step - loss: 0.1285 - output_scores_loss: 0.0643 - output_performance_loss: 0.0642 - val_loss: 0.1357 - val_output_scores_loss: 0.0679 - val_output_performance_loss: 0.0677\n",
            "Epoch 14/50\n",
            "169/169 [==============================] - 0s 2ms/step - loss: 0.1279 - output_scores_loss: 0.0640 - output_performance_loss: 0.0639 - val_loss: 0.1355 - val_output_scores_loss: 0.0678 - val_output_performance_loss: 0.0676\n",
            "Epoch 15/50\n",
            "169/169 [==============================] - 0s 2ms/step - loss: 0.1280 - output_scores_loss: 0.0640 - output_performance_loss: 0.0640 - val_loss: 0.1350 - val_output_scores_loss: 0.0677 - val_output_performance_loss: 0.0673\n",
            "Epoch 16/50\n",
            "169/169 [==============================] - 0s 2ms/step - loss: 0.1281 - output_scores_loss: 0.0641 - output_performance_loss: 0.0640 - val_loss: 0.1341 - val_output_scores_loss: 0.0672 - val_output_performance_loss: 0.0669\n",
            "Epoch 17/50\n",
            "169/169 [==============================] - 0s 2ms/step - loss: 0.1282 - output_scores_loss: 0.0641 - output_performance_loss: 0.0641 - val_loss: 0.1345 - val_output_scores_loss: 0.0672 - val_output_performance_loss: 0.0673\n",
            "Epoch 18/50\n",
            "169/169 [==============================] - 0s 2ms/step - loss: 0.1284 - output_scores_loss: 0.0642 - output_performance_loss: 0.0642 - val_loss: 0.1344 - val_output_scores_loss: 0.0672 - val_output_performance_loss: 0.0672\n",
            "Epoch 19/50\n",
            "169/169 [==============================] - 0s 2ms/step - loss: 0.1281 - output_scores_loss: 0.0640 - output_performance_loss: 0.0641 - val_loss: 0.1349 - val_output_scores_loss: 0.0675 - val_output_performance_loss: 0.0674\n",
            "Epoch 20/50\n",
            "169/169 [==============================] - 0s 2ms/step - loss: 0.1278 - output_scores_loss: 0.0639 - output_performance_loss: 0.0639 - val_loss: 0.1353 - val_output_scores_loss: 0.0678 - val_output_performance_loss: 0.0675\n",
            "Epoch 21/50\n",
            "169/169 [==============================] - 0s 2ms/step - loss: 0.1288 - output_scores_loss: 0.0644 - output_performance_loss: 0.0643 - val_loss: 0.1343 - val_output_scores_loss: 0.0673 - val_output_performance_loss: 0.0670\n",
            "Epoch 22/50\n",
            "169/169 [==============================] - 0s 2ms/step - loss: 0.1283 - output_scores_loss: 0.0642 - output_performance_loss: 0.0641 - val_loss: 0.1348 - val_output_scores_loss: 0.0675 - val_output_performance_loss: 0.0673\n",
            "Epoch 23/50\n",
            "169/169 [==============================] - 0s 2ms/step - loss: 0.1282 - output_scores_loss: 0.0641 - output_performance_loss: 0.0641 - val_loss: 0.1334 - val_output_scores_loss: 0.0668 - val_output_performance_loss: 0.0665\n",
            "Epoch 24/50\n",
            "169/169 [==============================] - 0s 2ms/step - loss: 0.1280 - output_scores_loss: 0.0640 - output_performance_loss: 0.0640 - val_loss: 0.1357 - val_output_scores_loss: 0.0680 - val_output_performance_loss: 0.0677\n",
            "Epoch 25/50\n",
            "169/169 [==============================] - 0s 2ms/step - loss: 0.1280 - output_scores_loss: 0.0640 - output_performance_loss: 0.0640 - val_loss: 0.1338 - val_output_scores_loss: 0.0670 - val_output_performance_loss: 0.0668\n",
            "Epoch 26/50\n",
            "169/169 [==============================] - 0s 2ms/step - loss: 0.1277 - output_scores_loss: 0.0639 - output_performance_loss: 0.0638 - val_loss: 0.1343 - val_output_scores_loss: 0.0672 - val_output_performance_loss: 0.0671\n",
            "Epoch 27/50\n",
            "169/169 [==============================] - 1s 3ms/step - loss: 0.1277 - output_scores_loss: 0.0639 - output_performance_loss: 0.0638 - val_loss: 0.1350 - val_output_scores_loss: 0.0676 - val_output_performance_loss: 0.0674\n",
            "Epoch 28/50\n",
            "169/169 [==============================] - 1s 3ms/step - loss: 0.1279 - output_scores_loss: 0.0639 - output_performance_loss: 0.0639 - val_loss: 0.1349 - val_output_scores_loss: 0.0676 - val_output_performance_loss: 0.0673\n",
            "Epoch 29/50\n",
            "169/169 [==============================] - 1s 3ms/step - loss: 0.1277 - output_scores_loss: 0.0639 - output_performance_loss: 0.0639 - val_loss: 0.1356 - val_output_scores_loss: 0.0679 - val_output_performance_loss: 0.0677\n",
            "Epoch 30/50\n",
            "169/169 [==============================] - 0s 3ms/step - loss: 0.1278 - output_scores_loss: 0.0639 - output_performance_loss: 0.0639 - val_loss: 0.1341 - val_output_scores_loss: 0.0671 - val_output_performance_loss: 0.0670\n",
            "Epoch 31/50\n",
            "169/169 [==============================] - 0s 3ms/step - loss: 0.1281 - output_scores_loss: 0.0640 - output_performance_loss: 0.0640 - val_loss: 0.1349 - val_output_scores_loss: 0.0677 - val_output_performance_loss: 0.0673\n",
            "Epoch 32/50\n",
            "169/169 [==============================] - 1s 3ms/step - loss: 0.1276 - output_scores_loss: 0.0638 - output_performance_loss: 0.0638 - val_loss: 0.1361 - val_output_scores_loss: 0.0682 - val_output_performance_loss: 0.0679\n",
            "Epoch 33/50\n",
            "169/169 [==============================] - 1s 3ms/step - loss: 0.1277 - output_scores_loss: 0.0639 - output_performance_loss: 0.0638 - val_loss: 0.1348 - val_output_scores_loss: 0.0677 - val_output_performance_loss: 0.0671\n",
            "Epoch 34/50\n",
            "169/169 [==============================] - 0s 2ms/step - loss: 0.1274 - output_scores_loss: 0.0637 - output_performance_loss: 0.0637 - val_loss: 0.1344 - val_output_scores_loss: 0.0673 - val_output_performance_loss: 0.0671\n",
            "Epoch 35/50\n",
            "169/169 [==============================] - 0s 2ms/step - loss: 0.1278 - output_scores_loss: 0.0639 - output_performance_loss: 0.0639 - val_loss: 0.1357 - val_output_scores_loss: 0.0681 - val_output_performance_loss: 0.0676\n",
            "Epoch 36/50\n",
            "169/169 [==============================] - 0s 2ms/step - loss: 0.1276 - output_scores_loss: 0.0638 - output_performance_loss: 0.0638 - val_loss: 0.1372 - val_output_scores_loss: 0.0688 - val_output_performance_loss: 0.0684\n",
            "Epoch 37/50\n",
            "169/169 [==============================] - 0s 2ms/step - loss: 0.1275 - output_scores_loss: 0.0638 - output_performance_loss: 0.0638 - val_loss: 0.1343 - val_output_scores_loss: 0.0674 - val_output_performance_loss: 0.0669\n",
            "Epoch 38/50\n",
            "169/169 [==============================] - 0s 2ms/step - loss: 0.1277 - output_scores_loss: 0.0638 - output_performance_loss: 0.0638 - val_loss: 0.1366 - val_output_scores_loss: 0.0686 - val_output_performance_loss: 0.0680\n",
            "Epoch 39/50\n",
            "169/169 [==============================] - 0s 2ms/step - loss: 0.1279 - output_scores_loss: 0.0640 - output_performance_loss: 0.0639 - val_loss: 0.1368 - val_output_scores_loss: 0.0686 - val_output_performance_loss: 0.0682\n",
            "Epoch 40/50\n",
            "169/169 [==============================] - 0s 2ms/step - loss: 0.1274 - output_scores_loss: 0.0637 - output_performance_loss: 0.0637 - val_loss: 0.1357 - val_output_scores_loss: 0.0679 - val_output_performance_loss: 0.0678\n",
            "Epoch 41/50\n",
            "169/169 [==============================] - 0s 2ms/step - loss: 0.1276 - output_scores_loss: 0.0638 - output_performance_loss: 0.0638 - val_loss: 0.1352 - val_output_scores_loss: 0.0678 - val_output_performance_loss: 0.0674\n",
            "Epoch 42/50\n",
            "169/169 [==============================] - 0s 2ms/step - loss: 0.1276 - output_scores_loss: 0.0638 - output_performance_loss: 0.0638 - val_loss: 0.1343 - val_output_scores_loss: 0.0673 - val_output_performance_loss: 0.0670\n",
            "Epoch 43/50\n",
            "169/169 [==============================] - 0s 2ms/step - loss: 0.1281 - output_scores_loss: 0.0641 - output_performance_loss: 0.0640 - val_loss: 0.1370 - val_output_scores_loss: 0.0687 - val_output_performance_loss: 0.0682\n",
            "Epoch 44/50\n",
            "169/169 [==============================] - 0s 2ms/step - loss: 0.1274 - output_scores_loss: 0.0637 - output_performance_loss: 0.0637 - val_loss: 0.1345 - val_output_scores_loss: 0.0675 - val_output_performance_loss: 0.0670\n",
            "Epoch 45/50\n",
            "169/169 [==============================] - 0s 2ms/step - loss: 0.1274 - output_scores_loss: 0.0637 - output_performance_loss: 0.0637 - val_loss: 0.1341 - val_output_scores_loss: 0.0672 - val_output_performance_loss: 0.0669\n",
            "Epoch 46/50\n",
            "169/169 [==============================] - 0s 2ms/step - loss: 0.1274 - output_scores_loss: 0.0637 - output_performance_loss: 0.0637 - val_loss: 0.1342 - val_output_scores_loss: 0.0673 - val_output_performance_loss: 0.0669\n",
            "Epoch 47/50\n",
            "169/169 [==============================] - 0s 2ms/step - loss: 0.1273 - output_scores_loss: 0.0636 - output_performance_loss: 0.0636 - val_loss: 0.1340 - val_output_scores_loss: 0.0671 - val_output_performance_loss: 0.0669\n",
            "Epoch 48/50\n",
            "169/169 [==============================] - 0s 2ms/step - loss: 0.1274 - output_scores_loss: 0.0637 - output_performance_loss: 0.0637 - val_loss: 0.1364 - val_output_scores_loss: 0.0682 - val_output_performance_loss: 0.0682\n",
            "Epoch 49/50\n",
            "169/169 [==============================] - 0s 2ms/step - loss: 0.1273 - output_scores_loss: 0.0636 - output_performance_loss: 0.0637 - val_loss: 0.1355 - val_output_scores_loss: 0.0678 - val_output_performance_loss: 0.0677\n",
            "Epoch 50/50\n",
            "169/169 [==============================] - 0s 2ms/step - loss: 0.1272 - output_scores_loss: 0.0636 - output_performance_loss: 0.0636 - val_loss: 0.1352 - val_output_scores_loss: 0.0677 - val_output_performance_loss: 0.0674\n"
          ]
        }
      ]
    },
    {
      "cell_type": "code",
      "source": [
        "loss = model.evaluate(X_val, y_val)\n",
        "print(\"Mean Squared Error on Validation Set (Previous Scores):\", loss[1])\n",
        "print(\"Mean Squared Error on Validation Set (Performance Index):\", loss[2])"
      ],
      "metadata": {
        "colab": {
          "base_uri": "https://localhost:8080/"
        },
        "id": "kO-_uY898yDr",
        "outputId": "4493866f-5bd9-46a9-aaed-578d616572fc"
      },
      "execution_count": 33,
      "outputs": [
        {
          "output_type": "stream",
          "name": "stdout",
          "text": [
            "63/63 [==============================] - 0s 4ms/step - loss: 0.1317 - output_scores_loss: 0.0660 - output_performance_loss: 0.0657\n",
            "Mean Squared Error on Validation Set (Previous Scores): 0.06595338881015778\n",
            "Mean Squared Error on Validation Set (Performance Index): 0.06573657691478729\n"
          ]
        }
      ]
    },
    {
      "cell_type": "code",
      "source": [
        "loss = model.evaluate(X_test, y_test)\n",
        "print(\"Mean Squared Error on Test Set (Previous Scores):\", loss[1])\n",
        "print(\"Mean Squared Error on Test Set (Performance Index):\", loss[2])"
      ],
      "metadata": {
        "colab": {
          "base_uri": "https://localhost:8080/"
        },
        "id": "VUfMh6Dy8t_i",
        "outputId": "e12d0172-5ff9-440c-d652-154eda58cb35"
      },
      "execution_count": 32,
      "outputs": [
        {
          "output_type": "stream",
          "name": "stdout",
          "text": [
            "63/63 [==============================] - 0s 3ms/step - loss: 0.1295 - output_scores_loss: 0.0648 - output_performance_loss: 0.0647\n",
            "Mean Squared Error on Test Set (Previous Scores): 0.06478123366832733\n",
            "Mean Squared Error on Test Set (Performance Index): 0.06467337161302567\n"
          ]
        }
      ]
    },
    {
      "cell_type": "code",
      "source": [
        "y_test"
      ],
      "metadata": {
        "colab": {
          "base_uri": "https://localhost:8080/",
          "height": 424
        },
        "id": "6CvKgrh-9Fb5",
        "outputId": "2bd1dc27-7527-42d5-fa3e-832c40780a88"
      },
      "execution_count": 34,
      "outputs": [
        {
          "output_type": "execute_result",
          "data": {
            "text/plain": [
              "      Previous Scores  Performance Index\n",
              "7072         0.593220           0.477778\n",
              "6204         0.813559           0.622222\n",
              "7110         0.983051           0.733333\n",
              "220          0.491525           0.488889\n",
              "69           0.796610           0.566667\n",
              "...               ...                ...\n",
              "1156         0.288136           0.400000\n",
              "1180         0.491525           0.588889\n",
              "2697         0.033898           0.088889\n",
              "9018         0.762712           0.611111\n",
              "964          0.084746           0.055556\n",
              "\n",
              "[2000 rows x 2 columns]"
            ],
            "text/html": [
              "\n",
              "  <div id=\"df-14fc0e65-4a59-43e3-aeae-b9f6f8efe180\" class=\"colab-df-container\">\n",
              "    <div>\n",
              "<style scoped>\n",
              "    .dataframe tbody tr th:only-of-type {\n",
              "        vertical-align: middle;\n",
              "    }\n",
              "\n",
              "    .dataframe tbody tr th {\n",
              "        vertical-align: top;\n",
              "    }\n",
              "\n",
              "    .dataframe thead th {\n",
              "        text-align: right;\n",
              "    }\n",
              "</style>\n",
              "<table border=\"1\" class=\"dataframe\">\n",
              "  <thead>\n",
              "    <tr style=\"text-align: right;\">\n",
              "      <th></th>\n",
              "      <th>Previous Scores</th>\n",
              "      <th>Performance Index</th>\n",
              "    </tr>\n",
              "  </thead>\n",
              "  <tbody>\n",
              "    <tr>\n",
              "      <th>7072</th>\n",
              "      <td>0.593220</td>\n",
              "      <td>0.477778</td>\n",
              "    </tr>\n",
              "    <tr>\n",
              "      <th>6204</th>\n",
              "      <td>0.813559</td>\n",
              "      <td>0.622222</td>\n",
              "    </tr>\n",
              "    <tr>\n",
              "      <th>7110</th>\n",
              "      <td>0.983051</td>\n",
              "      <td>0.733333</td>\n",
              "    </tr>\n",
              "    <tr>\n",
              "      <th>220</th>\n",
              "      <td>0.491525</td>\n",
              "      <td>0.488889</td>\n",
              "    </tr>\n",
              "    <tr>\n",
              "      <th>69</th>\n",
              "      <td>0.796610</td>\n",
              "      <td>0.566667</td>\n",
              "    </tr>\n",
              "    <tr>\n",
              "      <th>...</th>\n",
              "      <td>...</td>\n",
              "      <td>...</td>\n",
              "    </tr>\n",
              "    <tr>\n",
              "      <th>1156</th>\n",
              "      <td>0.288136</td>\n",
              "      <td>0.400000</td>\n",
              "    </tr>\n",
              "    <tr>\n",
              "      <th>1180</th>\n",
              "      <td>0.491525</td>\n",
              "      <td>0.588889</td>\n",
              "    </tr>\n",
              "    <tr>\n",
              "      <th>2697</th>\n",
              "      <td>0.033898</td>\n",
              "      <td>0.088889</td>\n",
              "    </tr>\n",
              "    <tr>\n",
              "      <th>9018</th>\n",
              "      <td>0.762712</td>\n",
              "      <td>0.611111</td>\n",
              "    </tr>\n",
              "    <tr>\n",
              "      <th>964</th>\n",
              "      <td>0.084746</td>\n",
              "      <td>0.055556</td>\n",
              "    </tr>\n",
              "  </tbody>\n",
              "</table>\n",
              "<p>2000 rows × 2 columns</p>\n",
              "</div>\n",
              "    <div class=\"colab-df-buttons\">\n",
              "\n",
              "  <div class=\"colab-df-container\">\n",
              "    <button class=\"colab-df-convert\" onclick=\"convertToInteractive('df-14fc0e65-4a59-43e3-aeae-b9f6f8efe180')\"\n",
              "            title=\"Convert this dataframe to an interactive table.\"\n",
              "            style=\"display:none;\">\n",
              "\n",
              "  <svg xmlns=\"http://www.w3.org/2000/svg\" height=\"24px\" viewBox=\"0 -960 960 960\">\n",
              "    <path d=\"M120-120v-720h720v720H120Zm60-500h600v-160H180v160Zm220 220h160v-160H400v160Zm0 220h160v-160H400v160ZM180-400h160v-160H180v160Zm440 0h160v-160H620v160ZM180-180h160v-160H180v160Zm440 0h160v-160H620v160Z\"/>\n",
              "  </svg>\n",
              "    </button>\n",
              "\n",
              "  <style>\n",
              "    .colab-df-container {\n",
              "      display:flex;\n",
              "      gap: 12px;\n",
              "    }\n",
              "\n",
              "    .colab-df-convert {\n",
              "      background-color: #E8F0FE;\n",
              "      border: none;\n",
              "      border-radius: 50%;\n",
              "      cursor: pointer;\n",
              "      display: none;\n",
              "      fill: #1967D2;\n",
              "      height: 32px;\n",
              "      padding: 0 0 0 0;\n",
              "      width: 32px;\n",
              "    }\n",
              "\n",
              "    .colab-df-convert:hover {\n",
              "      background-color: #E2EBFA;\n",
              "      box-shadow: 0px 1px 2px rgba(60, 64, 67, 0.3), 0px 1px 3px 1px rgba(60, 64, 67, 0.15);\n",
              "      fill: #174EA6;\n",
              "    }\n",
              "\n",
              "    .colab-df-buttons div {\n",
              "      margin-bottom: 4px;\n",
              "    }\n",
              "\n",
              "    [theme=dark] .colab-df-convert {\n",
              "      background-color: #3B4455;\n",
              "      fill: #D2E3FC;\n",
              "    }\n",
              "\n",
              "    [theme=dark] .colab-df-convert:hover {\n",
              "      background-color: #434B5C;\n",
              "      box-shadow: 0px 1px 3px 1px rgba(0, 0, 0, 0.15);\n",
              "      filter: drop-shadow(0px 1px 2px rgba(0, 0, 0, 0.3));\n",
              "      fill: #FFFFFF;\n",
              "    }\n",
              "  </style>\n",
              "\n",
              "    <script>\n",
              "      const buttonEl =\n",
              "        document.querySelector('#df-14fc0e65-4a59-43e3-aeae-b9f6f8efe180 button.colab-df-convert');\n",
              "      buttonEl.style.display =\n",
              "        google.colab.kernel.accessAllowed ? 'block' : 'none';\n",
              "\n",
              "      async function convertToInteractive(key) {\n",
              "        const element = document.querySelector('#df-14fc0e65-4a59-43e3-aeae-b9f6f8efe180');\n",
              "        const dataTable =\n",
              "          await google.colab.kernel.invokeFunction('convertToInteractive',\n",
              "                                                    [key], {});\n",
              "        if (!dataTable) return;\n",
              "\n",
              "        const docLinkHtml = 'Like what you see? Visit the ' +\n",
              "          '<a target=\"_blank\" href=https://colab.research.google.com/notebooks/data_table.ipynb>data table notebook</a>'\n",
              "          + ' to learn more about interactive tables.';\n",
              "        element.innerHTML = '';\n",
              "        dataTable['output_type'] = 'display_data';\n",
              "        await google.colab.output.renderOutput(dataTable, element);\n",
              "        const docLink = document.createElement('div');\n",
              "        docLink.innerHTML = docLinkHtml;\n",
              "        element.appendChild(docLink);\n",
              "      }\n",
              "    </script>\n",
              "  </div>\n",
              "\n",
              "\n",
              "<div id=\"df-060cf609-56f2-42d4-b84f-150873d2c1e1\">\n",
              "  <button class=\"colab-df-quickchart\" onclick=\"quickchart('df-060cf609-56f2-42d4-b84f-150873d2c1e1')\"\n",
              "            title=\"Suggest charts\"\n",
              "            style=\"display:none;\">\n",
              "\n",
              "<svg xmlns=\"http://www.w3.org/2000/svg\" height=\"24px\"viewBox=\"0 0 24 24\"\n",
              "     width=\"24px\">\n",
              "    <g>\n",
              "        <path d=\"M19 3H5c-1.1 0-2 .9-2 2v14c0 1.1.9 2 2 2h14c1.1 0 2-.9 2-2V5c0-1.1-.9-2-2-2zM9 17H7v-7h2v7zm4 0h-2V7h2v10zm4 0h-2v-4h2v4z\"/>\n",
              "    </g>\n",
              "</svg>\n",
              "  </button>\n",
              "\n",
              "<style>\n",
              "  .colab-df-quickchart {\n",
              "      --bg-color: #E8F0FE;\n",
              "      --fill-color: #1967D2;\n",
              "      --hover-bg-color: #E2EBFA;\n",
              "      --hover-fill-color: #174EA6;\n",
              "      --disabled-fill-color: #AAA;\n",
              "      --disabled-bg-color: #DDD;\n",
              "  }\n",
              "\n",
              "  [theme=dark] .colab-df-quickchart {\n",
              "      --bg-color: #3B4455;\n",
              "      --fill-color: #D2E3FC;\n",
              "      --hover-bg-color: #434B5C;\n",
              "      --hover-fill-color: #FFFFFF;\n",
              "      --disabled-bg-color: #3B4455;\n",
              "      --disabled-fill-color: #666;\n",
              "  }\n",
              "\n",
              "  .colab-df-quickchart {\n",
              "    background-color: var(--bg-color);\n",
              "    border: none;\n",
              "    border-radius: 50%;\n",
              "    cursor: pointer;\n",
              "    display: none;\n",
              "    fill: var(--fill-color);\n",
              "    height: 32px;\n",
              "    padding: 0;\n",
              "    width: 32px;\n",
              "  }\n",
              "\n",
              "  .colab-df-quickchart:hover {\n",
              "    background-color: var(--hover-bg-color);\n",
              "    box-shadow: 0 1px 2px rgba(60, 64, 67, 0.3), 0 1px 3px 1px rgba(60, 64, 67, 0.15);\n",
              "    fill: var(--button-hover-fill-color);\n",
              "  }\n",
              "\n",
              "  .colab-df-quickchart-complete:disabled,\n",
              "  .colab-df-quickchart-complete:disabled:hover {\n",
              "    background-color: var(--disabled-bg-color);\n",
              "    fill: var(--disabled-fill-color);\n",
              "    box-shadow: none;\n",
              "  }\n",
              "\n",
              "  .colab-df-spinner {\n",
              "    border: 2px solid var(--fill-color);\n",
              "    border-color: transparent;\n",
              "    border-bottom-color: var(--fill-color);\n",
              "    animation:\n",
              "      spin 1s steps(1) infinite;\n",
              "  }\n",
              "\n",
              "  @keyframes spin {\n",
              "    0% {\n",
              "      border-color: transparent;\n",
              "      border-bottom-color: var(--fill-color);\n",
              "      border-left-color: var(--fill-color);\n",
              "    }\n",
              "    20% {\n",
              "      border-color: transparent;\n",
              "      border-left-color: var(--fill-color);\n",
              "      border-top-color: var(--fill-color);\n",
              "    }\n",
              "    30% {\n",
              "      border-color: transparent;\n",
              "      border-left-color: var(--fill-color);\n",
              "      border-top-color: var(--fill-color);\n",
              "      border-right-color: var(--fill-color);\n",
              "    }\n",
              "    40% {\n",
              "      border-color: transparent;\n",
              "      border-right-color: var(--fill-color);\n",
              "      border-top-color: var(--fill-color);\n",
              "    }\n",
              "    60% {\n",
              "      border-color: transparent;\n",
              "      border-right-color: var(--fill-color);\n",
              "    }\n",
              "    80% {\n",
              "      border-color: transparent;\n",
              "      border-right-color: var(--fill-color);\n",
              "      border-bottom-color: var(--fill-color);\n",
              "    }\n",
              "    90% {\n",
              "      border-color: transparent;\n",
              "      border-bottom-color: var(--fill-color);\n",
              "    }\n",
              "  }\n",
              "</style>\n",
              "\n",
              "  <script>\n",
              "    async function quickchart(key) {\n",
              "      const quickchartButtonEl =\n",
              "        document.querySelector('#' + key + ' button');\n",
              "      quickchartButtonEl.disabled = true;  // To prevent multiple clicks.\n",
              "      quickchartButtonEl.classList.add('colab-df-spinner');\n",
              "      try {\n",
              "        const charts = await google.colab.kernel.invokeFunction(\n",
              "            'suggestCharts', [key], {});\n",
              "      } catch (error) {\n",
              "        console.error('Error during call to suggestCharts:', error);\n",
              "      }\n",
              "      quickchartButtonEl.classList.remove('colab-df-spinner');\n",
              "      quickchartButtonEl.classList.add('colab-df-quickchart-complete');\n",
              "    }\n",
              "    (() => {\n",
              "      let quickchartButtonEl =\n",
              "        document.querySelector('#df-060cf609-56f2-42d4-b84f-150873d2c1e1 button');\n",
              "      quickchartButtonEl.style.display =\n",
              "        google.colab.kernel.accessAllowed ? 'block' : 'none';\n",
              "    })();\n",
              "  </script>\n",
              "</div>\n",
              "\n",
              "  <div id=\"id_530bfe3d-957d-4e85-9b08-de02a9986d1b\">\n",
              "    <style>\n",
              "      .colab-df-generate {\n",
              "        background-color: #E8F0FE;\n",
              "        border: none;\n",
              "        border-radius: 50%;\n",
              "        cursor: pointer;\n",
              "        display: none;\n",
              "        fill: #1967D2;\n",
              "        height: 32px;\n",
              "        padding: 0 0 0 0;\n",
              "        width: 32px;\n",
              "      }\n",
              "\n",
              "      .colab-df-generate:hover {\n",
              "        background-color: #E2EBFA;\n",
              "        box-shadow: 0px 1px 2px rgba(60, 64, 67, 0.3), 0px 1px 3px 1px rgba(60, 64, 67, 0.15);\n",
              "        fill: #174EA6;\n",
              "      }\n",
              "\n",
              "      [theme=dark] .colab-df-generate {\n",
              "        background-color: #3B4455;\n",
              "        fill: #D2E3FC;\n",
              "      }\n",
              "\n",
              "      [theme=dark] .colab-df-generate:hover {\n",
              "        background-color: #434B5C;\n",
              "        box-shadow: 0px 1px 3px 1px rgba(0, 0, 0, 0.15);\n",
              "        filter: drop-shadow(0px 1px 2px rgba(0, 0, 0, 0.3));\n",
              "        fill: #FFFFFF;\n",
              "      }\n",
              "    </style>\n",
              "    <button class=\"colab-df-generate\" onclick=\"generateWithVariable('y_test')\"\n",
              "            title=\"Generate code using this dataframe.\"\n",
              "            style=\"display:none;\">\n",
              "\n",
              "  <svg xmlns=\"http://www.w3.org/2000/svg\" height=\"24px\"viewBox=\"0 0 24 24\"\n",
              "       width=\"24px\">\n",
              "    <path d=\"M7,19H8.4L18.45,9,17,7.55,7,17.6ZM5,21V16.75L18.45,3.32a2,2,0,0,1,2.83,0l1.4,1.43a1.91,1.91,0,0,1,.58,1.4,1.91,1.91,0,0,1-.58,1.4L9.25,21ZM18.45,9,17,7.55Zm-12,3A5.31,5.31,0,0,0,4.9,8.1,5.31,5.31,0,0,0,1,6.5,5.31,5.31,0,0,0,4.9,4.9,5.31,5.31,0,0,0,6.5,1,5.31,5.31,0,0,0,8.1,4.9,5.31,5.31,0,0,0,12,6.5,5.46,5.46,0,0,0,6.5,12Z\"/>\n",
              "  </svg>\n",
              "    </button>\n",
              "    <script>\n",
              "      (() => {\n",
              "      const buttonEl =\n",
              "        document.querySelector('#id_530bfe3d-957d-4e85-9b08-de02a9986d1b button.colab-df-generate');\n",
              "      buttonEl.style.display =\n",
              "        google.colab.kernel.accessAllowed ? 'block' : 'none';\n",
              "\n",
              "      buttonEl.onclick = () => {\n",
              "        google.colab.notebook.generateWithVariable('y_test');\n",
              "      }\n",
              "      })();\n",
              "    </script>\n",
              "  </div>\n",
              "\n",
              "    </div>\n",
              "  </div>\n"
            ],
            "application/vnd.google.colaboratory.intrinsic+json": {
              "type": "dataframe",
              "variable_name": "y_test",
              "summary": "{\n  \"name\": \"y_test\",\n  \"rows\": 2000,\n  \"fields\": [\n    {\n      \"column\": \"Previous Scores\",\n      \"properties\": {\n        \"dtype\": \"number\",\n        \"std\": 0.29295362460178054,\n        \"min\": 0.0,\n        \"max\": 1.0,\n        \"num_unique_values\": 60,\n        \"samples\": [\n          0.5932203389830508,\n          0.5423728813559323,\n          0.423728813559322\n        ],\n        \"semantic_type\": \"\",\n        \"description\": \"\"\n      }\n    },\n    {\n      \"column\": \"Performance Index\",\n      \"properties\": {\n        \"dtype\": \"number\",\n        \"std\": 0.21498694082019448,\n        \"min\": 0.022222222222222213,\n        \"max\": 0.9888888888888889,\n        \"num_unique_values\": 87,\n        \"samples\": [\n          0.8777777777777778,\n          0.4777777777777778,\n          0.3777777777777778\n        ],\n        \"semantic_type\": \"\",\n        \"description\": \"\"\n      }\n    }\n  ]\n}"
            }
          },
          "metadata": {},
          "execution_count": 34
        }
      ]
    },
    {
      "cell_type": "code",
      "source": [
        "val_predictions = model.predict(X_val)\n",
        "test_predictions = model.predict(X_test)"
      ],
      "metadata": {
        "colab": {
          "base_uri": "https://localhost:8080/"
        },
        "id": "2WZOuClH9G9M",
        "outputId": "8a1c58e2-cee4-4726-8887-88de8c64a07f"
      },
      "execution_count": 35,
      "outputs": [
        {
          "output_type": "stream",
          "name": "stdout",
          "text": [
            "63/63 [==============================] - 0s 2ms/step\n"
          ]
        },
        {
          "output_type": "execute_result",
          "data": {
            "text/plain": [
              "[array([[0.43486947],\n",
              "        [0.44698584],\n",
              "        [0.4567576 ],\n",
              "        ...,\n",
              "        [0.42540282],\n",
              "        [0.47376734],\n",
              "        [0.44131947]], dtype=float32),\n",
              " array([[0.43952128],\n",
              "        [0.44862822],\n",
              "        [0.45831916],\n",
              "        ...,\n",
              "        [0.42631897],\n",
              "        [0.47108665],\n",
              "        [0.43879592]], dtype=float32)]"
            ]
          },
          "metadata": {},
          "execution_count": 35
        }
      ]
    }
  ]
}