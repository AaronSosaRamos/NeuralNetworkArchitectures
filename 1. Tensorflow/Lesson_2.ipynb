{
  "nbformat": 4,
  "nbformat_minor": 0,
  "metadata": {
    "colab": {
      "provenance": []
    },
    "kernelspec": {
      "name": "python3",
      "display_name": "Python 3"
    },
    "language_info": {
      "name": "python"
    }
  },
  "cells": [
    {
      "cell_type": "markdown",
      "source": [
        "#Obtain info. from tensors"
      ],
      "metadata": {
        "id": "Zzj2WOFysxno"
      }
    },
    {
      "cell_type": "code",
      "execution_count": 1,
      "metadata": {
        "id": "J18YuFjhss7Z"
      },
      "outputs": [],
      "source": [
        "import tensorflow as tf"
      ]
    },
    {
      "cell_type": "code",
      "source": [
        "tf.random.set_seed(1234)\n",
        "\n",
        "tensor1 = tf.random.Generator.from_seed(1234)\n",
        "\n",
        "tensor1 = tensor1.normal(shape = (3,4,5))\n",
        "\n",
        "tensor1"
      ],
      "metadata": {
        "colab": {
          "base_uri": "https://localhost:8080/"
        },
        "id": "hM44nriDs6Ld",
        "outputId": "fbf9f7d7-84a3-444a-9408-0a91853ef009"
      },
      "execution_count": 2,
      "outputs": [
        {
          "output_type": "execute_result",
          "data": {
            "text/plain": [
              "<tf.Tensor: shape=(3, 4, 5), dtype=float32, numpy=\n",
              "array([[[ 0.9356609 ,  1.0854305 , -0.93788373, -0.5061547 ,\n",
              "          1.3169702 ],\n",
              "        [ 0.7137579 , -0.4126717 , -0.40257987,  2.0713255 ,\n",
              "         -0.35911667],\n",
              "        [ 0.3861619 ,  1.9897066 , -0.2823396 , -0.5135972 ,\n",
              "         -0.8962833 ],\n",
              "        [-0.0901652 , -0.73964226, -0.46269894,  0.42379895,\n",
              "          1.1180195 ]],\n",
              "\n",
              "       [[ 1.4442351 , -1.0771092 ,  0.9014347 , -0.14529487,\n",
              "          1.173365  ],\n",
              "        [ 1.510687  , -0.46714714,  1.3281798 ,  1.7365712 ,\n",
              "         -1.5435543 ],\n",
              "        [ 0.35064182,  0.5708492 , -1.8452454 ,  0.9243176 ,\n",
              "          0.57233644],\n",
              "        [-1.0959795 , -0.62557054,  0.686686  ,  0.4222773 ,\n",
              "         -0.2146352 ]],\n",
              "\n",
              "       [[-0.81243026, -1.1678637 ,  1.6384528 ,  1.187959  ,\n",
              "         -2.5538385 ],\n",
              "        [-0.39338952,  0.233341  , -1.6181145 , -0.8736809 ,\n",
              "          0.05150718],\n",
              "        [ 2.2328985 ,  2.8749912 ,  0.08306922, -0.9871888 ,\n",
              "          0.47143334],\n",
              "        [-1.7806206 , -0.27681163, -0.9240901 ,  1.3088665 ,\n",
              "          0.7826533 ]]], dtype=float32)>"
            ]
          },
          "metadata": {},
          "execution_count": 2
        }
      ]
    },
    {
      "cell_type": "code",
      "source": [
        "tensor1.shape"
      ],
      "metadata": {
        "colab": {
          "base_uri": "https://localhost:8080/"
        },
        "id": "0CJEvIbjtV_C",
        "outputId": "058f6d4b-2804-470d-f949-061fc65916b1"
      },
      "execution_count": 3,
      "outputs": [
        {
          "output_type": "execute_result",
          "data": {
            "text/plain": [
              "TensorShape([3, 4, 5])"
            ]
          },
          "metadata": {},
          "execution_count": 3
        }
      ]
    },
    {
      "cell_type": "code",
      "source": [
        "tensor1.shape[0]"
      ],
      "metadata": {
        "colab": {
          "base_uri": "https://localhost:8080/"
        },
        "id": "4eAy_qZRuJjm",
        "outputId": "d62fa849-4037-4f51-88cc-62e76744904d"
      },
      "execution_count": 12,
      "outputs": [
        {
          "output_type": "execute_result",
          "data": {
            "text/plain": [
              "3"
            ]
          },
          "metadata": {},
          "execution_count": 12
        }
      ]
    },
    {
      "cell_type": "code",
      "source": [
        "tensor1.ndim"
      ],
      "metadata": {
        "colab": {
          "base_uri": "https://localhost:8080/"
        },
        "id": "jBVphe2qtaZb",
        "outputId": "08c746a4-7c3a-4e17-be7a-2a34d6d6c89c"
      },
      "execution_count": 4,
      "outputs": [
        {
          "output_type": "execute_result",
          "data": {
            "text/plain": [
              "3"
            ]
          },
          "metadata": {},
          "execution_count": 4
        }
      ]
    },
    {
      "cell_type": "code",
      "source": [
        "tensor1[0]"
      ],
      "metadata": {
        "colab": {
          "base_uri": "https://localhost:8080/"
        },
        "id": "NqzE59lvtelr",
        "outputId": "2b02c926-afd4-4fa5-9349-ecd33cd2cfdc"
      },
      "execution_count": 5,
      "outputs": [
        {
          "output_type": "execute_result",
          "data": {
            "text/plain": [
              "<tf.Tensor: shape=(4, 5), dtype=float32, numpy=\n",
              "array([[ 0.9356609 ,  1.0854305 , -0.93788373, -0.5061547 ,  1.3169702 ],\n",
              "       [ 0.7137579 , -0.4126717 , -0.40257987,  2.0713255 , -0.35911667],\n",
              "       [ 0.3861619 ,  1.9897066 , -0.2823396 , -0.5135972 , -0.8962833 ],\n",
              "       [-0.0901652 , -0.73964226, -0.46269894,  0.42379895,  1.1180195 ]],\n",
              "      dtype=float32)>"
            ]
          },
          "metadata": {},
          "execution_count": 5
        }
      ]
    },
    {
      "cell_type": "code",
      "source": [
        "tensor1[0, :3, 4]"
      ],
      "metadata": {
        "colab": {
          "base_uri": "https://localhost:8080/"
        },
        "id": "ilHv4di-thM7",
        "outputId": "66392042-3291-43fd-cc79-ff0471cb7f64"
      },
      "execution_count": 6,
      "outputs": [
        {
          "output_type": "execute_result",
          "data": {
            "text/plain": [
              "<tf.Tensor: shape=(3,), dtype=float32, numpy=array([ 1.3169702 , -0.35911667, -0.8962833 ], dtype=float32)>"
            ]
          },
          "metadata": {},
          "execution_count": 6
        }
      ]
    },
    {
      "cell_type": "code",
      "source": [
        "tensor1[-1]"
      ],
      "metadata": {
        "colab": {
          "base_uri": "https://localhost:8080/"
        },
        "id": "h2ZMoNNQtq0i",
        "outputId": "1a195cb8-79f3-4388-c9c9-385273c8cbc2"
      },
      "execution_count": 7,
      "outputs": [
        {
          "output_type": "execute_result",
          "data": {
            "text/plain": [
              "<tf.Tensor: shape=(4, 5), dtype=float32, numpy=\n",
              "array([[-0.81243026, -1.1678637 ,  1.6384528 ,  1.187959  , -2.5538385 ],\n",
              "       [-0.39338952,  0.233341  , -1.6181145 , -0.8736809 ,  0.05150718],\n",
              "       [ 2.2328985 ,  2.8749912 ,  0.08306922, -0.9871888 ,  0.47143334],\n",
              "       [-1.7806206 , -0.27681163, -0.9240901 ,  1.3088665 ,  0.7826533 ]],\n",
              "      dtype=float32)>"
            ]
          },
          "metadata": {},
          "execution_count": 7
        }
      ]
    },
    {
      "cell_type": "code",
      "source": [
        "tf.size(tensor1)"
      ],
      "metadata": {
        "colab": {
          "base_uri": "https://localhost:8080/"
        },
        "id": "v886eEk2tu68",
        "outputId": "41314af4-f568-4dc8-e013-1de79b34066f"
      },
      "execution_count": 8,
      "outputs": [
        {
          "output_type": "execute_result",
          "data": {
            "text/plain": [
              "<tf.Tensor: shape=(), dtype=int32, numpy=60>"
            ]
          },
          "metadata": {},
          "execution_count": 8
        }
      ]
    },
    {
      "cell_type": "code",
      "source": [
        "tensor1.dtype"
      ],
      "metadata": {
        "colab": {
          "base_uri": "https://localhost:8080/"
        },
        "id": "GogDlocduC2z",
        "outputId": "1174e953-17cd-4bf9-90de-c6773434206c"
      },
      "execution_count": 9,
      "outputs": [
        {
          "output_type": "execute_result",
          "data": {
            "text/plain": [
              "tf.float32"
            ]
          },
          "metadata": {},
          "execution_count": 9
        }
      ]
    },
    {
      "cell_type": "markdown",
      "source": [
        "#Indexing tensors"
      ],
      "metadata": {
        "id": "vU2fhwaUuVGy"
      }
    },
    {
      "cell_type": "code",
      "source": [
        "tensor1[:2, :2, :2]"
      ],
      "metadata": {
        "colab": {
          "base_uri": "https://localhost:8080/"
        },
        "id": "J5Db5Cn2uWry",
        "outputId": "af9fa917-eb3c-491b-fd47-5763f65aa00b"
      },
      "execution_count": 13,
      "outputs": [
        {
          "output_type": "execute_result",
          "data": {
            "text/plain": [
              "<tf.Tensor: shape=(2, 2, 2), dtype=float32, numpy=\n",
              "array([[[ 0.9356609 ,  1.0854305 ],\n",
              "        [ 0.7137579 , -0.4126717 ]],\n",
              "\n",
              "       [[ 1.4442351 , -1.0771092 ],\n",
              "        [ 1.510687  , -0.46714714]]], dtype=float32)>"
            ]
          },
          "metadata": {},
          "execution_count": 13
        }
      ]
    },
    {
      "cell_type": "code",
      "source": [
        "tensor1[:1, :1, :-1]"
      ],
      "metadata": {
        "colab": {
          "base_uri": "https://localhost:8080/"
        },
        "id": "TQCiVV-jvN2T",
        "outputId": "617b2ffe-dcc9-47bc-d55c-eb6fd80037ed"
      },
      "execution_count": 17,
      "outputs": [
        {
          "output_type": "execute_result",
          "data": {
            "text/plain": [
              "<tf.Tensor: shape=(1, 1, 4), dtype=float32, numpy=\n",
              "array([[[ 0.9356609 ,  1.0854305 , -0.93788373, -0.5061547 ]]],\n",
              "      dtype=float32)>"
            ]
          },
          "metadata": {},
          "execution_count": 17
        }
      ]
    },
    {
      "cell_type": "code",
      "source": [
        "tensor1[:1, :1, -1:]"
      ],
      "metadata": {
        "colab": {
          "base_uri": "https://localhost:8080/"
        },
        "id": "7Xc0V1vCvt8b",
        "outputId": "53922f02-643c-4326-dc4a-f3556d2e34cb"
      },
      "execution_count": 18,
      "outputs": [
        {
          "output_type": "execute_result",
          "data": {
            "text/plain": [
              "<tf.Tensor: shape=(1, 1, 1), dtype=float32, numpy=array([[[1.3169702]]], dtype=float32)>"
            ]
          },
          "metadata": {},
          "execution_count": 18
        }
      ]
    },
    {
      "cell_type": "code",
      "source": [
        "tensor1[-1, -1, :]"
      ],
      "metadata": {
        "colab": {
          "base_uri": "https://localhost:8080/"
        },
        "id": "wiU_Shtav14U",
        "outputId": "14a7b96d-1e6a-4127-d837-489f747ae767"
      },
      "execution_count": 19,
      "outputs": [
        {
          "output_type": "execute_result",
          "data": {
            "text/plain": [
              "<tf.Tensor: shape=(5,), dtype=float32, numpy=\n",
              "array([-1.7806206 , -0.27681163, -0.9240901 ,  1.3088665 ,  0.7826533 ],\n",
              "      dtype=float32)>"
            ]
          },
          "metadata": {},
          "execution_count": 19
        }
      ]
    },
    {
      "cell_type": "markdown",
      "source": [
        "#Add extra dimensions"
      ],
      "metadata": {
        "id": "CC-Y4HT4wF0h"
      }
    },
    {
      "cell_type": "code",
      "source": [
        "tensor1 = tensor1[..., tf.newaxis]"
      ],
      "metadata": {
        "id": "WJz14QmbwQVq"
      },
      "execution_count": 24,
      "outputs": []
    },
    {
      "cell_type": "code",
      "source": [
        "tensor1"
      ],
      "metadata": {
        "colab": {
          "base_uri": "https://localhost:8080/"
        },
        "id": "IhQ1R46zwhIp",
        "outputId": "e16226ad-5e4e-4097-d021-47d8e52ea9f7"
      },
      "execution_count": 25,
      "outputs": [
        {
          "output_type": "execute_result",
          "data": {
            "text/plain": [
              "<tf.Tensor: shape=(3, 4, 5, 1), dtype=float32, numpy=\n",
              "array([[[[ 0.9356609 ],\n",
              "         [ 1.0854305 ],\n",
              "         [-0.93788373],\n",
              "         [-0.5061547 ],\n",
              "         [ 1.3169702 ]],\n",
              "\n",
              "        [[ 0.7137579 ],\n",
              "         [-0.4126717 ],\n",
              "         [-0.40257987],\n",
              "         [ 2.0713255 ],\n",
              "         [-0.35911667]],\n",
              "\n",
              "        [[ 0.3861619 ],\n",
              "         [ 1.9897066 ],\n",
              "         [-0.2823396 ],\n",
              "         [-0.5135972 ],\n",
              "         [-0.8962833 ]],\n",
              "\n",
              "        [[-0.0901652 ],\n",
              "         [-0.73964226],\n",
              "         [-0.46269894],\n",
              "         [ 0.42379895],\n",
              "         [ 1.1180195 ]]],\n",
              "\n",
              "\n",
              "       [[[ 1.4442351 ],\n",
              "         [-1.0771092 ],\n",
              "         [ 0.9014347 ],\n",
              "         [-0.14529487],\n",
              "         [ 1.173365  ]],\n",
              "\n",
              "        [[ 1.510687  ],\n",
              "         [-0.46714714],\n",
              "         [ 1.3281798 ],\n",
              "         [ 1.7365712 ],\n",
              "         [-1.5435543 ]],\n",
              "\n",
              "        [[ 0.35064182],\n",
              "         [ 0.5708492 ],\n",
              "         [-1.8452454 ],\n",
              "         [ 0.9243176 ],\n",
              "         [ 0.57233644]],\n",
              "\n",
              "        [[-1.0959795 ],\n",
              "         [-0.62557054],\n",
              "         [ 0.686686  ],\n",
              "         [ 0.4222773 ],\n",
              "         [-0.2146352 ]]],\n",
              "\n",
              "\n",
              "       [[[-0.81243026],\n",
              "         [-1.1678637 ],\n",
              "         [ 1.6384528 ],\n",
              "         [ 1.187959  ],\n",
              "         [-2.5538385 ]],\n",
              "\n",
              "        [[-0.39338952],\n",
              "         [ 0.233341  ],\n",
              "         [-1.6181145 ],\n",
              "         [-0.8736809 ],\n",
              "         [ 0.05150718]],\n",
              "\n",
              "        [[ 2.2328985 ],\n",
              "         [ 2.8749912 ],\n",
              "         [ 0.08306922],\n",
              "         [-0.9871888 ],\n",
              "         [ 0.47143334]],\n",
              "\n",
              "        [[-1.7806206 ],\n",
              "         [-0.27681163],\n",
              "         [-0.9240901 ],\n",
              "         [ 1.3088665 ],\n",
              "         [ 0.7826533 ]]]], dtype=float32)>"
            ]
          },
          "metadata": {},
          "execution_count": 25
        }
      ]
    },
    {
      "cell_type": "code",
      "source": [
        "tensor2 = tensor1[tf.newaxis, ...]"
      ],
      "metadata": {
        "id": "XlFXTxg3wxa8"
      },
      "execution_count": 26,
      "outputs": []
    },
    {
      "cell_type": "code",
      "source": [
        "tensor2"
      ],
      "metadata": {
        "colab": {
          "base_uri": "https://localhost:8080/"
        },
        "id": "Z0BjkQP6w3T6",
        "outputId": "ff9a80ea-7416-4363-9390-d76442a62054"
      },
      "execution_count": 27,
      "outputs": [
        {
          "output_type": "execute_result",
          "data": {
            "text/plain": [
              "<tf.Tensor: shape=(1, 3, 4, 5, 1), dtype=float32, numpy=\n",
              "array([[[[[ 0.9356609 ],\n",
              "          [ 1.0854305 ],\n",
              "          [-0.93788373],\n",
              "          [-0.5061547 ],\n",
              "          [ 1.3169702 ]],\n",
              "\n",
              "         [[ 0.7137579 ],\n",
              "          [-0.4126717 ],\n",
              "          [-0.40257987],\n",
              "          [ 2.0713255 ],\n",
              "          [-0.35911667]],\n",
              "\n",
              "         [[ 0.3861619 ],\n",
              "          [ 1.9897066 ],\n",
              "          [-0.2823396 ],\n",
              "          [-0.5135972 ],\n",
              "          [-0.8962833 ]],\n",
              "\n",
              "         [[-0.0901652 ],\n",
              "          [-0.73964226],\n",
              "          [-0.46269894],\n",
              "          [ 0.42379895],\n",
              "          [ 1.1180195 ]]],\n",
              "\n",
              "\n",
              "        [[[ 1.4442351 ],\n",
              "          [-1.0771092 ],\n",
              "          [ 0.9014347 ],\n",
              "          [-0.14529487],\n",
              "          [ 1.173365  ]],\n",
              "\n",
              "         [[ 1.510687  ],\n",
              "          [-0.46714714],\n",
              "          [ 1.3281798 ],\n",
              "          [ 1.7365712 ],\n",
              "          [-1.5435543 ]],\n",
              "\n",
              "         [[ 0.35064182],\n",
              "          [ 0.5708492 ],\n",
              "          [-1.8452454 ],\n",
              "          [ 0.9243176 ],\n",
              "          [ 0.57233644]],\n",
              "\n",
              "         [[-1.0959795 ],\n",
              "          [-0.62557054],\n",
              "          [ 0.686686  ],\n",
              "          [ 0.4222773 ],\n",
              "          [-0.2146352 ]]],\n",
              "\n",
              "\n",
              "        [[[-0.81243026],\n",
              "          [-1.1678637 ],\n",
              "          [ 1.6384528 ],\n",
              "          [ 1.187959  ],\n",
              "          [-2.5538385 ]],\n",
              "\n",
              "         [[-0.39338952],\n",
              "          [ 0.233341  ],\n",
              "          [-1.6181145 ],\n",
              "          [-0.8736809 ],\n",
              "          [ 0.05150718]],\n",
              "\n",
              "         [[ 2.2328985 ],\n",
              "          [ 2.8749912 ],\n",
              "          [ 0.08306922],\n",
              "          [-0.9871888 ],\n",
              "          [ 0.47143334]],\n",
              "\n",
              "         [[-1.7806206 ],\n",
              "          [-0.27681163],\n",
              "          [-0.9240901 ],\n",
              "          [ 1.3088665 ],\n",
              "          [ 0.7826533 ]]]]], dtype=float32)>"
            ]
          },
          "metadata": {},
          "execution_count": 27
        }
      ]
    },
    {
      "cell_type": "code",
      "source": [
        "tf.expand_dims(tensor2, axis=0)"
      ],
      "metadata": {
        "colab": {
          "base_uri": "https://localhost:8080/"
        },
        "id": "AnuHI_y9xKjz",
        "outputId": "10279a1a-82fc-48b2-893c-109538fa9a73"
      },
      "execution_count": 28,
      "outputs": [
        {
          "output_type": "execute_result",
          "data": {
            "text/plain": [
              "<tf.Tensor: shape=(1, 1, 3, 4, 5, 1), dtype=float32, numpy=\n",
              "array([[[[[[ 0.9356609 ],\n",
              "           [ 1.0854305 ],\n",
              "           [-0.93788373],\n",
              "           [-0.5061547 ],\n",
              "           [ 1.3169702 ]],\n",
              "\n",
              "          [[ 0.7137579 ],\n",
              "           [-0.4126717 ],\n",
              "           [-0.40257987],\n",
              "           [ 2.0713255 ],\n",
              "           [-0.35911667]],\n",
              "\n",
              "          [[ 0.3861619 ],\n",
              "           [ 1.9897066 ],\n",
              "           [-0.2823396 ],\n",
              "           [-0.5135972 ],\n",
              "           [-0.8962833 ]],\n",
              "\n",
              "          [[-0.0901652 ],\n",
              "           [-0.73964226],\n",
              "           [-0.46269894],\n",
              "           [ 0.42379895],\n",
              "           [ 1.1180195 ]]],\n",
              "\n",
              "\n",
              "         [[[ 1.4442351 ],\n",
              "           [-1.0771092 ],\n",
              "           [ 0.9014347 ],\n",
              "           [-0.14529487],\n",
              "           [ 1.173365  ]],\n",
              "\n",
              "          [[ 1.510687  ],\n",
              "           [-0.46714714],\n",
              "           [ 1.3281798 ],\n",
              "           [ 1.7365712 ],\n",
              "           [-1.5435543 ]],\n",
              "\n",
              "          [[ 0.35064182],\n",
              "           [ 0.5708492 ],\n",
              "           [-1.8452454 ],\n",
              "           [ 0.9243176 ],\n",
              "           [ 0.57233644]],\n",
              "\n",
              "          [[-1.0959795 ],\n",
              "           [-0.62557054],\n",
              "           [ 0.686686  ],\n",
              "           [ 0.4222773 ],\n",
              "           [-0.2146352 ]]],\n",
              "\n",
              "\n",
              "         [[[-0.81243026],\n",
              "           [-1.1678637 ],\n",
              "           [ 1.6384528 ],\n",
              "           [ 1.187959  ],\n",
              "           [-2.5538385 ]],\n",
              "\n",
              "          [[-0.39338952],\n",
              "           [ 0.233341  ],\n",
              "           [-1.6181145 ],\n",
              "           [-0.8736809 ],\n",
              "           [ 0.05150718]],\n",
              "\n",
              "          [[ 2.2328985 ],\n",
              "           [ 2.8749912 ],\n",
              "           [ 0.08306922],\n",
              "           [-0.9871888 ],\n",
              "           [ 0.47143334]],\n",
              "\n",
              "          [[-1.7806206 ],\n",
              "           [-0.27681163],\n",
              "           [-0.9240901 ],\n",
              "           [ 1.3088665 ],\n",
              "           [ 0.7826533 ]]]]]], dtype=float32)>"
            ]
          },
          "metadata": {},
          "execution_count": 28
        }
      ]
    },
    {
      "cell_type": "code",
      "source": [
        "tf.expand_dims(tensor2, axis=-1)"
      ],
      "metadata": {
        "colab": {
          "base_uri": "https://localhost:8080/"
        },
        "id": "iJWxucjLxSKM",
        "outputId": "5e90361c-f635-42a5-d7c2-9a8373b11473"
      },
      "execution_count": 29,
      "outputs": [
        {
          "output_type": "execute_result",
          "data": {
            "text/plain": [
              "<tf.Tensor: shape=(1, 3, 4, 5, 1, 1), dtype=float32, numpy=\n",
              "array([[[[[[ 0.9356609 ]],\n",
              "\n",
              "          [[ 1.0854305 ]],\n",
              "\n",
              "          [[-0.93788373]],\n",
              "\n",
              "          [[-0.5061547 ]],\n",
              "\n",
              "          [[ 1.3169702 ]]],\n",
              "\n",
              "\n",
              "         [[[ 0.7137579 ]],\n",
              "\n",
              "          [[-0.4126717 ]],\n",
              "\n",
              "          [[-0.40257987]],\n",
              "\n",
              "          [[ 2.0713255 ]],\n",
              "\n",
              "          [[-0.35911667]]],\n",
              "\n",
              "\n",
              "         [[[ 0.3861619 ]],\n",
              "\n",
              "          [[ 1.9897066 ]],\n",
              "\n",
              "          [[-0.2823396 ]],\n",
              "\n",
              "          [[-0.5135972 ]],\n",
              "\n",
              "          [[-0.8962833 ]]],\n",
              "\n",
              "\n",
              "         [[[-0.0901652 ]],\n",
              "\n",
              "          [[-0.73964226]],\n",
              "\n",
              "          [[-0.46269894]],\n",
              "\n",
              "          [[ 0.42379895]],\n",
              "\n",
              "          [[ 1.1180195 ]]]],\n",
              "\n",
              "\n",
              "\n",
              "        [[[[ 1.4442351 ]],\n",
              "\n",
              "          [[-1.0771092 ]],\n",
              "\n",
              "          [[ 0.9014347 ]],\n",
              "\n",
              "          [[-0.14529487]],\n",
              "\n",
              "          [[ 1.173365  ]]],\n",
              "\n",
              "\n",
              "         [[[ 1.510687  ]],\n",
              "\n",
              "          [[-0.46714714]],\n",
              "\n",
              "          [[ 1.3281798 ]],\n",
              "\n",
              "          [[ 1.7365712 ]],\n",
              "\n",
              "          [[-1.5435543 ]]],\n",
              "\n",
              "\n",
              "         [[[ 0.35064182]],\n",
              "\n",
              "          [[ 0.5708492 ]],\n",
              "\n",
              "          [[-1.8452454 ]],\n",
              "\n",
              "          [[ 0.9243176 ]],\n",
              "\n",
              "          [[ 0.57233644]]],\n",
              "\n",
              "\n",
              "         [[[-1.0959795 ]],\n",
              "\n",
              "          [[-0.62557054]],\n",
              "\n",
              "          [[ 0.686686  ]],\n",
              "\n",
              "          [[ 0.4222773 ]],\n",
              "\n",
              "          [[-0.2146352 ]]]],\n",
              "\n",
              "\n",
              "\n",
              "        [[[[-0.81243026]],\n",
              "\n",
              "          [[-1.1678637 ]],\n",
              "\n",
              "          [[ 1.6384528 ]],\n",
              "\n",
              "          [[ 1.187959  ]],\n",
              "\n",
              "          [[-2.5538385 ]]],\n",
              "\n",
              "\n",
              "         [[[-0.39338952]],\n",
              "\n",
              "          [[ 0.233341  ]],\n",
              "\n",
              "          [[-1.6181145 ]],\n",
              "\n",
              "          [[-0.8736809 ]],\n",
              "\n",
              "          [[ 0.05150718]]],\n",
              "\n",
              "\n",
              "         [[[ 2.2328985 ]],\n",
              "\n",
              "          [[ 2.8749912 ]],\n",
              "\n",
              "          [[ 0.08306922]],\n",
              "\n",
              "          [[-0.9871888 ]],\n",
              "\n",
              "          [[ 0.47143334]]],\n",
              "\n",
              "\n",
              "         [[[-1.7806206 ]],\n",
              "\n",
              "          [[-0.27681163]],\n",
              "\n",
              "          [[-0.9240901 ]],\n",
              "\n",
              "          [[ 1.3088665 ]],\n",
              "\n",
              "          [[ 0.7826533 ]]]]]], dtype=float32)>"
            ]
          },
          "metadata": {},
          "execution_count": 29
        }
      ]
    },
    {
      "cell_type": "code",
      "source": [
        "tf.expand_dims(tensor2, axis=2)"
      ],
      "metadata": {
        "colab": {
          "base_uri": "https://localhost:8080/"
        },
        "id": "wAFmMIJtxZPl",
        "outputId": "eb99dc51-6b87-491e-9db3-f980d70a4add"
      },
      "execution_count": 30,
      "outputs": [
        {
          "output_type": "execute_result",
          "data": {
            "text/plain": [
              "<tf.Tensor: shape=(1, 3, 1, 4, 5, 1), dtype=float32, numpy=\n",
              "array([[[[[[ 0.9356609 ],\n",
              "           [ 1.0854305 ],\n",
              "           [-0.93788373],\n",
              "           [-0.5061547 ],\n",
              "           [ 1.3169702 ]],\n",
              "\n",
              "          [[ 0.7137579 ],\n",
              "           [-0.4126717 ],\n",
              "           [-0.40257987],\n",
              "           [ 2.0713255 ],\n",
              "           [-0.35911667]],\n",
              "\n",
              "          [[ 0.3861619 ],\n",
              "           [ 1.9897066 ],\n",
              "           [-0.2823396 ],\n",
              "           [-0.5135972 ],\n",
              "           [-0.8962833 ]],\n",
              "\n",
              "          [[-0.0901652 ],\n",
              "           [-0.73964226],\n",
              "           [-0.46269894],\n",
              "           [ 0.42379895],\n",
              "           [ 1.1180195 ]]]],\n",
              "\n",
              "\n",
              "\n",
              "        [[[[ 1.4442351 ],\n",
              "           [-1.0771092 ],\n",
              "           [ 0.9014347 ],\n",
              "           [-0.14529487],\n",
              "           [ 1.173365  ]],\n",
              "\n",
              "          [[ 1.510687  ],\n",
              "           [-0.46714714],\n",
              "           [ 1.3281798 ],\n",
              "           [ 1.7365712 ],\n",
              "           [-1.5435543 ]],\n",
              "\n",
              "          [[ 0.35064182],\n",
              "           [ 0.5708492 ],\n",
              "           [-1.8452454 ],\n",
              "           [ 0.9243176 ],\n",
              "           [ 0.57233644]],\n",
              "\n",
              "          [[-1.0959795 ],\n",
              "           [-0.62557054],\n",
              "           [ 0.686686  ],\n",
              "           [ 0.4222773 ],\n",
              "           [-0.2146352 ]]]],\n",
              "\n",
              "\n",
              "\n",
              "        [[[[-0.81243026],\n",
              "           [-1.1678637 ],\n",
              "           [ 1.6384528 ],\n",
              "           [ 1.187959  ],\n",
              "           [-2.5538385 ]],\n",
              "\n",
              "          [[-0.39338952],\n",
              "           [ 0.233341  ],\n",
              "           [-1.6181145 ],\n",
              "           [-0.8736809 ],\n",
              "           [ 0.05150718]],\n",
              "\n",
              "          [[ 2.2328985 ],\n",
              "           [ 2.8749912 ],\n",
              "           [ 0.08306922],\n",
              "           [-0.9871888 ],\n",
              "           [ 0.47143334]],\n",
              "\n",
              "          [[-1.7806206 ],\n",
              "           [-0.27681163],\n",
              "           [-0.9240901 ],\n",
              "           [ 1.3088665 ],\n",
              "           [ 0.7826533 ]]]]]], dtype=float32)>"
            ]
          },
          "metadata": {},
          "execution_count": 30
        }
      ]
    },
    {
      "cell_type": "markdown",
      "source": [
        "#Manipulating tensors (tensor operations)"
      ],
      "metadata": {
        "id": "CTYbyxH4xg9i"
      }
    },
    {
      "cell_type": "markdown",
      "source": [
        "***Basic operations***"
      ],
      "metadata": {
        "id": "VIPO4jLDxpUa"
      }
    },
    {
      "cell_type": "code",
      "source": [
        "tensor = tf.constant([[[1,2,3],\n",
        "                       [4,5,6],\n",
        "                       [7,8,9]],\n",
        "\n",
        "                      [[1,2,3],\n",
        "                       [4,5,6],\n",
        "                       [7,8,9]],\n",
        "\n",
        "                      [[1,2,3],\n",
        "                       [4,5,6],\n",
        "                       [7,8,9]]])\n",
        "\n",
        "tensor2 = tf.constant([[[1,2,3],\n",
        "                       [4,5,6],\n",
        "                       [7,8,9]],\n",
        "\n",
        "                      [[1,2,3],\n",
        "                       [4,5,6],\n",
        "                       [7,8,9]],\n",
        "\n",
        "                      [[1,2,3],\n",
        "                       [4,5,6],\n",
        "                       [7,8,9]]])"
      ],
      "metadata": {
        "id": "bYEwZPX0xjTp"
      },
      "execution_count": 37,
      "outputs": []
    },
    {
      "cell_type": "code",
      "source": [
        "tensor+10"
      ],
      "metadata": {
        "colab": {
          "base_uri": "https://localhost:8080/"
        },
        "id": "JvG076MnyeNb",
        "outputId": "7d7e90ae-aed1-4463-ec87-f86007fdcba4"
      },
      "execution_count": 32,
      "outputs": [
        {
          "output_type": "execute_result",
          "data": {
            "text/plain": [
              "<tf.Tensor: shape=(3, 3, 3), dtype=int32, numpy=\n",
              "array([[[11, 12, 13],\n",
              "        [14, 15, 16],\n",
              "        [17, 18, 19]],\n",
              "\n",
              "       [[11, 12, 13],\n",
              "        [14, 15, 16],\n",
              "        [17, 18, 19]],\n",
              "\n",
              "       [[11, 12, 13],\n",
              "        [14, 15, 16],\n",
              "        [17, 18, 19]]], dtype=int32)>"
            ]
          },
          "metadata": {},
          "execution_count": 32
        }
      ]
    },
    {
      "cell_type": "code",
      "source": [
        "tensor-10"
      ],
      "metadata": {
        "colab": {
          "base_uri": "https://localhost:8080/"
        },
        "id": "3wpJs4teyfvi",
        "outputId": "19bc303e-c4c1-40e2-9d07-6a210d9ac912"
      },
      "execution_count": 33,
      "outputs": [
        {
          "output_type": "execute_result",
          "data": {
            "text/plain": [
              "<tf.Tensor: shape=(3, 3, 3), dtype=int32, numpy=\n",
              "array([[[-9, -8, -7],\n",
              "        [-6, -5, -4],\n",
              "        [-3, -2, -1]],\n",
              "\n",
              "       [[-9, -8, -7],\n",
              "        [-6, -5, -4],\n",
              "        [-3, -2, -1]],\n",
              "\n",
              "       [[-9, -8, -7],\n",
              "        [-6, -5, -4],\n",
              "        [-3, -2, -1]]], dtype=int32)>"
            ]
          },
          "metadata": {},
          "execution_count": 33
        }
      ]
    },
    {
      "cell_type": "code",
      "source": [
        "tensor*3"
      ],
      "metadata": {
        "colab": {
          "base_uri": "https://localhost:8080/"
        },
        "id": "G9kjhKhRyioa",
        "outputId": "81572df2-c8d4-4982-c888-7668c682df96"
      },
      "execution_count": 34,
      "outputs": [
        {
          "output_type": "execute_result",
          "data": {
            "text/plain": [
              "<tf.Tensor: shape=(3, 3, 3), dtype=int32, numpy=\n",
              "array([[[ 3,  6,  9],\n",
              "        [12, 15, 18],\n",
              "        [21, 24, 27]],\n",
              "\n",
              "       [[ 3,  6,  9],\n",
              "        [12, 15, 18],\n",
              "        [21, 24, 27]],\n",
              "\n",
              "       [[ 3,  6,  9],\n",
              "        [12, 15, 18],\n",
              "        [21, 24, 27]]], dtype=int32)>"
            ]
          },
          "metadata": {},
          "execution_count": 34
        }
      ]
    },
    {
      "cell_type": "code",
      "source": [
        "tensor/8"
      ],
      "metadata": {
        "colab": {
          "base_uri": "https://localhost:8080/"
        },
        "id": "otrPF_jhymog",
        "outputId": "2ba34f8d-e9de-4b5e-844c-3c3ad8a0d00a"
      },
      "execution_count": 35,
      "outputs": [
        {
          "output_type": "execute_result",
          "data": {
            "text/plain": [
              "<tf.Tensor: shape=(3, 3, 3), dtype=float64, numpy=\n",
              "array([[[0.125, 0.25 , 0.375],\n",
              "        [0.5  , 0.625, 0.75 ],\n",
              "        [0.875, 1.   , 1.125]],\n",
              "\n",
              "       [[0.125, 0.25 , 0.375],\n",
              "        [0.5  , 0.625, 0.75 ],\n",
              "        [0.875, 1.   , 1.125]],\n",
              "\n",
              "       [[0.125, 0.25 , 0.375],\n",
              "        [0.5  , 0.625, 0.75 ],\n",
              "        [0.875, 1.   , 1.125]]])>"
            ]
          },
          "metadata": {},
          "execution_count": 35
        }
      ]
    },
    {
      "cell_type": "markdown",
      "source": [
        "Built-in function"
      ],
      "metadata": {
        "id": "Y7Mx3Gg6zQga"
      }
    },
    {
      "cell_type": "code",
      "source": [
        "tf.multiply(tensor, 10)"
      ],
      "metadata": {
        "colab": {
          "base_uri": "https://localhost:8080/"
        },
        "id": "VQsBYQ_YzR6a",
        "outputId": "81188759-d429-42fe-d50f-9396817e80b7"
      },
      "execution_count": 36,
      "outputs": [
        {
          "output_type": "execute_result",
          "data": {
            "text/plain": [
              "<tf.Tensor: shape=(3, 3, 3), dtype=int32, numpy=\n",
              "array([[[10, 20, 30],\n",
              "        [40, 50, 60],\n",
              "        [70, 80, 90]],\n",
              "\n",
              "       [[10, 20, 30],\n",
              "        [40, 50, 60],\n",
              "        [70, 80, 90]],\n",
              "\n",
              "       [[10, 20, 30],\n",
              "        [40, 50, 60],\n",
              "        [70, 80, 90]]], dtype=int32)>"
            ]
          },
          "metadata": {},
          "execution_count": 36
        }
      ]
    },
    {
      "cell_type": "code",
      "source": [
        "tensor + tensor2"
      ],
      "metadata": {
        "colab": {
          "base_uri": "https://localhost:8080/"
        },
        "id": "O64iWmYrzrWa",
        "outputId": "737c8a88-66a8-4779-dedb-383effac9cb8"
      },
      "execution_count": 39,
      "outputs": [
        {
          "output_type": "execute_result",
          "data": {
            "text/plain": [
              "<tf.Tensor: shape=(3, 3, 3), dtype=int32, numpy=\n",
              "array([[[ 2,  4,  6],\n",
              "        [ 8, 10, 12],\n",
              "        [14, 16, 18]],\n",
              "\n",
              "       [[ 2,  4,  6],\n",
              "        [ 8, 10, 12],\n",
              "        [14, 16, 18]],\n",
              "\n",
              "       [[ 2,  4,  6],\n",
              "        [ 8, 10, 12],\n",
              "        [14, 16, 18]]], dtype=int32)>"
            ]
          },
          "metadata": {},
          "execution_count": 39
        }
      ]
    },
    {
      "cell_type": "code",
      "source": [
        "tensor - tensor2"
      ],
      "metadata": {
        "colab": {
          "base_uri": "https://localhost:8080/"
        },
        "id": "-Mg2cfMpzl-i",
        "outputId": "6a6ae043-ecc6-4bf0-82ef-896a8ea0387e"
      },
      "execution_count": 38,
      "outputs": [
        {
          "output_type": "execute_result",
          "data": {
            "text/plain": [
              "<tf.Tensor: shape=(3, 3, 3), dtype=int32, numpy=\n",
              "array([[[0, 0, 0],\n",
              "        [0, 0, 0],\n",
              "        [0, 0, 0]],\n",
              "\n",
              "       [[0, 0, 0],\n",
              "        [0, 0, 0],\n",
              "        [0, 0, 0]],\n",
              "\n",
              "       [[0, 0, 0],\n",
              "        [0, 0, 0],\n",
              "        [0, 0, 0]]], dtype=int32)>"
            ]
          },
          "metadata": {},
          "execution_count": 38
        }
      ]
    },
    {
      "cell_type": "code",
      "source": [
        "tensor[0] * tensor[1]"
      ],
      "metadata": {
        "colab": {
          "base_uri": "https://localhost:8080/"
        },
        "id": "rJB5XEqL0JC0",
        "outputId": "46904ea5-c41c-4ea4-e78c-e5e55c5fd004"
      },
      "execution_count": 42,
      "outputs": [
        {
          "output_type": "execute_result",
          "data": {
            "text/plain": [
              "<tf.Tensor: shape=(3, 3), dtype=int32, numpy=\n",
              "array([[ 1,  4,  9],\n",
              "       [16, 25, 36],\n",
              "       [49, 64, 81]], dtype=int32)>"
            ]
          },
          "metadata": {},
          "execution_count": 42
        }
      ]
    },
    {
      "cell_type": "code",
      "source": [
        "tensor[0] / tensor[1]"
      ],
      "metadata": {
        "colab": {
          "base_uri": "https://localhost:8080/"
        },
        "id": "qh0WOLFa0KKb",
        "outputId": "bffd4f5b-bb24-4c96-ceb1-75ac92cc3b4f"
      },
      "execution_count": 43,
      "outputs": [
        {
          "output_type": "execute_result",
          "data": {
            "text/plain": [
              "<tf.Tensor: shape=(3, 3), dtype=float64, numpy=\n",
              "array([[1., 1., 1.],\n",
              "       [1., 1., 1.],\n",
              "       [1., 1., 1.]])>"
            ]
          },
          "metadata": {},
          "execution_count": 43
        }
      ]
    },
    {
      "cell_type": "markdown",
      "source": [
        "#Matrix multiplication"
      ],
      "metadata": {
        "id": "6IA8MQlRz4fP"
      }
    },
    {
      "cell_type": "code",
      "source": [
        "tf.matmul(tensor[0], tensor[1])"
      ],
      "metadata": {
        "colab": {
          "base_uri": "https://localhost:8080/"
        },
        "id": "qkwEtZNrz2_Y",
        "outputId": "8b59e859-0746-4b07-d151-78e1b82add12"
      },
      "execution_count": 40,
      "outputs": [
        {
          "output_type": "execute_result",
          "data": {
            "text/plain": [
              "<tf.Tensor: shape=(3, 3), dtype=int32, numpy=\n",
              "array([[ 30,  36,  42],\n",
              "       [ 66,  81,  96],\n",
              "       [102, 126, 150]], dtype=int32)>"
            ]
          },
          "metadata": {},
          "execution_count": 40
        }
      ]
    },
    {
      "cell_type": "code",
      "source": [
        "tensor[0] @ tensor[1]"
      ],
      "metadata": {
        "colab": {
          "base_uri": "https://localhost:8080/"
        },
        "id": "x0AyOQlC0FML",
        "outputId": "5178c3b4-5286-4eda-cc12-5a0b012b0fd3"
      },
      "execution_count": 44,
      "outputs": [
        {
          "output_type": "execute_result",
          "data": {
            "text/plain": [
              "<tf.Tensor: shape=(3, 3), dtype=int32, numpy=\n",
              "array([[ 30,  36,  42],\n",
              "       [ 66,  81,  96],\n",
              "       [102, 126, 150]], dtype=int32)>"
            ]
          },
          "metadata": {},
          "execution_count": 44
        }
      ]
    },
    {
      "cell_type": "markdown",
      "source": [
        "Reshape"
      ],
      "metadata": {
        "id": "-yatYEyq0hyT"
      }
    },
    {
      "cell_type": "code",
      "source": [
        "tf.reshape(tensor[0, :2, :3], shape=(3,2))"
      ],
      "metadata": {
        "colab": {
          "base_uri": "https://localhost:8080/"
        },
        "id": "6XQTGS7-0klF",
        "outputId": "eab46219-d807-451b-f376-9139e717a386"
      },
      "execution_count": 46,
      "outputs": [
        {
          "output_type": "execute_result",
          "data": {
            "text/plain": [
              "<tf.Tensor: shape=(3, 2), dtype=int32, numpy=\n",
              "array([[1, 2],\n",
              "       [3, 4],\n",
              "       [5, 6]], dtype=int32)>"
            ]
          },
          "metadata": {},
          "execution_count": 46
        }
      ]
    },
    {
      "cell_type": "code",
      "source": [
        "tf.transpose(tensor[0, :2, :3])"
      ],
      "metadata": {
        "colab": {
          "base_uri": "https://localhost:8080/"
        },
        "id": "GI2agLhk1FKi",
        "outputId": "2c27d5dc-fb76-4318-f495-11d85f2e4563"
      },
      "execution_count": 47,
      "outputs": [
        {
          "output_type": "execute_result",
          "data": {
            "text/plain": [
              "<tf.Tensor: shape=(3, 2), dtype=int32, numpy=\n",
              "array([[1, 4],\n",
              "       [2, 5],\n",
              "       [3, 6]], dtype=int32)>"
            ]
          },
          "metadata": {},
          "execution_count": 47
        }
      ]
    },
    {
      "cell_type": "markdown",
      "source": [
        "#Dot Product of Vectors"
      ],
      "metadata": {
        "id": "LFzIIE_31tyc"
      }
    },
    {
      "cell_type": "code",
      "source": [
        "tensor[0, 0, :]"
      ],
      "metadata": {
        "colab": {
          "base_uri": "https://localhost:8080/"
        },
        "id": "m9SrAHZi1w30",
        "outputId": "d7fd1269-584b-4d95-bbc8-3d9997bb1ef3"
      },
      "execution_count": 50,
      "outputs": [
        {
          "output_type": "execute_result",
          "data": {
            "text/plain": [
              "<tf.Tensor: shape=(3,), dtype=int32, numpy=array([1, 2, 3], dtype=int32)>"
            ]
          },
          "metadata": {},
          "execution_count": 50
        }
      ]
    },
    {
      "cell_type": "code",
      "source": [
        "tf.transpose(tensor[0, 1, :])"
      ],
      "metadata": {
        "colab": {
          "base_uri": "https://localhost:8080/"
        },
        "id": "Xf3r7Dls10RE",
        "outputId": "347d7835-e833-4fa7-e535-4e515e9870ff"
      },
      "execution_count": 52,
      "outputs": [
        {
          "output_type": "execute_result",
          "data": {
            "text/plain": [
              "<tf.Tensor: shape=(3,), dtype=int32, numpy=array([4, 5, 6], dtype=int32)>"
            ]
          },
          "metadata": {},
          "execution_count": 52
        }
      ]
    },
    {
      "cell_type": "code",
      "source": [
        "tf.tensordot(tensor[0, 0, :], tf.transpose(tensor[0, 1, :]), axes=1)"
      ],
      "metadata": {
        "colab": {
          "base_uri": "https://localhost:8080/"
        },
        "id": "Pob8qfe01XiL",
        "outputId": "ca60c80b-a265-4701-f72d-e53846160f9e"
      },
      "execution_count": 49,
      "outputs": [
        {
          "output_type": "execute_result",
          "data": {
            "text/plain": [
              "<tf.Tensor: shape=(), dtype=int32, numpy=32>"
            ]
          },
          "metadata": {},
          "execution_count": 49
        }
      ]
    }
  ]
}