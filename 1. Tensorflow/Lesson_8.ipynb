{
  "nbformat": 4,
  "nbformat_minor": 0,
  "metadata": {
    "colab": {
      "provenance": []
    },
    "kernelspec": {
      "name": "python3",
      "display_name": "Python 3"
    },
    "language_info": {
      "name": "python"
    }
  },
  "cells": [
    {
      "cell_type": "code",
      "execution_count": null,
      "metadata": {
        "colab": {
          "base_uri": "https://localhost:8080/"
        },
        "id": "mG2uqRx4Y_4a",
        "outputId": "aea082c3-805f-464e-83ea-7e9cac6ea879"
      },
      "outputs": [
        {
          "output_type": "stream",
          "name": "stdout",
          "text": [
            "Mounted at /content/drive\n"
          ]
        }
      ],
      "source": [
        "#Mount the google drive connection to our dataset\n",
        "from google.colab import drive\n",
        "drive.mount('/content/drive', force_remount=True)"
      ]
    },
    {
      "cell_type": "code",
      "source": [
        "import pandas as pd\n",
        "df = pd.read_csv('/content/drive/My Drive/Colab Notebooks/Tensorflow Notes/datasets/housing.csv')"
      ],
      "metadata": {
        "id": "tUikytk_ZxLk"
      },
      "execution_count": null,
      "outputs": []
    },
    {
      "cell_type": "code",
      "source": [
        "df.head()"
      ],
      "metadata": {
        "colab": {
          "base_uri": "https://localhost:8080/",
          "height": 206
        },
        "id": "NRXl7miBaPbH",
        "outputId": "ddcfea0e-e7f2-4f3e-ac68-f9733b030b00"
      },
      "execution_count": null,
      "outputs": [
        {
          "output_type": "execute_result",
          "data": {
            "text/plain": [
              "   Unnamed: 0  MedInc  HouseAge  AveRooms  AveBedrms  Population  AveOccup  \\\n",
              "0           0  8.3252      41.0  6.984127   1.023810       322.0  2.555556   \n",
              "1           1  8.3014      21.0  6.238137   0.971880      2401.0  2.109842   \n",
              "2           2  7.2574      52.0  8.288136   1.073446       496.0  2.802260   \n",
              "3           3  5.6431      52.0  5.817352   1.073059       558.0  2.547945   \n",
              "4           4  3.8462      52.0  6.281853   1.081081       565.0  2.181467   \n",
              "\n",
              "   Latitude  Longitude  MedHouseVal  \n",
              "0     37.88    -122.23        4.526  \n",
              "1     37.86    -122.22        3.585  \n",
              "2     37.85    -122.24        3.521  \n",
              "3     37.85    -122.25        3.413  \n",
              "4     37.85    -122.25        3.422  "
            ],
            "text/html": [
              "\n",
              "  <div id=\"df-95b0e427-65f3-47ba-95f9-87840a1992b5\" class=\"colab-df-container\">\n",
              "    <div>\n",
              "<style scoped>\n",
              "    .dataframe tbody tr th:only-of-type {\n",
              "        vertical-align: middle;\n",
              "    }\n",
              "\n",
              "    .dataframe tbody tr th {\n",
              "        vertical-align: top;\n",
              "    }\n",
              "\n",
              "    .dataframe thead th {\n",
              "        text-align: right;\n",
              "    }\n",
              "</style>\n",
              "<table border=\"1\" class=\"dataframe\">\n",
              "  <thead>\n",
              "    <tr style=\"text-align: right;\">\n",
              "      <th></th>\n",
              "      <th>Unnamed: 0</th>\n",
              "      <th>MedInc</th>\n",
              "      <th>HouseAge</th>\n",
              "      <th>AveRooms</th>\n",
              "      <th>AveBedrms</th>\n",
              "      <th>Population</th>\n",
              "      <th>AveOccup</th>\n",
              "      <th>Latitude</th>\n",
              "      <th>Longitude</th>\n",
              "      <th>MedHouseVal</th>\n",
              "    </tr>\n",
              "  </thead>\n",
              "  <tbody>\n",
              "    <tr>\n",
              "      <th>0</th>\n",
              "      <td>0</td>\n",
              "      <td>8.3252</td>\n",
              "      <td>41.0</td>\n",
              "      <td>6.984127</td>\n",
              "      <td>1.023810</td>\n",
              "      <td>322.0</td>\n",
              "      <td>2.555556</td>\n",
              "      <td>37.88</td>\n",
              "      <td>-122.23</td>\n",
              "      <td>4.526</td>\n",
              "    </tr>\n",
              "    <tr>\n",
              "      <th>1</th>\n",
              "      <td>1</td>\n",
              "      <td>8.3014</td>\n",
              "      <td>21.0</td>\n",
              "      <td>6.238137</td>\n",
              "      <td>0.971880</td>\n",
              "      <td>2401.0</td>\n",
              "      <td>2.109842</td>\n",
              "      <td>37.86</td>\n",
              "      <td>-122.22</td>\n",
              "      <td>3.585</td>\n",
              "    </tr>\n",
              "    <tr>\n",
              "      <th>2</th>\n",
              "      <td>2</td>\n",
              "      <td>7.2574</td>\n",
              "      <td>52.0</td>\n",
              "      <td>8.288136</td>\n",
              "      <td>1.073446</td>\n",
              "      <td>496.0</td>\n",
              "      <td>2.802260</td>\n",
              "      <td>37.85</td>\n",
              "      <td>-122.24</td>\n",
              "      <td>3.521</td>\n",
              "    </tr>\n",
              "    <tr>\n",
              "      <th>3</th>\n",
              "      <td>3</td>\n",
              "      <td>5.6431</td>\n",
              "      <td>52.0</td>\n",
              "      <td>5.817352</td>\n",
              "      <td>1.073059</td>\n",
              "      <td>558.0</td>\n",
              "      <td>2.547945</td>\n",
              "      <td>37.85</td>\n",
              "      <td>-122.25</td>\n",
              "      <td>3.413</td>\n",
              "    </tr>\n",
              "    <tr>\n",
              "      <th>4</th>\n",
              "      <td>4</td>\n",
              "      <td>3.8462</td>\n",
              "      <td>52.0</td>\n",
              "      <td>6.281853</td>\n",
              "      <td>1.081081</td>\n",
              "      <td>565.0</td>\n",
              "      <td>2.181467</td>\n",
              "      <td>37.85</td>\n",
              "      <td>-122.25</td>\n",
              "      <td>3.422</td>\n",
              "    </tr>\n",
              "  </tbody>\n",
              "</table>\n",
              "</div>\n",
              "    <div class=\"colab-df-buttons\">\n",
              "\n",
              "  <div class=\"colab-df-container\">\n",
              "    <button class=\"colab-df-convert\" onclick=\"convertToInteractive('df-95b0e427-65f3-47ba-95f9-87840a1992b5')\"\n",
              "            title=\"Convert this dataframe to an interactive table.\"\n",
              "            style=\"display:none;\">\n",
              "\n",
              "  <svg xmlns=\"http://www.w3.org/2000/svg\" height=\"24px\" viewBox=\"0 -960 960 960\">\n",
              "    <path d=\"M120-120v-720h720v720H120Zm60-500h600v-160H180v160Zm220 220h160v-160H400v160Zm0 220h160v-160H400v160ZM180-400h160v-160H180v160Zm440 0h160v-160H620v160ZM180-180h160v-160H180v160Zm440 0h160v-160H620v160Z\"/>\n",
              "  </svg>\n",
              "    </button>\n",
              "\n",
              "  <style>\n",
              "    .colab-df-container {\n",
              "      display:flex;\n",
              "      gap: 12px;\n",
              "    }\n",
              "\n",
              "    .colab-df-convert {\n",
              "      background-color: #E8F0FE;\n",
              "      border: none;\n",
              "      border-radius: 50%;\n",
              "      cursor: pointer;\n",
              "      display: none;\n",
              "      fill: #1967D2;\n",
              "      height: 32px;\n",
              "      padding: 0 0 0 0;\n",
              "      width: 32px;\n",
              "    }\n",
              "\n",
              "    .colab-df-convert:hover {\n",
              "      background-color: #E2EBFA;\n",
              "      box-shadow: 0px 1px 2px rgba(60, 64, 67, 0.3), 0px 1px 3px 1px rgba(60, 64, 67, 0.15);\n",
              "      fill: #174EA6;\n",
              "    }\n",
              "\n",
              "    .colab-df-buttons div {\n",
              "      margin-bottom: 4px;\n",
              "    }\n",
              "\n",
              "    [theme=dark] .colab-df-convert {\n",
              "      background-color: #3B4455;\n",
              "      fill: #D2E3FC;\n",
              "    }\n",
              "\n",
              "    [theme=dark] .colab-df-convert:hover {\n",
              "      background-color: #434B5C;\n",
              "      box-shadow: 0px 1px 3px 1px rgba(0, 0, 0, 0.15);\n",
              "      filter: drop-shadow(0px 1px 2px rgba(0, 0, 0, 0.3));\n",
              "      fill: #FFFFFF;\n",
              "    }\n",
              "  </style>\n",
              "\n",
              "    <script>\n",
              "      const buttonEl =\n",
              "        document.querySelector('#df-95b0e427-65f3-47ba-95f9-87840a1992b5 button.colab-df-convert');\n",
              "      buttonEl.style.display =\n",
              "        google.colab.kernel.accessAllowed ? 'block' : 'none';\n",
              "\n",
              "      async function convertToInteractive(key) {\n",
              "        const element = document.querySelector('#df-95b0e427-65f3-47ba-95f9-87840a1992b5');\n",
              "        const dataTable =\n",
              "          await google.colab.kernel.invokeFunction('convertToInteractive',\n",
              "                                                    [key], {});\n",
              "        if (!dataTable) return;\n",
              "\n",
              "        const docLinkHtml = 'Like what you see? Visit the ' +\n",
              "          '<a target=\"_blank\" href=https://colab.research.google.com/notebooks/data_table.ipynb>data table notebook</a>'\n",
              "          + ' to learn more about interactive tables.';\n",
              "        element.innerHTML = '';\n",
              "        dataTable['output_type'] = 'display_data';\n",
              "        await google.colab.output.renderOutput(dataTable, element);\n",
              "        const docLink = document.createElement('div');\n",
              "        docLink.innerHTML = docLinkHtml;\n",
              "        element.appendChild(docLink);\n",
              "      }\n",
              "    </script>\n",
              "  </div>\n",
              "\n",
              "\n",
              "<div id=\"df-284ef843-a997-4fef-a11b-6426904f173c\">\n",
              "  <button class=\"colab-df-quickchart\" onclick=\"quickchart('df-284ef843-a997-4fef-a11b-6426904f173c')\"\n",
              "            title=\"Suggest charts\"\n",
              "            style=\"display:none;\">\n",
              "\n",
              "<svg xmlns=\"http://www.w3.org/2000/svg\" height=\"24px\"viewBox=\"0 0 24 24\"\n",
              "     width=\"24px\">\n",
              "    <g>\n",
              "        <path d=\"M19 3H5c-1.1 0-2 .9-2 2v14c0 1.1.9 2 2 2h14c1.1 0 2-.9 2-2V5c0-1.1-.9-2-2-2zM9 17H7v-7h2v7zm4 0h-2V7h2v10zm4 0h-2v-4h2v4z\"/>\n",
              "    </g>\n",
              "</svg>\n",
              "  </button>\n",
              "\n",
              "<style>\n",
              "  .colab-df-quickchart {\n",
              "      --bg-color: #E8F0FE;\n",
              "      --fill-color: #1967D2;\n",
              "      --hover-bg-color: #E2EBFA;\n",
              "      --hover-fill-color: #174EA6;\n",
              "      --disabled-fill-color: #AAA;\n",
              "      --disabled-bg-color: #DDD;\n",
              "  }\n",
              "\n",
              "  [theme=dark] .colab-df-quickchart {\n",
              "      --bg-color: #3B4455;\n",
              "      --fill-color: #D2E3FC;\n",
              "      --hover-bg-color: #434B5C;\n",
              "      --hover-fill-color: #FFFFFF;\n",
              "      --disabled-bg-color: #3B4455;\n",
              "      --disabled-fill-color: #666;\n",
              "  }\n",
              "\n",
              "  .colab-df-quickchart {\n",
              "    background-color: var(--bg-color);\n",
              "    border: none;\n",
              "    border-radius: 50%;\n",
              "    cursor: pointer;\n",
              "    display: none;\n",
              "    fill: var(--fill-color);\n",
              "    height: 32px;\n",
              "    padding: 0;\n",
              "    width: 32px;\n",
              "  }\n",
              "\n",
              "  .colab-df-quickchart:hover {\n",
              "    background-color: var(--hover-bg-color);\n",
              "    box-shadow: 0 1px 2px rgba(60, 64, 67, 0.3), 0 1px 3px 1px rgba(60, 64, 67, 0.15);\n",
              "    fill: var(--button-hover-fill-color);\n",
              "  }\n",
              "\n",
              "  .colab-df-quickchart-complete:disabled,\n",
              "  .colab-df-quickchart-complete:disabled:hover {\n",
              "    background-color: var(--disabled-bg-color);\n",
              "    fill: var(--disabled-fill-color);\n",
              "    box-shadow: none;\n",
              "  }\n",
              "\n",
              "  .colab-df-spinner {\n",
              "    border: 2px solid var(--fill-color);\n",
              "    border-color: transparent;\n",
              "    border-bottom-color: var(--fill-color);\n",
              "    animation:\n",
              "      spin 1s steps(1) infinite;\n",
              "  }\n",
              "\n",
              "  @keyframes spin {\n",
              "    0% {\n",
              "      border-color: transparent;\n",
              "      border-bottom-color: var(--fill-color);\n",
              "      border-left-color: var(--fill-color);\n",
              "    }\n",
              "    20% {\n",
              "      border-color: transparent;\n",
              "      border-left-color: var(--fill-color);\n",
              "      border-top-color: var(--fill-color);\n",
              "    }\n",
              "    30% {\n",
              "      border-color: transparent;\n",
              "      border-left-color: var(--fill-color);\n",
              "      border-top-color: var(--fill-color);\n",
              "      border-right-color: var(--fill-color);\n",
              "    }\n",
              "    40% {\n",
              "      border-color: transparent;\n",
              "      border-right-color: var(--fill-color);\n",
              "      border-top-color: var(--fill-color);\n",
              "    }\n",
              "    60% {\n",
              "      border-color: transparent;\n",
              "      border-right-color: var(--fill-color);\n",
              "    }\n",
              "    80% {\n",
              "      border-color: transparent;\n",
              "      border-right-color: var(--fill-color);\n",
              "      border-bottom-color: var(--fill-color);\n",
              "    }\n",
              "    90% {\n",
              "      border-color: transparent;\n",
              "      border-bottom-color: var(--fill-color);\n",
              "    }\n",
              "  }\n",
              "</style>\n",
              "\n",
              "  <script>\n",
              "    async function quickchart(key) {\n",
              "      const quickchartButtonEl =\n",
              "        document.querySelector('#' + key + ' button');\n",
              "      quickchartButtonEl.disabled = true;  // To prevent multiple clicks.\n",
              "      quickchartButtonEl.classList.add('colab-df-spinner');\n",
              "      try {\n",
              "        const charts = await google.colab.kernel.invokeFunction(\n",
              "            'suggestCharts', [key], {});\n",
              "      } catch (error) {\n",
              "        console.error('Error during call to suggestCharts:', error);\n",
              "      }\n",
              "      quickchartButtonEl.classList.remove('colab-df-spinner');\n",
              "      quickchartButtonEl.classList.add('colab-df-quickchart-complete');\n",
              "    }\n",
              "    (() => {\n",
              "      let quickchartButtonEl =\n",
              "        document.querySelector('#df-284ef843-a997-4fef-a11b-6426904f173c button');\n",
              "      quickchartButtonEl.style.display =\n",
              "        google.colab.kernel.accessAllowed ? 'block' : 'none';\n",
              "    })();\n",
              "  </script>\n",
              "</div>\n",
              "\n",
              "    </div>\n",
              "  </div>\n"
            ],
            "application/vnd.google.colaboratory.intrinsic+json": {
              "type": "dataframe",
              "variable_name": "df",
              "summary": "{\n  \"name\": \"df\",\n  \"rows\": 20640,\n  \"fields\": [\n    {\n      \"column\": \"Unnamed: 0\",\n      \"properties\": {\n        \"dtype\": \"number\",\n        \"std\": 5958,\n        \"min\": 0,\n        \"max\": 20639,\n        \"num_unique_values\": 20640,\n        \"samples\": [\n          20046,\n          3024,\n          15663\n        ],\n        \"semantic_type\": \"\",\n        \"description\": \"\"\n      }\n    },\n    {\n      \"column\": \"MedInc\",\n      \"properties\": {\n        \"dtype\": \"number\",\n        \"std\": 1.8998217179452688,\n        \"min\": 0.4999,\n        \"max\": 15.0001,\n        \"num_unique_values\": 12928,\n        \"samples\": [\n          5.0286,\n          2.0433,\n          6.1228\n        ],\n        \"semantic_type\": \"\",\n        \"description\": \"\"\n      }\n    },\n    {\n      \"column\": \"HouseAge\",\n      \"properties\": {\n        \"dtype\": \"number\",\n        \"std\": 12.58555761211165,\n        \"min\": 1.0,\n        \"max\": 52.0,\n        \"num_unique_values\": 52,\n        \"samples\": [\n          35.0,\n          25.0,\n          7.0\n        ],\n        \"semantic_type\": \"\",\n        \"description\": \"\"\n      }\n    },\n    {\n      \"column\": \"AveRooms\",\n      \"properties\": {\n        \"dtype\": \"number\",\n        \"std\": 2.4741731394243187,\n        \"min\": 0.8461538461538461,\n        \"max\": 141.9090909090909,\n        \"num_unique_values\": 19392,\n        \"samples\": [\n          6.111269614835948,\n          5.912820512820513,\n          5.79245283018868\n        ],\n        \"semantic_type\": \"\",\n        \"description\": \"\"\n      }\n    },\n    {\n      \"column\": \"AveBedrms\",\n      \"properties\": {\n        \"dtype\": \"number\",\n        \"std\": 0.4739108567954661,\n        \"min\": 0.3333333333333333,\n        \"max\": 34.06666666666667,\n        \"num_unique_values\": 14233,\n        \"samples\": [\n          0.9906542056074766,\n          1.112099644128114,\n          1.0398230088495577\n        ],\n        \"semantic_type\": \"\",\n        \"description\": \"\"\n      }\n    },\n    {\n      \"column\": \"Population\",\n      \"properties\": {\n        \"dtype\": \"number\",\n        \"std\": 1132.462121765341,\n        \"min\": 3.0,\n        \"max\": 35682.0,\n        \"num_unique_values\": 3888,\n        \"samples\": [\n          4169.0,\n          636.0,\n          3367.0\n        ],\n        \"semantic_type\": \"\",\n        \"description\": \"\"\n      }\n    },\n    {\n      \"column\": \"AveOccup\",\n      \"properties\": {\n        \"dtype\": \"number\",\n        \"std\": 10.386049562213618,\n        \"min\": 0.6923076923076923,\n        \"max\": 1243.3333333333333,\n        \"num_unique_values\": 18841,\n        \"samples\": [\n          2.693979933110368,\n          3.559375,\n          3.297082228116711\n        ],\n        \"semantic_type\": \"\",\n        \"description\": \"\"\n      }\n    },\n    {\n      \"column\": \"Latitude\",\n      \"properties\": {\n        \"dtype\": \"number\",\n        \"std\": 2.1359523974571153,\n        \"min\": 32.54,\n        \"max\": 41.95,\n        \"num_unique_values\": 862,\n        \"samples\": [\n          33.7,\n          34.41,\n          38.24\n        ],\n        \"semantic_type\": \"\",\n        \"description\": \"\"\n      }\n    },\n    {\n      \"column\": \"Longitude\",\n      \"properties\": {\n        \"dtype\": \"number\",\n        \"std\": 2.0035317235025882,\n        \"min\": -124.35,\n        \"max\": -114.31,\n        \"num_unique_values\": 844,\n        \"samples\": [\n          -118.63,\n          -119.86,\n          -121.26\n        ],\n        \"semantic_type\": \"\",\n        \"description\": \"\"\n      }\n    },\n    {\n      \"column\": \"MedHouseVal\",\n      \"properties\": {\n        \"dtype\": \"number\",\n        \"std\": 1.1539561587441387,\n        \"min\": 0.14999,\n        \"max\": 5.00001,\n        \"num_unique_values\": 3842,\n        \"samples\": [\n          1.943,\n          3.79,\n          2.301\n        ],\n        \"semantic_type\": \"\",\n        \"description\": \"\"\n      }\n    }\n  ]\n}"
            }
          },
          "metadata": {},
          "execution_count": 76
        }
      ]
    },
    {
      "cell_type": "code",
      "source": [
        "df.drop(\"Unnamed: 0\", axis=1, inplace=True)"
      ],
      "metadata": {
        "id": "Kw2Qyoo9aQoP"
      },
      "execution_count": null,
      "outputs": []
    },
    {
      "cell_type": "code",
      "source": [
        "df.info()"
      ],
      "metadata": {
        "colab": {
          "base_uri": "https://localhost:8080/"
        },
        "id": "_2QqKzcraSo0",
        "outputId": "92c91ad6-5380-49df-daf9-736cd7a442a5"
      },
      "execution_count": null,
      "outputs": [
        {
          "output_type": "stream",
          "name": "stdout",
          "text": [
            "<class 'pandas.core.frame.DataFrame'>\n",
            "RangeIndex: 20640 entries, 0 to 20639\n",
            "Data columns (total 9 columns):\n",
            " #   Column       Non-Null Count  Dtype  \n",
            "---  ------       --------------  -----  \n",
            " 0   MedInc       20640 non-null  float64\n",
            " 1   HouseAge     20640 non-null  float64\n",
            " 2   AveRooms     20640 non-null  float64\n",
            " 3   AveBedrms    20640 non-null  float64\n",
            " 4   Population   20640 non-null  float64\n",
            " 5   AveOccup     20640 non-null  float64\n",
            " 6   Latitude     20640 non-null  float64\n",
            " 7   Longitude    20640 non-null  float64\n",
            " 8   MedHouseVal  20640 non-null  float64\n",
            "dtypes: float64(9)\n",
            "memory usage: 1.4 MB\n"
          ]
        }
      ]
    },
    {
      "cell_type": "code",
      "source": [
        "df.isnull().sum()"
      ],
      "metadata": {
        "colab": {
          "base_uri": "https://localhost:8080/"
        },
        "id": "psZAG1G2aUEW",
        "outputId": "007015da-0a56-461d-a207-7edc33a66365"
      },
      "execution_count": null,
      "outputs": [
        {
          "output_type": "execute_result",
          "data": {
            "text/plain": [
              "MedInc         0\n",
              "HouseAge       0\n",
              "AveRooms       0\n",
              "AveBedrms      0\n",
              "Population     0\n",
              "AveOccup       0\n",
              "Latitude       0\n",
              "Longitude      0\n",
              "MedHouseVal    0\n",
              "dtype: int64"
            ]
          },
          "metadata": {},
          "execution_count": 79
        }
      ]
    },
    {
      "cell_type": "code",
      "source": [
        "df.isna().sum()"
      ],
      "metadata": {
        "colab": {
          "base_uri": "https://localhost:8080/"
        },
        "id": "_-64ATgbaVae",
        "outputId": "817e5d89-0cf4-4645-a3e3-7d8aae9b950c"
      },
      "execution_count": null,
      "outputs": [
        {
          "output_type": "execute_result",
          "data": {
            "text/plain": [
              "MedInc         0\n",
              "HouseAge       0\n",
              "AveRooms       0\n",
              "AveBedrms      0\n",
              "Population     0\n",
              "AveOccup       0\n",
              "Latitude       0\n",
              "Longitude      0\n",
              "MedHouseVal    0\n",
              "dtype: int64"
            ]
          },
          "metadata": {},
          "execution_count": 80
        }
      ]
    },
    {
      "cell_type": "code",
      "source": [
        "import matplotlib.pyplot as plt\n",
        "import seaborn as sns\n",
        "\n",
        "def plot_charts(df):\n",
        "  # Numeric features\n",
        "  numeric_features = [col for col in df.columns if df[col].dtype in ['int64', 'float64']]\n",
        "  for feature in numeric_features:\n",
        "      plt.figure(figsize=(8, 6))\n",
        "      sns.histplot(df[feature], kde=True, color='blue')\n",
        "      plt.title(f'Distribution of {feature}')\n",
        "      plt.xlabel(feature)\n",
        "      plt.ylabel('Frequency')\n",
        "      plt.show()\n",
        "\n",
        "plot_charts(df)"
      ],
      "metadata": {
        "colab": {
          "base_uri": "https://localhost:8080/",
          "height": 1000
        },
        "id": "4hdOOUvga9l9",
        "outputId": "366ae0e2-0519-4185-99ed-43bf9e089b62"
      },
      "execution_count": null,
      "outputs": [
        {
          "output_type": "display_data",
          "data": {
            "text/plain": [
              "<Figure size 800x600 with 1 Axes>"
            ],
            "image/png": "[encoded data removed]"
          },
          "metadata": {}
        },
        {
          "output_type": "display_data",
          "data": {
            "text/plain": [
              "<Figure size 800x600 with 1 Axes>"
            ],
            "image/png": "[encoded data removed]"
          },
          "metadata": {}
        },
        {
          "output_type": "display_data",
          "data": {
            "text/plain": [
              "<Figure size 800x600 with 1 Axes>"
            ],
            "image/png": "[encoded data removed]"
          },
          "metadata": {}
        },
        {
          "output_type": "display_data",
          "data": {
            "text/plain": [
              "<Figure size 800x600 with 1 Axes>"
            ],
            "image/png": "[encoded data removed]"
          },
          "metadata": {}
        },
        {
          "output_type": "display_data",
          "data": {
            "text/plain": [
              "<Figure size 800x600 with 1 Axes>"
            ],
            "image/png": "[encoded data removed]"
          },
          "metadata": {}
        },
        {
          "output_type": "display_data",
          "data": {
            "text/plain": [
              "<Figure size 800x600 with 1 Axes>"
            ],
            "image/png": "[encoded data removed]"
          },
          "metadata": {}
        },
        {
          "output_type": "display_data",
          "data": {
            "text/plain": [
              "<Figure size 800x600 with 1 Axes>"
            ],
            "image/png": "[encoded data removed]"
          },
          "metadata": {}
        },
        {
          "output_type": "display_data",
          "data": {
            "text/plain": [
              "<Figure size 800x600 with 1 Axes>"
            ],
            "image/png": "[encoded data removed]"
          },
          "metadata": {}
        },
        {
          "output_type": "display_data",
          "data": {
            "text/plain": [
              "<Figure size 800x600 with 1 Axes>"
            ],
            "image/png": "[encoded data removed]"
          },
          "metadata": {}
        }
      ]
    },
    {
      "cell_type": "code",
      "source": [
        "from sklearn.preprocessing import StandardScaler\n",
        "\n",
        "scaler = StandardScaler()\n",
        "df_scaled = scaler.fit_transform(df)\n",
        "df_scaled = pd.DataFrame(df_scaled, columns=df.columns)"
      ],
      "metadata": {
        "id": "GBEAl1vMzSvl"
      },
      "execution_count": null,
      "outputs": []
    },
    {
      "cell_type": "code",
      "source": [
        "X = df_scaled.drop(\"MedHouseVal\", axis=1)\n",
        "y = df_scaled[\"MedHouseVal\"]"
      ],
      "metadata": {
        "id": "ulqaNVSEa2_2"
      },
      "execution_count": null,
      "outputs": []
    },
    {
      "cell_type": "code",
      "source": [
        "from sklearn.model_selection import train_test_split\n",
        "\n",
        "X_train, X_temp, y_train, y_temp = train_test_split(X, y, test_size=0.4, random_state=42)\n",
        "X_val, X_test, y_val, y_test = train_test_split(X_temp, y_temp, test_size=0.5, random_state=42)"
      ],
      "metadata": {
        "id": "VeYPYoIQa9DP"
      },
      "execution_count": null,
      "outputs": []
    },
    {
      "cell_type": "code",
      "source": [
        "import tensorflow as tf\n",
        "\n",
        "# Create the model with Sequential API using .add method\n",
        "model = tf.keras.Sequential(name=\"Model_1\")\n",
        "model.add(tf.keras.Input(shape=(8,)))  # The input layer\n",
        "model.add(tf.keras.layers.Dense(200, activation='relu'))  # The hidden layer\n",
        "model.add(tf.keras.layers.Dense(200, activation='relu'))  # The hidden layer\n",
        "model.add(tf.keras.layers.Dense(1, activation=None))  # The output layer\n",
        "\n",
        "# Compile the model\n",
        "model.compile(loss=\"mae\",\n",
        "              optimizer=tf.keras.optimizers.SGD(),\n",
        "              metrics=[\"mae\"])\n",
        "\n",
        "# Assuming X_tensor and y_tensor are your input and target tensors\n",
        "# Fit the model\n",
        "model.fit(X_train, y_train, epochs=400)"
      ],
      "metadata": {
        "colab": {
          "base_uri": "https://localhost:8080/"
        },
        "id": "4r_PFqfWhyVh",
        "outputId": "2049c4f3-fc12-47cd-b250-e4e94a70654f"
      },
      "execution_count": null,
      "outputs": [
        {
          "output_type": "stream",
          "name": "stdout",
          "text": [
            "Epoch 1/400\n",
            "387/387 [==============================] - 1s 2ms/step - loss: 0.5230 - mae: 0.5230\n",
            "Epoch 2/400\n",
            "387/387 [==============================] - 1s 2ms/step - loss: 0.4293 - mae: 0.4293\n",
            "Epoch 3/400\n",
            "387/387 [==============================] - 1s 2ms/step - loss: 0.4078 - mae: 0.4078\n",
            "Epoch 4/400\n",
            "387/387 [==============================] - 1s 2ms/step - loss: 0.3958 - mae: 0.3958\n",
            "Epoch 5/400\n",
            "387/387 [==============================] - 1s 2ms/step - loss: 0.3877 - mae: 0.3877\n",
            "Epoch 6/400\n",
            "387/387 [==============================] - 1s 2ms/step - loss: 0.3798 - mae: 0.3798\n",
            "Epoch 7/400\n",
            "387/387 [==============================] - 1s 2ms/step - loss: 0.3746 - mae: 0.3746\n",
            "Epoch 8/400\n",
            "387/387 [==============================] - 1s 3ms/step - loss: 0.3698 - mae: 0.3698\n",
            "Epoch 9/400\n",
            "387/387 [==============================] - 1s 3ms/step - loss: 0.3656 - mae: 0.3656\n",
            "Epoch 10/400\n",
            "387/387 [==============================] - 1s 3ms/step - loss: 0.3615 - mae: 0.3615\n",
            "Epoch 11/400\n",
            "387/387 [==============================] - 1s 2ms/step - loss: 0.3593 - mae: 0.3593\n",
            "Epoch 12/400\n",
            "387/387 [==============================] - 1s 2ms/step - loss: 0.3557 - mae: 0.3557\n",
            "Epoch 13/400\n",
            "387/387 [==============================] - 1s 2ms/step - loss: 0.3545 - mae: 0.3545\n",
            "Epoch 14/400\n",
            "387/387 [==============================] - 1s 2ms/step - loss: 0.3509 - mae: 0.3509\n",
            "Epoch 15/400\n",
            "387/387 [==============================] - 1s 2ms/step - loss: 0.3478 - mae: 0.3478\n",
            "Epoch 16/400\n",
            "387/387 [==============================] - 1s 2ms/step - loss: 0.3454 - mae: 0.3454\n",
            "Epoch 17/400\n",
            "387/387 [==============================] - 1s 2ms/step - loss: 0.3438 - mae: 0.3438\n",
            "Epoch 18/400\n",
            "387/387 [==============================] - 1s 2ms/step - loss: 0.3419 - mae: 0.3419\n",
            "Epoch 19/400\n",
            "387/387 [==============================] - 1s 2ms/step - loss: 0.3393 - mae: 0.3393\n",
            "Epoch 20/400\n",
            "387/387 [==============================] - 1s 2ms/step - loss: 0.3365 - mae: 0.3365\n",
            "Epoch 21/400\n",
            "387/387 [==============================] - 1s 2ms/step - loss: 0.3355 - mae: 0.3355\n",
            "Epoch 22/400\n",
            "387/387 [==============================] - 1s 2ms/step - loss: 0.3342 - mae: 0.3342\n",
            "Epoch 23/400\n",
            "387/387 [==============================] - 1s 2ms/step - loss: 0.3324 - mae: 0.3324\n",
            "Epoch 24/400\n",
            "387/387 [==============================] - 1s 2ms/step - loss: 0.3307 - mae: 0.3307\n",
            "Epoch 25/400\n",
            "387/387 [==============================] - 1s 3ms/step - loss: 0.3292 - mae: 0.3292\n",
            "Epoch 26/400\n",
            "387/387 [==============================] - 1s 3ms/step - loss: 0.3286 - mae: 0.3286\n",
            "Epoch 27/400\n",
            "387/387 [==============================] - 1s 3ms/step - loss: 0.3268 - mae: 0.3268\n",
            "Epoch 28/400\n",
            "387/387 [==============================] - 1s 2ms/step - loss: 0.3247 - mae: 0.3247\n",
            "Epoch 29/400\n",
            "387/387 [==============================] - 1s 3ms/step - loss: 0.3244 - mae: 0.3244\n",
            "Epoch 30/400\n",
            "387/387 [==============================] - 1s 2ms/step - loss: 0.3223 - mae: 0.3223\n",
            "Epoch 31/400\n",
            "387/387 [==============================] - 1s 2ms/step - loss: 0.3213 - mae: 0.3213\n",
            "Epoch 32/400\n",
            "387/387 [==============================] - 1s 2ms/step - loss: 0.3201 - mae: 0.3201\n",
            "Epoch 33/400\n",
            "387/387 [==============================] - 1s 2ms/step - loss: 0.3198 - mae: 0.3198\n",
            "Epoch 34/400\n",
            "387/387 [==============================] - 1s 2ms/step - loss: 0.3189 - mae: 0.3189\n",
            "Epoch 35/400\n",
            "387/387 [==============================] - 1s 3ms/step - loss: 0.3177 - mae: 0.3177\n",
            "Epoch 36/400\n",
            "387/387 [==============================] - 1s 2ms/step - loss: 0.3170 - mae: 0.3170\n",
            "Epoch 37/400\n",
            "387/387 [==============================] - 1s 2ms/step - loss: 0.3163 - mae: 0.3163\n",
            "Epoch 38/400\n",
            "387/387 [==============================] - 1s 2ms/step - loss: 0.3152 - mae: 0.3152\n",
            "Epoch 39/400\n",
            "387/387 [==============================] - 1s 2ms/step - loss: 0.3143 - mae: 0.3143\n",
            "Epoch 40/400\n",
            "387/387 [==============================] - 1s 3ms/step - loss: 0.3127 - mae: 0.3127\n",
            "Epoch 41/400\n",
            "387/387 [==============================] - 1s 3ms/step - loss: 0.3127 - mae: 0.3127\n",
            "Epoch 42/400\n",
            "387/387 [==============================] - 1s 3ms/step - loss: 0.3119 - mae: 0.3119\n",
            "Epoch 43/400\n",
            "387/387 [==============================] - 1s 2ms/step - loss: 0.3101 - mae: 0.3101\n",
            "Epoch 44/400\n",
            "387/387 [==============================] - 1s 2ms/step - loss: 0.3104 - mae: 0.3104\n",
            "Epoch 45/400\n",
            "387/387 [==============================] - 1s 2ms/step - loss: 0.3098 - mae: 0.3098\n",
            "Epoch 46/400\n",
            "387/387 [==============================] - 1s 2ms/step - loss: 0.3081 - mae: 0.3081\n",
            "Epoch 47/400\n",
            "387/387 [==============================] - 1s 2ms/step - loss: 0.3084 - mae: 0.3084\n",
            "Epoch 48/400\n",
            "387/387 [==============================] - 1s 2ms/step - loss: 0.3075 - mae: 0.3075\n",
            "Epoch 49/400\n",
            "387/387 [==============================] - 1s 2ms/step - loss: 0.3066 - mae: 0.3066\n",
            "Epoch 50/400\n",
            "387/387 [==============================] - 1s 2ms/step - loss: 0.3054 - mae: 0.3054\n",
            "Epoch 51/400\n",
            "387/387 [==============================] - 1s 2ms/step - loss: 0.3059 - mae: 0.3059\n",
            "Epoch 52/400\n",
            "387/387 [==============================] - 1s 2ms/step - loss: 0.3055 - mae: 0.3055\n",
            "Epoch 53/400\n",
            "387/387 [==============================] - 1s 2ms/step - loss: 0.3041 - mae: 0.3041\n",
            "Epoch 54/400\n",
            "387/387 [==============================] - 1s 2ms/step - loss: 0.3028 - mae: 0.3028\n",
            "Epoch 55/400\n",
            "387/387 [==============================] - 1s 2ms/step - loss: 0.3044 - mae: 0.3044\n",
            "Epoch 56/400\n",
            "387/387 [==============================] - 1s 3ms/step - loss: 0.3021 - mae: 0.3021\n",
            "Epoch 57/400\n",
            "387/387 [==============================] - 1s 3ms/step - loss: 0.3025 - mae: 0.3025\n",
            "Epoch 58/400\n",
            "387/387 [==============================] - 1s 3ms/step - loss: 0.3016 - mae: 0.3016\n",
            "Epoch 59/400\n",
            "387/387 [==============================] - 1s 3ms/step - loss: 0.3006 - mae: 0.3006\n",
            "Epoch 60/400\n",
            "387/387 [==============================] - 1s 2ms/step - loss: 0.3007 - mae: 0.3007\n",
            "Epoch 61/400\n",
            "387/387 [==============================] - 1s 3ms/step - loss: 0.2999 - mae: 0.2999\n",
            "Epoch 62/400\n",
            "387/387 [==============================] - 1s 2ms/step - loss: 0.3007 - mae: 0.3007\n",
            "Epoch 63/400\n",
            "387/387 [==============================] - 1s 2ms/step - loss: 0.2986 - mae: 0.2986\n",
            "Epoch 64/400\n",
            "387/387 [==============================] - 1s 2ms/step - loss: 0.2988 - mae: 0.2988\n",
            "Epoch 65/400\n",
            "387/387 [==============================] - 1s 2ms/step - loss: 0.2986 - mae: 0.2986\n",
            "Epoch 66/400\n",
            "387/387 [==============================] - 1s 2ms/step - loss: 0.2974 - mae: 0.2974\n",
            "Epoch 67/400\n",
            "387/387 [==============================] - 1s 2ms/step - loss: 0.2964 - mae: 0.2964\n",
            "Epoch 68/400\n",
            "387/387 [==============================] - 1s 2ms/step - loss: 0.2960 - mae: 0.2960\n",
            "Epoch 69/400\n",
            "387/387 [==============================] - 1s 2ms/step - loss: 0.2970 - mae: 0.2970\n",
            "Epoch 70/400\n",
            "387/387 [==============================] - 1s 2ms/step - loss: 0.2948 - mae: 0.2948\n",
            "Epoch 71/400\n",
            "387/387 [==============================] - 1s 2ms/step - loss: 0.2958 - mae: 0.2958\n",
            "Epoch 72/400\n",
            "387/387 [==============================] - 1s 3ms/step - loss: 0.2945 - mae: 0.2945\n",
            "Epoch 73/400\n",
            "387/387 [==============================] - 1s 3ms/step - loss: 0.2945 - mae: 0.2945\n",
            "Epoch 74/400\n",
            "387/387 [==============================] - 1s 3ms/step - loss: 0.2939 - mae: 0.2939\n",
            "Epoch 75/400\n",
            "387/387 [==============================] - 1s 3ms/step - loss: 0.2930 - mae: 0.2930\n",
            "Epoch 76/400\n",
            "387/387 [==============================] - 1s 2ms/step - loss: 0.2944 - mae: 0.2944\n",
            "Epoch 77/400\n",
            "387/387 [==============================] - 1s 2ms/step - loss: 0.2936 - mae: 0.2936\n",
            "Epoch 78/400\n",
            "387/387 [==============================] - 1s 2ms/step - loss: 0.2928 - mae: 0.2928\n",
            "Epoch 79/400\n",
            "387/387 [==============================] - 1s 2ms/step - loss: 0.2919 - mae: 0.2919\n",
            "Epoch 80/400\n",
            "387/387 [==============================] - 1s 2ms/step - loss: 0.2913 - mae: 0.2913\n",
            "Epoch 81/400\n",
            "387/387 [==============================] - 1s 2ms/step - loss: 0.2914 - mae: 0.2914\n",
            "Epoch 82/400\n",
            "387/387 [==============================] - 1s 2ms/step - loss: 0.2900 - mae: 0.2900\n",
            "Epoch 83/400\n",
            "387/387 [==============================] - 1s 2ms/step - loss: 0.2904 - mae: 0.2904\n",
            "Epoch 84/400\n",
            "387/387 [==============================] - 1s 2ms/step - loss: 0.2911 - mae: 0.2911\n",
            "Epoch 85/400\n",
            "387/387 [==============================] - 1s 2ms/step - loss: 0.2909 - mae: 0.2909\n",
            "Epoch 86/400\n",
            "387/387 [==============================] - 1s 2ms/step - loss: 0.2898 - mae: 0.2898\n",
            "Epoch 87/400\n",
            "387/387 [==============================] - 1s 2ms/step - loss: 0.2888 - mae: 0.2888\n",
            "Epoch 88/400\n",
            "387/387 [==============================] - 1s 2ms/step - loss: 0.2894 - mae: 0.2894\n",
            "Epoch 89/400\n",
            "387/387 [==============================] - 1s 3ms/step - loss: 0.2884 - mae: 0.2884\n",
            "Epoch 90/400\n",
            "387/387 [==============================] - 1s 3ms/step - loss: 0.2892 - mae: 0.2892\n",
            "Epoch 91/400\n",
            "387/387 [==============================] - 1s 3ms/step - loss: 0.2874 - mae: 0.2874\n",
            "Epoch 92/400\n",
            "387/387 [==============================] - 1s 3ms/step - loss: 0.2870 - mae: 0.2870\n",
            "Epoch 93/400\n",
            "387/387 [==============================] - 1s 2ms/step - loss: 0.2877 - mae: 0.2877\n",
            "Epoch 94/400\n",
            "387/387 [==============================] - 1s 2ms/step - loss: 0.2873 - mae: 0.2873\n",
            "Epoch 95/400\n",
            "387/387 [==============================] - 1s 2ms/step - loss: 0.2866 - mae: 0.2866\n",
            "Epoch 96/400\n",
            "387/387 [==============================] - 1s 2ms/step - loss: 0.2855 - mae: 0.2855\n",
            "Epoch 97/400\n",
            "387/387 [==============================] - 1s 2ms/step - loss: 0.2874 - mae: 0.2874\n",
            "Epoch 98/400\n",
            "387/387 [==============================] - 1s 3ms/step - loss: 0.2866 - mae: 0.2866\n",
            "Epoch 99/400\n",
            "387/387 [==============================] - 1s 2ms/step - loss: 0.2865 - mae: 0.2865\n",
            "Epoch 100/400\n",
            "387/387 [==============================] - 1s 2ms/step - loss: 0.2849 - mae: 0.2849\n",
            "Epoch 101/400\n",
            "387/387 [==============================] - 1s 2ms/step - loss: 0.2859 - mae: 0.2859\n",
            "Epoch 102/400\n",
            "387/387 [==============================] - 1s 2ms/step - loss: 0.2849 - mae: 0.2849\n",
            "Epoch 103/400\n",
            "387/387 [==============================] - 1s 2ms/step - loss: 0.2840 - mae: 0.2840\n",
            "Epoch 104/400\n",
            "387/387 [==============================] - 1s 2ms/step - loss: 0.2844 - mae: 0.2844\n",
            "Epoch 105/400\n",
            "387/387 [==============================] - 1s 3ms/step - loss: 0.2840 - mae: 0.2840\n",
            "Epoch 106/400\n",
            "387/387 [==============================] - 1s 3ms/step - loss: 0.2843 - mae: 0.2843\n",
            "Epoch 107/400\n",
            "387/387 [==============================] - 1s 3ms/step - loss: 0.2839 - mae: 0.2839\n",
            "Epoch 108/400\n",
            "387/387 [==============================] - 1s 3ms/step - loss: 0.2833 - mae: 0.2833\n",
            "Epoch 109/400\n",
            "387/387 [==============================] - 1s 2ms/step - loss: 0.2837 - mae: 0.2837\n",
            "Epoch 110/400\n",
            "387/387 [==============================] - 1s 2ms/step - loss: 0.2834 - mae: 0.2834\n",
            "Epoch 111/400\n",
            "387/387 [==============================] - 1s 2ms/step - loss: 0.2820 - mae: 0.2820\n",
            "Epoch 112/400\n",
            "387/387 [==============================] - 1s 2ms/step - loss: 0.2833 - mae: 0.2833\n",
            "Epoch 113/400\n",
            "387/387 [==============================] - 1s 2ms/step - loss: 0.2820 - mae: 0.2820\n",
            "Epoch 114/400\n",
            "387/387 [==============================] - 1s 2ms/step - loss: 0.2814 - mae: 0.2814\n",
            "Epoch 115/400\n",
            "387/387 [==============================] - 1s 2ms/step - loss: 0.2818 - mae: 0.2818\n",
            "Epoch 116/400\n",
            "387/387 [==============================] - 1s 2ms/step - loss: 0.2820 - mae: 0.2820\n",
            "Epoch 117/400\n",
            "387/387 [==============================] - 1s 2ms/step - loss: 0.2828 - mae: 0.2828\n",
            "Epoch 118/400\n",
            "387/387 [==============================] - 1s 2ms/step - loss: 0.2811 - mae: 0.2811\n",
            "Epoch 119/400\n",
            "387/387 [==============================] - 1s 2ms/step - loss: 0.2813 - mae: 0.2813\n",
            "Epoch 120/400\n",
            "387/387 [==============================] - 1s 2ms/step - loss: 0.2797 - mae: 0.2797\n",
            "Epoch 121/400\n",
            "387/387 [==============================] - 1s 2ms/step - loss: 0.2804 - mae: 0.2804\n",
            "Epoch 122/400\n",
            "387/387 [==============================] - 1s 3ms/step - loss: 0.2796 - mae: 0.2796\n",
            "Epoch 123/400\n",
            "387/387 [==============================] - 1s 3ms/step - loss: 0.2793 - mae: 0.2793\n",
            "Epoch 124/400\n",
            "387/387 [==============================] - 1s 3ms/step - loss: 0.2793 - mae: 0.2793\n",
            "Epoch 125/400\n",
            "387/387 [==============================] - 1s 3ms/step - loss: 0.2788 - mae: 0.2788\n",
            "Epoch 126/400\n",
            "387/387 [==============================] - 1s 2ms/step - loss: 0.2795 - mae: 0.2795\n",
            "Epoch 127/400\n",
            "387/387 [==============================] - 1s 2ms/step - loss: 0.2792 - mae: 0.2792\n",
            "Epoch 128/400\n",
            "387/387 [==============================] - 1s 2ms/step - loss: 0.2777 - mae: 0.2777\n",
            "Epoch 129/400\n",
            "387/387 [==============================] - 1s 2ms/step - loss: 0.2798 - mae: 0.2798\n",
            "Epoch 130/400\n",
            "387/387 [==============================] - 1s 2ms/step - loss: 0.2781 - mae: 0.2781\n",
            "Epoch 131/400\n",
            "387/387 [==============================] - 1s 2ms/step - loss: 0.2778 - mae: 0.2778\n",
            "Epoch 132/400\n",
            "387/387 [==============================] - 1s 2ms/step - loss: 0.2789 - mae: 0.2789\n",
            "Epoch 133/400\n",
            "387/387 [==============================] - 1s 2ms/step - loss: 0.2784 - mae: 0.2784\n",
            "Epoch 134/400\n",
            "387/387 [==============================] - 1s 2ms/step - loss: 0.2774 - mae: 0.2774\n",
            "Epoch 135/400\n",
            "387/387 [==============================] - 1s 2ms/step - loss: 0.2776 - mae: 0.2776\n",
            "Epoch 136/400\n",
            "387/387 [==============================] - 1s 2ms/step - loss: 0.2778 - mae: 0.2778\n",
            "Epoch 137/400\n",
            "387/387 [==============================] - 1s 2ms/step - loss: 0.2771 - mae: 0.2771\n",
            "Epoch 138/400\n",
            "387/387 [==============================] - 1s 3ms/step - loss: 0.2775 - mae: 0.2775\n",
            "Epoch 139/400\n",
            "387/387 [==============================] - 1s 3ms/step - loss: 0.2755 - mae: 0.2755\n",
            "Epoch 140/400\n",
            "387/387 [==============================] - 1s 3ms/step - loss: 0.2773 - mae: 0.2773\n",
            "Epoch 141/400\n",
            "387/387 [==============================] - 1s 3ms/step - loss: 0.2758 - mae: 0.2758\n",
            "Epoch 142/400\n",
            "387/387 [==============================] - 1s 2ms/step - loss: 0.2759 - mae: 0.2759\n",
            "Epoch 143/400\n",
            "387/387 [==============================] - 1s 2ms/step - loss: 0.2766 - mae: 0.2766\n",
            "Epoch 144/400\n",
            "387/387 [==============================] - 1s 2ms/step - loss: 0.2754 - mae: 0.2754\n",
            "Epoch 145/400\n",
            "387/387 [==============================] - 1s 2ms/step - loss: 0.2758 - mae: 0.2758\n",
            "Epoch 146/400\n",
            "387/387 [==============================] - 1s 2ms/step - loss: 0.2757 - mae: 0.2757\n",
            "Epoch 147/400\n",
            "387/387 [==============================] - 1s 2ms/step - loss: 0.2753 - mae: 0.2753\n",
            "Epoch 148/400\n",
            "387/387 [==============================] - 1s 2ms/step - loss: 0.2749 - mae: 0.2749\n",
            "Epoch 149/400\n",
            "387/387 [==============================] - 1s 2ms/step - loss: 0.2757 - mae: 0.2757\n",
            "Epoch 150/400\n",
            "387/387 [==============================] - 1s 2ms/step - loss: 0.2754 - mae: 0.2754\n",
            "Epoch 151/400\n",
            "387/387 [==============================] - 1s 2ms/step - loss: 0.2738 - mae: 0.2738\n",
            "Epoch 152/400\n",
            "387/387 [==============================] - 1s 2ms/step - loss: 0.2745 - mae: 0.2745\n",
            "Epoch 153/400\n",
            "387/387 [==============================] - 1s 3ms/step - loss: 0.2751 - mae: 0.2751\n",
            "Epoch 154/400\n",
            "387/387 [==============================] - 2s 4ms/step - loss: 0.2747 - mae: 0.2747\n",
            "Epoch 155/400\n",
            "387/387 [==============================] - 1s 3ms/step - loss: 0.2737 - mae: 0.2737\n",
            "Epoch 156/400\n",
            "387/387 [==============================] - 1s 4ms/step - loss: 0.2737 - mae: 0.2737\n",
            "Epoch 157/400\n",
            "387/387 [==============================] - 1s 3ms/step - loss: 0.2732 - mae: 0.2732\n",
            "Epoch 158/400\n",
            "387/387 [==============================] - 1s 2ms/step - loss: 0.2736 - mae: 0.2736\n",
            "Epoch 159/400\n",
            "387/387 [==============================] - 1s 2ms/step - loss: 0.2743 - mae: 0.2743\n",
            "Epoch 160/400\n",
            "387/387 [==============================] - 1s 2ms/step - loss: 0.2738 - mae: 0.2738\n",
            "Epoch 161/400\n",
            "387/387 [==============================] - 1s 2ms/step - loss: 0.2734 - mae: 0.2734\n",
            "Epoch 162/400\n",
            "387/387 [==============================] - 1s 2ms/step - loss: 0.2730 - mae: 0.2730\n",
            "Epoch 163/400\n",
            "387/387 [==============================] - 1s 2ms/step - loss: 0.2733 - mae: 0.2733\n",
            "Epoch 164/400\n",
            "387/387 [==============================] - 1s 2ms/step - loss: 0.2730 - mae: 0.2730\n",
            "Epoch 165/400\n",
            "387/387 [==============================] - 1s 2ms/step - loss: 0.2726 - mae: 0.2726\n",
            "Epoch 166/400\n",
            "387/387 [==============================] - 1s 2ms/step - loss: 0.2725 - mae: 0.2725\n",
            "Epoch 167/400\n",
            "387/387 [==============================] - 1s 3ms/step - loss: 0.2733 - mae: 0.2733\n",
            "Epoch 168/400\n",
            "387/387 [==============================] - 1s 3ms/step - loss: 0.2717 - mae: 0.2717\n",
            "Epoch 169/400\n",
            "387/387 [==============================] - 1s 3ms/step - loss: 0.2724 - mae: 0.2724\n",
            "Epoch 170/400\n",
            "387/387 [==============================] - 1s 3ms/step - loss: 0.2720 - mae: 0.2720\n",
            "Epoch 171/400\n",
            "387/387 [==============================] - 1s 3ms/step - loss: 0.2715 - mae: 0.2715\n",
            "Epoch 172/400\n",
            "387/387 [==============================] - 1s 3ms/step - loss: 0.2706 - mae: 0.2706\n",
            "Epoch 173/400\n",
            "387/387 [==============================] - 1s 2ms/step - loss: 0.2715 - mae: 0.2715\n",
            "Epoch 174/400\n",
            "387/387 [==============================] - 1s 2ms/step - loss: 0.2706 - mae: 0.2706\n",
            "Epoch 175/400\n",
            "387/387 [==============================] - 1s 2ms/step - loss: 0.2702 - mae: 0.2702\n",
            "Epoch 176/400\n",
            "387/387 [==============================] - 1s 2ms/step - loss: 0.2708 - mae: 0.2708\n",
            "Epoch 177/400\n",
            "387/387 [==============================] - 1s 2ms/step - loss: 0.2705 - mae: 0.2705\n",
            "Epoch 178/400\n",
            "387/387 [==============================] - 1s 2ms/step - loss: 0.2701 - mae: 0.2701\n",
            "Epoch 179/400\n",
            "387/387 [==============================] - 1s 2ms/step - loss: 0.2708 - mae: 0.2708\n",
            "Epoch 180/400\n",
            "387/387 [==============================] - 1s 2ms/step - loss: 0.2699 - mae: 0.2699\n",
            "Epoch 181/400\n",
            "387/387 [==============================] - 1s 2ms/step - loss: 0.2691 - mae: 0.2691\n",
            "Epoch 182/400\n",
            "387/387 [==============================] - 1s 2ms/step - loss: 0.2687 - mae: 0.2687\n",
            "Epoch 183/400\n",
            "387/387 [==============================] - 1s 2ms/step - loss: 0.2708 - mae: 0.2708\n",
            "Epoch 184/400\n",
            "387/387 [==============================] - 1s 2ms/step - loss: 0.2697 - mae: 0.2697\n",
            "Epoch 185/400\n",
            "387/387 [==============================] - 1s 2ms/step - loss: 0.2694 - mae: 0.2694\n",
            "Epoch 186/400\n",
            "387/387 [==============================] - 1s 3ms/step - loss: 0.2703 - mae: 0.2703\n",
            "Epoch 187/400\n",
            "387/387 [==============================] - 1s 3ms/step - loss: 0.2705 - mae: 0.2705\n",
            "Epoch 188/400\n",
            "387/387 [==============================] - 1s 3ms/step - loss: 0.2695 - mae: 0.2695\n",
            "Epoch 189/400\n",
            "387/387 [==============================] - 1s 3ms/step - loss: 0.2698 - mae: 0.2698\n",
            "Epoch 190/400\n",
            "387/387 [==============================] - 1s 2ms/step - loss: 0.2688 - mae: 0.2688\n",
            "Epoch 191/400\n",
            "387/387 [==============================] - 1s 2ms/step - loss: 0.2692 - mae: 0.2692\n",
            "Epoch 192/400\n",
            "387/387 [==============================] - 1s 2ms/step - loss: 0.2687 - mae: 0.2687\n",
            "Epoch 193/400\n",
            "387/387 [==============================] - 1s 2ms/step - loss: 0.2689 - mae: 0.2689\n",
            "Epoch 194/400\n",
            "387/387 [==============================] - 1s 2ms/step - loss: 0.2671 - mae: 0.2671\n",
            "Epoch 195/400\n",
            "387/387 [==============================] - 1s 2ms/step - loss: 0.2682 - mae: 0.2682\n",
            "Epoch 196/400\n",
            "387/387 [==============================] - 1s 2ms/step - loss: 0.2687 - mae: 0.2687\n",
            "Epoch 197/400\n",
            "387/387 [==============================] - 1s 2ms/step - loss: 0.2676 - mae: 0.2676\n",
            "Epoch 198/400\n",
            "387/387 [==============================] - 1s 2ms/step - loss: 0.2683 - mae: 0.2683\n",
            "Epoch 199/400\n",
            "387/387 [==============================] - 1s 2ms/step - loss: 0.2682 - mae: 0.2682\n",
            "Epoch 200/400\n",
            "387/387 [==============================] - 1s 2ms/step - loss: 0.2683 - mae: 0.2683\n",
            "Epoch 201/400\n",
            "387/387 [==============================] - 1s 2ms/step - loss: 0.2677 - mae: 0.2677\n",
            "Epoch 202/400\n",
            "387/387 [==============================] - 1s 3ms/step - loss: 0.2672 - mae: 0.2672\n",
            "Epoch 203/400\n",
            "387/387 [==============================] - 1s 3ms/step - loss: 0.2673 - mae: 0.2673\n",
            "Epoch 204/400\n",
            "387/387 [==============================] - 1s 3ms/step - loss: 0.2665 - mae: 0.2665\n",
            "Epoch 205/400\n",
            "387/387 [==============================] - 1s 3ms/step - loss: 0.2663 - mae: 0.2663\n",
            "Epoch 206/400\n",
            "387/387 [==============================] - 1s 2ms/step - loss: 0.2666 - mae: 0.2666\n",
            "Epoch 207/400\n",
            "387/387 [==============================] - 1s 2ms/step - loss: 0.2665 - mae: 0.2665\n",
            "Epoch 208/400\n",
            "387/387 [==============================] - 1s 2ms/step - loss: 0.2674 - mae: 0.2674\n",
            "Epoch 209/400\n",
            "387/387 [==============================] - 1s 2ms/step - loss: 0.2663 - mae: 0.2663\n",
            "Epoch 210/400\n",
            "387/387 [==============================] - 1s 2ms/step - loss: 0.2663 - mae: 0.2663\n",
            "Epoch 211/400\n",
            "387/387 [==============================] - 1s 2ms/step - loss: 0.2669 - mae: 0.2669\n",
            "Epoch 212/400\n",
            "387/387 [==============================] - 1s 2ms/step - loss: 0.2657 - mae: 0.2657\n",
            "Epoch 213/400\n",
            "387/387 [==============================] - 1s 2ms/step - loss: 0.2667 - mae: 0.2667\n",
            "Epoch 214/400\n",
            "387/387 [==============================] - 1s 2ms/step - loss: 0.2660 - mae: 0.2660\n",
            "Epoch 215/400\n",
            "387/387 [==============================] - 1s 2ms/step - loss: 0.2659 - mae: 0.2659\n",
            "Epoch 216/400\n",
            "387/387 [==============================] - 1s 2ms/step - loss: 0.2663 - mae: 0.2663\n",
            "Epoch 217/400\n",
            "387/387 [==============================] - 1s 2ms/step - loss: 0.2663 - mae: 0.2663\n",
            "Epoch 218/400\n",
            "387/387 [==============================] - 1s 2ms/step - loss: 0.2643 - mae: 0.2643\n",
            "Epoch 219/400\n",
            "387/387 [==============================] - 1s 3ms/step - loss: 0.2650 - mae: 0.2650\n",
            "Epoch 220/400\n",
            "387/387 [==============================] - 1s 3ms/step - loss: 0.2661 - mae: 0.2661\n",
            "Epoch 221/400\n",
            "387/387 [==============================] - 1s 3ms/step - loss: 0.2650 - mae: 0.2650\n",
            "Epoch 222/400\n",
            "387/387 [==============================] - 1s 3ms/step - loss: 0.2648 - mae: 0.2648\n",
            "Epoch 223/400\n",
            "387/387 [==============================] - 1s 2ms/step - loss: 0.2648 - mae: 0.2648\n",
            "Epoch 224/400\n",
            "387/387 [==============================] - 1s 2ms/step - loss: 0.2650 - mae: 0.2650\n",
            "Epoch 225/400\n",
            "387/387 [==============================] - 1s 2ms/step - loss: 0.2652 - mae: 0.2652\n",
            "Epoch 226/400\n",
            "387/387 [==============================] - 1s 2ms/step - loss: 0.2638 - mae: 0.2638\n",
            "Epoch 227/400\n",
            "387/387 [==============================] - 1s 2ms/step - loss: 0.2637 - mae: 0.2637\n",
            "Epoch 228/400\n",
            "387/387 [==============================] - 1s 2ms/step - loss: 0.2648 - mae: 0.2648\n",
            "Epoch 229/400\n",
            "387/387 [==============================] - 1s 2ms/step - loss: 0.2642 - mae: 0.2642\n",
            "Epoch 230/400\n",
            "387/387 [==============================] - 1s 2ms/step - loss: 0.2638 - mae: 0.2638\n",
            "Epoch 231/400\n",
            "387/387 [==============================] - 1s 2ms/step - loss: 0.2655 - mae: 0.2655\n",
            "Epoch 232/400\n",
            "387/387 [==============================] - 1s 2ms/step - loss: 0.2636 - mae: 0.2636\n",
            "Epoch 233/400\n",
            "387/387 [==============================] - 1s 2ms/step - loss: 0.2642 - mae: 0.2642\n",
            "Epoch 234/400\n",
            "387/387 [==============================] - 1s 2ms/step - loss: 0.2634 - mae: 0.2634\n",
            "Epoch 235/400\n",
            "387/387 [==============================] - 1s 3ms/step - loss: 0.2633 - mae: 0.2633\n",
            "Epoch 236/400\n",
            "387/387 [==============================] - 1s 3ms/step - loss: 0.2641 - mae: 0.2641\n",
            "Epoch 237/400\n",
            "387/387 [==============================] - 1s 3ms/step - loss: 0.2630 - mae: 0.2630\n",
            "Epoch 238/400\n",
            "387/387 [==============================] - 1s 3ms/step - loss: 0.2637 - mae: 0.2637\n",
            "Epoch 239/400\n",
            "387/387 [==============================] - 1s 2ms/step - loss: 0.2630 - mae: 0.2630\n",
            "Epoch 240/400\n",
            "387/387 [==============================] - 1s 2ms/step - loss: 0.2635 - mae: 0.2635\n",
            "Epoch 241/400\n",
            "387/387 [==============================] - 1s 2ms/step - loss: 0.2624 - mae: 0.2624\n",
            "Epoch 242/400\n",
            "387/387 [==============================] - 1s 2ms/step - loss: 0.2630 - mae: 0.2630\n",
            "Epoch 243/400\n",
            "387/387 [==============================] - 1s 2ms/step - loss: 0.2620 - mae: 0.2620\n",
            "Epoch 244/400\n",
            "387/387 [==============================] - 1s 2ms/step - loss: 0.2621 - mae: 0.2621\n",
            "Epoch 245/400\n",
            "387/387 [==============================] - 1s 2ms/step - loss: 0.2625 - mae: 0.2625\n",
            "Epoch 246/400\n",
            "387/387 [==============================] - 1s 2ms/step - loss: 0.2623 - mae: 0.2623\n",
            "Epoch 247/400\n",
            "387/387 [==============================] - 1s 3ms/step - loss: 0.2624 - mae: 0.2624\n",
            "Epoch 248/400\n",
            "387/387 [==============================] - 1s 2ms/step - loss: 0.2612 - mae: 0.2612\n",
            "Epoch 249/400\n",
            "387/387 [==============================] - 1s 2ms/step - loss: 0.2625 - mae: 0.2625\n",
            "Epoch 250/400\n",
            "387/387 [==============================] - 1s 2ms/step - loss: 0.2615 - mae: 0.2615\n",
            "Epoch 251/400\n",
            "387/387 [==============================] - 1s 3ms/step - loss: 0.2618 - mae: 0.2618\n",
            "Epoch 252/400\n",
            "387/387 [==============================] - 1s 3ms/step - loss: 0.2624 - mae: 0.2624\n",
            "Epoch 253/400\n",
            "387/387 [==============================] - 1s 3ms/step - loss: 0.2613 - mae: 0.2613\n",
            "Epoch 254/400\n",
            "387/387 [==============================] - 1s 3ms/step - loss: 0.2617 - mae: 0.2617\n",
            "Epoch 255/400\n",
            "387/387 [==============================] - 1s 2ms/step - loss: 0.2616 - mae: 0.2616\n",
            "Epoch 256/400\n",
            "387/387 [==============================] - 1s 2ms/step - loss: 0.2615 - mae: 0.2615\n",
            "Epoch 257/400\n",
            "387/387 [==============================] - 1s 2ms/step - loss: 0.2613 - mae: 0.2613\n",
            "Epoch 258/400\n",
            "387/387 [==============================] - 1s 2ms/step - loss: 0.2608 - mae: 0.2608\n",
            "Epoch 259/400\n",
            "387/387 [==============================] - 1s 2ms/step - loss: 0.2618 - mae: 0.2618\n",
            "Epoch 260/400\n",
            "387/387 [==============================] - 1s 2ms/step - loss: 0.2610 - mae: 0.2610\n",
            "Epoch 261/400\n",
            "387/387 [==============================] - 1s 2ms/step - loss: 0.2598 - mae: 0.2598\n",
            "Epoch 262/400\n",
            "387/387 [==============================] - 1s 2ms/step - loss: 0.2604 - mae: 0.2604\n",
            "Epoch 263/400\n",
            "387/387 [==============================] - 1s 2ms/step - loss: 0.2613 - mae: 0.2613\n",
            "Epoch 264/400\n",
            "387/387 [==============================] - 1s 2ms/step - loss: 0.2595 - mae: 0.2595\n",
            "Epoch 265/400\n",
            "387/387 [==============================] - 1s 2ms/step - loss: 0.2604 - mae: 0.2604\n",
            "Epoch 266/400\n",
            "387/387 [==============================] - 1s 2ms/step - loss: 0.2598 - mae: 0.2598\n",
            "Epoch 267/400\n",
            "387/387 [==============================] - 1s 3ms/step - loss: 0.2609 - mae: 0.2609\n",
            "Epoch 268/400\n",
            "387/387 [==============================] - 1s 4ms/step - loss: 0.2601 - mae: 0.2601\n",
            "Epoch 269/400\n",
            "387/387 [==============================] - 1s 3ms/step - loss: 0.2598 - mae: 0.2598\n",
            "Epoch 270/400\n",
            "387/387 [==============================] - 1s 3ms/step - loss: 0.2604 - mae: 0.2604\n",
            "Epoch 271/400\n",
            "387/387 [==============================] - 1s 2ms/step - loss: 0.2606 - mae: 0.2606\n",
            "Epoch 272/400\n",
            "387/387 [==============================] - 1s 2ms/step - loss: 0.2600 - mae: 0.2600\n",
            "Epoch 273/400\n",
            "387/387 [==============================] - 1s 2ms/step - loss: 0.2594 - mae: 0.2594\n",
            "Epoch 274/400\n",
            "387/387 [==============================] - 1s 2ms/step - loss: 0.2598 - mae: 0.2598\n",
            "Epoch 275/400\n",
            "387/387 [==============================] - 1s 2ms/step - loss: 0.2595 - mae: 0.2595\n",
            "Epoch 276/400\n",
            "387/387 [==============================] - 1s 2ms/step - loss: 0.2600 - mae: 0.2600\n",
            "Epoch 277/400\n",
            "387/387 [==============================] - 1s 2ms/step - loss: 0.2591 - mae: 0.2591\n",
            "Epoch 278/400\n",
            "387/387 [==============================] - 1s 2ms/step - loss: 0.2593 - mae: 0.2593\n",
            "Epoch 279/400\n",
            "387/387 [==============================] - 1s 2ms/step - loss: 0.2586 - mae: 0.2586\n",
            "Epoch 280/400\n",
            "387/387 [==============================] - 1s 2ms/step - loss: 0.2595 - mae: 0.2595\n",
            "Epoch 281/400\n",
            "387/387 [==============================] - 1s 2ms/step - loss: 0.2591 - mae: 0.2591\n",
            "Epoch 282/400\n",
            "387/387 [==============================] - 1s 2ms/step - loss: 0.2586 - mae: 0.2586\n",
            "Epoch 283/400\n",
            "387/387 [==============================] - 1s 3ms/step - loss: 0.2592 - mae: 0.2592\n",
            "Epoch 284/400\n",
            "387/387 [==============================] - 1s 3ms/step - loss: 0.2582 - mae: 0.2582\n",
            "Epoch 285/400\n",
            "387/387 [==============================] - 1s 3ms/step - loss: 0.2597 - mae: 0.2597\n",
            "Epoch 286/400\n",
            "387/387 [==============================] - 1s 3ms/step - loss: 0.2588 - mae: 0.2588\n",
            "Epoch 287/400\n",
            "387/387 [==============================] - 1s 3ms/step - loss: 0.2593 - mae: 0.2593\n",
            "Epoch 288/400\n",
            "387/387 [==============================] - 1s 2ms/step - loss: 0.2576 - mae: 0.2576\n",
            "Epoch 289/400\n",
            "387/387 [==============================] - 1s 2ms/step - loss: 0.2594 - mae: 0.2594\n",
            "Epoch 290/400\n",
            "387/387 [==============================] - 1s 2ms/step - loss: 0.2577 - mae: 0.2577\n",
            "Epoch 291/400\n",
            "387/387 [==============================] - 1s 3ms/step - loss: 0.2581 - mae: 0.2581\n",
            "Epoch 292/400\n",
            "387/387 [==============================] - 1s 2ms/step - loss: 0.2575 - mae: 0.2575\n",
            "Epoch 293/400\n",
            "387/387 [==============================] - 1s 2ms/step - loss: 0.2586 - mae: 0.2586\n",
            "Epoch 294/400\n",
            "387/387 [==============================] - 1s 2ms/step - loss: 0.2580 - mae: 0.2580\n",
            "Epoch 295/400\n",
            "387/387 [==============================] - 1s 2ms/step - loss: 0.2573 - mae: 0.2573\n",
            "Epoch 296/400\n",
            "387/387 [==============================] - 1s 2ms/step - loss: 0.2577 - mae: 0.2577\n",
            "Epoch 297/400\n",
            "387/387 [==============================] - 1s 2ms/step - loss: 0.2575 - mae: 0.2575\n",
            "Epoch 298/400\n",
            "387/387 [==============================] - 1s 2ms/step - loss: 0.2561 - mae: 0.2561\n",
            "Epoch 299/400\n",
            "387/387 [==============================] - 1s 2ms/step - loss: 0.2571 - mae: 0.2571\n",
            "Epoch 300/400\n",
            "387/387 [==============================] - 1s 3ms/step - loss: 0.2576 - mae: 0.2576\n",
            "Epoch 301/400\n",
            "387/387 [==============================] - 2s 4ms/step - loss: 0.2563 - mae: 0.2563\n",
            "Epoch 302/400\n",
            "387/387 [==============================] - 1s 3ms/step - loss: 0.2561 - mae: 0.2561\n",
            "Epoch 303/400\n",
            "387/387 [==============================] - 1s 2ms/step - loss: 0.2559 - mae: 0.2559\n",
            "Epoch 304/400\n",
            "387/387 [==============================] - 1s 2ms/step - loss: 0.2550 - mae: 0.2550\n",
            "Epoch 305/400\n",
            "387/387 [==============================] - 1s 2ms/step - loss: 0.2565 - mae: 0.2565\n",
            "Epoch 306/400\n",
            "387/387 [==============================] - 1s 2ms/step - loss: 0.2566 - mae: 0.2566\n",
            "Epoch 307/400\n",
            "387/387 [==============================] - 1s 2ms/step - loss: 0.2577 - mae: 0.2577\n",
            "Epoch 308/400\n",
            "387/387 [==============================] - 1s 2ms/step - loss: 0.2576 - mae: 0.2576\n",
            "Epoch 309/400\n",
            "387/387 [==============================] - 1s 2ms/step - loss: 0.2567 - mae: 0.2567\n",
            "Epoch 310/400\n",
            "387/387 [==============================] - 1s 2ms/step - loss: 0.2558 - mae: 0.2558\n",
            "Epoch 311/400\n",
            "387/387 [==============================] - 1s 3ms/step - loss: 0.2554 - mae: 0.2554\n",
            "Epoch 312/400\n",
            "387/387 [==============================] - 1s 3ms/step - loss: 0.2571 - mae: 0.2571\n",
            "Epoch 313/400\n",
            "387/387 [==============================] - 1s 2ms/step - loss: 0.2553 - mae: 0.2553\n",
            "Epoch 314/400\n",
            "387/387 [==============================] - 1s 2ms/step - loss: 0.2556 - mae: 0.2556\n",
            "Epoch 315/400\n",
            "387/387 [==============================] - 1s 3ms/step - loss: 0.2566 - mae: 0.2566\n",
            "Epoch 316/400\n",
            "387/387 [==============================] - 1s 3ms/step - loss: 0.2566 - mae: 0.2566\n",
            "Epoch 317/400\n",
            "387/387 [==============================] - 1s 3ms/step - loss: 0.2556 - mae: 0.2556\n",
            "Epoch 318/400\n",
            "387/387 [==============================] - 1s 3ms/step - loss: 0.2557 - mae: 0.2557\n",
            "Epoch 319/400\n",
            "387/387 [==============================] - 1s 3ms/step - loss: 0.2558 - mae: 0.2558\n",
            "Epoch 320/400\n",
            "387/387 [==============================] - 1s 3ms/step - loss: 0.2557 - mae: 0.2557\n",
            "Epoch 321/400\n",
            "387/387 [==============================] - 1s 2ms/step - loss: 0.2546 - mae: 0.2546\n",
            "Epoch 322/400\n",
            "387/387 [==============================] - 1s 2ms/step - loss: 0.2539 - mae: 0.2539\n",
            "Epoch 323/400\n",
            "387/387 [==============================] - 1s 2ms/step - loss: 0.2549 - mae: 0.2549\n",
            "Epoch 324/400\n",
            "387/387 [==============================] - 1s 2ms/step - loss: 0.2549 - mae: 0.2549\n",
            "Epoch 325/400\n",
            "387/387 [==============================] - 1s 2ms/step - loss: 0.2558 - mae: 0.2558\n",
            "Epoch 326/400\n",
            "387/387 [==============================] - 1s 2ms/step - loss: 0.2547 - mae: 0.2547\n",
            "Epoch 327/400\n",
            "387/387 [==============================] - 1s 2ms/step - loss: 0.2543 - mae: 0.2543\n",
            "Epoch 328/400\n",
            "387/387 [==============================] - 1s 2ms/step - loss: 0.2557 - mae: 0.2557\n",
            "Epoch 329/400\n",
            "387/387 [==============================] - 1s 2ms/step - loss: 0.2544 - mae: 0.2544\n",
            "Epoch 330/400\n",
            "387/387 [==============================] - 1s 3ms/step - loss: 0.2547 - mae: 0.2547\n",
            "Epoch 331/400\n",
            "387/387 [==============================] - 1s 3ms/step - loss: 0.2549 - mae: 0.2549\n",
            "Epoch 332/400\n",
            "387/387 [==============================] - 1s 3ms/step - loss: 0.2540 - mae: 0.2540\n",
            "Epoch 333/400\n",
            "387/387 [==============================] - 1s 3ms/step - loss: 0.2536 - mae: 0.2536\n",
            "Epoch 334/400\n",
            "387/387 [==============================] - 1s 2ms/step - loss: 0.2551 - mae: 0.2551\n",
            "Epoch 335/400\n",
            "387/387 [==============================] - 1s 2ms/step - loss: 0.2541 - mae: 0.2541\n",
            "Epoch 336/400\n",
            "387/387 [==============================] - 1s 2ms/step - loss: 0.2535 - mae: 0.2535\n",
            "Epoch 337/400\n",
            "387/387 [==============================] - 1s 2ms/step - loss: 0.2539 - mae: 0.2539\n",
            "Epoch 338/400\n",
            "387/387 [==============================] - 1s 2ms/step - loss: 0.2523 - mae: 0.2523\n",
            "Epoch 339/400\n",
            "387/387 [==============================] - 1s 2ms/step - loss: 0.2539 - mae: 0.2539\n",
            "Epoch 340/400\n",
            "387/387 [==============================] - 1s 2ms/step - loss: 0.2547 - mae: 0.2547\n",
            "Epoch 341/400\n",
            "387/387 [==============================] - 1s 2ms/step - loss: 0.2526 - mae: 0.2526\n",
            "Epoch 342/400\n",
            "387/387 [==============================] - 1s 2ms/step - loss: 0.2533 - mae: 0.2533\n",
            "Epoch 343/400\n",
            "387/387 [==============================] - 1s 2ms/step - loss: 0.2552 - mae: 0.2552\n",
            "Epoch 344/400\n",
            "387/387 [==============================] - 1s 2ms/step - loss: 0.2527 - mae: 0.2527\n",
            "Epoch 345/400\n",
            "387/387 [==============================] - 1s 2ms/step - loss: 0.2521 - mae: 0.2521\n",
            "Epoch 346/400\n",
            "387/387 [==============================] - 1s 3ms/step - loss: 0.2517 - mae: 0.2517\n",
            "Epoch 347/400\n",
            "387/387 [==============================] - 1s 3ms/step - loss: 0.2537 - mae: 0.2537\n",
            "Epoch 348/400\n",
            "387/387 [==============================] - 1s 3ms/step - loss: 0.2528 - mae: 0.2528\n",
            "Epoch 349/400\n",
            "387/387 [==============================] - 2s 4ms/step - loss: 0.2531 - mae: 0.2531\n",
            "Epoch 350/400\n",
            "387/387 [==============================] - 1s 2ms/step - loss: 0.2524 - mae: 0.2524\n",
            "Epoch 351/400\n",
            "387/387 [==============================] - 1s 2ms/step - loss: 0.2524 - mae: 0.2524\n",
            "Epoch 352/400\n",
            "387/387 [==============================] - 1s 2ms/step - loss: 0.2523 - mae: 0.2523\n",
            "Epoch 353/400\n",
            "387/387 [==============================] - 1s 2ms/step - loss: 0.2533 - mae: 0.2533\n",
            "Epoch 354/400\n",
            "387/387 [==============================] - 1s 2ms/step - loss: 0.2530 - mae: 0.2530\n",
            "Epoch 355/400\n",
            "387/387 [==============================] - 1s 2ms/step - loss: 0.2515 - mae: 0.2515\n",
            "Epoch 356/400\n",
            "387/387 [==============================] - 1s 2ms/step - loss: 0.2526 - mae: 0.2526\n",
            "Epoch 357/400\n",
            "387/387 [==============================] - 1s 2ms/step - loss: 0.2519 - mae: 0.2519\n",
            "Epoch 358/400\n",
            "387/387 [==============================] - 1s 2ms/step - loss: 0.2535 - mae: 0.2535\n",
            "Epoch 359/400\n",
            "387/387 [==============================] - 1s 2ms/step - loss: 0.2523 - mae: 0.2523\n",
            "Epoch 360/400\n",
            "387/387 [==============================] - 1s 2ms/step - loss: 0.2516 - mae: 0.2516\n",
            "Epoch 361/400\n",
            "387/387 [==============================] - 1s 2ms/step - loss: 0.2513 - mae: 0.2513\n",
            "Epoch 362/400\n",
            "387/387 [==============================] - 1s 2ms/step - loss: 0.2518 - mae: 0.2518\n",
            "Epoch 363/400\n",
            "387/387 [==============================] - 1s 3ms/step - loss: 0.2510 - mae: 0.2510\n",
            "Epoch 364/400\n",
            "387/387 [==============================] - 1s 3ms/step - loss: 0.2522 - mae: 0.2522\n",
            "Epoch 365/400\n",
            "387/387 [==============================] - 1s 3ms/step - loss: 0.2518 - mae: 0.2518\n",
            "Epoch 366/400\n",
            "387/387 [==============================] - 1s 3ms/step - loss: 0.2509 - mae: 0.2509\n",
            "Epoch 367/400\n",
            "387/387 [==============================] - 1s 2ms/step - loss: 0.2513 - mae: 0.2513\n",
            "Epoch 368/400\n",
            "387/387 [==============================] - 1s 2ms/step - loss: 0.2522 - mae: 0.2522\n",
            "Epoch 369/400\n",
            "387/387 [==============================] - 1s 2ms/step - loss: 0.2511 - mae: 0.2511\n",
            "Epoch 370/400\n",
            "387/387 [==============================] - 1s 2ms/step - loss: 0.2523 - mae: 0.2523\n",
            "Epoch 371/400\n",
            "387/387 [==============================] - 1s 2ms/step - loss: 0.2511 - mae: 0.2511\n",
            "Epoch 372/400\n",
            "387/387 [==============================] - 1s 2ms/step - loss: 0.2505 - mae: 0.2505\n",
            "Epoch 373/400\n",
            "387/387 [==============================] - 1s 2ms/step - loss: 0.2496 - mae: 0.2496\n",
            "Epoch 374/400\n",
            "387/387 [==============================] - 1s 2ms/step - loss: 0.2509 - mae: 0.2509\n",
            "Epoch 375/400\n",
            "387/387 [==============================] - 1s 2ms/step - loss: 0.2509 - mae: 0.2509\n",
            "Epoch 376/400\n",
            "387/387 [==============================] - 1s 2ms/step - loss: 0.2502 - mae: 0.2502\n",
            "Epoch 377/400\n",
            "387/387 [==============================] - 1s 2ms/step - loss: 0.2501 - mae: 0.2501\n",
            "Epoch 378/400\n",
            "387/387 [==============================] - 1s 2ms/step - loss: 0.2509 - mae: 0.2509\n",
            "Epoch 379/400\n",
            "387/387 [==============================] - 1s 3ms/step - loss: 0.2512 - mae: 0.2512\n",
            "Epoch 380/400\n",
            "387/387 [==============================] - 1s 3ms/step - loss: 0.2499 - mae: 0.2499\n",
            "Epoch 381/400\n",
            "387/387 [==============================] - 1s 3ms/step - loss: 0.2494 - mae: 0.2494\n",
            "Epoch 382/400\n",
            "387/387 [==============================] - 1s 3ms/step - loss: 0.2506 - mae: 0.2506\n",
            "Epoch 383/400\n",
            "387/387 [==============================] - 1s 3ms/step - loss: 0.2501 - mae: 0.2501\n",
            "Epoch 384/400\n",
            "387/387 [==============================] - 1s 2ms/step - loss: 0.2489 - mae: 0.2489\n",
            "Epoch 385/400\n",
            "387/387 [==============================] - 1s 2ms/step - loss: 0.2497 - mae: 0.2497\n",
            "Epoch 386/400\n",
            "387/387 [==============================] - 1s 2ms/step - loss: 0.2493 - mae: 0.2493\n",
            "Epoch 387/400\n",
            "387/387 [==============================] - 1s 2ms/step - loss: 0.2494 - mae: 0.2494\n",
            "Epoch 388/400\n",
            "387/387 [==============================] - 1s 2ms/step - loss: 0.2499 - mae: 0.2499\n",
            "Epoch 389/400\n",
            "387/387 [==============================] - 1s 2ms/step - loss: 0.2498 - mae: 0.2498\n",
            "Epoch 390/400\n",
            "387/387 [==============================] - 1s 2ms/step - loss: 0.2505 - mae: 0.2505\n",
            "Epoch 391/400\n",
            "387/387 [==============================] - 1s 2ms/step - loss: 0.2491 - mae: 0.2491\n",
            "Epoch 392/400\n",
            "387/387 [==============================] - 1s 2ms/step - loss: 0.2499 - mae: 0.2499\n",
            "Epoch 393/400\n",
            "387/387 [==============================] - 1s 2ms/step - loss: 0.2483 - mae: 0.2483\n",
            "Epoch 394/400\n",
            "387/387 [==============================] - 1s 2ms/step - loss: 0.2492 - mae: 0.2492\n",
            "Epoch 395/400\n",
            "387/387 [==============================] - 1s 3ms/step - loss: 0.2492 - mae: 0.2492\n",
            "Epoch 396/400\n",
            "387/387 [==============================] - 1s 3ms/step - loss: 0.2483 - mae: 0.2483\n",
            "Epoch 397/400\n",
            "387/387 [==============================] - 1s 3ms/step - loss: 0.2491 - mae: 0.2491\n",
            "Epoch 398/400\n",
            "387/387 [==============================] - 1s 3ms/step - loss: 0.2492 - mae: 0.2492\n",
            "Epoch 399/400\n",
            "387/387 [==============================] - 1s 3ms/step - loss: 0.2484 - mae: 0.2484\n",
            "Epoch 400/400\n",
            "387/387 [==============================] - 1s 2ms/step - loss: 0.2494 - mae: 0.2494\n"
          ]
        },
        {
          "output_type": "execute_result",
          "data": {
            "text/plain": [
              "<keras.src.callbacks.History at 0x7b4b2a1d9630>"
            ]
          },
          "metadata": {},
          "execution_count": 85
        }
      ]
    },
    {
      "cell_type": "code",
      "source": [
        "model.evaluate(X_val, y_val)"
      ],
      "metadata": {
        "colab": {
          "base_uri": "https://localhost:8080/"
        },
        "id": "Gy-FMsBcj52w",
        "outputId": "760c2503-cd96-4306-cc14-65082c6a407b"
      },
      "execution_count": null,
      "outputs": [
        {
          "output_type": "stream",
          "name": "stdout",
          "text": [
            "129/129 [==============================] - 0s 2ms/step - loss: 0.2937 - mae: 0.2937\n"
          ]
        },
        {
          "output_type": "execute_result",
          "data": {
            "text/plain": [
              "[0.2937038540840149, 0.2937038540840149]"
            ]
          },
          "metadata": {},
          "execution_count": 86
        }
      ]
    },
    {
      "cell_type": "code",
      "source": [
        "model.evaluate(X_test, y_test)"
      ],
      "metadata": {
        "colab": {
          "base_uri": "https://localhost:8080/"
        },
        "id": "QILaPMQYkBan",
        "outputId": "2330daf1-c32d-44df-c825-a6bd996262ae"
      },
      "execution_count": null,
      "outputs": [
        {
          "output_type": "stream",
          "name": "stdout",
          "text": [
            "129/129 [==============================] - 0s 2ms/step - loss: 0.2872 - mae: 0.2872\n"
          ]
        },
        {
          "output_type": "execute_result",
          "data": {
            "text/plain": [
              "[0.28721705079078674, 0.28721705079078674]"
            ]
          },
          "metadata": {},
          "execution_count": 87
        }
      ]
    },
    {
      "cell_type": "code",
      "source": [
        "model.summary()"
      ],
      "metadata": {
        "colab": {
          "base_uri": "https://localhost:8080/"
        },
        "id": "j7axNnp1k6hT",
        "outputId": "9687345d-e472-4ccc-bb7a-93759eac332b"
      },
      "execution_count": null,
      "outputs": [
        {
          "output_type": "stream",
          "name": "stdout",
          "text": [
            "Model: \"Model_1\"\n",
            "_________________________________________________________________\n",
            " Layer (type)                Output Shape              Param #   \n",
            "=================================================================\n",
            " dense_13 (Dense)            (None, 200)               1800      \n",
            "                                                                 \n",
            " dense_14 (Dense)            (None, 200)               40200     \n",
            "                                                                 \n",
            " dense_15 (Dense)            (None, 1)                 201       \n",
            "                                                                 \n",
            "=================================================================\n",
            "Total params: 42201 (164.85 KB)\n",
            "Trainable params: 42201 (164.85 KB)\n",
            "Non-trainable params: 0 (0.00 Byte)\n",
            "_________________________________________________________________\n"
          ]
        }
      ]
    },
    {
      "cell_type": "code",
      "source": [
        "X_val.tail()"
      ],
      "metadata": {
        "colab": {
          "base_uri": "https://localhost:8080/",
          "height": 206
        },
        "id": "mmWudl6mkWlu",
        "outputId": "4efe2500-5658-4a25-95c5-e05da6dd278f"
      },
      "execution_count": null,
      "outputs": [
        {
          "output_type": "execute_result",
          "data": {
            "text/plain": [
              "         MedInc  HouseAge  AveRooms  AveBedrms  Population  AveOccup  \\\n",
              "19969 -1.046371  0.743768 -0.273431   0.075596    0.165593  0.092612   \n",
              "1498   1.957667 -0.289187  1.014958  -0.197681   -0.320969  0.010494   \n",
              "12725 -0.574737 -0.130270 -0.122939  -0.162406    0.109078 -0.099672   \n",
              "18498  0.080604 -0.765935  0.432329  -0.036343   -0.250325  0.005595   \n",
              "2734  -0.348657  0.425936  0.017083  -0.070599    0.177956  0.004449   \n",
              "\n",
              "       Latitude  Longitude  \n",
              "19969  0.270677   0.239435  \n",
              "1498   1.075958  -1.218026  \n",
              "12725  1.394324  -0.888600  \n",
              "18498  0.649908  -0.968461  \n",
              "2734  -1.335203   2.001367  "
            ],
            "text/html": [
              "\n",
              "  <div id=\"df-97dcc196-1a49-4d4d-8727-9b807593d6d3\" class=\"colab-df-container\">\n",
              "    <div>\n",
              "<style scoped>\n",
              "    .dataframe tbody tr th:only-of-type {\n",
              "        vertical-align: middle;\n",
              "    }\n",
              "\n",
              "    .dataframe tbody tr th {\n",
              "        vertical-align: top;\n",
              "    }\n",
              "\n",
              "    .dataframe thead th {\n",
              "        text-align: right;\n",
              "    }\n",
              "</style>\n",
              "<table border=\"1\" class=\"dataframe\">\n",
              "  <thead>\n",
              "    <tr style=\"text-align: right;\">\n",
              "      <th></th>\n",
              "      <th>MedInc</th>\n",
              "      <th>HouseAge</th>\n",
              "      <th>AveRooms</th>\n",
              "      <th>AveBedrms</th>\n",
              "      <th>Population</th>\n",
              "      <th>AveOccup</th>\n",
              "      <th>Latitude</th>\n",
              "      <th>Longitude</th>\n",
              "    </tr>\n",
              "  </thead>\n",
              "  <tbody>\n",
              "    <tr>\n",
              "      <th>19969</th>\n",
              "      <td>-1.046371</td>\n",
              "      <td>0.743768</td>\n",
              "      <td>-0.273431</td>\n",
              "      <td>0.075596</td>\n",
              "      <td>0.165593</td>\n",
              "      <td>0.092612</td>\n",
              "      <td>0.270677</td>\n",
              "      <td>0.239435</td>\n",
              "    </tr>\n",
              "    <tr>\n",
              "      <th>1498</th>\n",
              "      <td>1.957667</td>\n",
              "      <td>-0.289187</td>\n",
              "      <td>1.014958</td>\n",
              "      <td>-0.197681</td>\n",
              "      <td>-0.320969</td>\n",
              "      <td>0.010494</td>\n",
              "      <td>1.075958</td>\n",
              "      <td>-1.218026</td>\n",
              "    </tr>\n",
              "    <tr>\n",
              "      <th>12725</th>\n",
              "      <td>-0.574737</td>\n",
              "      <td>-0.130270</td>\n",
              "      <td>-0.122939</td>\n",
              "      <td>-0.162406</td>\n",
              "      <td>0.109078</td>\n",
              "      <td>-0.099672</td>\n",
              "      <td>1.394324</td>\n",
              "      <td>-0.888600</td>\n",
              "    </tr>\n",
              "    <tr>\n",
              "      <th>18498</th>\n",
              "      <td>0.080604</td>\n",
              "      <td>-0.765935</td>\n",
              "      <td>0.432329</td>\n",
              "      <td>-0.036343</td>\n",
              "      <td>-0.250325</td>\n",
              "      <td>0.005595</td>\n",
              "      <td>0.649908</td>\n",
              "      <td>-0.968461</td>\n",
              "    </tr>\n",
              "    <tr>\n",
              "      <th>2734</th>\n",
              "      <td>-0.348657</td>\n",
              "      <td>0.425936</td>\n",
              "      <td>0.017083</td>\n",
              "      <td>-0.070599</td>\n",
              "      <td>0.177956</td>\n",
              "      <td>0.004449</td>\n",
              "      <td>-1.335203</td>\n",
              "      <td>2.001367</td>\n",
              "    </tr>\n",
              "  </tbody>\n",
              "</table>\n",
              "</div>\n",
              "    <div class=\"colab-df-buttons\">\n",
              "\n",
              "  <div class=\"colab-df-container\">\n",
              "    <button class=\"colab-df-convert\" onclick=\"convertToInteractive('df-97dcc196-1a49-4d4d-8727-9b807593d6d3')\"\n",
              "            title=\"Convert this dataframe to an interactive table.\"\n",
              "            style=\"display:none;\">\n",
              "\n",
              "  <svg xmlns=\"http://www.w3.org/2000/svg\" height=\"24px\" viewBox=\"0 -960 960 960\">\n",
              "    <path d=\"M120-120v-720h720v720H120Zm60-500h600v-160H180v160Zm220 220h160v-160H400v160Zm0 220h160v-160H400v160ZM180-400h160v-160H180v160Zm440 0h160v-160H620v160ZM180-180h160v-160H180v160Zm440 0h160v-160H620v160Z\"/>\n",
              "  </svg>\n",
              "    </button>\n",
              "\n",
              "  <style>\n",
              "    .colab-df-container {\n",
              "      display:flex;\n",
              "      gap: 12px;\n",
              "    }\n",
              "\n",
              "    .colab-df-convert {\n",
              "      background-color: #E8F0FE;\n",
              "      border: none;\n",
              "      border-radius: 50%;\n",
              "      cursor: pointer;\n",
              "      display: none;\n",
              "      fill: #1967D2;\n",
              "      height: 32px;\n",
              "      padding: 0 0 0 0;\n",
              "      width: 32px;\n",
              "    }\n",
              "\n",
              "    .colab-df-convert:hover {\n",
              "      background-color: #E2EBFA;\n",
              "      box-shadow: 0px 1px 2px rgba(60, 64, 67, 0.3), 0px 1px 3px 1px rgba(60, 64, 67, 0.15);\n",
              "      fill: #174EA6;\n",
              "    }\n",
              "\n",
              "    .colab-df-buttons div {\n",
              "      margin-bottom: 4px;\n",
              "    }\n",
              "\n",
              "    [theme=dark] .colab-df-convert {\n",
              "      background-color: #3B4455;\n",
              "      fill: #D2E3FC;\n",
              "    }\n",
              "\n",
              "    [theme=dark] .colab-df-convert:hover {\n",
              "      background-color: #434B5C;\n",
              "      box-shadow: 0px 1px 3px 1px rgba(0, 0, 0, 0.15);\n",
              "      filter: drop-shadow(0px 1px 2px rgba(0, 0, 0, 0.3));\n",
              "      fill: #FFFFFF;\n",
              "    }\n",
              "  </style>\n",
              "\n",
              "    <script>\n",
              "      const buttonEl =\n",
              "        document.querySelector('#df-97dcc196-1a49-4d4d-8727-9b807593d6d3 button.colab-df-convert');\n",
              "      buttonEl.style.display =\n",
              "        google.colab.kernel.accessAllowed ? 'block' : 'none';\n",
              "\n",
              "      async function convertToInteractive(key) {\n",
              "        const element = document.querySelector('#df-97dcc196-1a49-4d4d-8727-9b807593d6d3');\n",
              "        const dataTable =\n",
              "          await google.colab.kernel.invokeFunction('convertToInteractive',\n",
              "                                                    [key], {});\n",
              "        if (!dataTable) return;\n",
              "\n",
              "        const docLinkHtml = 'Like what you see? Visit the ' +\n",
              "          '<a target=\"_blank\" href=https://colab.research.google.com/notebooks/data_table.ipynb>data table notebook</a>'\n",
              "          + ' to learn more about interactive tables.';\n",
              "        element.innerHTML = '';\n",
              "        dataTable['output_type'] = 'display_data';\n",
              "        await google.colab.output.renderOutput(dataTable, element);\n",
              "        const docLink = document.createElement('div');\n",
              "        docLink.innerHTML = docLinkHtml;\n",
              "        element.appendChild(docLink);\n",
              "      }\n",
              "    </script>\n",
              "  </div>\n",
              "\n",
              "\n",
              "<div id=\"df-1f2af9a5-5656-4236-8187-6905b10746bb\">\n",
              "  <button class=\"colab-df-quickchart\" onclick=\"quickchart('df-1f2af9a5-5656-4236-8187-6905b10746bb')\"\n",
              "            title=\"Suggest charts\"\n",
              "            style=\"display:none;\">\n",
              "\n",
              "<svg xmlns=\"http://www.w3.org/2000/svg\" height=\"24px\"viewBox=\"0 0 24 24\"\n",
              "     width=\"24px\">\n",
              "    <g>\n",
              "        <path d=\"M19 3H5c-1.1 0-2 .9-2 2v14c0 1.1.9 2 2 2h14c1.1 0 2-.9 2-2V5c0-1.1-.9-2-2-2zM9 17H7v-7h2v7zm4 0h-2V7h2v10zm4 0h-2v-4h2v4z\"/>\n",
              "    </g>\n",
              "</svg>\n",
              "  </button>\n",
              "\n",
              "<style>\n",
              "  .colab-df-quickchart {\n",
              "      --bg-color: #E8F0FE;\n",
              "      --fill-color: #1967D2;\n",
              "      --hover-bg-color: #E2EBFA;\n",
              "      --hover-fill-color: #174EA6;\n",
              "      --disabled-fill-color: #AAA;\n",
              "      --disabled-bg-color: #DDD;\n",
              "  }\n",
              "\n",
              "  [theme=dark] .colab-df-quickchart {\n",
              "      --bg-color: #3B4455;\n",
              "      --fill-color: #D2E3FC;\n",
              "      --hover-bg-color: #434B5C;\n",
              "      --hover-fill-color: #FFFFFF;\n",
              "      --disabled-bg-color: #3B4455;\n",
              "      --disabled-fill-color: #666;\n",
              "  }\n",
              "\n",
              "  .colab-df-quickchart {\n",
              "    background-color: var(--bg-color);\n",
              "    border: none;\n",
              "    border-radius: 50%;\n",
              "    cursor: pointer;\n",
              "    display: none;\n",
              "    fill: var(--fill-color);\n",
              "    height: 32px;\n",
              "    padding: 0;\n",
              "    width: 32px;\n",
              "  }\n",
              "\n",
              "  .colab-df-quickchart:hover {\n",
              "    background-color: var(--hover-bg-color);\n",
              "    box-shadow: 0 1px 2px rgba(60, 64, 67, 0.3), 0 1px 3px 1px rgba(60, 64, 67, 0.15);\n",
              "    fill: var(--button-hover-fill-color);\n",
              "  }\n",
              "\n",
              "  .colab-df-quickchart-complete:disabled,\n",
              "  .colab-df-quickchart-complete:disabled:hover {\n",
              "    background-color: var(--disabled-bg-color);\n",
              "    fill: var(--disabled-fill-color);\n",
              "    box-shadow: none;\n",
              "  }\n",
              "\n",
              "  .colab-df-spinner {\n",
              "    border: 2px solid var(--fill-color);\n",
              "    border-color: transparent;\n",
              "    border-bottom-color: var(--fill-color);\n",
              "    animation:\n",
              "      spin 1s steps(1) infinite;\n",
              "  }\n",
              "\n",
              "  @keyframes spin {\n",
              "    0% {\n",
              "      border-color: transparent;\n",
              "      border-bottom-color: var(--fill-color);\n",
              "      border-left-color: var(--fill-color);\n",
              "    }\n",
              "    20% {\n",
              "      border-color: transparent;\n",
              "      border-left-color: var(--fill-color);\n",
              "      border-top-color: var(--fill-color);\n",
              "    }\n",
              "    30% {\n",
              "      border-color: transparent;\n",
              "      border-left-color: var(--fill-color);\n",
              "      border-top-color: var(--fill-color);\n",
              "      border-right-color: var(--fill-color);\n",
              "    }\n",
              "    40% {\n",
              "      border-color: transparent;\n",
              "      border-right-color: var(--fill-color);\n",
              "      border-top-color: var(--fill-color);\n",
              "    }\n",
              "    60% {\n",
              "      border-color: transparent;\n",
              "      border-right-color: var(--fill-color);\n",
              "    }\n",
              "    80% {\n",
              "      border-color: transparent;\n",
              "      border-right-color: var(--fill-color);\n",
              "      border-bottom-color: var(--fill-color);\n",
              "    }\n",
              "    90% {\n",
              "      border-color: transparent;\n",
              "      border-bottom-color: var(--fill-color);\n",
              "    }\n",
              "  }\n",
              "</style>\n",
              "\n",
              "  <script>\n",
              "    async function quickchart(key) {\n",
              "      const quickchartButtonEl =\n",
              "        document.querySelector('#' + key + ' button');\n",
              "      quickchartButtonEl.disabled = true;  // To prevent multiple clicks.\n",
              "      quickchartButtonEl.classList.add('colab-df-spinner');\n",
              "      try {\n",
              "        const charts = await google.colab.kernel.invokeFunction(\n",
              "            'suggestCharts', [key], {});\n",
              "      } catch (error) {\n",
              "        console.error('Error during call to suggestCharts:', error);\n",
              "      }\n",
              "      quickchartButtonEl.classList.remove('colab-df-spinner');\n",
              "      quickchartButtonEl.classList.add('colab-df-quickchart-complete');\n",
              "    }\n",
              "    (() => {\n",
              "      let quickchartButtonEl =\n",
              "        document.querySelector('#df-1f2af9a5-5656-4236-8187-6905b10746bb button');\n",
              "      quickchartButtonEl.style.display =\n",
              "        google.colab.kernel.accessAllowed ? 'block' : 'none';\n",
              "    })();\n",
              "  </script>\n",
              "</div>\n",
              "\n",
              "    </div>\n",
              "  </div>\n"
            ],
            "application/vnd.google.colaboratory.intrinsic+json": {
              "type": "dataframe",
              "summary": "{\n  \"name\": \"X_val\",\n  \"rows\": 5,\n  \"fields\": [\n    {\n      \"column\": \"MedInc\",\n      \"properties\": {\n        \"dtype\": \"number\",\n        \"std\": 1.1602583447203523,\n        \"min\": -1.0463714261550316,\n        \"max\": 1.9576674276408612,\n        \"num_unique_values\": 5,\n        \"samples\": [\n          1.9576674276408612,\n          -0.3486574782478203,\n          -0.5747367997311453\n        ],\n        \"semantic_type\": \"\",\n        \"description\": \"\"\n      }\n    },\n    {\n      \"column\": \"HouseAge\",\n      \"properties\": {\n        \"dtype\": \"number\",\n        \"std\": 0.5962003907624841,\n        \"min\": -0.765935070529426,\n        \"max\": 0.7437684224456076,\n        \"num_unique_values\": 5,\n        \"samples\": [\n          -0.28918659906362587,\n          0.4259361081350742,\n          -0.1302704419083592\n        ],\n        \"semantic_type\": \"\",\n        \"description\": \"\"\n      }\n    },\n    {\n      \"column\": \"AveRooms\",\n      \"properties\": {\n        \"dtype\": \"number\",\n        \"std\": 0.5193969952732537,\n        \"min\": -0.27343120013761674,\n        \"max\": 1.0149576082130138,\n        \"num_unique_values\": 5,\n        \"samples\": [\n          1.0149576082130138,\n          0.017082737194827276,\n          -0.1229385945070518\n        ],\n        \"semantic_type\": \"\",\n        \"description\": \"\"\n      }\n    },\n    {\n      \"column\": \"AveBedrms\",\n      \"properties\": {\n        \"dtype\": \"number\",\n        \"std\": 0.10820053783476231,\n        \"min\": -0.1976814959537074,\n        \"max\": 0.0755959011313568,\n        \"num_unique_values\": 5,\n        \"samples\": [\n          -0.1976814959537074,\n          -0.07059886650581632,\n          -0.16240629711789292\n        ],\n        \"semantic_type\": \"\",\n        \"description\": \"\"\n      }\n    },\n    {\n      \"column\": \"Population\",\n      \"properties\": {\n        \"dtype\": \"number\",\n        \"std\": 0.24179262267982327,\n        \"min\": -0.3209692780656368,\n        \"max\": 0.1779557426071068,\n        \"num_unique_values\": 5,\n        \"samples\": [\n          -0.3209692780656368,\n          0.1779557426071068,\n          0.10907759816025016\n        ],\n        \"semantic_type\": \"\",\n        \"description\": \"\"\n      }\n    },\n    {\n      \"column\": \"AveOccup\",\n      \"properties\": {\n        \"dtype\": \"number\",\n        \"std\": 0.06825749142404348,\n        \"min\": -0.09967221887495603,\n        \"max\": 0.09261154938203348,\n        \"num_unique_values\": 5,\n        \"samples\": [\n          0.010493710695643851,\n          0.004448678695016385,\n          -0.09967221887495603\n        ],\n        \"semantic_type\": \"\",\n        \"description\": \"\"\n      }\n    },\n    {\n      \"column\": \"Latitude\",\n      \"properties\": {\n        \"dtype\": \"number\",\n        \"std\": 1.0647874009664953,\n        \"min\": -1.3352032216658187,\n        \"max\": 1.3943244788078257,\n        \"num_unique_values\": 5,\n        \"samples\": [\n          1.075957611514159,\n          -1.3352032216658187,\n          1.3943244788078257\n        ],\n        \"semantic_type\": \"\",\n        \"description\": \"\"\n      }\n    },\n    {\n      \"column\": \"Longitude\",\n      \"properties\": {\n        \"dtype\": \"number\",\n        \"std\": 1.3355436005556232,\n        \"min\": -1.2180264638905827,\n        \"max\": 2.001366660767166,\n        \"num_unique_values\": 5,\n        \"samples\": [\n          -1.2180264638905827,\n          2.001366660767166,\n          -0.8886001906697845\n        ],\n        \"semantic_type\": \"\",\n        \"description\": \"\"\n      }\n    }\n  ]\n}"
            }
          },
          "metadata": {},
          "execution_count": 89
        }
      ]
    },
    {
      "cell_type": "code",
      "source": [
        "y_val.tail()"
      ],
      "metadata": {
        "colab": {
          "base_uri": "https://localhost:8080/"
        },
        "id": "1thy16K_ke-G",
        "outputId": "08023ba9-7fde-4fae-e998-7575408de6a4"
      },
      "execution_count": null,
      "outputs": [
        {
          "output_type": "execute_result",
          "data": {
            "text/plain": [
              "19969   -1.406117\n",
              "1498     1.068907\n",
              "12725   -0.789961\n",
              "18498    1.453680\n",
              "2734    -1.132270\n",
              "Name: MedHouseVal, dtype: float64"
            ]
          },
          "metadata": {},
          "execution_count": 90
        }
      ]
    },
    {
      "source": [
        "X_val.iloc[-1]"
      ],
      "cell_type": "code",
      "metadata": {
        "colab": {
          "base_uri": "https://localhost:8080/"
        },
        "id": "cI7PcaddkTjG",
        "outputId": "1b743639-f6bd-4ddf-cf53-c5fef520a7cc"
      },
      "execution_count": null,
      "outputs": [
        {
          "output_type": "execute_result",
          "data": {
            "text/plain": [
              "MedInc       -0.348657\n",
              "HouseAge      0.425936\n",
              "AveRooms      0.017083\n",
              "AveBedrms    -0.070599\n",
              "Population    0.177956\n",
              "AveOccup      0.004449\n",
              "Latitude     -1.335203\n",
              "Longitude     2.001367\n",
              "Name: 2734, dtype: float64"
            ]
          },
          "metadata": {},
          "execution_count": 91
        }
      ]
    },
    {
      "cell_type": "code",
      "source": [
        "reshaped_input = X_val.iloc[-1].values.reshape(1, -1)"
      ],
      "metadata": {
        "id": "8ISBv2DQkvHd"
      },
      "execution_count": null,
      "outputs": []
    },
    {
      "cell_type": "code",
      "source": [
        "reshaped_input"
      ],
      "metadata": {
        "colab": {
          "base_uri": "https://localhost:8080/"
        },
        "id": "JQ_refWYk08j",
        "outputId": "afaeef89-6032-473b-8a6b-5c82b66b5c79"
      },
      "execution_count": null,
      "outputs": [
        {
          "output_type": "execute_result",
          "data": {
            "text/plain": [
              "array([[-0.34865748,  0.42593611,  0.01708274, -0.07059887,  0.17795574,\n",
              "         0.00444868, -1.33520322,  2.00136666]])"
            ]
          },
          "metadata": {},
          "execution_count": 93
        }
      ]
    },
    {
      "cell_type": "code",
      "source": [
        "model.predict(reshaped_input)"
      ],
      "metadata": {
        "colab": {
          "base_uri": "https://localhost:8080/"
        },
        "id": "LVZVHg1mkkA-",
        "outputId": "35986127-9bee-46af-bf6f-3878b951c448"
      },
      "execution_count": null,
      "outputs": [
        {
          "output_type": "stream",
          "name": "stdout",
          "text": [
            "1/1 [==============================] - 0s 65ms/step\n"
          ]
        },
        {
          "output_type": "execute_result",
          "data": {
            "text/plain": [
              "array([[-0.92279744]], dtype=float32)"
            ]
          },
          "metadata": {},
          "execution_count": 94
        }
      ]
    },
    {
      "cell_type": "markdown",
      "source": [
        "#Let's try new experiments:\n",
        "2. Reduce the number of hidden layers\n",
        "3. Train less\n",
        "4. Increase the number of hidden units\n",
        "5. Use MSE"
      ],
      "metadata": {
        "id": "01Q3ey-Ok9FK"
      }
    },
    {
      "cell_type": "code",
      "source": [
        "import tensorflow as tf\n",
        "\n",
        "# Create the model with Sequential API using .add method\n",
        "model2 = tf.keras.Sequential(name=\"Model_2\")\n",
        "model2.add(tf.keras.Input(shape=(8,)))  # The input layer\n",
        "model2.add(tf.keras.layers.Dense(200, activation='relu'))  # The hidden layer\n",
        "model2.add(tf.keras.layers.Dense(1, activation=None))  # The output layer\n",
        "\n",
        "# Compile the model\n",
        "model2.compile(loss=\"mae\",\n",
        "              optimizer=tf.keras.optimizers.SGD(),\n",
        "              metrics=[\"mae\"])\n",
        "\n",
        "# Assuming X_tensor and y_tensor are your input and target tensors\n",
        "# Fit the model\n",
        "model2.fit(X_train, y_train, epochs=400, verbose=0)"
      ],
      "metadata": {
        "colab": {
          "base_uri": "https://localhost:8080/"
        },
        "id": "w_i5zvaclINk",
        "outputId": "5b34ec8f-3c8d-416c-ea3a-ee958509d445"
      },
      "execution_count": null,
      "outputs": [
        {
          "output_type": "execute_result",
          "data": {
            "text/plain": [
              "<keras.src.callbacks.History at 0x7b4b2cd53af0>"
            ]
          },
          "metadata": {},
          "execution_count": 95
        }
      ]
    },
    {
      "cell_type": "code",
      "source": [
        "model2.evaluate(X_val, y_val)"
      ],
      "metadata": {
        "colab": {
          "base_uri": "https://localhost:8080/"
        },
        "id": "81b19-_n2ufV",
        "outputId": "0489ad37-3ebe-4fe8-ae45-f117e7cdeb77"
      },
      "execution_count": null,
      "outputs": [
        {
          "output_type": "stream",
          "name": "stdout",
          "text": [
            "129/129 [==============================] - 0s 2ms/step - loss: 0.3163 - mae: 0.3163\n"
          ]
        },
        {
          "output_type": "execute_result",
          "data": {
            "text/plain": [
              "[0.3163195848464966, 0.3163195848464966]"
            ]
          },
          "metadata": {},
          "execution_count": 96
        }
      ]
    },
    {
      "cell_type": "code",
      "source": [
        "model2.evaluate(X_test, y_test)"
      ],
      "metadata": {
        "colab": {
          "base_uri": "https://localhost:8080/"
        },
        "id": "chIBi3xd2x5B",
        "outputId": "5fa478a2-ff0b-4600-ab5f-919ebb1e3811"
      },
      "execution_count": null,
      "outputs": [
        {
          "output_type": "stream",
          "name": "stdout",
          "text": [
            "129/129 [==============================] - 0s 2ms/step - loss: 0.3078 - mae: 0.3078\n"
          ]
        },
        {
          "output_type": "execute_result",
          "data": {
            "text/plain": [
              "[0.3078433871269226, 0.3078433871269226]"
            ]
          },
          "metadata": {},
          "execution_count": 97
        }
      ]
    },
    {
      "cell_type": "code",
      "source": [
        "model2.predict(reshaped_input)"
      ],
      "metadata": {
        "colab": {
          "base_uri": "https://localhost:8080/"
        },
        "id": "acqqrlTw20fR",
        "outputId": "f16408c5-e679-4138-e88b-3bd62e9e683c"
      },
      "execution_count": null,
      "outputs": [
        {
          "output_type": "stream",
          "name": "stdout",
          "text": [
            "1/1 [==============================] - 0s 66ms/step\n"
          ]
        },
        {
          "output_type": "execute_result",
          "data": {
            "text/plain": [
              "array([[-1.1648092]], dtype=float32)"
            ]
          },
          "metadata": {},
          "execution_count": 98
        }
      ]
    },
    {
      "cell_type": "code",
      "source": [
        "import tensorflow as tf\n",
        "\n",
        "# Create the model with Sequential API using .add method\n",
        "model3 = tf.keras.Sequential(name=\"Model_3\")\n",
        "model3.add(tf.keras.Input(shape=(8,)))  # The input layer\n",
        "model3.add(tf.keras.layers.Dense(200, activation='relu'))  # The hidden layer\n",
        "model3.add(tf.keras.layers.Dense(1, activation=None))  # The output layer\n",
        "\n",
        "# Compile the model\n",
        "model3.compile(loss=\"mae\",\n",
        "              optimizer=tf.keras.optimizers.SGD(),\n",
        "              metrics=[\"mae\"])\n",
        "\n",
        "# Fit the model\n",
        "model3.fit(X_train, y_train, epochs=200, verbose=0)"
      ],
      "metadata": {
        "colab": {
          "base_uri": "https://localhost:8080/"
        },
        "id": "bz3sV4nE3AAa",
        "outputId": "870745b3-32c0-4e66-ba75-d43a92bcb461"
      },
      "execution_count": null,
      "outputs": [
        {
          "output_type": "execute_result",
          "data": {
            "text/plain": [
              "<keras.src.callbacks.History at 0x7b4b277fc8e0>"
            ]
          },
          "metadata": {},
          "execution_count": 99
        }
      ]
    },
    {
      "cell_type": "code",
      "source": [
        "model3.evaluate(X_val, y_val)"
      ],
      "metadata": {
        "colab": {
          "base_uri": "https://localhost:8080/"
        },
        "id": "mNy2OiY14tfp",
        "outputId": "debc080d-f085-412b-8046-1938d05a485b"
      },
      "execution_count": null,
      "outputs": [
        {
          "output_type": "stream",
          "name": "stdout",
          "text": [
            "129/129 [==============================] - 0s 3ms/step - loss: 0.3268 - mae: 0.3268\n"
          ]
        },
        {
          "output_type": "execute_result",
          "data": {
            "text/plain": [
              "[0.32683613896369934, 0.32683613896369934]"
            ]
          },
          "metadata": {},
          "execution_count": 100
        }
      ]
    },
    {
      "cell_type": "code",
      "source": [
        "model3.evaluate(X_test, y_test)"
      ],
      "metadata": {
        "colab": {
          "base_uri": "https://localhost:8080/"
        },
        "id": "7o2OPLkJ4xYZ",
        "outputId": "cf65c797-72c9-458c-e3b4-a65c88756c2b"
      },
      "execution_count": null,
      "outputs": [
        {
          "output_type": "stream",
          "name": "stdout",
          "text": [
            "129/129 [==============================] - 0s 1ms/step - loss: 0.3212 - mae: 0.3212\n"
          ]
        },
        {
          "output_type": "execute_result",
          "data": {
            "text/plain": [
              "[0.3212066888809204, 0.3212066888809204]"
            ]
          },
          "metadata": {},
          "execution_count": 101
        }
      ]
    },
    {
      "cell_type": "code",
      "source": [
        "model3.predict(reshaped_input)"
      ],
      "metadata": {
        "colab": {
          "base_uri": "https://localhost:8080/"
        },
        "id": "hMQI1fPr4zVe",
        "outputId": "9b342951-dd05-486c-f8e4-3236f9fd961f"
      },
      "execution_count": null,
      "outputs": [
        {
          "output_type": "stream",
          "name": "stderr",
          "text": [
            "WARNING:tensorflow:5 out of the last 5 calls to <function Model.make_predict_function.<locals>.predict_function at 0x7b4b2c807d00> triggered tf.function retracing. Tracing is expensive and the excessive number of tracings could be due to (1) creating @tf.function repeatedly in a loop, (2) passing tensors with different shapes, (3) passing Python objects instead of tensors. For (1), please define your @tf.function outside of the loop. For (2), @tf.function has reduce_retracing=True option that can avoid unnecessary retracing. For (3), please refer to https://www.tensorflow.org/guide/function#controlling_retracing and https://www.tensorflow.org/api_docs/python/tf/function for  more details.\n"
          ]
        },
        {
          "output_type": "stream",
          "name": "stdout",
          "text": [
            "1/1 [==============================] - 0s 140ms/step\n"
          ]
        },
        {
          "output_type": "execute_result",
          "data": {
            "text/plain": [
              "array([[-1.3842154]], dtype=float32)"
            ]
          },
          "metadata": {},
          "execution_count": 102
        }
      ]
    },
    {
      "cell_type": "code",
      "source": [
        "import tensorflow as tf\n",
        "\n",
        "# Create the model with Sequential API using .add method\n",
        "model4 = tf.keras.Sequential(name=\"Model_4\")\n",
        "model4.add(tf.keras.Input(shape=(8,)))  # The input layer\n",
        "model4.add(tf.keras.layers.Dense(400, activation='relu'))  # The hidden layer\n",
        "model4.add(tf.keras.layers.Dense(1, activation=None))  # The output layer\n",
        "\n",
        "# Compile the model\n",
        "model4.compile(loss=\"mae\",\n",
        "              optimizer=tf.keras.optimizers.SGD(),\n",
        "              metrics=[\"mae\"])\n",
        "\n",
        "# Fit the model\n",
        "model4.fit(X_train, y_train, epochs=400, verbose=0)"
      ],
      "metadata": {
        "colab": {
          "base_uri": "https://localhost:8080/"
        },
        "id": "bkh09Z0F5Gfg",
        "outputId": "6fa45afe-567b-43f0-8510-bc6152820952"
      },
      "execution_count": null,
      "outputs": [
        {
          "output_type": "execute_result",
          "data": {
            "text/plain": [
              "<keras.src.callbacks.History at 0x7b4b2cd82860>"
            ]
          },
          "metadata": {},
          "execution_count": 103
        }
      ]
    },
    {
      "cell_type": "code",
      "source": [
        "model4.evaluate(X_val, y_val)"
      ],
      "metadata": {
        "colab": {
          "base_uri": "https://localhost:8080/"
        },
        "id": "uVkvdCqs7SOl",
        "outputId": "9b9c1723-5153-414f-a9e2-576110cfec56"
      },
      "execution_count": null,
      "outputs": [
        {
          "output_type": "stream",
          "name": "stdout",
          "text": [
            "129/129 [==============================] - 1s 5ms/step - loss: 0.3149 - mae: 0.3149\n"
          ]
        },
        {
          "output_type": "execute_result",
          "data": {
            "text/plain": [
              "[0.3149292767047882, 0.3149292767047882]"
            ]
          },
          "metadata": {},
          "execution_count": 104
        }
      ]
    },
    {
      "cell_type": "code",
      "source": [
        "model4.evaluate(X_test, y_test)"
      ],
      "metadata": {
        "colab": {
          "base_uri": "https://localhost:8080/"
        },
        "id": "UwRzdcpv8Gxy",
        "outputId": "ebfc3359-8bb2-4d9b-f9c9-4b02aac30853"
      },
      "execution_count": null,
      "outputs": [
        {
          "output_type": "stream",
          "name": "stdout",
          "text": [
            "129/129 [==============================] - 0s 2ms/step - loss: 0.3110 - mae: 0.3110\n"
          ]
        },
        {
          "output_type": "execute_result",
          "data": {
            "text/plain": [
              "[0.31098127365112305, 0.31098127365112305]"
            ]
          },
          "metadata": {},
          "execution_count": 105
        }
      ]
    },
    {
      "cell_type": "code",
      "source": [
        "model4.predict(reshaped_input)"
      ],
      "metadata": {
        "colab": {
          "base_uri": "https://localhost:8080/"
        },
        "id": "-ZR-637Q8I3j",
        "outputId": "71bedda5-fa07-42ea-caab-ceb88250f94e"
      },
      "execution_count": null,
      "outputs": [
        {
          "output_type": "stream",
          "name": "stderr",
          "text": [
            "WARNING:tensorflow:6 out of the last 6 calls to <function Model.make_predict_function.<locals>.predict_function at 0x7b4b29b18670> triggered tf.function retracing. Tracing is expensive and the excessive number of tracings could be due to (1) creating @tf.function repeatedly in a loop, (2) passing tensors with different shapes, (3) passing Python objects instead of tensors. For (1), please define your @tf.function outside of the loop. For (2), @tf.function has reduce_retracing=True option that can avoid unnecessary retracing. For (3), please refer to https://www.tensorflow.org/guide/function#controlling_retracing and https://www.tensorflow.org/api_docs/python/tf/function for  more details.\n"
          ]
        },
        {
          "output_type": "stream",
          "name": "stdout",
          "text": [
            "1/1 [==============================] - 0s 73ms/step\n"
          ]
        },
        {
          "output_type": "execute_result",
          "data": {
            "text/plain": [
              "array([[-1.2411946]], dtype=float32)"
            ]
          },
          "metadata": {},
          "execution_count": 106
        }
      ]
    },
    {
      "cell_type": "code",
      "source": [
        "import tensorflow as tf\n",
        "\n",
        "# Create the model with Sequential API using .add method\n",
        "model5 = tf.keras.Sequential(name=\"Model_4\")\n",
        "model5.add(tf.keras.Input(shape=(8,)))  # The input layer\n",
        "model5.add(tf.keras.layers.Dense(400, activation='relu'))  # The hidden layer\n",
        "model5.add(tf.keras.layers.Dense(1, activation=None))  # The output layer\n",
        "\n",
        "# Compile the model\n",
        "model5.compile(loss=\"mse\",\n",
        "              optimizer=tf.keras.optimizers.SGD(),\n",
        "              metrics=[\"mse\"])\n",
        "\n",
        "# Fit the model\n",
        "model5.fit(X_train, y_train, epochs=400, verbose=0)"
      ],
      "metadata": {
        "colab": {
          "base_uri": "https://localhost:8080/"
        },
        "id": "wv5UHjOgGQYK",
        "outputId": "67c84151-e58b-4828-a47f-7b12bb39f588"
      },
      "execution_count": null,
      "outputs": [
        {
          "output_type": "execute_result",
          "data": {
            "text/plain": [
              "<keras.src.callbacks.History at 0x7b4b277fc250>"
            ]
          },
          "metadata": {},
          "execution_count": 108
        }
      ]
    },
    {
      "cell_type": "code",
      "source": [
        "model5.evaluate(X_val, y_val)"
      ],
      "metadata": {
        "colab": {
          "base_uri": "https://localhost:8080/"
        },
        "id": "iXk9410cGWjB",
        "outputId": "a275fc1f-2ab5-4604-b656-1e1f9a570bc5"
      },
      "execution_count": null,
      "outputs": [
        {
          "output_type": "stream",
          "name": "stdout",
          "text": [
            "129/129 [==============================] - 1s 5ms/step - loss: 0.2226 - mse: 0.2226\n"
          ]
        },
        {
          "output_type": "execute_result",
          "data": {
            "text/plain": [
              "[0.2225542515516281, 0.2225542515516281]"
            ]
          },
          "metadata": {},
          "execution_count": 109
        }
      ]
    },
    {
      "cell_type": "code",
      "source": [
        "model5.evaluate(X_test, y_test)"
      ],
      "metadata": {
        "colab": {
          "base_uri": "https://localhost:8080/"
        },
        "id": "MmvanHQBHtU-",
        "outputId": "365e9286-c0d5-4c54-aa8d-0c6da5f5740d"
      },
      "execution_count": null,
      "outputs": [
        {
          "output_type": "stream",
          "name": "stdout",
          "text": [
            "129/129 [==============================] - 0s 2ms/step - loss: 0.4085 - mse: 0.4085\n"
          ]
        },
        {
          "output_type": "execute_result",
          "data": {
            "text/plain": [
              "[0.4084606468677521, 0.4084606468677521]"
            ]
          },
          "metadata": {},
          "execution_count": 110
        }
      ]
    },
    {
      "cell_type": "code",
      "source": [
        "model5.predict(reshaped_input)"
      ],
      "metadata": {
        "colab": {
          "base_uri": "https://localhost:8080/"
        },
        "id": "Gtpq8fEiHwQp",
        "outputId": "dd72b26a-e126-4eec-fc85-840ab0967d93"
      },
      "execution_count": null,
      "outputs": [
        {
          "output_type": "stream",
          "name": "stdout",
          "text": [
            "1/1 [==============================] - 0s 103ms/step\n"
          ]
        },
        {
          "output_type": "execute_result",
          "data": {
            "text/plain": [
              "array([[-1.2154938]], dtype=float32)"
            ]
          },
          "metadata": {},
          "execution_count": 111
        }
      ]
    }
  ]
}