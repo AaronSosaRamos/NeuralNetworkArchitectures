{
  "nbformat": 4,
  "nbformat_minor": 0,
  "metadata": {
    "colab": {
      "provenance": []
    },
    "kernelspec": {
      "name": "python3",
      "display_name": "Python 3"
    },
    "language_info": {
      "name": "python"
    }
  },
  "cells": [
    {
      "cell_type": "markdown",
      "source": [
        "#Change the DataType of a Tensor"
      ],
      "metadata": {
        "id": "tT5cz51liYi8"
      }
    },
    {
      "cell_type": "code",
      "execution_count": 1,
      "metadata": {
        "id": "9lSj5RlViTrC"
      },
      "outputs": [],
      "source": [
        "import tensorflow as tf"
      ]
    },
    {
      "cell_type": "code",
      "source": [
        "tensor = tf.constant([[1,2],\n",
        "                      [3,4]])\n",
        "\n",
        "tensor.dtype"
      ],
      "metadata": {
        "colab": {
          "base_uri": "https://localhost:8080/"
        },
        "id": "oytdxET4ifyE",
        "outputId": "6c84bd86-8753-40fa-f3fc-ab40c434be95"
      },
      "execution_count": 3,
      "outputs": [
        {
          "output_type": "execute_result",
          "data": {
            "text/plain": [
              "tf.int32"
            ]
          },
          "metadata": {},
          "execution_count": 3
        }
      ]
    },
    {
      "cell_type": "code",
      "source": [
        "tensor2 = tf.constant([[1.,2.],\n",
        "                      [3.,4.]])\n",
        "\n",
        "tensor2.dtype"
      ],
      "metadata": {
        "colab": {
          "base_uri": "https://localhost:8080/"
        },
        "id": "wi5x-s-pinV1",
        "outputId": "b6ce0f44-3ff5-499f-a040-ae671b325f50"
      },
      "execution_count": 4,
      "outputs": [
        {
          "output_type": "execute_result",
          "data": {
            "text/plain": [
              "tf.float32"
            ]
          },
          "metadata": {},
          "execution_count": 4
        }
      ]
    },
    {
      "cell_type": "code",
      "source": [
        "tf.cast(tensor, dtype=tf.int16)"
      ],
      "metadata": {
        "colab": {
          "base_uri": "https://localhost:8080/"
        },
        "id": "dL4GDyEyiyvk",
        "outputId": "067b4cd4-d068-4f9b-f1e5-ace5c51931c6"
      },
      "execution_count": 5,
      "outputs": [
        {
          "output_type": "execute_result",
          "data": {
            "text/plain": [
              "<tf.Tensor: shape=(2, 2), dtype=int16, numpy=\n",
              "array([[1, 2],\n",
              "       [3, 4]], dtype=int16)>"
            ]
          },
          "metadata": {},
          "execution_count": 5
        }
      ]
    },
    {
      "cell_type": "code",
      "source": [
        "tf.cast(tensor, dtype=tf.int8)"
      ],
      "metadata": {
        "colab": {
          "base_uri": "https://localhost:8080/"
        },
        "id": "U17UMohFi4T9",
        "outputId": "3ab2f2bf-7d64-4be3-c653-9b2a575cf0b2"
      },
      "execution_count": 6,
      "outputs": [
        {
          "output_type": "execute_result",
          "data": {
            "text/plain": [
              "<tf.Tensor: shape=(2, 2), dtype=int8, numpy=\n",
              "array([[1, 2],\n",
              "       [3, 4]], dtype=int8)>"
            ]
          },
          "metadata": {},
          "execution_count": 6
        }
      ]
    },
    {
      "cell_type": "code",
      "source": [
        "tf.cast(tensor, dtype=tf.int64)"
      ],
      "metadata": {
        "colab": {
          "base_uri": "https://localhost:8080/"
        },
        "id": "bgnSxjlfjD7l",
        "outputId": "35ff9168-b26d-434f-c182-cbc4e98712f5"
      },
      "execution_count": 10,
      "outputs": [
        {
          "output_type": "execute_result",
          "data": {
            "text/plain": [
              "<tf.Tensor: shape=(2, 2), dtype=int64, numpy=\n",
              "array([[1, 2],\n",
              "       [3, 4]])>"
            ]
          },
          "metadata": {},
          "execution_count": 10
        }
      ]
    },
    {
      "cell_type": "code",
      "source": [
        "tf.cast(tensor2, dtype=tf.float16)"
      ],
      "metadata": {
        "colab": {
          "base_uri": "https://localhost:8080/"
        },
        "id": "8j8sT-Q0i6cl",
        "outputId": "48209d6b-ea6e-48e4-b5fa-0387cfbdef6e"
      },
      "execution_count": 7,
      "outputs": [
        {
          "output_type": "execute_result",
          "data": {
            "text/plain": [
              "<tf.Tensor: shape=(2, 2), dtype=float16, numpy=\n",
              "array([[1., 2.],\n",
              "       [3., 4.]], dtype=float16)>"
            ]
          },
          "metadata": {},
          "execution_count": 7
        }
      ]
    },
    {
      "cell_type": "code",
      "source": [
        "tf.cast(tensor2, dtype=tf.float64)"
      ],
      "metadata": {
        "colab": {
          "base_uri": "https://localhost:8080/"
        },
        "id": "4yJbhu49jHV_",
        "outputId": "6e1f595d-35f6-4ca0-a938-a0f9c5f8545c"
      },
      "execution_count": 11,
      "outputs": [
        {
          "output_type": "execute_result",
          "data": {
            "text/plain": [
              "<tf.Tensor: shape=(2, 2), dtype=float64, numpy=\n",
              "array([[1., 2.],\n",
              "       [3., 4.]])>"
            ]
          },
          "metadata": {},
          "execution_count": 11
        }
      ]
    },
    {
      "cell_type": "markdown",
      "source": [
        "#Aggregating tensors"
      ],
      "metadata": {
        "id": "eYvU20MbkBhL"
      }
    },
    {
      "cell_type": "markdown",
      "source": [
        "Condensing them fro mmultiple values down to a smaller amount of values."
      ],
      "metadata": {
        "id": "A1oqvMpYkIIs"
      }
    },
    {
      "cell_type": "markdown",
      "source": [
        "Get the Abs of the tensor"
      ],
      "metadata": {
        "id": "eRv_hUnAkruL"
      }
    },
    {
      "cell_type": "code",
      "source": [
        "tensor = tf.constant([-1., -2.])\n",
        "abs_tensor = tf.abs(tensor)\n",
        "abs_tensor"
      ],
      "metadata": {
        "colab": {
          "base_uri": "https://localhost:8080/"
        },
        "id": "IzCeGyHakC6y",
        "outputId": "d45c77a9-bb9c-44f5-f2db-97016e5ba0ad"
      },
      "execution_count": 12,
      "outputs": [
        {
          "output_type": "execute_result",
          "data": {
            "text/plain": [
              "<tf.Tensor: shape=(2,), dtype=float32, numpy=array([1., 2.], dtype=float32)>"
            ]
          },
          "metadata": {},
          "execution_count": 12
        }
      ]
    },
    {
      "cell_type": "code",
      "source": [
        "import numpy as np\n",
        "\n",
        "tensor = tf.constant(np.random.randint(0,150,size=300))\n",
        "tensor"
      ],
      "metadata": {
        "colab": {
          "base_uri": "https://localhost:8080/"
        },
        "id": "xn-5z8L-kliW",
        "outputId": "300dd695-0953-41eb-f5eb-3303c0e164fc"
      },
      "execution_count": 14,
      "outputs": [
        {
          "output_type": "execute_result",
          "data": {
            "text/plain": [
              "<tf.Tensor: shape=(300,), dtype=int64, numpy=\n",
              "array([139,  62,  38, 131, 108,  42,  36,  54, 103,  22,  20, 107,  74,\n",
              "        75, 140,  67, 135,  67, 116,  14,  62,  29,  75,  50, 147,  16,\n",
              "        66, 128,  23,  71, 116, 116,  30,   8,  62,  54,  92,  77,  33,\n",
              "       135, 112,  77,  43,  83,  80,   4,  88,  60, 123,  24,  72, 124,\n",
              "        84,  38, 143,  67,  70, 104,   2,  58,  86, 126,   5,   4, 103,\n",
              "       122,  41, 103,  41,  73,  15,  78, 117,   3,  13,  83, 109, 120,\n",
              "        91, 134,  58,  12,   5,  78, 116, 110,  65, 131, 141,  86, 127,\n",
              "        65, 100,  32, 126,  37,  63,  56,  56,  52,  72,  67, 112,  33,\n",
              "        84,   5,  15,  84, 141,  40,  98,  44,  81,  35,  34, 113,   6,\n",
              "       113,  25,  40,  63,  66,  25, 107,  20, 125,  60,  67,  98, 121,\n",
              "        66,  20,   2,  59,  77,  45, 136,  36,  54,  73,  76,  36, 101,\n",
              "        90, 144,  24,  39,   6,   0,  53,  48,  23,  17, 142,  49,  78,\n",
              "        45,  77,  64, 144,  98,  61, 129,   1, 139,  36, 111,  50,  26,\n",
              "        32, 114,  20,  56,   9,   1,  15,  37, 141,  89, 148,  19,  39,\n",
              "        55,  72, 115, 125,  54,  63,  49,  25, 142, 139,  87,  22, 107,\n",
              "       134, 138,  17,  35,  75,  32,  25, 139,  41,  75,   0, 147,  17,\n",
              "       133,  54, 115,  24, 133, 112, 138,  34,   4,  50,  69, 124,  74,\n",
              "        74, 141,  53, 139,  49,  93,  87, 149, 125, 143,   8,  38, 116,\n",
              "        35, 116, 118, 119,  69, 148, 106, 143, 110,  77,  69,  44,  10,\n",
              "        69,  22,   2,  29,  96, 142, 138,  91,  61, 103,  99,  36,  55,\n",
              "       121,  60,  91, 141,  36,  45, 117,   4, 125,   9, 103, 145,  76,\n",
              "        47,  10, 127,  37,  46, 102, 122,  36, 139,  45,   4, 125,  75,\n",
              "       135,  54, 118,  14,  99,  90,  33,  81,  51,  67,  41,  85,  77,\n",
              "        64])>"
            ]
          },
          "metadata": {},
          "execution_count": 14
        }
      ]
    },
    {
      "cell_type": "code",
      "source": [
        "tensor.shape, tensor.ndim, tf.size(tensor)"
      ],
      "metadata": {
        "colab": {
          "base_uri": "https://localhost:8080/"
        },
        "id": "z2VdJS9DkxpT",
        "outputId": "76839b76-f615-44c8-a2d4-238b36a6f402"
      },
      "execution_count": 15,
      "outputs": [
        {
          "output_type": "execute_result",
          "data": {
            "text/plain": [
              "(TensorShape([300]), 1, <tf.Tensor: shape=(), dtype=int32, numpy=300>)"
            ]
          },
          "metadata": {},
          "execution_count": 15
        }
      ]
    },
    {
      "cell_type": "markdown",
      "source": [
        "Find the minimum value"
      ],
      "metadata": {
        "id": "OdAq1SJUk405"
      }
    },
    {
      "cell_type": "code",
      "source": [
        "tf.reduce_min(tensor)"
      ],
      "metadata": {
        "colab": {
          "base_uri": "https://localhost:8080/"
        },
        "id": "KnzXBA3Dk7GT",
        "outputId": "644acb61-bcb6-424e-afaf-d00844081f2c"
      },
      "execution_count": 16,
      "outputs": [
        {
          "output_type": "execute_result",
          "data": {
            "text/plain": [
              "<tf.Tensor: shape=(), dtype=int64, numpy=0>"
            ]
          },
          "metadata": {},
          "execution_count": 16
        }
      ]
    },
    {
      "cell_type": "markdown",
      "source": [
        "Find the maximum value"
      ],
      "metadata": {
        "id": "jgMXedcllBY8"
      }
    },
    {
      "cell_type": "code",
      "source": [
        "tf.reduce_max(tensor)"
      ],
      "metadata": {
        "colab": {
          "base_uri": "https://localhost:8080/"
        },
        "id": "EI1tR5zBlCdO",
        "outputId": "2126c225-9cd0-47a5-a648-99a81ef4dad7"
      },
      "execution_count": 17,
      "outputs": [
        {
          "output_type": "execute_result",
          "data": {
            "text/plain": [
              "<tf.Tensor: shape=(), dtype=int64, numpy=149>"
            ]
          },
          "metadata": {},
          "execution_count": 17
        }
      ]
    },
    {
      "cell_type": "markdown",
      "source": [
        "Find the mean"
      ],
      "metadata": {
        "id": "ylpEcnn6lE3k"
      }
    },
    {
      "cell_type": "code",
      "source": [
        "tf.reduce_mean(tensor)"
      ],
      "metadata": {
        "colab": {
          "base_uri": "https://localhost:8080/"
        },
        "id": "KFbiQ6ALlGlM",
        "outputId": "d3d63252-fe6f-4b76-a054-7806dc64b071"
      },
      "execution_count": 18,
      "outputs": [
        {
          "output_type": "execute_result",
          "data": {
            "text/plain": [
              "<tf.Tensor: shape=(), dtype=int64, numpy=72>"
            ]
          },
          "metadata": {},
          "execution_count": 18
        }
      ]
    },
    {
      "cell_type": "markdown",
      "source": [
        "Find the sum"
      ],
      "metadata": {
        "id": "cy1_sM7-lJ5j"
      }
    },
    {
      "cell_type": "code",
      "source": [
        "tf.reduce_sum(tensor)"
      ],
      "metadata": {
        "colab": {
          "base_uri": "https://localhost:8080/"
        },
        "id": "APq9SUNZlKsW",
        "outputId": "f0b882db-a92c-41f5-f505-5fbfd64db829"
      },
      "execution_count": 19,
      "outputs": [
        {
          "output_type": "execute_result",
          "data": {
            "text/plain": [
              "<tf.Tensor: shape=(), dtype=int64, numpy=21881>"
            ]
          },
          "metadata": {},
          "execution_count": 19
        }
      ]
    },
    {
      "cell_type": "markdown",
      "source": [
        "Find the variance"
      ],
      "metadata": {
        "id": "8q0wgueslaOk"
      }
    },
    {
      "cell_type": "code",
      "source": [
        "tf.reduce_mean(tf.square(tensor - tf.reduce_mean(tensor)))"
      ],
      "metadata": {
        "colab": {
          "base_uri": "https://localhost:8080/"
        },
        "id": "Rir-zm39ll_M",
        "outputId": "24d78419-3a43-4517-84aa-8bf97281380c"
      },
      "execution_count": 21,
      "outputs": [
        {
          "output_type": "execute_result",
          "data": {
            "text/plain": [
              "<tf.Tensor: shape=(), dtype=int64, numpy=1838>"
            ]
          },
          "metadata": {},
          "execution_count": 21
        }
      ]
    },
    {
      "cell_type": "code",
      "source": [
        "import tensorflow_probability as tfp\n",
        "tfp.stats.variance(tensor)"
      ],
      "metadata": {
        "colab": {
          "base_uri": "https://localhost:8080/"
        },
        "id": "_T4HVXFymmJG",
        "outputId": "1cb49a7b-95f1-412f-f839-d57f5f9f6817"
      },
      "execution_count": 27,
      "outputs": [
        {
          "output_type": "execute_result",
          "data": {
            "text/plain": [
              "<tf.Tensor: shape=(), dtype=int64, numpy=1838>"
            ]
          },
          "metadata": {},
          "execution_count": 27
        }
      ]
    },
    {
      "cell_type": "markdown",
      "source": [
        "Find the standard deviation"
      ],
      "metadata": {
        "id": "UvmkfrITlwD9"
      }
    },
    {
      "cell_type": "code",
      "source": [
        "tf.sqrt(tf.cast(tf.reduce_mean(tf.square(tensor - tf.reduce_mean(tensor))), dtype=tf.float32))"
      ],
      "metadata": {
        "colab": {
          "base_uri": "https://localhost:8080/"
        },
        "id": "esxuUacSlyUt",
        "outputId": "7e828b4f-d12a-4120-a64e-9abbc1b66f60"
      },
      "execution_count": 29,
      "outputs": [
        {
          "output_type": "execute_result",
          "data": {
            "text/plain": [
              "<tf.Tensor: shape=(), dtype=float32, numpy=42.871902>"
            ]
          },
          "metadata": {},
          "execution_count": 29
        }
      ]
    },
    {
      "cell_type": "code",
      "source": [
        "tf.math.reduce_std(tf.cast(tensor, dtype=tf.float32))"
      ],
      "metadata": {
        "colab": {
          "base_uri": "https://localhost:8080/"
        },
        "id": "IQ24xocamyVS",
        "outputId": "e931f1d7-9777-42d1-822c-74f67950130d"
      },
      "execution_count": 32,
      "outputs": [
        {
          "output_type": "execute_result",
          "data": {
            "text/plain": [
              "<tf.Tensor: shape=(), dtype=float32, numpy=42.870262>"
            ]
          },
          "metadata": {},
          "execution_count": 32
        }
      ]
    },
    {
      "cell_type": "markdown",
      "source": [
        "#Find the positional maximum and minimum"
      ],
      "metadata": {
        "id": "Z7sPuGgfoJsq"
      }
    },
    {
      "cell_type": "code",
      "source": [
        "tf.random.set_seed(43)\n",
        "tensor = tf.random.uniform(shape=[100])\n",
        "tensor"
      ],
      "metadata": {
        "colab": {
          "base_uri": "https://localhost:8080/"
        },
        "id": "YC1PK-qboVH0",
        "outputId": "e70f8f3c-3f8c-44ca-b14a-ff7d90908f8c"
      },
      "execution_count": 33,
      "outputs": [
        {
          "output_type": "execute_result",
          "data": {
            "text/plain": [
              "<tf.Tensor: shape=(100,), dtype=float32, numpy=\n",
              "array([0.2733041 , 0.5020257 , 0.6628481 , 0.6473899 , 0.3857293 ,\n",
              "       0.36172044, 0.5412978 , 0.48597205, 0.8773687 , 0.19192028,\n",
              "       0.9264002 , 0.89626896, 0.6672703 , 0.47216296, 0.22052324,\n",
              "       0.88224113, 0.21332026, 0.3742751 , 0.6198429 , 0.67401516,\n",
              "       0.33629417, 0.04864144, 0.00223255, 0.9375315 , 0.1595205 ,\n",
              "       0.76488817, 0.5631764 , 0.48775423, 0.4250028 , 0.29910493,\n",
              "       0.8409952 , 0.6727512 , 0.00153816, 0.4085456 , 0.9261861 ,\n",
              "       0.18742752, 0.60272205, 0.99417937, 0.42423892, 0.27978897,\n",
              "       0.9430332 , 0.80545497, 0.06359637, 0.56783044, 0.26592016,\n",
              "       0.98973536, 0.5452112 , 0.11514163, 0.53635466, 0.6935723 ,\n",
              "       0.7949647 , 0.7486353 , 0.6800747 , 0.6137345 , 0.87506485,\n",
              "       0.93296814, 0.04352331, 0.3685708 , 0.5699148 , 0.07984412,\n",
              "       0.6718762 , 0.708205  , 0.8574375 , 0.21595812, 0.5249181 ,\n",
              "       0.8443382 , 0.48224807, 0.3207147 , 0.22593236, 0.624475  ,\n",
              "       0.65453064, 0.9858705 , 0.57136655, 0.6224959 , 0.85186434,\n",
              "       0.14068341, 0.4243672 , 0.88857305, 0.75203776, 0.49367905,\n",
              "       0.81791127, 0.24410987, 0.12386405, 0.26324356, 0.21725368,\n",
              "       0.6099365 , 0.22907913, 0.5479728 , 0.73084915, 0.2274617 ,\n",
              "       0.62034106, 0.61006963, 0.5455637 , 0.08193076, 0.8721101 ,\n",
              "       0.89035666, 0.2790588 , 0.53631043, 0.35301375, 0.37415838],\n",
              "      dtype=float32)>"
            ]
          },
          "metadata": {},
          "execution_count": 33
        }
      ]
    },
    {
      "cell_type": "markdown",
      "source": [
        "Largest value position"
      ],
      "metadata": {
        "id": "gD1hwT5poqd2"
      }
    },
    {
      "cell_type": "code",
      "source": [
        "tf.argmax(tensor)"
      ],
      "metadata": {
        "colab": {
          "base_uri": "https://localhost:8080/"
        },
        "id": "lApUuNaBoiq9",
        "outputId": "24b94f31-5922-4c9b-ed56-aa335d600ed2"
      },
      "execution_count": 34,
      "outputs": [
        {
          "output_type": "execute_result",
          "data": {
            "text/plain": [
              "<tf.Tensor: shape=(), dtype=int64, numpy=37>"
            ]
          },
          "metadata": {},
          "execution_count": 34
        }
      ]
    },
    {
      "cell_type": "code",
      "source": [
        "tensor[tf.argmax(tensor)]"
      ],
      "metadata": {
        "colab": {
          "base_uri": "https://localhost:8080/"
        },
        "id": "-2GjefKUoouk",
        "outputId": "12e81e5f-930c-4c08-942a-7d067ff5577d"
      },
      "execution_count": 35,
      "outputs": [
        {
          "output_type": "execute_result",
          "data": {
            "text/plain": [
              "<tf.Tensor: shape=(), dtype=float32, numpy=0.99417937>"
            ]
          },
          "metadata": {},
          "execution_count": 35
        }
      ]
    },
    {
      "cell_type": "code",
      "source": [
        "tf.reduce_max(tensor)"
      ],
      "metadata": {
        "colab": {
          "base_uri": "https://localhost:8080/"
        },
        "id": "QRXUO-aDozCU",
        "outputId": "ddb0eb98-2b3f-4838-a580-bc6ef21aa44c"
      },
      "execution_count": 40,
      "outputs": [
        {
          "output_type": "execute_result",
          "data": {
            "text/plain": [
              "<tf.Tensor: shape=(), dtype=float32, numpy=0.99417937>"
            ]
          },
          "metadata": {},
          "execution_count": 40
        }
      ]
    },
    {
      "cell_type": "code",
      "source": [
        "assert tensor[tf.argmax(tensor)] == tf.reduce_max(tensor)"
      ],
      "metadata": {
        "id": "waTLkn4Gpyq0"
      },
      "execution_count": 43,
      "outputs": []
    },
    {
      "cell_type": "code",
      "source": [
        "tensor[tf.argmax(tensor)] == tf.reduce_max(tensor)"
      ],
      "metadata": {
        "colab": {
          "base_uri": "https://localhost:8080/"
        },
        "id": "Y2eXiEZVp2i8",
        "outputId": "1b65d035-ef93-4ab5-bda4-bf5799e04683"
      },
      "execution_count": 42,
      "outputs": [
        {
          "output_type": "execute_result",
          "data": {
            "text/plain": [
              "<tf.Tensor: shape=(), dtype=bool, numpy=True>"
            ]
          },
          "metadata": {},
          "execution_count": 42
        }
      ]
    },
    {
      "cell_type": "markdown",
      "source": [
        "Smallest value position"
      ],
      "metadata": {
        "id": "VnVHFKy7ouet"
      }
    },
    {
      "cell_type": "code",
      "source": [
        "tf.argmin(tensor)"
      ],
      "metadata": {
        "colab": {
          "base_uri": "https://localhost:8080/"
        },
        "id": "kM4oxa0TovqE",
        "outputId": "d7158e57-c806-4f20-d9d3-1f5a15d8591f"
      },
      "execution_count": 36,
      "outputs": [
        {
          "output_type": "execute_result",
          "data": {
            "text/plain": [
              "<tf.Tensor: shape=(), dtype=int64, numpy=32>"
            ]
          },
          "metadata": {},
          "execution_count": 36
        }
      ]
    },
    {
      "cell_type": "code",
      "source": [
        "tensor[tf.argmin(tensor)]"
      ],
      "metadata": {
        "colab": {
          "base_uri": "https://localhost:8080/"
        },
        "id": "DYvEU_XGo3Pc",
        "outputId": "f8dbf0d9-7ea8-43e6-90d6-69cbd9ad646c"
      },
      "execution_count": 38,
      "outputs": [
        {
          "output_type": "execute_result",
          "data": {
            "text/plain": [
              "<tf.Tensor: shape=(), dtype=float32, numpy=0.0015381575>"
            ]
          },
          "metadata": {},
          "execution_count": 38
        }
      ]
    },
    {
      "cell_type": "code",
      "source": [
        "tf.reduce_min(tensor)"
      ],
      "metadata": {
        "colab": {
          "base_uri": "https://localhost:8080/"
        },
        "id": "juV-Nqgpo-fV",
        "outputId": "ac3cb92b-9995-492f-ee75-5861bd0088ce"
      },
      "execution_count": 39,
      "outputs": [
        {
          "output_type": "execute_result",
          "data": {
            "text/plain": [
              "<tf.Tensor: shape=(), dtype=float32, numpy=0.0015381575>"
            ]
          },
          "metadata": {},
          "execution_count": 39
        }
      ]
    },
    {
      "cell_type": "code",
      "source": [
        "assert tensor[tf.argmin(tensor)] == tf.reduce_min(tensor)"
      ],
      "metadata": {
        "id": "RNy7vfK-px78"
      },
      "execution_count": 44,
      "outputs": []
    },
    {
      "cell_type": "code",
      "source": [
        "tensor[tf.argmin(tensor)] == tf.reduce_min(tensor)"
      ],
      "metadata": {
        "colab": {
          "base_uri": "https://localhost:8080/"
        },
        "id": "I-lGIKNLp7hj",
        "outputId": "f0102fb8-45a4-4933-9413-143dd20d3854"
      },
      "execution_count": 45,
      "outputs": [
        {
          "output_type": "execute_result",
          "data": {
            "text/plain": [
              "<tf.Tensor: shape=(), dtype=bool, numpy=True>"
            ]
          },
          "metadata": {},
          "execution_count": 45
        }
      ]
    },
    {
      "cell_type": "markdown",
      "source": [
        "#Squeezing a tensor"
      ],
      "metadata": {
        "id": "PXE1nfHqqElx"
      }
    },
    {
      "cell_type": "markdown",
      "source": [
        "Remove all single dimensions"
      ],
      "metadata": {
        "id": "SZTkk8CpqF4c"
      }
    },
    {
      "cell_type": "code",
      "source": [
        "tf.random.set_seed(42)\n",
        "\n",
        "tensor = tf.constant(tf.random.uniform(shape=[100]), shape=(1,1,1,1,1,1,1,1,100))"
      ],
      "metadata": {
        "id": "NwXpAfsxqIAd"
      },
      "execution_count": 48,
      "outputs": []
    },
    {
      "cell_type": "code",
      "source": [
        "tensor"
      ],
      "metadata": {
        "colab": {
          "base_uri": "https://localhost:8080/"
        },
        "id": "lyslT7qfqrKL",
        "outputId": "6bd22f78-a928-43f4-a3b2-de5ec67ee79e"
      },
      "execution_count": 49,
      "outputs": [
        {
          "output_type": "execute_result",
          "data": {
            "text/plain": [
              "<tf.Tensor: shape=(1, 1, 1, 1, 1, 1, 1, 1, 100), dtype=float32, numpy=\n",
              "array([[[[[[[[[0.6645621 , 0.44100678, 0.3528825 , 0.46448255,\n",
              "               0.03366041, 0.68467236, 0.74011743, 0.8724445 ,\n",
              "               0.22632635, 0.22319686, 0.3103881 , 0.7223358 ,\n",
              "               0.13318717, 0.5480639 , 0.5746088 , 0.8996835 ,\n",
              "               0.00946367, 0.5212307 , 0.6345445 , 0.1993283 ,\n",
              "               0.72942245, 0.54583454, 0.10756552, 0.6767061 ,\n",
              "               0.6602763 , 0.33695042, 0.60141766, 0.21062577,\n",
              "               0.8527372 , 0.44062173, 0.9485276 , 0.23752594,\n",
              "               0.81179297, 0.5263394 , 0.494308  , 0.21612847,\n",
              "               0.8457197 , 0.8718841 , 0.3083862 , 0.6868038 ,\n",
              "               0.23764038, 0.7817228 , 0.9671384 , 0.06870162,\n",
              "               0.79873943, 0.66028714, 0.5871513 , 0.16461694,\n",
              "               0.7381023 , 0.32054043, 0.6073899 , 0.46523476,\n",
              "               0.97803545, 0.7223145 , 0.32347047, 0.82577336,\n",
              "               0.4976915 , 0.19483674, 0.7588748 , 0.3380444 ,\n",
              "               0.28128064, 0.31513572, 0.60670924, 0.7498598 ,\n",
              "               0.5016055 , 0.18282163, 0.13179815, 0.64636123,\n",
              "               0.9559475 , 0.6670735 , 0.30755532, 0.36892188,\n",
              "               0.44735897, 0.18359458, 0.5288255 , 0.7052754 ,\n",
              "               0.898633  , 0.31386292, 0.62338257, 0.96815526,\n",
              "               0.11207926, 0.29590535, 0.9356605 , 0.1341263 ,\n",
              "               0.31937933, 0.262277  , 0.03148758, 0.90045524,\n",
              "               0.6409379 , 0.5821855 , 0.20917094, 0.71736085,\n",
              "               0.363523  , 0.04670918, 0.14977789, 0.84361756,\n",
              "               0.9355587 , 0.09517312, 0.08617878, 0.6247839 ]]]]]]]]],\n",
              "      dtype=float32)>"
            ]
          },
          "metadata": {},
          "execution_count": 49
        }
      ]
    },
    {
      "cell_type": "code",
      "source": [
        "tensor_squeezed = tf.squeeze(tensor)\n",
        "tensor_squeezed, tensor_squeezed.shape"
      ],
      "metadata": {
        "colab": {
          "base_uri": "https://localhost:8080/"
        },
        "id": "2Nd_hrWcqyKb",
        "outputId": "48100fec-603f-47ca-d08a-5047dfdae1fe"
      },
      "execution_count": 50,
      "outputs": [
        {
          "output_type": "execute_result",
          "data": {
            "text/plain": [
              "(<tf.Tensor: shape=(100,), dtype=float32, numpy=\n",
              " array([0.6645621 , 0.44100678, 0.3528825 , 0.46448255, 0.03366041,\n",
              "        0.68467236, 0.74011743, 0.8724445 , 0.22632635, 0.22319686,\n",
              "        0.3103881 , 0.7223358 , 0.13318717, 0.5480639 , 0.5746088 ,\n",
              "        0.8996835 , 0.00946367, 0.5212307 , 0.6345445 , 0.1993283 ,\n",
              "        0.72942245, 0.54583454, 0.10756552, 0.6767061 , 0.6602763 ,\n",
              "        0.33695042, 0.60141766, 0.21062577, 0.8527372 , 0.44062173,\n",
              "        0.9485276 , 0.23752594, 0.81179297, 0.5263394 , 0.494308  ,\n",
              "        0.21612847, 0.8457197 , 0.8718841 , 0.3083862 , 0.6868038 ,\n",
              "        0.23764038, 0.7817228 , 0.9671384 , 0.06870162, 0.79873943,\n",
              "        0.66028714, 0.5871513 , 0.16461694, 0.7381023 , 0.32054043,\n",
              "        0.6073899 , 0.46523476, 0.97803545, 0.7223145 , 0.32347047,\n",
              "        0.82577336, 0.4976915 , 0.19483674, 0.7588748 , 0.3380444 ,\n",
              "        0.28128064, 0.31513572, 0.60670924, 0.7498598 , 0.5016055 ,\n",
              "        0.18282163, 0.13179815, 0.64636123, 0.9559475 , 0.6670735 ,\n",
              "        0.30755532, 0.36892188, 0.44735897, 0.18359458, 0.5288255 ,\n",
              "        0.7052754 , 0.898633  , 0.31386292, 0.62338257, 0.96815526,\n",
              "        0.11207926, 0.29590535, 0.9356605 , 0.1341263 , 0.31937933,\n",
              "        0.262277  , 0.03148758, 0.90045524, 0.6409379 , 0.5821855 ,\n",
              "        0.20917094, 0.71736085, 0.363523  , 0.04670918, 0.14977789,\n",
              "        0.84361756, 0.9355587 , 0.09517312, 0.08617878, 0.6247839 ],\n",
              "       dtype=float32)>,\n",
              " TensorShape([100]))"
            ]
          },
          "metadata": {},
          "execution_count": 50
        }
      ]
    },
    {
      "cell_type": "markdown",
      "source": [
        "#One-hot encoding tensors"
      ],
      "metadata": {
        "id": "KQ9EhNsUrBnL"
      }
    },
    {
      "cell_type": "code",
      "source": [
        "list_ = [0,0,1,2,1,3,3,1,2,4]\n",
        "tf.one_hot(list_, depth=len(set(list_)))"
      ],
      "metadata": {
        "colab": {
          "base_uri": "https://localhost:8080/"
        },
        "id": "oAt_tJa6rDS0",
        "outputId": "ca1c5705-5268-4fe9-98f1-c2be32d5f058"
      },
      "execution_count": 52,
      "outputs": [
        {
          "output_type": "execute_result",
          "data": {
            "text/plain": [
              "<tf.Tensor: shape=(10, 5), dtype=float32, numpy=\n",
              "array([[1., 0., 0., 0., 0.],\n",
              "       [1., 0., 0., 0., 0.],\n",
              "       [0., 1., 0., 0., 0.],\n",
              "       [0., 0., 1., 0., 0.],\n",
              "       [0., 1., 0., 0., 0.],\n",
              "       [0., 0., 0., 1., 0.],\n",
              "       [0., 0., 0., 1., 0.],\n",
              "       [0., 1., 0., 0., 0.],\n",
              "       [0., 0., 1., 0., 0.],\n",
              "       [0., 0., 0., 0., 1.]], dtype=float32)>"
            ]
          },
          "metadata": {},
          "execution_count": 52
        }
      ]
    },
    {
      "cell_type": "code",
      "source": [
        "tf.one_hot(list_, depth=len(set(list_)), on_value='Yes', off_value='No')"
      ],
      "metadata": {
        "colab": {
          "base_uri": "https://localhost:8080/"
        },
        "id": "LjkE5I10rn3o",
        "outputId": "efa53aef-4b9d-4aae-d7e4-0d864fcd7614"
      },
      "execution_count": 53,
      "outputs": [
        {
          "output_type": "execute_result",
          "data": {
            "text/plain": [
              "<tf.Tensor: shape=(10, 5), dtype=string, numpy=\n",
              "array([[b'Yes', b'No', b'No', b'No', b'No'],\n",
              "       [b'Yes', b'No', b'No', b'No', b'No'],\n",
              "       [b'No', b'Yes', b'No', b'No', b'No'],\n",
              "       [b'No', b'No', b'Yes', b'No', b'No'],\n",
              "       [b'No', b'Yes', b'No', b'No', b'No'],\n",
              "       [b'No', b'No', b'No', b'Yes', b'No'],\n",
              "       [b'No', b'No', b'No', b'Yes', b'No'],\n",
              "       [b'No', b'Yes', b'No', b'No', b'No'],\n",
              "       [b'No', b'No', b'Yes', b'No', b'No'],\n",
              "       [b'No', b'No', b'No', b'No', b'Yes']], dtype=object)>"
            ]
          },
          "metadata": {},
          "execution_count": 53
        }
      ]
    }
  ]
}